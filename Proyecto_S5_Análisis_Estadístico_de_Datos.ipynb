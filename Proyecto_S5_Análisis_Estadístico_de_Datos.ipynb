{
 "cells": [
  {
   "cell_type": "markdown",
   "metadata": {
    "id": "3rYiDeEH0q0f"
   },
   "source": [
    "# ¿Cuál es la mejor tarifa?\n",
    "\n",
    "Trabajas como analista para el operador de telecomunicaciones Megaline. La empresa ofrece a sus clientes dos tarifas de prepago, Surf y Ultimate. El departamento comercial quiere saber cuál de las tarifas genera más ingresos para poder ajustar el presupuesto de publicidad.\n",
    "\n",
    "Vas a realizar un análisis preliminar de las tarifas basado en una selección de clientes relativamente pequeña. Tendrás los datos de 500 clientes de Megaline: quiénes son los clientes, de dónde son, qué tarifa usan, así como la cantidad de llamadas que hicieron y los mensajes de texto que enviaron en 2018. Tu trabajo es analizar el comportamiento de los clientes y determinar qué tarifa de prepago genera más ingresos."
   ]
  },
  {
   "cell_type": "markdown",
   "metadata": {
    "id": "MQi4IPy70q0y"
   },
   "source": [
    "## Inicialización"
   ]
  },
  {
   "cell_type": "code",
   "execution_count": 1,
   "metadata": {
    "id": "MtYIuBxu0q0z"
   },
   "outputs": [],
   "source": [
    "# Cargar todas las librerías\n",
    "\n",
    "import pandas as pd\n",
    "import numpy as np\n",
    "import matplotlib as plot\n",
    "import seaborn as sns\n",
    "from scipy import stats"
   ]
  },
  {
   "cell_type": "markdown",
   "metadata": {
    "id": "4ysWWC5i0q00"
   },
   "source": [
    "## Cargar datos"
   ]
  },
  {
   "cell_type": "code",
   "execution_count": 2,
   "metadata": {
    "id": "CCqPW7rS0q01"
   },
   "outputs": [
    {
     "name": "stdout",
     "output_type": "stream",
     "text": [
      "   user_id first_name  last_name  age                                   city  \\\n",
      "0     1000   Anamaria      Bauer   45  Atlanta-Sandy Springs-Roswell, GA MSA   \n",
      "1     1001     Mickey  Wilkerson   28        Seattle-Tacoma-Bellevue, WA MSA   \n",
      "2     1002     Carlee    Hoffman   36   Las Vegas-Henderson-Paradise, NV MSA   \n",
      "3     1003   Reynaldo    Jenkins   52                          Tulsa, OK MSA   \n",
      "4     1004    Leonila   Thompson   40        Seattle-Tacoma-Bellevue, WA MSA   \n",
      "\n",
      "     reg_date      plan churn_date  \n",
      "0  2018-12-24  ultimate        NaN  \n",
      "1  2018-08-13      surf        NaN  \n",
      "2  2018-10-21      surf        NaN  \n",
      "3  2018-01-28      surf        NaN  \n",
      "4  2018-05-23      surf        NaN  \n",
      "   messages_included  mb_per_month_included  minutes_included  \\\n",
      "0                 50                  15360               500   \n",
      "1               1000                  30720              3000   \n",
      "\n",
      "   usd_monthly_pay  usd_per_gb  usd_per_message  usd_per_minute plan_name  \n",
      "0               20          10             0.03            0.03      surf  \n",
      "1               70           7             0.01            0.01  ultimate  \n",
      "         id  user_id message_date\n",
      "0  1000_125     1000   2018-12-27\n",
      "1  1000_160     1000   2018-12-31\n",
      "2  1000_223     1000   2018-12-31\n",
      "3  1000_251     1000   2018-12-27\n",
      "4  1000_255     1000   2018-12-26\n",
      "         id  user_id session_date  mb_used\n",
      "0   1000_13     1000   2018-12-29    89.86\n",
      "1  1000_204     1000   2018-12-31     0.00\n",
      "2  1000_379     1000   2018-12-28   660.40\n",
      "3  1000_413     1000   2018-12-26   270.99\n",
      "4  1000_442     1000   2018-12-27   880.22\n",
      "         id  user_id   call_date  duration\n",
      "0   1000_93     1000  2018-12-27      8.52\n",
      "1  1000_145     1000  2018-12-27     13.66\n",
      "2  1000_247     1000  2018-12-27     14.48\n",
      "3  1000_309     1000  2018-12-28      5.76\n",
      "4  1000_380     1000  2018-12-30      4.22\n"
     ]
    }
   ],
   "source": [
    "# Carga los archivos de datos en diferentes DataFrames\n",
    "\n",
    "users = pd.read_csv('/datasets/megaline_users.csv')\n",
    "plans = pd.read_csv('/datasets/megaline_plans.csv')\n",
    "messages = pd.read_csv('/datasets/megaline_messages.csv')\n",
    "internet = pd.read_csv('/datasets/megaline_internet.csv')\n",
    "calls = pd.read_csv('/datasets/megaline_calls.csv')\n",
    "\n",
    "print(users.head())\n",
    "print(plans.head())\n",
    "print(messages.head())\n",
    "print(internet.head())\n",
    "print(calls.head())"
   ]
  },
  {
   "cell_type": "markdown",
   "metadata": {
    "id": "69qqoJ3r0q01"
   },
   "source": [
    "## Preparar los datos"
   ]
  },
  {
   "cell_type": "markdown",
   "metadata": {
    "id": "vUuZw80S0q01"
   },
   "source": [
    "Parece que los datos se cargarón de forma correcta."
   ]
  },
  {
   "cell_type": "markdown",
   "metadata": {
    "id": "ohBhimvH0q01"
   },
   "source": [
    "## Tarifas"
   ]
  },
  {
   "cell_type": "code",
   "execution_count": 3,
   "metadata": {
    "id": "GptqP3Q40q02"
   },
   "outputs": [
    {
     "name": "stdout",
     "output_type": "stream",
     "text": [
      "   messages_included  mb_per_month_included  minutes_included  \\\n",
      "0                 50                  15360               500   \n",
      "1               1000                  30720              3000   \n",
      "\n",
      "   usd_monthly_pay  usd_per_gb  usd_per_message  usd_per_minute plan_name  \n",
      "0               20          10             0.03            0.03      surf  \n",
      "1               70           7             0.01            0.01  ultimate  \n",
      "<class 'pandas.core.frame.DataFrame'>\n",
      "RangeIndex: 2 entries, 0 to 1\n",
      "Data columns (total 8 columns):\n",
      " #   Column                 Non-Null Count  Dtype  \n",
      "---  ------                 --------------  -----  \n",
      " 0   messages_included      2 non-null      int64  \n",
      " 1   mb_per_month_included  2 non-null      int64  \n",
      " 2   minutes_included       2 non-null      int64  \n",
      " 3   usd_monthly_pay        2 non-null      int64  \n",
      " 4   usd_per_gb             2 non-null      int64  \n",
      " 5   usd_per_message        2 non-null      float64\n",
      " 6   usd_per_minute         2 non-null      float64\n",
      " 7   plan_name              2 non-null      object \n",
      "dtypes: float64(2), int64(5), object(1)\n",
      "memory usage: 256.0+ bytes\n",
      "None\n",
      "(2, 8)\n",
      "       messages_included  mb_per_month_included  minutes_included  \\\n",
      "count           2.000000               2.000000          2.000000   \n",
      "mean          525.000000           23040.000000       1750.000000   \n",
      "std           671.751442           10861.160159       1767.766953   \n",
      "min            50.000000           15360.000000        500.000000   \n",
      "25%           287.500000           19200.000000       1125.000000   \n",
      "50%           525.000000           23040.000000       1750.000000   \n",
      "75%           762.500000           26880.000000       2375.000000   \n",
      "max          1000.000000           30720.000000       3000.000000   \n",
      "\n",
      "       usd_monthly_pay  usd_per_gb  usd_per_message  usd_per_minute  \n",
      "count         2.000000     2.00000         2.000000        2.000000  \n",
      "mean         45.000000     8.50000         0.020000        0.020000  \n",
      "std          35.355339     2.12132         0.014142        0.014142  \n",
      "min          20.000000     7.00000         0.010000        0.010000  \n",
      "25%          32.500000     7.75000         0.015000        0.015000  \n",
      "50%          45.000000     8.50000         0.020000        0.020000  \n",
      "75%          57.500000     9.25000         0.025000        0.025000  \n",
      "max          70.000000    10.00000         0.030000        0.030000  \n"
     ]
    }
   ],
   "source": [
    "# Imprime la información general/resumida sobre el DataFrame de las tarifas\n",
    "print(plans.head())\n",
    "print(plans.info())\n",
    "print(plans.shape)\n",
    "print(plans.describe())"
   ]
  },
  {
   "cell_type": "code",
   "execution_count": 4,
   "metadata": {
    "id": "64xzjwL70q02"
   },
   "outputs": [
    {
     "name": "stdout",
     "output_type": "stream",
     "text": [
      "   messages_included  mb_per_month_included  minutes_included  \\\n",
      "1               1000                  30720              3000   \n",
      "\n",
      "   usd_monthly_pay  usd_per_gb  usd_per_message  usd_per_minute plan_name  \n",
      "1               70           7             0.01            0.01  ultimate  \n"
     ]
    }
   ],
   "source": [
    "# Imprime una muestra de los datos para las tarifas\n",
    "print(plans.sample())\n"
   ]
  },
  {
   "cell_type": "markdown",
   "metadata": {
    "id": "mEc_3_hs0q02"
   },
   "source": [
    "Veo que los datos son correctos y no necesitan otra modificación o arrreglo."
   ]
  },
  {
   "cell_type": "markdown",
   "metadata": {
    "id": "R3C05i1l0q03"
   },
   "source": [
    "## Corregir datos"
   ]
  },
  {
   "cell_type": "markdown",
   "metadata": {},
   "source": [
    "Considero que los datos no requieren una corrección, tal vez podria pasarlo todo a string ya que es información sobre los planes, pero podria requerir operar con elgún dato en el anáilisis "
   ]
  },
  {
   "cell_type": "markdown",
   "metadata": {
    "id": "LJir7bml0q03"
   },
   "source": [
    "## Enriquecer los datos"
   ]
  },
  {
   "cell_type": "markdown",
   "metadata": {
    "id": "eqADpCfg0q04"
   },
   "source": [
    "Considero que los datos estan completos y no me surgen más dudas al respecto"
   ]
  },
  {
   "cell_type": "markdown",
   "metadata": {
    "id": "1n2X6WXf0q04"
   },
   "source": [
    "## Usuarios/as"
   ]
  },
  {
   "cell_type": "code",
   "execution_count": 7,
   "metadata": {
    "id": "2NgjWFqx0q05"
   },
   "outputs": [
    {
     "name": "stdout",
     "output_type": "stream",
     "text": [
      "   user_id first_name  last_name  age                                   city  \\\n",
      "0     1000   Anamaria      Bauer   45  Atlanta-Sandy Springs-Roswell, GA MSA   \n",
      "1     1001     Mickey  Wilkerson   28        Seattle-Tacoma-Bellevue, WA MSA   \n",
      "2     1002     Carlee    Hoffman   36   Las Vegas-Henderson-Paradise, NV MSA   \n",
      "3     1003   Reynaldo    Jenkins   52                          Tulsa, OK MSA   \n",
      "4     1004    Leonila   Thompson   40        Seattle-Tacoma-Bellevue, WA MSA   \n",
      "\n",
      "     reg_date      plan churn_date  \n",
      "0  2018-12-24  ultimate        NaN  \n",
      "1  2018-08-13      surf        NaN  \n",
      "2  2018-10-21      surf        NaN  \n",
      "3  2018-01-28      surf        NaN  \n",
      "4  2018-05-23      surf        NaN  \n",
      "<class 'pandas.core.frame.DataFrame'>\n",
      "RangeIndex: 500 entries, 0 to 499\n",
      "Data columns (total 8 columns):\n",
      " #   Column      Non-Null Count  Dtype \n",
      "---  ------      --------------  ----- \n",
      " 0   user_id     500 non-null    int64 \n",
      " 1   first_name  500 non-null    object\n",
      " 2   last_name   500 non-null    object\n",
      " 3   age         500 non-null    int64 \n",
      " 4   city        500 non-null    object\n",
      " 5   reg_date    500 non-null    object\n",
      " 6   plan        500 non-null    object\n",
      " 7   churn_date  34 non-null     object\n",
      "dtypes: int64(2), object(6)\n",
      "memory usage: 31.4+ KB\n",
      "None\n",
      "(500, 8)\n",
      "           user_id         age\n",
      "count   500.000000  500.000000\n",
      "mean   1249.500000   45.486000\n",
      "std     144.481833   16.972269\n",
      "min    1000.000000   18.000000\n",
      "25%    1124.750000   30.000000\n",
      "50%    1249.500000   46.000000\n",
      "75%    1374.250000   61.000000\n",
      "max    1499.000000   75.000000\n",
      "Empty DataFrame\n",
      "Columns: [user_id, first_name, last_name, age, city, reg_date, plan, churn_date]\n",
      "Index: []\n"
     ]
    }
   ],
   "source": [
    "# Imprime la información general/resumida sobre el DataFrame de usuarios\n",
    "\n",
    "print(users.head())\n",
    "print(users.info())\n",
    "print(users.shape)\n",
    "print(users.describe())\n",
    "duplicates_rows = users[users.duplicated()]\n",
    "print(duplicates_rows)"
   ]
  },
  {
   "cell_type": "code",
   "execution_count": null,
   "metadata": {
    "id": "1IN1L9uh0q05"
   },
   "outputs": [
    {
     "name": "stdout",
     "output_type": "stream",
     "text": [
      "     user_id  first_name last_name  age  \\\n",
      "349     1349  Florentina      Diaz   69   \n",
      "125     1125     Assunta    Carver   39   \n",
      "450     1450       Errol   Marquez   67   \n",
      "255     1255     Kennith   Rowland   22   \n",
      "447     1447       Ramon    Hester   62   \n",
      "323     1323     Pamelia    Atkins   42   \n",
      "242     1242    Lashunda     Johns   37   \n",
      "244     1244    Demarcus     Ellis   75   \n",
      "51      1051     Rosario     Gibbs   55   \n",
      "112     1112        Amal   Pacheco   18   \n",
      "\n",
      "                                       city    reg_date      plan churn_date  \n",
      "349      Boston-Cambridge-Newton, MA-NH MSA  2018-10-01      surf        NaN  \n",
      "125   North Port-Sarasota-Bradenton, FL MSA  2018-08-16      surf        NaN  \n",
      "450                     Bakersfield, CA MSA  2018-06-16  ultimate        NaN  \n",
      "255                   Oklahoma City, OK MSA  2018-08-01  ultimate        NaN  \n",
      "447       Orlando-Kissimmee-Sanford, FL MSA  2018-05-01      surf        NaN  \n",
      "323       Baltimore-Columbia-Towson, MD MSA  2018-12-30      surf        NaN  \n",
      "242       San Antonio-New Braunfels, TX MSA  2018-06-02      surf        NaN  \n",
      "244               Birmingham-Hoover, AL MSA  2018-02-05      surf        NaN  \n",
      "51   San Diego-Chula Vista-Carlsbad, CA MSA  2018-12-11      surf        NaN  \n",
      "112           Grand Rapids-Kentwood, MI MSA  2018-10-08  ultimate        NaN  \n"
     ]
    }
   ],
   "source": [
    "# Imprime una muestra de datos para usuarios\n",
    "print(users.sample(10))"
   ]
  },
  {
   "cell_type": "markdown",
   "metadata": {
    "id": "dCZoUq4f0q06"
   },
   "source": [
    "Cambios a efectuar: \n",
    "\n",
    "corregir el tipo de dato de object a datetime de las columnas reg_date y churn_date, tambien podria pasar de int a object la columna user_id, los NaN en churn_date nos informan que no han cancelado la suscripción, y no hay duplicados explicitos "
   ]
  },
  {
   "cell_type": "markdown",
   "metadata": {
    "id": "BX5FQh_I0q06"
   },
   "source": [
    "### Corregir los datos"
   ]
  },
  {
   "cell_type": "code",
   "execution_count": 9,
   "metadata": {
    "id": "yUqX-K0C0q07"
   },
   "outputs": [
    {
     "name": "stdout",
     "output_type": "stream",
     "text": [
      "<class 'pandas.core.frame.DataFrame'>\n",
      "RangeIndex: 500 entries, 0 to 499\n",
      "Data columns (total 8 columns):\n",
      " #   Column      Non-Null Count  Dtype         \n",
      "---  ------      --------------  -----         \n",
      " 0   user_id     500 non-null    object        \n",
      " 1   first_name  500 non-null    object        \n",
      " 2   last_name   500 non-null    object        \n",
      " 3   age         500 non-null    int64         \n",
      " 4   city        500 non-null    object        \n",
      " 5   reg_date    500 non-null    datetime64[ns]\n",
      " 6   plan        500 non-null    object        \n",
      " 7   churn_date  34 non-null     datetime64[ns]\n",
      "dtypes: datetime64[ns](2), int64(1), object(5)\n",
      "memory usage: 31.4+ KB\n",
      "None\n"
     ]
    }
   ],
   "source": [
    "users['reg_date'] = pd.to_datetime(users['reg_date'])\n",
    "users['churn_date'] = pd.to_datetime(users['churn_date'], errors='coerce')\n",
    "\n",
    "users['user_id'] = users['user_id'].astype('object')\n",
    "print(users.info())"
   ]
  },
  {
   "cell_type": "markdown",
   "metadata": {
    "id": "ycwuARJp0q07"
   },
   "source": [
    "### Enriquecer los datos"
   ]
  },
  {
   "cell_type": "markdown",
   "metadata": {
    "id": "96NIh4CJ0q08"
   },
   "source": [
    "#considero que los datos (la tabla) estan completos, me surgen dudas como el promedio de edad de los usuarios por suscripción.\n",
    "Ya sabemos que el promedio de edad del dataset es 45 años \n",
    "¿Qué ciudad tiene más suscriptores?"
   ]
  },
  {
   "cell_type": "code",
   "execution_count": null,
   "metadata": {
    "id": "iq0AaBS90q08"
   },
   "outputs": [
    {
     "name": "stdout",
     "output_type": "stream",
     "text": [
      "plan\n",
      "surf        44.952802\n",
      "ultimate    46.608696\n",
      "Name: age, dtype: float64\n",
      "\n",
      "\n",
      "city\n",
      "New York-Newark-Jersey City, NY-NJ-PA MSA          80\n",
      "Los Angeles-Long Beach-Anaheim, CA MSA             29\n",
      "Dallas-Fort Worth-Arlington, TX MSA                21\n",
      "Chicago-Naperville-Elgin, IL-IN-WI MSA             19\n",
      "Philadelphia-Camden-Wilmington, PA-NJ-DE-MD MSA    17\n",
      "                                                   ..\n",
      "Stockton, CA MSA                                    1\n",
      "Greensboro-High Point, NC MSA                       1\n",
      "El Paso, TX MSA                                     1\n",
      "Cape Coral-Fort Myers, FL MSA                       1\n",
      "Albany-Schenectady-Troy, NY MSA                     1\n",
      "Length: 73, dtype: int64\n",
      "\n",
      "\n"
     ]
    },
    {
     "data": {
      "image/png": "[encoded data removed]",
      "text/plain": [
       "<Figure size 600x600 with 1 Axes>"
      ]
     },
     "metadata": {},
     "output_type": "display_data"
    }
   ],
   "source": [
    "import matplotlib.pyplot as plt\n",
    "\n",
    "#grafica de barras de cuando se ha suscrito los usuarios por tipo de plan, siempre sí le voy agregar una columna de mes a la tabla\n",
    "average_age_by_plan = users.groupby('plan')['age'].mean()\n",
    "print(average_age_by_plan)\n",
    "\n",
    "print()\n",
    "print()\n",
    "\n",
    "# Contar el número de suscriptores por ciudad\n",
    "subscribers_by_city = users.groupby('city').size()\n",
    "subscribers_by_city_sorted = subscribers_by_city.sort_values(ascending=False)\n",
    "print(subscribers_by_city_sorted)\n",
    "\n",
    "\n",
    "print()\n",
    "print()\n",
    "\n",
    "users['month'] = users['reg_date'].dt.month\n",
    "# Agrupar por 'month' y 'plan', y contar las suscripciones\n",
    "monthly_subscriptions = users.groupby(['month', 'plan']).size().unstack()\n",
    "\n",
    "# Crear la primera gráfica de barras\n",
    "monthly_subscriptions.plot(kind='bar', figsize=(6, 6), stacked=False)\n",
    "\n",
    "# Etiquetas y título\n",
    "plt.title(\"Frecuencia de suscripciones por mes y tipo de plan\")\n",
    "plt.xlabel('Mes')\n",
    "plt.ylabel('Número de suscripciones')\n",
    "plt.xticks(rotation=0)  # Opcional, para que los meses se vean horizontalmente\n",
    "plt.legend(title='Plan')\n",
    "plt.tight_layout()\n",
    "\n",
    "plt.show()"
   ]
  },
  {
   "cell_type": "markdown",
   "metadata": {
    "id": "o7MeKCid0q08"
   },
   "source": [
    "## Llamadas"
   ]
  },
  {
   "cell_type": "code",
   "execution_count": 11,
   "metadata": {
    "id": "6dDlnoDm0q08"
   },
   "outputs": [
    {
     "name": "stdout",
     "output_type": "stream",
     "text": [
      "         id  user_id   call_date  duration\n",
      "0   1000_93     1000  2018-12-27      8.52\n",
      "1  1000_145     1000  2018-12-27     13.66\n",
      "2  1000_247     1000  2018-12-27     14.48\n",
      "3  1000_309     1000  2018-12-28      5.76\n",
      "4  1000_380     1000  2018-12-30      4.22\n",
      "\n",
      "<class 'pandas.core.frame.DataFrame'>\n",
      "RangeIndex: 137735 entries, 0 to 137734\n",
      "Data columns (total 4 columns):\n",
      " #   Column     Non-Null Count   Dtype  \n",
      "---  ------     --------------   -----  \n",
      " 0   id         137735 non-null  object \n",
      " 1   user_id    137735 non-null  int64  \n",
      " 2   call_date  137735 non-null  object \n",
      " 3   duration   137735 non-null  float64\n",
      "dtypes: float64(1), int64(1), object(2)\n",
      "memory usage: 4.2+ MB\n",
      "None\n",
      "\n",
      "(137735, 4)\n",
      "\n",
      "             user_id       duration\n",
      "count  137735.000000  137735.000000\n",
      "mean     1247.658046       6.745927\n",
      "std       139.416268       5.839241\n",
      "min      1000.000000       0.000000\n",
      "25%      1128.000000       1.290000\n",
      "50%      1247.000000       5.980000\n",
      "75%      1365.000000      10.690000\n",
      "max      1499.000000      37.600000\n",
      "Empty DataFrame\n",
      "Columns: [id, user_id, call_date, duration]\n",
      "Index: []\n"
     ]
    }
   ],
   "source": [
    "# Imprime la información general/resumida sobre el DataFrame de las llamadas\n",
    "\n",
    "print(calls.head())\n",
    "print()\n",
    "print(calls.info())\n",
    "print()\n",
    "print(calls.shape)\n",
    "print()\n",
    "print(calls.describe())\n",
    "duplicates_rows = calls[calls.duplicated()]\n",
    "print(duplicates_rows)"
   ]
  },
  {
   "cell_type": "code",
   "execution_count": 12,
   "metadata": {
    "id": "kuh1vlNB0q09"
   },
   "outputs": [
    {
     "name": "stdout",
     "output_type": "stream",
     "text": [
      "             id  user_id   call_date  duration\n",
      "18442  1071_232     1071  2018-12-17      0.00\n",
      "10372  1046_238     1046  2018-07-27      0.00\n",
      "12291   1054_10     1054  2018-07-06      4.98\n",
      "92428   1332_84     1332  2018-11-20      0.00\n",
      "72514  1257_254     1257  2018-07-31      2.01\n",
      "91101  1328_731     1328  2018-09-01      0.00\n",
      "54240  1196_119     1196  2018-02-03      8.31\n",
      "52984  1191_132     1191  2018-09-05      9.20\n",
      "18825  1072_154     1072  2018-12-16     13.53\n",
      "83426  1302_200     1302  2018-10-10      0.00\n"
     ]
    }
   ],
   "source": [
    "# Imprime una muestra de datos para las llamadas\n",
    "\n",
    "print(calls.sample(10))\n",
    "\n"
   ]
  },
  {
   "cell_type": "markdown",
   "metadata": {
    "id": "S7hzxmbX0q0-"
   },
   "source": [
    "### Corregir los datos"
   ]
  },
  {
   "cell_type": "markdown",
   "metadata": {
    "id": "YxWyAjD20q0-"
   },
   "source": [
    "Cambios a Efectuar: cambiar el tipo de dato de la columna  user_id de int a object y de object a datetime en call_date. No presntan nulos ni duplicados explicitos "
   ]
  },
  {
   "cell_type": "code",
   "execution_count": 13,
   "metadata": {
    "id": "S2r8xA4f0q0-"
   },
   "outputs": [
    {
     "name": "stdout",
     "output_type": "stream",
     "text": [
      "<class 'pandas.core.frame.DataFrame'>\n",
      "RangeIndex: 137735 entries, 0 to 137734\n",
      "Data columns (total 4 columns):\n",
      " #   Column     Non-Null Count   Dtype         \n",
      "---  ------     --------------   -----         \n",
      " 0   id         137735 non-null  object        \n",
      " 1   user_id    137735 non-null  object        \n",
      " 2   call_date  137735 non-null  datetime64[ns]\n",
      " 3   duration   137735 non-null  float64       \n",
      "dtypes: datetime64[ns](1), float64(1), object(2)\n",
      "memory usage: 4.2+ MB\n",
      "None\n"
     ]
    }
   ],
   "source": [
    "calls['call_date'] = pd.to_datetime(calls['call_date'])\n",
    "\n",
    "calls['user_id'] = calls['user_id'].astype('object')\n",
    "print(calls.info())"
   ]
  },
  {
   "cell_type": "markdown",
   "metadata": {
    "id": "KrMgTrlG0q0_"
   },
   "source": [
    "### Enriquecer los datos"
   ]
  },
  {
   "cell_type": "markdown",
   "metadata": {
    "id": "a9MbmEvE0q0_"
   },
   "source": [
    "Me surgen dudas como la duración promedio de las llamadas, pormedio de número de llamadas por cliente, minutos totales promedio por cliente\n"
   ]
  },
  {
   "cell_type": "code",
   "execution_count": null,
   "metadata": {
    "id": "iZ1avpA_0q0_"
   },
   "outputs": [
    {
     "name": "stdout",
     "output_type": "stream",
     "text": [
      "La duración promedio de las llamadas es: 6.745927033796782 minutos.\n",
      "\n",
      "\n",
      "El promedio de llamadas por usuario es: 286.35\n",
      "\n",
      "\n",
      "El promedio de minutos totales promedio por usuario es: 1931.71\n",
      "\n",
      "         id user_id  call_date  duration      plan\n",
      "0   1000_93    1000 2018-12-27      8.52  ultimate\n",
      "1  1000_145    1000 2018-12-27     13.66  ultimate\n",
      "2  1000_247    1000 2018-12-27     14.48  ultimate\n",
      "3  1000_309    1000 2018-12-28      5.76  ultimate\n",
      "4  1000_380    1000 2018-12-30      4.22  ultimate\n",
      "\n",
      "plan\n",
      "surf        6.767264\n",
      "ultimate    6.699939\n",
      "Name: duration, dtype: float64\n",
      "\n",
      "\n",
      "plan\n",
      "surf        94084\n",
      "ultimate    43651\n",
      "dtype: int64\n",
      "         id user_id  call_date  duration      plan\n",
      "0   1000_93    1000 2018-12-27      8.52  ultimate\n",
      "1  1000_145    1000 2018-12-27     13.66  ultimate\n",
      "2  1000_247    1000 2018-12-27     14.48  ultimate\n",
      "3  1000_309    1000 2018-12-28      5.76  ultimate\n",
      "4  1000_380    1000 2018-12-30      4.22  ultimate\n",
      "\n",
      "Total de minutos promedio por plan por usuario:\n",
      "plan\n",
      "surf        1953.040613\n",
      "ultimate    1886.832387\n",
      "dtype: float64\n"
     ]
    }
   ],
   "source": [
    "\n",
    "# hacer un left join con la columna plan para saber el promedio de minutos por susuario por plan \n",
    "\n",
    "# Calcular la duración promedio de las llamadas\n",
    "calls_average_duration = calls['duration'].mean()\n",
    "# Mostrar el resultado\n",
    "print(f\"La duración promedio de las llamadas es: {calls_average_duration} minutos.\")\n",
    "\n",
    "print()\n",
    "print()\n",
    "\n",
    "# Contar el número de llamadas por usuario\n",
    "calls_per_user = calls.groupby('user_id').size()\n",
    "# Calcular el promedio de llamadas por usuario\n",
    "average_calls_per_user = calls_per_user.mean()\n",
    "# Mostrar el resultado\n",
    "print(f\"El promedio de llamadas por usuario es: {average_calls_per_user:.2f}\")\n",
    "\n",
    "print()\n",
    "print()\n",
    "\n",
    "total_minutes_per_user_mean = average_calls_per_user * calls_average_duration\n",
    "print(f\"El promedio de minutos totales promedio por usuario es: {total_minutes_per_user_mean:.2f}\")\n",
    "\n",
    "print()\n",
    "\n",
    "# Realizar el left join entre 'calls' y 'users' usando 'user_id'\n",
    "merged_df_calls = pd.merge(calls, users[['user_id','plan']], on='user_id', how='left')\n",
    "# Mostrar el resultado\n",
    "print(merged_df_calls.head())\n",
    "\n",
    "print()\n",
    "\n",
    "# Calcular el promedio de duración y el número de llamadas por plan\n",
    "average_duration = merged_df_calls.groupby('plan')['duration'].mean()  # Promedio de duración por plan\n",
    "call_count = merged_df_calls.groupby('plan').size()  # Número de llamadas por plan\n",
    "\n",
    "# Calcular el promedio total de minutos por plan (promedio de duración * número de llamadas)\n",
    "\n",
    "# Mostrar el resultado\n",
    "print(average_duration)\n",
    "\n",
    "print()\n",
    "print()\n",
    "\n",
    "print(call_count)\n",
    "\n",
    "print(merged_df_calls.head())\n",
    "\n",
    "print()\n",
    "\n",
    "# Calcular la duración promedio por usuario\n",
    "user_average_duration = merged_df_calls.groupby(['user_id', 'plan'])['duration'].mean()\n",
    "\n",
    "# Contar el número de llamadas por usuario\n",
    "user_call_count = merged_df_calls.groupby(['user_id', 'plan']).size()\n",
    "\n",
    "# Calcular el total de minutos promedio por usuario por plan\n",
    "total_minutes_per_user = user_average_duration * user_call_count\n",
    "\n",
    "# Calcular el promedio total de minutos por plan\n",
    "total_minutes_by_plan = total_minutes_per_user.groupby('plan').mean()\n",
    "\n",
    "# Mostrar el resultado\n",
    "print(\"Total de minutos promedio por plan por usuario:\")\n",
    "print(total_minutes_by_plan)"
   ]
  },
  {
   "cell_type": "markdown",
   "metadata": {
    "id": "mOUZSi180q0_"
   },
   "source": [
    "## Mensajes"
   ]
  },
  {
   "cell_type": "code",
   "execution_count": 15,
   "metadata": {
    "id": "R-bYJpdV0q1A"
   },
   "outputs": [
    {
     "name": "stdout",
     "output_type": "stream",
     "text": [
      "         id  user_id message_date\n",
      "0  1000_125     1000   2018-12-27\n",
      "1  1000_160     1000   2018-12-31\n",
      "2  1000_223     1000   2018-12-31\n",
      "3  1000_251     1000   2018-12-27\n",
      "4  1000_255     1000   2018-12-26\n",
      "\n",
      "<class 'pandas.core.frame.DataFrame'>\n",
      "RangeIndex: 76051 entries, 0 to 76050\n",
      "Data columns (total 3 columns):\n",
      " #   Column        Non-Null Count  Dtype \n",
      "---  ------        --------------  ----- \n",
      " 0   id            76051 non-null  object\n",
      " 1   user_id       76051 non-null  int64 \n",
      " 2   message_date  76051 non-null  object\n",
      "dtypes: int64(1), object(2)\n",
      "memory usage: 1.7+ MB\n",
      "None\n",
      "\n",
      "(76051, 3)\n",
      "\n",
      "            user_id\n",
      "count  76051.000000\n",
      "mean    1245.972768\n",
      "std      139.843635\n",
      "min     1000.000000\n",
      "25%     1123.000000\n",
      "50%     1251.000000\n",
      "75%     1362.000000\n",
      "max     1497.000000\n",
      "Empty DataFrame\n",
      "Columns: [id, user_id, message_date]\n",
      "Index: []\n"
     ]
    }
   ],
   "source": [
    "# Imprime la información general/resumida sobre el DataFrame de los mensajes\n",
    "\n",
    "print(messages.head())\n",
    "print()\n",
    "print(messages.info())\n",
    "print()\n",
    "print(messages.shape)\n",
    "print()\n",
    "print(messages.describe())\n",
    "duplicates_rows = messages[messages.duplicated()]\n",
    "print(duplicates_rows)"
   ]
  },
  {
   "cell_type": "code",
   "execution_count": null,
   "metadata": {
    "id": "mCEl2iGE0q1A"
   },
   "outputs": [
    {
     "name": "stdout",
     "output_type": "stream",
     "text": [
      "             id user_id  call_date  duration\n",
      "89693  1326_344    1326 2018-07-24     14.44\n",
      "62096  1223_266    1223 2018-10-16      1.40\n",
      "26517   1100_74    1100 2018-09-16     21.14\n",
      "8267   1039_207    1039 2018-09-08      6.89\n",
      "80687  1291_287    1291 2018-09-01      0.00\n",
      "54065  1195_235    1195 2018-09-26      9.70\n",
      "99629  1357_524    1357 2018-09-06      0.43\n",
      "42839  1156_444    1156 2018-05-30      2.31\n",
      "76168  1268_672    1268 2018-06-30      0.00\n",
      "2682   1010_271    1010 2018-03-28     15.64\n"
     ]
    }
   ],
   "source": [
    "# Imprime una muestra de datos para los mensajes\n",
    "\n",
    "print(calls.sample(10))\n"
   ]
  },
  {
   "cell_type": "markdown",
   "metadata": {
    "id": "Sprfak900q1B"
   },
   "source": [
    "### Corregir los datos"
   ]
  },
  {
   "cell_type": "markdown",
   "metadata": {
    "id": "eGw7d9j10q1B"
   },
   "source": [
    "Cambios a efectuar: cambiar el tipo de datos de user_id de int a object y de object a datetime para message_date. No presenta duplicados explicitos ni nulos "
   ]
  },
  {
   "cell_type": "code",
   "execution_count": 17,
   "metadata": {
    "id": "vsllvkoa0q1B",
    "scrolled": true
   },
   "outputs": [
    {
     "name": "stdout",
     "output_type": "stream",
     "text": [
      "<class 'pandas.core.frame.DataFrame'>\n",
      "RangeIndex: 76051 entries, 0 to 76050\n",
      "Data columns (total 3 columns):\n",
      " #   Column        Non-Null Count  Dtype         \n",
      "---  ------        --------------  -----         \n",
      " 0   id            76051 non-null  object        \n",
      " 1   user_id       76051 non-null  object        \n",
      " 2   message_date  76051 non-null  datetime64[ns]\n",
      "dtypes: datetime64[ns](1), object(2)\n",
      "memory usage: 1.7+ MB\n",
      "None\n"
     ]
    }
   ],
   "source": [
    "messages['message_date'] = pd.to_datetime(messages['message_date'])\n",
    "\n",
    "messages['user_id'] = messages['user_id'].astype('object')\n",
    "print(messages.info())"
   ]
  },
  {
   "cell_type": "markdown",
   "metadata": {
    "id": "HvLid7iD0q1B"
   },
   "source": [
    "### Enriquecer los datos"
   ]
  },
  {
   "cell_type": "markdown",
   "metadata": {
    "id": "8nhPFKIe0q1C"
   },
   "source": [
    "Me surgen dudas como la duración promedio de mensajes por usuario"
   ]
  },
  {
   "cell_type": "code",
   "execution_count": null,
   "metadata": {
    "id": "zYEXZac10q1C"
   },
   "outputs": [
    {
     "name": "stdout",
     "output_type": "stream",
     "text": [
      "El promedio de mensajes por usuario es: 189.18\n",
      "\n",
      "\n",
      "El promedio de mensajes por usuario por mes es: 42.00\n",
      "\n",
      "\n",
      "         id user_id message_date    month      plan\n",
      "0  1000_125    1000   2018-12-27  2018-12  ultimate\n",
      "1  1000_160    1000   2018-12-31  2018-12  ultimate\n",
      "2  1000_223    1000   2018-12-31  2018-12  ultimate\n",
      "3  1000_251    1000   2018-12-27  2018-12  ultimate\n",
      "4  1000_255    1000   2018-12-26  2018-12  ultimate\n",
      "\n",
      "\n",
      "El número promedio de mensajes por usuario por plan es:\n",
      "plan\n",
      "surf        181.533333\n",
      "ultimate    204.825758\n",
      "dtype: float64\n"
     ]
    }
   ],
   "source": [
    "\n",
    "# hacer un left join con la columna plan para saber el promedio de mensajes por usuario por plan \n",
    "\n",
    "\n",
    "# Contar el número de mensajes por usuario\n",
    "messages_per_user = messages.groupby('user_id').size()\n",
    "# Calcular el promedio de mensajes por usuario\n",
    "average_messages_per_user = messages_per_user.mean()\n",
    "# Mostrar el resultado\n",
    "print(f\"El promedio de mensajes por usuario es: {average_messages_per_user:.2f}\")\n",
    "\n",
    "print()\n",
    "print()\n",
    "\n",
    "# Extraer el mes y año de la columna 'message_date'\n",
    "messages['month'] = messages['message_date'].dt.to_period('M')\n",
    "# Agrupar por 'user_id' y 'month', y contar el número de mensajes\n",
    "messages_per_user_per_month = messages.groupby(['user_id', 'month']).size()\n",
    "# Calcular el promedio de mensajes por usuario por mes\n",
    "average_messages_per_user_per_month = messages_per_user_per_month.groupby('user_id').mean()\n",
    "# Mostrar el resultado\n",
    "print(f\"El promedio de mensajes por usuario por mes es: {average_messages_per_user_per_month.mean():.2f}\")\n",
    "\n",
    "\n",
    "print()\n",
    "print()\n",
    "\n",
    "# Realizar el left join entre 'messages' y 'users' usando 'user_id'\n",
    "merged_messages = pd.merge(messages, users[['user_id', 'plan']], on='user_id', how='left')\n",
    "# Mostrar el resultado\n",
    "print(merged_messages.head())\n",
    "\n",
    "print()\n",
    "print()\n",
    "\n",
    "# Contar el número de mensajes por usuario y por plan\n",
    "messages_per_user_plan = merged_messages.groupby(['user_id', 'plan']).size()\n",
    "# Calcular el promedio de mensajes por usuario por plan\n",
    "average_messages_per_user_plan = messages_per_user_plan.groupby('plan').mean()\n",
    "# Mostrar el resultado\n",
    "print(\"El número promedio de mensajes por usuario por plan es:\")\n",
    "print(average_messages_per_user_plan)\n"
   ]
  },
  {
   "cell_type": "markdown",
   "metadata": {
    "id": "bStkaxn40q1C"
   },
   "source": [
    "## Internet"
   ]
  },
  {
   "cell_type": "code",
   "execution_count": 19,
   "metadata": {
    "id": "e-Uz5qyn0q1C"
   },
   "outputs": [
    {
     "name": "stdout",
     "output_type": "stream",
     "text": [
      "         id  user_id session_date  mb_used\n",
      "0   1000_13     1000   2018-12-29    89.86\n",
      "1  1000_204     1000   2018-12-31     0.00\n",
      "2  1000_379     1000   2018-12-28   660.40\n",
      "3  1000_413     1000   2018-12-26   270.99\n",
      "4  1000_442     1000   2018-12-27   880.22\n",
      "\n",
      "<class 'pandas.core.frame.DataFrame'>\n",
      "RangeIndex: 104825 entries, 0 to 104824\n",
      "Data columns (total 4 columns):\n",
      " #   Column        Non-Null Count   Dtype  \n",
      "---  ------        --------------   -----  \n",
      " 0   id            104825 non-null  object \n",
      " 1   user_id       104825 non-null  int64  \n",
      " 2   session_date  104825 non-null  object \n",
      " 3   mb_used       104825 non-null  float64\n",
      "dtypes: float64(1), int64(1), object(2)\n",
      "memory usage: 3.2+ MB\n",
      "None\n",
      "\n",
      "(104825, 4)\n",
      "\n",
      "             user_id        mb_used\n",
      "count  104825.000000  104825.000000\n",
      "mean     1242.496361     366.713701\n",
      "std       142.053913     277.170542\n",
      "min      1000.000000       0.000000\n",
      "25%      1122.000000     136.080000\n",
      "50%      1236.000000     343.980000\n",
      "75%      1367.000000     554.610000\n",
      "max      1499.000000    1693.470000\n",
      "Empty DataFrame\n",
      "Columns: [id, user_id, session_date, mb_used]\n",
      "Index: []\n"
     ]
    }
   ],
   "source": [
    "# Imprime la información general/resumida sobre el DataFrame de internet\n",
    "\n",
    "print(internet.head())\n",
    "print()\n",
    "print(internet.info())\n",
    "print()\n",
    "print(internet.shape)\n",
    "print()\n",
    "print(internet.describe())\n",
    "duplicates_rows = internet[internet.duplicated()]\n",
    "print(duplicates_rows)"
   ]
  },
  {
   "cell_type": "code",
   "execution_count": 20,
   "metadata": {
    "id": "9r3x_XLw0q1C"
   },
   "outputs": [
    {
     "name": "stdout",
     "output_type": "stream",
     "text": [
      "             id  user_id session_date  mb_used\n",
      "43367  1193_188     1193   2018-10-17     0.14\n",
      "10805  1054_341     1054   2018-06-26   784.58\n",
      "23361   1107_90     1107   2018-12-15   436.00\n",
      "25641  1120_157     1120   2018-04-07   701.64\n",
      "29538  1134_455     1134   2018-11-14   265.65\n",
      "67432  1313_106     1313   2018-07-08   195.53\n",
      "63970  1293_478     1293   2018-10-16   520.76\n",
      "65332   1301_22     1301   2018-12-13     0.00\n",
      "60718   1277_21     1277   2018-10-30   347.07\n",
      "48584   1216_79     1216   2018-09-25    85.79\n"
     ]
    }
   ],
   "source": [
    "# Imprime una muestra de datos para el tráfico de internet\n",
    "\n",
    "\n",
    "print(internet.sample(10))\n",
    "\n"
   ]
  },
  {
   "cell_type": "markdown",
   "metadata": {
    "id": "yA0tkPFg0q1D"
   },
   "source": [
    "### Corregir los datos"
   ]
  },
  {
   "cell_type": "markdown",
   "metadata": {
    "id": "zlZMuIEK0q1D"
   },
   "source": [
    "Cambios por efectuar: Cambios a efectuar: cambiar el tipo de datos de user_id de int a object y de object a datetime para message_date. No presenta duplicados explicitos ni nulos "
   ]
  },
  {
   "cell_type": "code",
   "execution_count": 21,
   "metadata": {
    "id": "zVeanzdd0q1E"
   },
   "outputs": [
    {
     "name": "stdout",
     "output_type": "stream",
     "text": [
      "<class 'pandas.core.frame.DataFrame'>\n",
      "RangeIndex: 104825 entries, 0 to 104824\n",
      "Data columns (total 4 columns):\n",
      " #   Column        Non-Null Count   Dtype         \n",
      "---  ------        --------------   -----         \n",
      " 0   id            104825 non-null  object        \n",
      " 1   user_id       104825 non-null  object        \n",
      " 2   session_date  104825 non-null  datetime64[ns]\n",
      " 3   mb_used       104825 non-null  float64       \n",
      "dtypes: datetime64[ns](1), float64(1), object(2)\n",
      "memory usage: 3.2+ MB\n",
      "None\n"
     ]
    }
   ],
   "source": [
    "internet['session_date'] = pd.to_datetime(internet['session_date'])\n",
    "\n",
    "internet['user_id'] = internet['user_id'].astype('object')\n",
    "print(internet.info())"
   ]
  },
  {
   "cell_type": "markdown",
   "metadata": {
    "id": "e8_mLF4a0q1E"
   },
   "source": [
    "### Enriquecer los datos"
   ]
  },
  {
   "cell_type": "markdown",
   "metadata": {
    "id": "xhNdn2tE0q1E"
   },
   "source": [
    "Me surgen dudas cómo es el promedio de megas por usuario\n",
    "\n",
    "Y cuál es la cantidad promedio de sesiones de internert por usuario"
   ]
  },
  {
   "cell_type": "code",
   "execution_count": 22,
   "metadata": {
    "id": "ESiYPIEK0q1E"
   },
   "outputs": [
    {
     "name": "stdout",
     "output_type": "stream",
     "text": [
      "370.7622388647904\n",
      "\n",
      "\n",
      "El número promedio de sesiones de internet por usuario es: 214.37\n",
      "\n",
      "\n",
      "         id user_id message_date    month      plan\n",
      "0  1000_125    1000   2018-12-27  2018-12  ultimate\n",
      "1  1000_160    1000   2018-12-31  2018-12  ultimate\n",
      "2  1000_223    1000   2018-12-31  2018-12  ultimate\n",
      "3  1000_251    1000   2018-12-27  2018-12  ultimate\n",
      "4  1000_255    1000   2018-12-26  2018-12  ultimate\n",
      "\n",
      "plan\n",
      "surf        363.844606\n",
      "ultimate    372.892800\n",
      "Name: mb_used, dtype: float64\n"
     ]
    }
   ],
   "source": [
    "# me surgen dudas como el promedio de megas por usuario\n",
    "#cantidad promedio de sesiones de internert por usuario\n",
    "# el promedio de megas por plan \n",
    "\n",
    "# Calcular el promedio de uso de datos (MB) por usuario\n",
    "average_data_usage_per_user = internet.groupby('user_id')['mb_used'].mean()\n",
    "print(average_data_usage_per_user.mean())\n",
    "\n",
    "\n",
    "print()\n",
    "print()\n",
    "\n",
    "# Contar la cantidad de sesiones por usuario\n",
    "sessions_per_user = internet.groupby('user_id').size()\n",
    "# Calcular el promedio de sesiones por usuario\n",
    "average_sessions_per_user = sessions_per_user.mean()\n",
    "# Mostrar el resultado\n",
    "print(f\"El número promedio de sesiones de internet por usuario es: {average_sessions_per_user:.2f}\")\n",
    "\n",
    "print()\n",
    "print()\n",
    "\n",
    "# Realizar el left join entre 'messages' y 'users' usando 'user_id'\n",
    "merged_internet = pd.merge(internet, users[['user_id', 'plan']], on='user_id', how='left')\n",
    "# Mostrar el resultado\n",
    "print(merged_messages.head())\n",
    "\n",
    "print()\n",
    "\n",
    "average_mb_per_plan = merged_internet.groupby('plan')['mb_used'].mean()\n",
    "\n",
    "# Mostrar el resultado\n",
    "print(average_mb_per_plan)"
   ]
  },
  {
   "cell_type": "markdown",
   "metadata": {
    "id": "3UA2cqIW0q1E"
   },
   "source": [
    "## Estudiar las condiciones de las tarifas"
   ]
  },
  {
   "cell_type": "markdown",
   "metadata": {
    "id": "T86Sqltq0q1F"
   },
   "source": [
    "Es sumamente importante entender cómo funcionan las tarifas, cómo se les cobra a los usuarios en función de su plan de suscripción."
   ]
  },
  {
   "cell_type": "code",
   "execution_count": 23,
   "metadata": {
    "id": "i409op8p0q1F"
   },
   "outputs": [
    {
     "name": "stdout",
     "output_type": "stream",
     "text": [
      "\n",
      "Surf\n",
      "\n",
      "Pago mensual: $20.\n",
      "500 minutos al mes, 50 SMS y 15 GB de datos.\n",
      "Si se exceden los límites del paquete:\n",
      "1 minuto: 3 centavos.\n",
      "1 SMS: 3 centavos.\n",
      "1 GB de datos: $10.\n",
      "\n",
      "\n",
      "Ultimate\n",
      "\n",
      "Pago mensual: $70.\n",
      "3000 minutos al mes, 1000 SMS y 30 GB de datos.\n",
      "Si se exceden los límites del paquete:\n",
      "1 minuto: 1 centavo.\n",
      "1 SMS: 1 centavo.\n",
      "1 GB de datos: $7.\n",
      "\n"
     ]
    }
   ],
   "source": [
    "# Imprime las condiciones de la tarifa y asegúrate de que te quedan claras\n",
    "\n",
    "# String para el plan Surf\n",
    "surf_plan = \"\"\"\n",
    "Surf\n",
    "\n",
    "Pago mensual: $20.\n",
    "500 minutos al mes, 50 SMS y 15 GB de datos.\n",
    "Si se exceden los límites del paquete:\n",
    "1 minuto: 3 centavos.\n",
    "1 SMS: 3 centavos.\n",
    "1 GB de datos: $10.\n",
    "\"\"\"\n",
    "\n",
    "# String para el plan Ultimate\n",
    "ultimate_plan = \"\"\"\n",
    "Ultimate\n",
    "\n",
    "Pago mensual: $70.\n",
    "3000 minutos al mes, 1000 SMS y 30 GB de datos.\n",
    "Si se exceden los límites del paquete:\n",
    "1 minuto: 1 centavo.\n",
    "1 SMS: 1 centavo.\n",
    "1 GB de datos: $7.\n",
    "\"\"\"\n",
    "\n",
    "# Mostrar los strings (opcional)\n",
    "print(surf_plan)\n",
    "print(ultimate_plan)\n"
   ]
  },
  {
   "cell_type": "markdown",
   "metadata": {
    "id": "hMR1tP5d0q1F"
   },
   "source": [
    "## Agregar datos por usuario\n",
    "\n",
    "Ahora que los datos están limpios, podemos agregar los datos por usuario y por periodo para que solo haya un registro por usuario y por periodo. Esto facilitará mucho el análisis posterior."
   ]
  },
  {
   "cell_type": "code",
   "execution_count": 24,
   "metadata": {
    "id": "A332cedB0q1G"
   },
   "outputs": [
    {
     "name": "stdout",
     "output_type": "stream",
     "text": [
      "user_id  month  \n",
      "1000     2018-12    16\n",
      "1001     2018-08    27\n",
      "         2018-09    49\n",
      "         2018-10    65\n",
      "         2018-11    64\n",
      "dtype: int64\n",
      "   user_id    month  calls_count\n",
      "0     1000  2018-12           16\n",
      "1     1001  2018-08           27\n",
      "2     1001  2018-09           49\n",
      "3     1001  2018-10           65\n",
      "4     1001  2018-11           64\n"
     ]
    }
   ],
   "source": [
    "# Calcula el número de llamadas hechas por cada usuario al mes. Guarda el resultado.\n",
    "\n",
    "# Extraer el mes y año de la columna 'call_date' para agrupar por mes\n",
    "calls['month'] = calls['call_date'].dt.to_period('M')\n",
    "\n",
    "# Agrupar por 'user_id' y 'month', y contar el número de llamadas\n",
    "calls_per_user_per_month = calls.groupby(['user_id', 'month']).size()\n",
    "\n",
    "# Mostrar el resultado\n",
    "print(calls_per_user_per_month.head())  # Ver los primeros resultados\n",
    "\n",
    "# Guardar el resultado en una variable \n",
    "calls_per_user_per_month = calls_per_user_per_month.reset_index(name='calls_count')\n",
    "\n",
    "# Mostrar el DataFrame con el resultado\n",
    "print(calls_per_user_per_month.head())\n"
   ]
  },
  {
   "cell_type": "code",
   "execution_count": 25,
   "metadata": {
    "id": "aw2cmuql0q1G"
   },
   "outputs": [
    {
     "name": "stdout",
     "output_type": "stream",
     "text": [
      "user_id  month  \n",
      "1000     2018-12    116.83\n",
      "1001     2018-08    171.14\n",
      "         2018-09    297.69\n",
      "         2018-10    374.11\n",
      "         2018-11    404.59\n",
      "Name: duration, dtype: float64\n",
      "    user_id    month  total_minutes\n",
      "0      1000  2018-12         116.83\n",
      "1      1001  2018-08         171.14\n",
      "2      1001  2018-09         297.69\n",
      "3      1001  2018-10         374.11\n",
      "4      1001  2018-11         404.59\n",
      "5      1001  2018-12         392.93\n",
      "6      1002  2018-10          54.13\n",
      "7      1002  2018-11         359.76\n",
      "8      1002  2018-12         363.24\n",
      "9      1003  2018-12        1041.00\n",
      "10     1004  2018-05         181.58\n",
      "11     1004  2018-06         261.32\n",
      "12     1004  2018-07         358.45\n",
      "13     1004  2018-08         334.86\n",
      "14     1004  2018-09         284.60\n",
      "15     1004  2018-10         341.63\n",
      "16     1004  2018-11         452.98\n",
      "17     1004  2018-12         403.53\n",
      "18     1005  2018-12         470.22\n",
      "19     1006  2018-11           9.32\n",
      "20     1006  2018-12          54.79\n",
      "21     1007  2018-08         427.95\n",
      "22     1007  2018-09         375.83\n",
      "23     1007  2018-10         610.65\n",
      "24     1007  2018-11         490.29\n"
     ]
    }
   ],
   "source": [
    "# Calcula la cantidad de minutos usados por cada usuario al mes. Guarda el resultado.\n",
    "\n",
    "# Extraer el mes y año de la columna 'call_date' para agrupar por mes\n",
    "calls['month'] = calls['call_date'].dt.to_period('M')\n",
    "\n",
    "# Agrupar por 'user_id' y 'month', y sumar los minutos ('duration')\n",
    "minutes_per_user_per_month = calls.groupby(['user_id', 'month'])['duration'].sum()\n",
    "\n",
    "# Mostrar el resultado\n",
    "print(minutes_per_user_per_month.head())  # Ver los primeros resultados\n",
    "\n",
    "# Guardar el resultado en una variable o un DataFrame (si es necesario)\n",
    "minutes_per_user_per_month = minutes_per_user_per_month.reset_index(name='total_minutes')\n",
    "\n",
    "# Mostrar el DataFrame con el resultado\n",
    "print(minutes_per_user_per_month.head(25))"
   ]
  },
  {
   "cell_type": "code",
   "execution_count": 26,
   "metadata": {
    "id": "CcQvNHn60q1G"
   },
   "outputs": [
    {
     "name": "stdout",
     "output_type": "stream",
     "text": [
      "user_id  month  \n",
      "1000     2018-12    11\n",
      "1001     2018-08    30\n",
      "         2018-09    44\n",
      "         2018-10    53\n",
      "         2018-11    36\n",
      "dtype: int64\n",
      "   user_id    month  messages_count\n",
      "0     1000  2018-12              11\n",
      "1     1001  2018-08              30\n",
      "2     1001  2018-09              44\n",
      "3     1001  2018-10              53\n",
      "4     1001  2018-11              36\n"
     ]
    }
   ],
   "source": [
    "# Calcula el número de mensajes enviados por cada usuario al mes. Guarda el resultado.\n",
    "# Extraer el mes y año de la columna 'message_date' para agrupar por mes\n",
    "messages['month'] = messages['message_date'].dt.to_period('M')\n",
    "\n",
    "# Agrupar por 'user_id' y 'month', y contar el número de mensajes\n",
    "messages_per_user_per_month = messages.groupby(['user_id', 'month']).size()\n",
    "\n",
    "# Mostrar el resultado\n",
    "print(messages_per_user_per_month.head())  # Ver los primeros resultados\n",
    "\n",
    "# Guardar el resultado en una variable o un DataFrame (si es necesario)\n",
    "messages_per_user_per_month = messages_per_user_per_month.reset_index(name='messages_count')\n",
    "\n",
    "# Mostrar el DataFrame con el resultado\n",
    "print(messages_per_user_per_month.head())\n"
   ]
  },
  {
   "cell_type": "code",
   "execution_count": 27,
   "metadata": {
    "id": "H1AqN2eG0q1H"
   },
   "outputs": [
    {
     "name": "stdout",
     "output_type": "stream",
     "text": [
      "user_id  month  \n",
      "1000     2018-12     1901.47\n",
      "1001     2018-08     6919.15\n",
      "         2018-09    13314.82\n",
      "         2018-10    22330.49\n",
      "         2018-11    18504.30\n",
      "Name: mb_used, dtype: float64\n",
      "   user_id    month  total_mb_used\n",
      "0     1000  2018-12        1901.47\n",
      "1     1001  2018-08        6919.15\n",
      "2     1001  2018-09       13314.82\n",
      "3     1001  2018-10       22330.49\n",
      "4     1001  2018-11       18504.30\n"
     ]
    }
   ],
   "source": [
    "# Calcula el volumen del tráfico de Internet usado por cada usuario al mes. Guarda el resultado.\n",
    "\n",
    "# Extraer el mes y año de la columna 'session_date' para agrupar por mes\n",
    "internet['month'] = internet['session_date'].dt.to_period('M')\n",
    "\n",
    "# Agrupar por 'user_id' y 'month', y sumar los megabytes utilizados ('mb_used')\n",
    "mb_per_user_per_month = internet.groupby(['user_id', 'month'])['mb_used'].sum()\n",
    "\n",
    "# Mostrar el resultado\n",
    "print(mb_per_user_per_month.head())  # Ver los primeros resultados\n",
    "\n",
    "# Guardar el resultado en una variable o un DataFrame (si es necesario)\n",
    "mb_per_user_per_month = mb_per_user_per_month.reset_index(name='total_mb_used')\n",
    "\n",
    "# Mostrar el DataFrame con el resultado\n",
    "print(mb_per_user_per_month.head())"
   ]
  },
  {
   "cell_type": "markdown",
   "metadata": {
    "id": "VDfYXnj80q1H"
   },
   "source": [
    "Juntamos los datos agregados en un DataFrame para que haya un registro que represente lo que consumió un usuario único en un mes determinado."
   ]
  },
  {
   "cell_type": "code",
   "execution_count": 28,
   "metadata": {
    "id": "FW99ykyf0q1H"
   },
   "outputs": [
    {
     "name": "stdout",
     "output_type": "stream",
     "text": [
      "    user_id    month  calls_count  total_minutes  messages_count  \\\n",
      "0      1000  2018-12           16         116.83            11.0   \n",
      "1      1001  2018-08           27         171.14            30.0   \n",
      "2      1001  2018-09           49         297.69            44.0   \n",
      "3      1001  2018-10           65         374.11            53.0   \n",
      "4      1001  2018-11           64         404.59            36.0   \n",
      "5      1001  2018-12           56         392.93            44.0   \n",
      "6      1002  2018-10           11          54.13            15.0   \n",
      "7      1002  2018-11           55         359.76            32.0   \n",
      "8      1002  2018-12           47         363.24            41.0   \n",
      "9      1003  2018-12          149        1041.00            50.0   \n",
      "10     1004  2018-05           21         181.58             7.0   \n",
      "11     1004  2018-06           44         261.32            18.0   \n",
      "12     1004  2018-07           49         358.45            26.0   \n",
      "13     1004  2018-08           49         334.86            25.0   \n",
      "14     1004  2018-09           42         284.60            21.0   \n",
      "15     1004  2018-10           61         341.63            24.0   \n",
      "16     1004  2018-11           54         452.98            25.0   \n",
      "17     1004  2018-12           50         403.53            31.0   \n",
      "18     1005  2018-12           59         470.22            11.0   \n",
      "19     1006  2018-11            2           9.32            15.0   \n",
      "\n",
      "    total_mb_used  \n",
      "0         1901.47  \n",
      "1         6919.15  \n",
      "2        13314.82  \n",
      "3        22330.49  \n",
      "4        18504.30  \n",
      "5        19369.18  \n",
      "6         6552.01  \n",
      "7        19345.08  \n",
      "8        14396.24  \n",
      "9        27044.14  \n",
      "10        6547.21  \n",
      "11       20672.82  \n",
      "12       24516.62  \n",
      "13       27981.74  \n",
      "14       18852.72  \n",
      "15       14541.63  \n",
      "16       21850.78  \n",
      "17       21389.29  \n",
      "18       17140.17  \n",
      "19        2068.37  \n"
     ]
    }
   ],
   "source": [
    "# Fusiona los datos de llamadas, minutos, mensajes e Internet con base en user_id y month\n",
    "\n",
    "# Fusionamos los datos de llamadas con los minutos\n",
    "merged_calls_minutes = pd.merge(calls_per_user_per_month, minutes_per_user_per_month, \n",
    "                                on=['user_id', 'month'], how='left')\n",
    "\n",
    "# Fusionamos con los mensajes\n",
    "merged_calls_minutes_messages = pd.merge(merged_calls_minutes, messages_per_user_per_month, \n",
    "                                         on=['user_id', 'month'], how='left')\n",
    "\n",
    "# Finalmente, fusionamos con el uso de internet\n",
    "merged_all_data = pd.merge(merged_calls_minutes_messages, mb_per_user_per_month, \n",
    "                           on=['user_id', 'month'], how='left')\n",
    "\n",
    "# Mostrar el DataFrame final con todos los datos fusionados\n",
    "print(merged_all_data.head(20))\n"
   ]
  },
  {
   "cell_type": "code",
   "execution_count": 29,
   "metadata": {
    "id": "0dNOXHag0q1H"
   },
   "outputs": [
    {
     "name": "stdout",
     "output_type": "stream",
     "text": [
      "  user_id    month  calls_count  total_minutes  messages_count  total_mb_used  \\\n",
      "0    1000  2018-12           16         116.83            11.0        1901.47   \n",
      "1    1001  2018-08           27         171.14            30.0        6919.15   \n",
      "2    1001  2018-09           49         297.69            44.0       13314.82   \n",
      "3    1001  2018-10           65         374.11            53.0       22330.49   \n",
      "4    1001  2018-11           64         404.59            36.0       18504.30   \n",
      "\n",
      "       plan  \n",
      "0  ultimate  \n",
      "1      surf  \n",
      "2      surf  \n",
      "3      surf  \n",
      "4      surf  \n",
      "\n",
      "\n",
      "  user_id    month  calls_count  total_minutes  messages_count  total_mb_used  \\\n",
      "0    1000  2018-12           16         116.83            11.0        1901.47   \n",
      "1    1001  2018-08           27         171.14            30.0        6919.15   \n",
      "2    1001  2018-09           49         297.69            44.0       13314.82   \n",
      "3    1001  2018-10           65         374.11            53.0       22330.49   \n",
      "4    1001  2018-11           64         404.59            36.0       18504.30   \n",
      "\n",
      "       plan  monthly_tariff  \n",
      "0  ultimate              70  \n",
      "1      surf              20  \n",
      "2      surf              20  \n",
      "3      surf              20  \n",
      "4      surf              20  \n"
     ]
    }
   ],
   "source": [
    "# Añade la información de la tarifa\n",
    "\n",
    "# Realizar un left join entre 'merged_all_data' y 'users' usando 'user_id' para añadir la columna 'plan'\n",
    "final_data = pd.merge(merged_all_data, users[['user_id', 'plan']], on='user_id', how='left')\n",
    "\n",
    "# Mostrar el DataFrame final con la columna 'plan' añadida\n",
    "print(final_data.head())\n",
    "\n",
    "# Crear una nueva columna 'monthly_tariff' basada en el tipo de plan\n",
    "final_data['monthly_tariff'] = np.where(final_data['plan'] == 'ultimate', 70, \n",
    "                                         np.where(final_data['plan'] == 'surf', 20, 0))\n",
    "\n",
    "\n",
    "print()\n",
    "print()\n",
    "\n",
    "\n",
    "# Mostrar el resultado\n",
    "print(final_data.head())"
   ]
  },
  {
   "cell_type": "code",
   "execution_count": 30,
   "metadata": {
    "id": "5FGCf_c60q1I"
   },
   "outputs": [
    {
     "name": "stdout",
     "output_type": "stream",
     "text": [
      "   user_id    month      plan  monthly_income\n",
      "0     1000  2018-12  ultimate       70.000000\n",
      "1     1001  2018-08      surf       20.000000\n",
      "2     1001  2018-09      surf       20.000000\n",
      "3     1001  2018-10      surf       88.161191\n",
      "4     1001  2018-11      surf       50.706055\n",
      "5     1001  2018-12      surf       59.152148\n",
      "6     1002  2018-10      surf       20.000000\n",
      "7     1002  2018-11      surf       58.916797\n",
      "8     1002  2018-12      surf       20.000000\n",
      "9     1003  2018-12      surf      134.102930\n",
      "10    1004  2018-05      surf       20.000000\n",
      "11    1004  2018-06      surf       71.883008\n",
      "12    1004  2018-07      surf      109.420117\n",
      "13    1004  2018-08      surf      143.259180\n",
      "14    1004  2018-09      surf       54.108594\n",
      "15    1004  2018-10      surf       20.000000\n",
      "16    1004  2018-11      surf       83.386523\n",
      "17    1004  2018-12      surf       78.879785\n",
      "18    1005  2018-12      surf       37.384473\n",
      "19    1006  2018-11  ultimate       70.000000\n",
      "20    1006  2018-12  ultimate       79.562246\n",
      "21    1007  2018-08      surf      108.700703\n",
      "22    1007  2018-09      surf      144.647949\n",
      "23    1007  2018-10      surf      240.246855\n",
      "24    1007  2018-11      surf      107.636719\n",
      "\n",
      "\n",
      "               monthly_income\n",
      "month                        \n",
      "2018-01            320.000000\n",
      "2018-02            708.965000\n",
      "2018-03           1870.235508\n",
      "2018-04           3426.948174\n",
      "2018-05           5399.187256\n",
      "2018-06           7531.930127\n",
      "2018-07          11155.865469\n",
      "2018-08          14665.654814\n",
      "2018-09          16238.375088\n",
      "2018-10          21382.778584\n",
      "2018-11          23594.760879\n",
      "2018-12          30389.544248\n",
      "Total General   136684.245146\n",
      "\n",
      "\n",
      "plan\n",
      "surf        55.205018\n",
      "ultimate    72.079233\n",
      "Name: monthly_income, dtype: float64\n"
     ]
    }
   ],
   "source": [
    "# Calcula el ingreso mensual para cada usuario\n",
    "# Convertir el total de megabytes a gigabytes y agregar una nueva columna 'total_gb_used'\n",
    "final_data['total_gb_used'] = final_data['total_mb_used'] / 1024\n",
    "\n",
    "# Función para calcular el ingreso mensual basado en el plan, usando 'total_gb_used' (en GB)\n",
    "def calculate_monthly_income(row):\n",
    "    # Límite de paquetes\n",
    "    if row['plan'] == 'surf':\n",
    "        # Surf plan\n",
    "        minute_limit = 500\n",
    "        sms_limit = 50\n",
    "        data_limit = 15  # El límite está en GB, ya que trabajaremos con GB convertidos\n",
    "        minute_rate = 0.03  # 3 centavos por minuto\n",
    "        sms_rate = 0.03  # 3 centavos por SMS\n",
    "        data_rate = 10  # $10 por GB\n",
    "        base_tariff = 20  # Tarifa fija mensual para el plan Surf\n",
    "    elif row['plan'] == 'ultimate':\n",
    "        # Ultimate plan\n",
    "        minute_limit = 3000\n",
    "        sms_limit = 1000\n",
    "        data_limit = 30  # El límite está en GB, ya que trabajaremos con GB convertidos\n",
    "        minute_rate = 0.01  # 1 centavo por minuto\n",
    "        sms_rate = 0.01  # 1 centavo por SMS\n",
    "        data_rate = 7  # $7 por GB\n",
    "        base_tariff = 70  # Tarifa fija mensual para el plan Ultimate\n",
    "    else:\n",
    "        # Si el plan no es ni 'surf' ni 'ultimate', no calculamos\n",
    "        return 0\n",
    "\n",
    "    # Calcular minutos, SMS y datos excedentes\n",
    "    excess_minutes = max(0, row['calls_count'] - minute_limit)\n",
    "    excess_sms = max(0, row['messages_count'] - sms_limit)\n",
    "    excess_data = max(0, row['total_gb_used'] - data_limit)  # Usamos 'total_gb_used' que ya está en GB\n",
    "\n",
    "    # Calcular el ingreso adicional\n",
    "    excess_income = (excess_minutes * minute_rate) + (excess_sms * sms_rate) + (excess_data * data_rate)\n",
    "\n",
    "    # Ingreso total = tarifa fija + ingreso adicional\n",
    "    total_income = base_tariff + excess_income\n",
    "    return total_income\n",
    "\n",
    "# Aplicar la función para calcular el ingreso mensual por usuario\n",
    "final_data['monthly_income'] = final_data.apply(calculate_monthly_income, axis=1)\n",
    "\n",
    "# Mostrar el resultado\n",
    "print(final_data[['user_id', 'month', 'plan', 'monthly_income']].head(25))\n",
    "\n",
    "print()\n",
    "print()\n",
    "\n",
    "income_by_month = final_data.pivot_table(\n",
    "    values='monthly_income',  # Columna de ingresos mensuales\n",
    "    index='month',  # Agrupamos por mes\n",
    "    aggfunc='sum',  # Sumar los ingresos mensuales\n",
    "    margins=True,  # Incluir el total general\n",
    "    margins_name='Total General'  # Nombre para el total general\n",
    ")\n",
    "\n",
    "# Mostrar la tabla dinámica con el total de ingresos por mes y el total general\n",
    "print(income_by_month)\n",
    "\n",
    "print()\n",
    "print()\n",
    "\n",
    "average_income_per_plan = final_data.groupby('plan')['monthly_income'].mean()\n",
    "\n",
    "# Mostrar el resultado\n",
    "print(average_income_per_plan)"
   ]
  },
  {
   "cell_type": "markdown",
   "metadata": {
    "id": "-jtyHzJb0q1I"
   },
   "source": [
    "## Estudia el comportamiento de usuario"
   ]
  },
  {
   "cell_type": "markdown",
   "metadata": {
    "id": "vtW4CJEe0q1J"
   },
   "source": [
    "### Llamadas"
   ]
  },
  {
   "cell_type": "code",
   "execution_count": 31,
   "metadata": {
    "id": "Jf5v5--k0q1J"
   },
   "outputs": [
    {
     "data": {
      "image/png": "[encoded data removed]",
      "text/plain": [
       "<Figure size 800x600 with 1 Axes>"
      ]
     },
     "metadata": {},
     "output_type": "display_data"
    }
   ],
   "source": [
    "# Compara la duración promedio de llamadas por cada plan y por cada mes. Traza un gráfico de barras para visualizarla.\n",
    "\n",
    "# Agrupar por 'plan' y 'month' y calcular la duración promedio de las llamadas\n",
    "avg_duration_per_plan_month = final_data.groupby(['plan', 'month'])['total_minutes'].mean().reset_index()\n",
    "\n",
    "# Configurar el gráfico\n",
    "plt.figure(figsize=(8, 6))\n",
    "\n",
    "# Traza el gráfico de barras usando seaborn\n",
    "sns.barplot(data=avg_duration_per_plan_month, x='month', y='total_minutes', hue='plan')\n",
    "\n",
    "# Añadir títulos y etiquetas\n",
    "plt.title('Duración Promedio de Llamadas por Plan y Mes', fontsize=16)\n",
    "plt.xlabel('Mes', fontsize=12)\n",
    "plt.ylabel('Duración Promedio de Llamadas (minutos)', fontsize=12)\n",
    "plt.xticks(rotation=45)  # Rotar las etiquetas de los meses para mayor claridad\n",
    "plt.legend(title='Plan', fontsize=10)\n",
    "\n",
    "# Mostrar el gráfico\n",
    "plt.tight_layout()\n",
    "plt.show()"
   ]
  },
  {
   "cell_type": "code",
   "execution_count": 39,
   "metadata": {
    "id": "QoLqW1S_0q1J"
   },
   "outputs": [
    {
     "data": {
      "image/png": "[encoded data removed]",
      "text/plain": [
       "<Figure size 800x600 with 1 Axes>"
      ]
     },
     "metadata": {},
     "output_type": "display_data"
    }
   ],
   "source": [
    "# Compara el número de minutos mensuales que necesitan los usuarios de cada plan. Traza un histograma.\n",
    "\n",
    "# Agrupar por 'plan', 'month' y 'user_id' para obtener la duración total de minutos por usuario\n",
    "minutes_per_user_plan = final_data.groupby(['plan', 'month', 'user_id'])['total_minutes'].sum().reset_index()\n",
    "\n",
    "# Configurar el gráfico\n",
    "plt.figure(figsize=(8, 6))\n",
    "\n",
    "# Traza el histograma usando seaborn\n",
    "sns.histplot(data=minutes_per_user_plan, x='total_minutes', hue='plan', kde=True, bins=30)\n",
    "\n",
    "# Añadir títulos y etiquetas\n",
    "plt.title('Distribución de los Minutos Mensuales Necesarios por Usuario y Plan', fontsize=16)\n",
    "plt.xlabel('Minutos Mensuales', fontsize=12)\n",
    "plt.ylabel('Frecuencia', fontsize=12)\n",
    "\n",
    "# Mostrar el gráfico\n",
    "plt.tight_layout()\n",
    "plt.show()"
   ]
  },
  {
   "cell_type": "code",
   "execution_count": 40,
   "metadata": {
    "id": "oSndbAnt0q1K"
   },
   "outputs": [
    {
     "name": "stdout",
     "output_type": "stream",
     "text": [
      "Media de la duración mensual de llamadas: 411.49 minutos\n",
      "Varianza de la duración mensual de llamadas: 48088.30 minutos^2\n"
     ]
    }
   ],
   "source": [
    "# Calcula la media y la varianza de la duración mensual de llamadas.\n",
    "\n",
    "# Agrupar por 'plan', 'month' y 'user_id' para obtener la duración total de minutos por usuario\n",
    "minutes_per_user_plan = final_data.groupby(['plan', 'month', 'user_id'])['total_minutes'].sum().reset_index()\n",
    "\n",
    "# Calcular la media de la duración mensual de las llamadas\n",
    "mean_duration = minutes_per_user_plan['total_minutes'].mean()\n",
    "\n",
    "# Calcular la varianza de la duración mensual de las llamadas\n",
    "variance_duration = minutes_per_user_plan['total_minutes'].var()\n",
    "\n",
    "# Mostrar los resultados\n",
    "print(f\"Media de la duración mensual de llamadas: {mean_duration:.2f} minutos\")\n",
    "print(f\"Varianza de la duración mensual de llamadas: {variance_duration:.2f} minutos^2\")"
   ]
  },
  {
   "cell_type": "code",
   "execution_count": 43,
   "metadata": {
    "id": "nZzoRUKc0q1K"
   },
   "outputs": [
    {
     "data": {
      "image/png": "[encoded data removed]",
      "text/plain": [
       "<Figure size 800x600 with 1 Axes>"
      ]
     },
     "metadata": {},
     "output_type": "display_data"
    },
    {
     "name": "stdout",
     "output_type": "stream",
     "text": [
      "\n",
      "\n",
      "\n"
     ]
    },
    {
     "data": {
      "image/png": "[encoded data removed]",
      "text/plain": [
       "<Figure size 800x600 with 1 Axes>"
      ]
     },
     "metadata": {},
     "output_type": "display_data"
    }
   ],
   "source": [
    "# Traza un diagrama de caja para visualizar la distribución de la duración mensual de llamadas\n",
    "\n",
    "import seaborn as sns\n",
    "import matplotlib.pyplot as plt\n",
    "\n",
    "# Agrupar por 'plan', 'month' y 'user_id' para obtener la duración total de minutos por usuario\n",
    "minutes_per_user_plan = final_data.groupby(['plan', 'month', 'user_id'])['total_minutes'].sum().reset_index()\n",
    "\n",
    "# Configurar el gráfico\n",
    "plt.figure(figsize=(8, 6))\n",
    "\n",
    "# Traza el diagrama de caja (boxplot) usando seaborn\n",
    "sns.boxplot(data=minutes_per_user_plan, x='month', y='total_minutes', hue='plan')\n",
    "\n",
    "# Añadir títulos y etiquetas\n",
    "plt.title('Distribución de la Duración Mensual de Llamadas por Plan', fontsize=16)\n",
    "plt.xlabel('Mes', fontsize=12)\n",
    "plt.ylabel('Duración Total de Llamadas (minutos)', fontsize=12)\n",
    "plt.xticks(rotation=45)  # Rotar las etiquetas de los meses para mejor visualización\n",
    "plt.legend(title='Plan', fontsize=10)\n",
    "\n",
    "# Mostrar el gráfico\n",
    "plt.tight_layout()\n",
    "plt.show()\n",
    "\n",
    "\n",
    "\n",
    "print()\n",
    "print()\n",
    "print()\n",
    "# gráfia extra del conteo de llamadas por usuario por plan. \n",
    "# Agrupar por 'plan', 'month', y 'user_id' para contar el número de llamadas por mes y por plan\n",
    "calls_per_plan_month = final_data.groupby(['plan', 'month'])['calls_count'].sum().reset_index()\n",
    "\n",
    "# Configurar el gráfico de barras\n",
    "plt.figure(figsize=(8, 6))\n",
    "\n",
    "# Traza el gráfico de barras usando seaborn\n",
    "sns.barplot(data=calls_per_plan_month, x='month', y='calls_count', hue='plan')\n",
    "\n",
    "# Añadir títulos y etiquetas\n",
    "plt.title('Número de Llamadas Mensuales por Plan y Mes', fontsize=16)\n",
    "plt.xlabel('Mes', fontsize=12)\n",
    "plt.ylabel('Número de Llamadas', fontsize=12)\n",
    "plt.xticks(rotation=45)  # Rotar las etiquetas de los meses para mejor visualización\n",
    "plt.legend(title='Plan', fontsize=10)\n",
    "\n",
    "# Mostrar el gráfico\n",
    "plt.tight_layout()\n",
    "plt.show()"
   ]
  },
  {
   "cell_type": "markdown",
   "metadata": {
    "id": "r627zBO50q1K"
   },
   "source": [
    "En cuanto a la duración promedio de llamadas podemos ver que tienden a una distribución uniforme tomndo como tope alrededor de los 400 minutos al mes, en cuanto a la distribución de los Minutos Mensuales Necesarios por Usuario y Plan pdemos ver una notable diferencia en cunto a comportamiento por cada plan, para lo susuarios de Surf podemos ver que la media de uso mensual ronda los 400 minutos lo cual es casi el tope de su plan por lo que el plan se aprovecha mejor, y lo susuarios de Ultimate parece que ocupan menos los minutos ya que a pesar de que su media también ronda los 400 minutos mensuales (muy alejado de su tope de 3000 minutos) la frecuencia de uso de estos minutos es casi la mitad de la fecuencia de uso de los usuarios del plan Ultimate. En resumen podemos ver que el promedio de duración de llamadas es similar entre los usuarios sin ebargo hay una notable diferencia en la frecuancia de estas llamdas, ya que los del surf relizan practicamente el doble de llamdas al mes. "
   ]
  },
  {
   "cell_type": "markdown",
   "metadata": {
    "id": "8idKy8Wh0q1L"
   },
   "source": [
    "### Mensajes"
   ]
  },
  {
   "cell_type": "code",
   "execution_count": 45,
   "metadata": {
    "id": "NXLxiTit0q1L"
   },
   "outputs": [
    {
     "data": {
      "image/png": "[encoded data removed]",
      "text/plain": [
       "<Figure size 800x600 with 1 Axes>"
      ]
     },
     "metadata": {},
     "output_type": "display_data"
    }
   ],
   "source": [
    "# Comprara el número de mensajes que tienden a enviar cada mes los usuarios de cada plan\n",
    "\n",
    "# Agrupar por 'plan', 'month', y 'user_id' para contar el número de mensajes por mes y por plan\n",
    "messages_per_plan_month = final_data.groupby(['plan', 'month'])['messages_count'].sum().reset_index()\n",
    "\n",
    "plt.figure(figsize=(8, 6))\n",
    "\n",
    "# Traza el gráfico de barras usando seaborn\n",
    "sns.barplot(data=messages_per_plan_month, x='month', y='messages_count', hue='plan')\n",
    "\n",
    "# Añadir títulos y etiquetas\n",
    "plt.title('Número de Mensajes Enviados por Usuario por Mes y Plan', fontsize=16)\n",
    "plt.xlabel('Mes', fontsize=12)\n",
    "plt.ylabel('Número de Mensajes', fontsize=12)\n",
    "plt.xticks(rotation=45)  # Rotar las etiquetas de los meses para mejor visualización\n",
    "plt.legend(title='Plan', fontsize=10)\n",
    "\n",
    "# Mostrar el gráfico\n",
    "plt.tight_layout()\n",
    "plt.show()"
   ]
  },
  {
   "cell_type": "code",
   "execution_count": 47,
   "metadata": {
    "id": "GRI_R7xF0q1L"
   },
   "outputs": [
    {
     "name": "stdout",
     "output_type": "stream",
     "text": [
      "plan\n",
      "surf        39.980737\n",
      "ultimate    46.455959\n",
      "Name: messages_count, dtype: float64\n"
     ]
    },
    {
     "data": {
      "image/png": "[encoded data removed]",
      "text/plain": [
       "<Figure size 1200x600 with 1 Axes>"
      ]
     },
     "metadata": {},
     "output_type": "display_data"
    }
   ],
   "source": [
    "# Promedio de mensajes por usuario por plan:\n",
    "\n",
    "average_messages_per_user_plan = final_data.groupby('plan')['messages_count'].mean()\n",
    "print(average_messages_per_user_plan)\n",
    "\n",
    "plt.figure(figsize=(12, 6))\n",
    "sns.boxplot(data=final_data, x='plan', y='messages_count')\n",
    "plt.title('Distribución de los Mensajes por Plan', fontsize=16)\n",
    "plt.xlabel('Plan', fontsize=12)\n",
    "plt.ylabel('Número de Mensajes', fontsize=12)\n",
    "plt.show()"
   ]
  },
  {
   "cell_type": "code",
   "execution_count": 49,
   "metadata": {
    "id": "dtFwCGAp0q1M"
   },
   "outputs": [
    {
     "name": "stdout",
     "output_type": "stream",
     "text": [
      "plan\n",
      "surf        80.674847\n",
      "ultimate    84.516129\n",
      "Name: user_id, dtype: float64\n",
      "\n",
      "\n"
     ]
    },
    {
     "data": {
      "image/png": "[encoded data removed]",
      "text/plain": [
       "<Figure size 800x600 with 1 Axes>"
      ]
     },
     "metadata": {},
     "output_type": "display_data"
    }
   ],
   "source": [
    "# Proporción de usuarios activos que envían mensajes\n",
    "\n",
    "active_users = final_data[final_data['messages_count'] > 0].groupby('plan')['user_id'].nunique()\n",
    "total_users = final_data.groupby('plan')['user_id'].nunique()\n",
    "proportion_active_users = active_users / total_users * 100\n",
    "print(proportion_active_users)\n",
    "\n",
    "\n",
    "print()\n",
    "print()\n",
    "\n",
    "# Calcular el número de usuarios únicos por plan\n",
    "users_per_plan = final_data.groupby('plan')['user_id'].nunique().reset_index()\n",
    "\n",
    "# Configurar el gráfico de barras\n",
    "plt.figure(figsize=(8, 6))\n",
    "\n",
    "# Traza el gráfico de barras usando seaborn\n",
    "sns.barplot(data=users_per_plan, x='plan', y='user_id')\n",
    "\n",
    "# Añadir títulos y etiquetas\n",
    "plt.title('Número de Usuarios por Plan', fontsize=16)\n",
    "plt.xlabel('Plan', fontsize=12)\n",
    "plt.ylabel('Número de Usuarios', fontsize=12)\n",
    "\n",
    "# Añadir etiquetas de los datos sobre cada barra\n",
    "for index, value in enumerate(users_per_plan['user_id']):\n",
    "    plt.text(index, value + 10, str(value), ha='center', fontsize=12)\n",
    "\n",
    "# Mostrar el gráfico\n",
    "plt.tight_layout()\n",
    "plt.show()"
   ]
  },
  {
   "cell_type": "markdown",
   "metadata": {
    "id": "390SSL480q1M"
   },
   "source": [
    " Definitivamente hay una diferencia de comportamiento en cuanto a mensajes por usuario por plan, las métricas podrian parecer incluso algo extrañas ya que los promedios de mensajes por suario por plan no estan muy alejados entre sí e incluso parecería que los suarios de ultimate envían más mensajes en prmedio al mes y en proporción son más activos (aunque cabe señalar que los uasuarios de surf aprovechan de mejor forma su plan ya que suelen estar más cerca de su tope mensual cada mes en promedio, mientras que los usuarios de ultimate se quedan por debajo de los mensajes que podrian enviar), sin embargo todo cobra sentido al ver que hay practicamente el doble de susuarios para el plan surf en comparación con el plan ultimate. Y creo que esprescismante esta métrica es la que va a ser más determinante en el comportamiento observado no solo en mensajes si no en llamdas e internet también. "
   ]
  },
  {
   "cell_type": "markdown",
   "metadata": {
    "id": "42YSypXz0q1M"
   },
   "source": [
    "### Internet"
   ]
  },
  {
   "cell_type": "code",
   "execution_count": 50,
   "metadata": {
    "id": "lSuKPtjh0q1M"
   },
   "outputs": [
    {
     "data": {
      "image/png": "[encoded data removed]",
      "text/plain": [
       "<Figure size 800x600 with 1 Axes>"
      ]
     },
     "metadata": {},
     "output_type": "display_data"
    }
   ],
   "source": [
    "# Compara la cantidad de tráfico de Internet consumido por usuarios por plan\n",
    "\n",
    "# Convertir los megabytes a gigabytes y agregar una nueva columna 'total_gb_used'\n",
    "final_data['total_gb_used'] = final_data['total_mb_used'] / 1024\n",
    "\n",
    "# Agrupar por 'plan' y calcular la cantidad total de gigas consumidos por cada plan\n",
    "gb_per_plan = final_data.groupby('plan')['total_gb_used'].sum().reset_index()\n",
    "\n",
    "# Configurar el gráfico de barras\n",
    "plt.figure(figsize=(8, 6))\n",
    "\n",
    "# Traza el gráfico de barras usando seaborn\n",
    "sns.barplot(data=gb_per_plan, x='plan', y='total_gb_used')\n",
    "\n",
    "# Añadir títulos y etiquetas\n",
    "plt.title('Total de Gigas Consumidos por Plan', fontsize=16)\n",
    "plt.xlabel('Plan', fontsize=12)\n",
    "plt.ylabel('Total de Gigas Consumidos', fontsize=12)\n",
    "\n",
    "# Añadir etiquetas de los datos sobre cada barra\n",
    "for index, value in enumerate(gb_per_plan['total_gb_used']):\n",
    "    plt.text(index, value + 5, f'{value:.2f}', ha='center', fontsize=12)\n",
    "\n",
    "# Mostrar el gráfico\n",
    "plt.tight_layout()\n",
    "plt.show()"
   ]
  },
  {
   "cell_type": "code",
   "execution_count": 52,
   "metadata": {
    "id": "wnh8jYXi0q1N"
   },
   "outputs": [
    {
     "data": {
      "image/png": "[encoded data removed]",
      "text/plain": [
       "<Figure size 800x600 with 1 Axes>"
      ]
     },
     "metadata": {},
     "output_type": "display_data"
    },
    {
     "name": "stdout",
     "output_type": "stream",
     "text": [
      "\n",
      "\n"
     ]
    },
    {
     "data": {
      "image/png": "[encoded data removed]",
      "text/plain": [
       "<Figure size 1200x600 with 1 Axes>"
      ]
     },
     "metadata": {},
     "output_type": "display_data"
    }
   ],
   "source": [
    "# Agrupar por 'plan' y calcular el promedio de 'total_gb_used' por usuario\n",
    "average_gb_per_user_plan = final_data.groupby('plan')['total_gb_used'].mean().reset_index()\n",
    "\n",
    "# Configurar el gráfico de barras\n",
    "plt.figure(figsize=(8, 6))\n",
    "\n",
    "# Traza el gráfico de barras usando seaborn\n",
    "sns.barplot(data=average_gb_per_user_plan, x='plan', y='total_gb_used')\n",
    "\n",
    "# Añadir títulos y etiquetas\n",
    "plt.title('Promedio de Gigas Usados por Usuario por Plan', fontsize=16)\n",
    "plt.xlabel('Plan', fontsize=12)\n",
    "plt.ylabel('Promedio de Gigas Usados', fontsize=12)\n",
    "\n",
    "# Añadir etiquetas de los datos sobre cada barra\n",
    "for index, value in enumerate(average_gb_per_user_plan['total_gb_used']):\n",
    "    plt.text(index, value + 0.05, f'{value:.2f}', ha='center', fontsize=12)\n",
    "\n",
    "# Mostrar el gráfico\n",
    "plt.tight_layout()\n",
    "plt.show()\n",
    "\n",
    "\n",
    "print()\n",
    "print()\n",
    "\n",
    "average_gb_per_user_month_plan = final_data.groupby(['month', 'plan'])['total_gb_used'].mean().reset_index()\n",
    "\n",
    "# Configurar el gráfico de barras\n",
    "plt.figure(figsize=(12, 6))\n",
    "\n",
    "# Traza el gráfico de barras usando seaborn\n",
    "sns.barplot(data=average_gb_per_user_month_plan, x='month', y='total_gb_used', hue='plan')\n",
    "\n",
    "# Añadir títulos y etiquetas\n",
    "plt.title('Promedio de Gigas Usados por Usuario por Mes y Plan', fontsize=16)\n",
    "plt.xlabel('Mes', fontsize=12)\n",
    "plt.ylabel('Promedio de Gigas Usados', fontsize=12)\n",
    "plt.xticks(rotation=45)  # Rotar las etiquetas de los meses para mayor claridad\n",
    "\n",
    "# Mostrar el gráfico\n",
    "plt.tight_layout()\n",
    "plt.show()"
   ]
  },
  {
   "cell_type": "code",
   "execution_count": 53,
   "metadata": {
    "id": "5VlyJ9ry0q1N"
   },
   "outputs": [
    {
     "data": {
      "image/png": "[encoded data removed]",
      "text/plain": [
       "<Figure size 1200x600 with 1 Axes>"
      ]
     },
     "metadata": {},
     "output_type": "display_data"
    }
   ],
   "source": [
    "# Comparación de total de gigas consumidos por plan y mes\n",
    "\n",
    "total_gb_per_plan_month = final_data.groupby(['plan', 'month'])['total_gb_used'].sum().reset_index()\n",
    "\n",
    "# Graficar\n",
    "plt.figure(figsize=(12, 6))\n",
    "sns.barplot(data=total_gb_per_plan_month, x='month', y='total_gb_used', hue='plan')\n",
    "plt.title('Total de Gigas Consumidos por Plan y Mes', fontsize=16)\n",
    "plt.xlabel('Mes', fontsize=12)\n",
    "plt.ylabel('Total de Gigas Consumidos', fontsize=12)\n",
    "plt.xticks(rotation=45)\n",
    "plt.tight_layout()\n",
    "plt.show()"
   ]
  },
  {
   "cell_type": "markdown",
   "metadata": {
    "id": "UN9zwuMP0q1N"
   },
   "source": [
    "En primera instancia podemos ver que el promedio de gb usado por cliente por tipo de plan es realmente similar entre sí, este uso manyiene una tendencia uniforme a lo largo del año, nuevamnet sobr el aprovechamiemto de los planes, para los usuarios de surf en promedio su plan se queda corto por 1.28 gb cada mes, mientras que los usuarios de ultimate apenas rebasan la mitad del tope de gigas de su plan, y nuevamnte los datos se diferencian al momento de ver lo gb totales donde la tendencia de que los del surf usen el doble en ste caso de gb se mantine lo que sugiere que es proporcional a la cantidad de usuarios inscritos en el plan "
   ]
  },
  {
   "cell_type": "markdown",
   "metadata": {
    "id": "tCijq3260q1N"
   },
   "source": [
    "## Ingreso"
   ]
  },
  {
   "cell_type": "markdown",
   "metadata": {
    "id": "9nq5IAcy0q1O"
   },
   "source": [
    "Del mismo modo que hemos estudiado el comportamiento de los usuarios, vamos a describir estadísticamente los ingresos de los planes."
   ]
  },
  {
   "cell_type": "code",
   "execution_count": 57,
   "metadata": {
    "id": "tz-dq_V00q1O"
   },
   "outputs": [
    {
     "data": {
      "image/png": "[encoded data removed]",
      "text/plain": [
       "<Figure size 800x600 with 1 Axes>"
      ]
     },
     "metadata": {},
     "output_type": "display_data"
    }
   ],
   "source": [
    "# Calcular el ingreso total anual por plan\n",
    "total_income_per_plan = final_data.groupby('plan')['monthly_income'].sum().reset_index()\n",
    "\n",
    "# Configurar el gráfico de barras\n",
    "plt.figure(figsize=(8, 6))\n",
    "\n",
    "# Traza el gráfico de barras usando seaborn\n",
    "sns.barplot(data=total_income_per_plan, x='plan', y='monthly_income')\n",
    "\n",
    "# Añadir títulos y etiquetas\n",
    "plt.title('Ingreso Total Anual por Plan', fontsize=16)\n",
    "plt.xlabel('Plan', fontsize=12)\n",
    "plt.ylabel('Ingreso Total Anual ($)', fontsize=12)\n",
    "\n",
    "# Añadir etiquetas de los datos sobre cada barra\n",
    "for index, value in enumerate(total_income_per_plan['monthly_income']):\n",
    "    plt.text(index, value + 10, f'{value:.2f}', ha='center', fontsize=12)\n",
    "\n",
    "# Mostrar el gráfico\n",
    "plt.tight_layout()\n",
    "plt.show()"
   ]
  },
  {
   "cell_type": "code",
   "execution_count": 58,
   "metadata": {
    "id": "0Y1v8ZUz0q1P"
   },
   "outputs": [
    {
     "data": {
      "image/png": "[encoded data removed]",
      "text/plain": [
       "<Figure size 1200x600 with 1 Axes>"
      ]
     },
     "metadata": {},
     "output_type": "display_data"
    }
   ],
   "source": [
    "# Calcular el total de ingresos por mes y plan\n",
    "total_income_per_month_plan = final_data.groupby(['month', 'plan'])['monthly_income'].sum().reset_index()\n",
    "\n",
    "# Configurar el gráfico de barras\n",
    "plt.figure(figsize=(12, 6))\n",
    "\n",
    "# Traza el gráfico de barras usando seaborn\n",
    "sns.barplot(data=total_income_per_month_plan, x='month', y='monthly_income', hue='plan')\n",
    "\n",
    "# Añadir títulos y etiquetas\n",
    "plt.title('Total de Ingreso Mensual por Plan', fontsize=16)\n",
    "plt.xlabel('Mes', fontsize=12)\n",
    "plt.ylabel('Total de Ingreso Mensual ($)', fontsize=12)\n",
    "plt.xticks(rotation=45)  # Rotar las etiquetas de los meses para mayor claridad\n",
    "\n",
    "# Mostrar el gráfico\n",
    "plt.tight_layout()\n",
    "plt.show()"
   ]
  },
  {
   "cell_type": "code",
   "execution_count": 59,
   "metadata": {
    "id": "bYmwxyVh0q1P"
   },
   "outputs": [
    {
     "data": {
      "image/png": "[encoded data removed]",
      "text/plain": [
       "<Figure size 1200x600 with 1 Axes>"
      ]
     },
     "metadata": {},
     "output_type": "display_data"
    }
   ],
   "source": [
    "# cuanto pagan mensualmento los usuarios de cada plan \n",
    "\n",
    "# Agrupar por 'plan', 'month' y 'user_id', y obtener el valor de 'monthly_income' por usuario\n",
    "payment_per_user_plan_month = final_data.groupby(['plan', 'month', 'user_id'])['monthly_income'].sum().reset_index()\n",
    "\n",
    "# Configurar el gráfico de barras\n",
    "plt.figure(figsize=(12, 6))\n",
    "\n",
    "# Traza el gráfico de barras usando seaborn\n",
    "sns.barplot(data=payment_per_user_plan_month, x='month', y='monthly_income', hue='plan')\n",
    "\n",
    "# Añadir títulos y etiquetas\n",
    "plt.title('Pago Mensual por Usuario y Plan', fontsize=16)\n",
    "plt.xlabel('Mes', fontsize=12)\n",
    "plt.ylabel('Pago Mensual ($)', fontsize=12)\n",
    "plt.xticks(rotation=45)  # Rotar las etiquetas de los meses para mejor visualización\n",
    "\n",
    "# Mostrar el gráfico\n",
    "plt.tight_layout()\n",
    "plt.show()"
   ]
  },
  {
   "cell_type": "markdown",
   "metadata": {
    "id": "KAFidcXZ0q1P"
   },
   "source": [
    "En primera instancia llama mi atención que el plan surf genera algo cercano al doble de lo que genera el plan ultimate aunque es un buen ingreso considerano qu el plan surf tiene practicamnte el doble de suscriptores. Tambén algo interesante a destacar es que el ingreso es incremental con coforme avanza el año, y esta tendencia tambien se ve reflejada en el uso incremental de lo que ofrecen los planes (gigas, mensajes y llamadas), me gustaria saber si este comportamiento es ciclico y cada año vemos una tendencia similar o por el contrario es una tendencia meramente asecendente conforme pasan los años. Tambien cabe resaltar en cuanto a aprovechamiento que los usuarios de ultimate no suelen pagar más nada más allá de su tarifa mensual, mientras que para los usaurios de surf la mayoría termina pagando el doble o más de lo que inicialmente estaba dispuesto a pagar, entonces podemos ver que para los usuarios del plan surf por lo general les queda corto en todos los servicios y a los ultimate les sobra capacidad en todos los servicios. "
   ]
  },
  {
   "cell_type": "markdown",
   "metadata": {
    "id": "ajJ7VKeI0q1Q"
   },
   "source": [
    "## Prueba las hipótesis estadísticas"
   ]
  },
  {
   "cell_type": "markdown",
   "metadata": {
    "id": "AdXAZ-yL0q1Q"
   },
   "source": [
    "Hipótesis nula (H₀): No hay diferencia en los ingresos promedio entre los usuarios de los planes Ultimate y Surf. Es decir, las medias de ambos planes son iguales.\n",
    "\n",
    "Hipótesis alternativa (H₁): Hay una diferencia en los ingresos promedio entre los usuarios de los planes Ultimate y Surf. Es decir, las medias de los dos planes son diferentes."
   ]
  },
  {
   "cell_type": "code",
   "execution_count": null,
   "metadata": {
    "id": "nFoPNlPq0q1R"
   },
   "outputs": [
    {
     "name": "stdout",
     "output_type": "stream",
     "text": [
      "Promedio de Ingreso para el Plan Ultimate: $72.08\n",
      "Promedio de Ingreso para el Plan Surf: $55.21\n",
      "T-Statistic: 8.73625363314156\n",
      "P-Value: 4.605913705623888e-18\n",
      "Rechazamos la hipótesis nula: Hay una diferencia significativa en los ingresos promedio entre los planes.\n"
     ]
    }
   ],
   "source": [
    "# Prueba las hipótesis\n",
    "\n",
    "# Filtrar los ingresos de los usuarios de cada plan\n",
    "ultimate_income = final_data[final_data['plan'] == 'ultimate']['monthly_income']\n",
    "surf_income = final_data[final_data['plan'] == 'surf']['monthly_income']\n",
    "\n",
    "# Calcular los promedios de ingresos para cada plan\n",
    "mean_ultimate_income = ultimate_income.mean()\n",
    "mean_surf_income = surf_income.mean()\n",
    "\n",
    "# Imprimir los promedios de ingresos de cada plan\n",
    "print(f\"Promedio de Ingreso para el Plan Ultimate: ${mean_ultimate_income:.2f}\")\n",
    "print(f\"Promedio de Ingreso para el Plan Surf: ${mean_surf_income:.2f}\")\n",
    "\n",
    "# Realizar la prueba t para muestras independientes\n",
    "t_stat, p_value = stats.ttest_ind(ultimate_income, surf_income)\n",
    "\n",
    "# Definir el valor alfa\n",
    "alpha = 0.05\n",
    "\n",
    "# Imprimir los resultados de la prueba\n",
    "print(f\"T-Statistic: {t_stat}\")\n",
    "print(f\"P-Value: {p_value}\")\n",
    "\n",
    "# Determinar si rechazamos o no la hipótesis nula\n",
    "if p_value < alpha:\n",
    "    print(\"Rechazamos la hipótesis nula: Hay una diferencia significativa en los ingresos promedio entre los planes.\")\n",
    "else:\n",
    "    print(\"No rechazamos la hipótesis nula: No hay diferencia significativa en los ingresos promedio entre los planes.\")"
   ]
  },
  {
   "cell_type": "markdown",
   "metadata": {
    "id": "tCcAruM60q1R"
   },
   "source": [
    "Probamos la hipótesis de que el ingreso promedio de los usuarios del área NY-NJ es diferente al de los usuarios de otras regiones."
   ]
  },
  {
   "cell_type": "markdown",
   "metadata": {
    "id": "LsBgitqj0q1R"
   },
   "source": [
    "Hipótesis nula (H₀): El ingreso promedio de los usuarios de NY-NJ es igual al ingreso promedio de los usuarios de otras regiones.\n",
    "\n",
    "Hipótesis alternativa (H₁): El ingreso promedio de los usuarios de NY-NJ es diferente al ingreso promedio de los usuarios de otras regiones."
   ]
  },
  {
   "cell_type": "code",
   "execution_count": null,
   "metadata": {
    "id": "Cqcj7wrZ0q1S"
   },
   "outputs": [
    {
     "name": "stdout",
     "output_type": "stream",
     "text": [
      "Promedio de Ingreso para los usuarios de NY-NJ: $55.09\n",
      "Promedio de Ingreso para los usuarios de otras regiones: $61.60\n",
      "T-Statistic: -2.6490816269551276\n",
      "P-Value: 0.008127379299910744\n",
      "Rechazamos la hipótesis nula: Hay una diferencia significativa en los ingresos promedio entre NY-NJ y otras regiones.\n"
     ]
    }
   ],
   "source": [
    "# Prueba las hipótesis\n",
    "\n",
    "# Extraer la región de la columna 'city' (en este caso, 'NY-NJ' para los usuarios de la zona)\n",
    "final_data_with_city['region'] = final_data_with_city['city'].apply(\n",
    "    lambda x: 'NY-NJ' if 'New York-Newark-Jersey City, NY-NJ' in x else 'Other'\n",
    ")\n",
    "\n",
    "# Filtrar los ingresos de los usuarios de NY-NJ y otras regiones\n",
    "ny_nj_income = final_data_with_city[final_data_with_city['region'] == 'NY-NJ']['monthly_income']\n",
    "other_region_income = final_data_with_city[final_data_with_city['region'] == 'Other']['monthly_income']\n",
    "\n",
    "# Calcular los promedios de ingresos para cada grupo\n",
    "mean_ny_nj_income = ny_nj_income.mean()\n",
    "mean_other_region_income = other_region_income.mean()\n",
    "\n",
    "# Imprimir los promedios de ingresos de cada grupo\n",
    "print(f\"Promedio de Ingreso para los usuarios de NY-NJ: ${mean_ny_nj_income:.2f}\")\n",
    "print(f\"Promedio de Ingreso para los usuarios de otras regiones: ${mean_other_region_income:.2f}\")\n",
    "\n",
    "# Realizar la prueba t para muestras independientes\n",
    "t_stat, p_value = stats.ttest_ind(ny_nj_income, other_region_income)\n",
    "\n",
    "# Definir el valor alfa\n",
    "alpha = 0.05\n",
    "\n",
    "# Imprimir los resultados de la prueba\n",
    "print(f\"T-Statistic: {t_stat}\")\n",
    "print(f\"P-Value: {p_value}\")\n",
    "\n",
    "# Determinar si rechazamos o no la hipótesis nula\n",
    "if p_value < alpha:\n",
    "    print(\"Rechazamos la hipótesis nula: Hay una diferencia significativa en los ingresos promedio entre NY-NJ y otras regiones.\")\n",
    "else:\n",
    "    print(\"No rechazamos la hipótesis nula: No hay diferencia significativa en los ingresos promedio entre NY-NJ y otras regiones.\")\n"
   ]
  },
  {
   "cell_type": "markdown",
   "metadata": {
    "id": "bbTR8UQO0q1T"
   },
   "source": [
    "## Conclusión general\n",
    "\n",
    "En este análisis, se observa que los usuarios del plan Surf tienden a aprovechar mejor las capacidades de su tarifa, especialmente en términos de llamadas, donde el promedio de minutos utilizados se acerca al límite mensual de su plan. Por otro lado, los usuarios de Ultimate utilizan una fracción mucho menor de su tope de minutos. y a pesar de tener más capacidad, realizan menos llamadas que los usuarios de Surf. En cuanto a los mensajes, los usuarios de ambos planes parecen enviar cantidades similares, pero los usuarios de Surf son más activos, lo cual puede explicarse por el mayor número de suscriptores en este plan, lo que hace que el número de mensajes sea más alto en términos absolutos. En términos de internet, la diferencia en el uso de gigas no es tan notable por usuario, pero el uso total de datos muestra que los usuarios de Surf tienden a superar a los de Ultimate, en parte por la mayor base de clientes. Finalmente, en cuanto al ingreso, a pesar de que el plan Surf genera más ingresos debido a la mayor cantidad de usuarios, es evidente que los usuarios de este plan suelen pagar más allá de su tarifa mensual, lo que refleja que este plan no cubre completamente las necesidades de los usuarios, mientras que los usuarios de Ultimate apenas superan su cuota mensual. Estos resultados sugieren que el plan Surf está más ajustado a las necesidades de los usuarios, mientras que el plan Ultimate tiene un margen de capacidad sin aprovechar, lo cual debe ser considerado por el departamento comercial al evaluar las tarifas para ajustes en el presupuesto de publicidad.\n",
    "\n",
    "A modo de recomendación persoanl y basado en los datos analizados, recomiendo la creación de un plan intermedio entre los actuales Surf y Ultimate. Actualmente, los usuarios de Surf, aunque disfrutan de un costo mensual bajo, a menudo se ven limitados por los topes de minutos, mensajes y datos, lo que los lleva a pagar más de lo esperado para cubrir sus necesidades. Por otro lado, los usuarios de Ultimate tienen una tarifa más alta y una gran capacidad de uso sin aprovechar, lo que sugiere que hay una brecha entre lo que los usuarios realmente necesitan y lo que el plan les ofrece. Un plan intermedio podría ofrecer más minutos, mensajes y datos que el plan Surf, pero a un costo menor que el plan Ultimate, ayudando a reducir el desajuste entre las necesidades de los usuarios y los servicios que realmente consumen. Este plan podría atraer a aquellos usuarios que actualmente se sienten limitados por Surf, pero no necesitan la capacidad completa de Ultimate. Además, esto podría aumentar los ingresos al atraer a un segmento de clientes más amplio, satisfechos con un costo más razonable y un paquete más adecuado a sus hábitos de consumo. Tomando como precio de introducción de $50 mensuales que es cercano al promedio de lo que ya pagan los uasuarios de surf mes a mes. "
   ]
  }
 ],
 "metadata": {
  "ExecuteTimeLog": [
   {
    "duration": 828,
    "start_time": "2021-11-16T09:21:11.304Z"
   },
   {
    "duration": 893,
    "start_time": "2021-11-16T09:21:17.728Z"
   },
   {
    "duration": 1150,
    "start_time": "2021-11-16T09:21:29.568Z"
   },
   {
    "duration": 3,
    "start_time": "2021-11-16T09:24:14.495Z"
   },
   {
    "duration": 120,
    "start_time": "2021-11-16T09:24:46.630Z"
   },
   {
    "duration": 3,
    "start_time": "2021-11-16T09:28:27.882Z"
   },
   {
    "duration": 4,
    "start_time": "2021-11-16T09:29:54.281Z"
   },
   {
    "duration": 3,
    "start_time": "2021-11-16T09:30:45.936Z"
   },
   {
    "duration": 4,
    "start_time": "2021-11-16T09:31:06.300Z"
   },
   {
    "duration": 113,
    "start_time": "2021-11-16T09:31:37.208Z"
   },
   {
    "duration": 143,
    "start_time": "2021-11-16T09:31:48.656Z"
   },
   {
    "duration": 98,
    "start_time": "2021-11-16T09:31:55.678Z"
   },
   {
    "duration": 3,
    "start_time": "2021-11-16T09:32:08.535Z"
   },
   {
    "duration": 111,
    "start_time": "2021-11-16T09:32:10.120Z"
   },
   {
    "duration": 3,
    "start_time": "2021-11-16T09:32:15.732Z"
   },
   {
    "duration": 4,
    "start_time": "2021-11-16T09:32:29.423Z"
   },
   {
    "duration": 3,
    "start_time": "2021-11-16T10:03:03.074Z"
   },
   {
    "duration": 3,
    "start_time": "2021-11-16T10:10:01.288Z"
   },
   {
    "duration": 3,
    "start_time": "2021-11-16T10:10:46.923Z"
   },
   {
    "duration": 121,
    "start_time": "2021-11-16T10:37:46.494Z"
   },
   {
    "duration": 125,
    "start_time": "2021-11-16T10:38:20.632Z"
   },
   {
    "duration": 112,
    "start_time": "2021-11-16T10:46:53.001Z"
   },
   {
    "duration": 110,
    "start_time": "2021-11-16T10:48:25.775Z"
   },
   {
    "duration": 3,
    "start_time": "2021-11-16T10:50:18.720Z"
   },
   {
    "duration": 4,
    "start_time": "2021-11-16T10:50:37.649Z"
   },
   {
    "duration": 2,
    "start_time": "2021-11-16T10:50:51.884Z"
   },
   {
    "duration": 3,
    "start_time": "2021-11-16T10:51:56.237Z"
   },
   {
    "duration": 101,
    "start_time": "2021-11-16T10:53:13.791Z"
   },
   {
    "duration": 3,
    "start_time": "2021-11-16T10:55:59.186Z"
   },
   {
    "duration": 3,
    "start_time": "2021-11-16T10:56:10.751Z"
   },
   {
    "duration": 3,
    "start_time": "2021-11-16T10:56:49.038Z"
   },
   {
    "duration": 3,
    "start_time": "2021-11-16T10:56:49.174Z"
   },
   {
    "duration": 4,
    "start_time": "2021-11-16T10:56:49.414Z"
   },
   {
    "duration": 3,
    "start_time": "2021-11-16T10:56:49.680Z"
   },
   {
    "duration": 3,
    "start_time": "2021-11-16T10:56:50.370Z"
   },
   {
    "duration": 114,
    "start_time": "2021-11-16T10:59:34.518Z"
   },
   {
    "duration": 3,
    "start_time": "2021-11-16T11:01:41.201Z"
   },
   {
    "duration": 116,
    "start_time": "2021-11-16T11:01:48.754Z"
   },
   {
    "duration": 3,
    "start_time": "2021-11-16T11:02:16.685Z"
   },
   {
    "duration": 3,
    "start_time": "2021-11-16T11:02:19.479Z"
   },
   {
    "duration": 3,
    "start_time": "2021-11-16T11:02:47.067Z"
   },
   {
    "duration": 3,
    "start_time": "2021-11-16T11:02:49.353Z"
   },
   {
    "duration": 3,
    "start_time": "2021-11-16T11:03:07.835Z"
   },
   {
    "duration": 3,
    "start_time": "2021-11-16T11:03:07.953Z"
   },
   {
    "duration": 112,
    "start_time": "2021-11-16T11:07:52.072Z"
   },
   {
    "duration": 187,
    "start_time": "2021-11-16T11:09:23.468Z"
   },
   {
    "duration": 4,
    "start_time": "2021-11-16T11:10:01.455Z"
   },
   {
    "duration": 3,
    "start_time": "2021-11-16T11:10:05.069Z"
   },
   {
    "duration": 4,
    "start_time": "2021-11-16T11:10:13.376Z"
   },
   {
    "duration": 3,
    "start_time": "2021-11-16T11:10:14.434Z"
   },
   {
    "duration": 3,
    "start_time": "2021-11-16T11:10:22.853Z"
   },
   {
    "duration": 4,
    "start_time": "2021-11-16T11:27:29.279Z"
   },
   {
    "duration": 4,
    "start_time": "2021-11-16T11:29:08.919Z"
   },
   {
    "duration": 118,
    "start_time": "2021-11-16T11:29:46.703Z"
   },
   {
    "duration": 437,
    "start_time": "2021-11-16T11:36:02.181Z"
   },
   {
    "duration": 157,
    "start_time": "2021-11-16T11:36:14.388Z"
   },
   {
    "duration": 207,
    "start_time": "2021-11-16T11:47:15.898Z"
   },
   {
    "duration": 3,
    "start_time": "2021-11-16T11:53:52.092Z"
   },
   {
    "duration": 3,
    "start_time": "2021-11-16T11:53:52.236Z"
   },
   {
    "duration": 3,
    "start_time": "2021-11-16T11:59:12.005Z"
   },
   {
    "duration": 112,
    "start_time": "2021-11-16T12:00:33.446Z"
   },
   {
    "duration": 3,
    "start_time": "2021-11-16T12:02:14.453Z"
   },
   {
    "duration": 3,
    "start_time": "2021-11-16T12:02:39.512Z"
   },
   {
    "duration": 106,
    "start_time": "2021-11-16T12:03:03.460Z"
   },
   {
    "duration": 3,
    "start_time": "2021-11-17T20:37:21.139Z"
   },
   {
    "duration": 3,
    "start_time": "2021-11-17T20:37:22.229Z"
   },
   {
    "duration": 3,
    "start_time": "2021-11-17T20:38:38.806Z"
   },
   {
    "duration": 3,
    "start_time": "2021-11-17T20:38:41.958Z"
   },
   {
    "duration": 3,
    "start_time": "2021-11-17T20:43:46.551Z"
   },
   {
    "duration": 4,
    "start_time": "2021-11-17T20:58:21.835Z"
   },
   {
    "duration": 3,
    "start_time": "2021-11-17T20:59:21.872Z"
   },
   {
    "duration": 4,
    "start_time": "2021-11-17T20:59:45.352Z"
   },
   {
    "duration": 4,
    "start_time": "2021-11-17T20:59:49.646Z"
   },
   {
    "duration": 159,
    "start_time": "2021-11-17T21:02:26.949Z"
   },
   {
    "duration": 3,
    "start_time": "2021-11-17T21:03:53.461Z"
   },
   {
    "duration": 3,
    "start_time": "2021-11-17T21:03:53.694Z"
   },
   {
    "duration": 3,
    "start_time": "2021-11-17T21:05:28.145Z"
   },
   {
    "duration": 116,
    "start_time": "2021-11-17T21:05:57.787Z"
   },
   {
    "duration": 3,
    "start_time": "2021-11-17T21:06:37.993Z"
   },
   {
    "duration": 3,
    "start_time": "2021-11-17T21:06:38.261Z"
   },
   {
    "duration": 3,
    "start_time": "2021-11-17T21:11:54.358Z"
   },
   {
    "duration": 3,
    "start_time": "2021-11-17T21:12:43.846Z"
   },
   {
    "duration": 4,
    "start_time": "2021-11-17T21:13:08.773Z"
   },
   {
    "duration": 3,
    "start_time": "2021-11-17T21:14:44.441Z"
   },
   {
    "duration": 3,
    "start_time": "2021-11-17T21:15:42.059Z"
   },
   {
    "duration": 4,
    "start_time": "2021-11-17T21:15:51.995Z"
   },
   {
    "duration": 3,
    "start_time": "2021-11-17T21:15:53.923Z"
   },
   {
    "duration": 3,
    "start_time": "2021-11-17T21:15:55.282Z"
   },
   {
    "duration": 3,
    "start_time": "2021-11-17T21:16:28.492Z"
   },
   {
    "duration": 3,
    "start_time": "2021-11-17T21:16:32.603Z"
   },
   {
    "duration": 3,
    "start_time": "2021-11-17T21:17:06.941Z"
   },
   {
    "duration": 98,
    "start_time": "2021-11-17T21:18:05.733Z"
   },
   {
    "duration": 4,
    "start_time": "2021-11-17T21:21:35.255Z"
   },
   {
    "duration": 3,
    "start_time": "2021-11-17T21:21:37.804Z"
   },
   {
    "duration": 4,
    "start_time": "2021-11-17T21:23:06.071Z"
   },
   {
    "duration": 3,
    "start_time": "2021-11-17T21:23:24.799Z"
   },
   {
    "duration": 3,
    "start_time": "2021-11-17T21:23:32.591Z"
   },
   {
    "duration": 98,
    "start_time": "2021-11-17T21:28:31.559Z"
   },
   {
    "duration": 3,
    "start_time": "2021-11-17T21:28:45.448Z"
   },
   {
    "duration": 3,
    "start_time": "2021-11-17T21:29:17.303Z"
   },
   {
    "duration": 3,
    "start_time": "2021-11-17T21:29:29.617Z"
   },
   {
    "duration": 3,
    "start_time": "2021-11-17T21:29:32.681Z"
   },
   {
    "duration": 3,
    "start_time": "2021-11-17T21:36:11.474Z"
   },
   {
    "duration": 3,
    "start_time": "2021-11-17T21:36:14.791Z"
   },
   {
    "duration": 3,
    "start_time": "2021-11-17T21:36:53.943Z"
   },
   {
    "duration": 3,
    "start_time": "2021-11-17T21:36:56.165Z"
   },
   {
    "duration": 4,
    "start_time": "2021-11-17T21:37:16.590Z"
   },
   {
    "duration": 3,
    "start_time": "2021-11-17T21:37:22.702Z"
   },
   {
    "duration": 4,
    "start_time": "2021-11-17T21:38:03.479Z"
   },
   {
    "duration": 3,
    "start_time": "2021-11-17T21:38:08.601Z"
   },
   {
    "duration": 3,
    "start_time": "2021-11-17T21:38:12.928Z"
   },
   {
    "duration": 3,
    "start_time": "2021-11-17T21:38:48.896Z"
   },
   {
    "duration": 2,
    "start_time": "2021-11-17T21:38:49.171Z"
   },
   {
    "duration": 4,
    "start_time": "2021-11-17T21:39:57.889Z"
   },
   {
    "duration": 3,
    "start_time": "2021-11-17T21:39:58.057Z"
   },
   {
    "duration": 3,
    "start_time": "2021-11-17T21:41:20.108Z"
   },
   {
    "duration": 3,
    "start_time": "2021-11-17T21:41:20.629Z"
   },
   {
    "duration": 3,
    "start_time": "2021-11-17T21:42:49.136Z"
   },
   {
    "duration": 3,
    "start_time": "2021-11-17T21:43:15.137Z"
   },
   {
    "duration": 4,
    "start_time": "2021-11-17T21:43:16.766Z"
   },
   {
    "duration": 4,
    "start_time": "2021-11-17T21:43:31.711Z"
   },
   {
    "duration": 3,
    "start_time": "2021-11-17T21:43:36.312Z"
   },
   {
    "duration": 4,
    "start_time": "2021-11-17T21:45:08.825Z"
   },
   {
    "duration": 4,
    "start_time": "2021-11-17T21:45:10.119Z"
   },
   {
    "duration": 4,
    "start_time": "2021-11-17T21:45:13.748Z"
   },
   {
    "duration": 3,
    "start_time": "2021-11-17T21:45:22.219Z"
   },
   {
    "duration": 3,
    "start_time": "2021-11-17T21:45:33.412Z"
   },
   {
    "duration": 2,
    "start_time": "2021-11-17T21:46:01.885Z"
   },
   {
    "duration": 3,
    "start_time": "2021-11-17T21:46:03.628Z"
   },
   {
    "duration": 107,
    "start_time": "2021-11-17T21:47:32.512Z"
   },
   {
    "duration": 103,
    "start_time": "2021-11-17T21:50:36.243Z"
   },
   {
    "duration": 3,
    "start_time": "2021-11-18T06:28:31.440Z"
   },
   {
    "duration": 3,
    "start_time": "2021-11-18T06:29:00.168Z"
   },
   {
    "duration": 3,
    "start_time": "2021-11-18T06:31:27.008Z"
   },
   {
    "duration": 2,
    "start_time": "2021-11-18T06:35:34.288Z"
   },
   {
    "duration": 2,
    "start_time": "2021-11-18T06:38:04.527Z"
   },
   {
    "duration": 7,
    "start_time": "2024-11-19T19:03:13.348Z"
   },
   {
    "duration": 154,
    "start_time": "2024-11-19T19:06:41.412Z"
   },
   {
    "duration": 2654,
    "start_time": "2024-11-19T19:06:49.120Z"
   },
   {
    "duration": 387,
    "start_time": "2024-11-19T19:06:54.604Z"
   },
   {
    "duration": 5,
    "start_time": "2024-11-19T19:11:01.543Z"
   },
   {
    "duration": 62,
    "start_time": "2024-11-19T19:11:43.787Z"
   },
   {
    "duration": 3,
    "start_time": "2024-11-19T19:18:19.158Z"
   },
   {
    "duration": 61,
    "start_time": "2024-11-19T19:18:44.586Z"
   },
   {
    "duration": 61,
    "start_time": "2024-11-19T19:20:02.588Z"
   },
   {
    "duration": 3,
    "start_time": "2024-11-19T19:20:57.786Z"
   },
   {
    "duration": 67,
    "start_time": "2024-11-19T19:27:12.696Z"
   },
   {
    "duration": 65,
    "start_time": "2024-11-19T19:28:04.569Z"
   },
   {
    "duration": 137,
    "start_time": "2024-11-19T19:28:16.905Z"
   },
   {
    "duration": 60,
    "start_time": "2024-11-19T19:37:35.925Z"
   },
   {
    "duration": 4,
    "start_time": "2024-11-19T19:39:31.581Z"
   },
   {
    "duration": 62,
    "start_time": "2024-11-19T19:57:49.291Z"
   },
   {
    "duration": 70,
    "start_time": "2024-11-19T19:59:18.995Z"
   },
   {
    "duration": 60,
    "start_time": "2024-11-19T20:08:06.459Z"
   },
   {
    "duration": 839,
    "start_time": "2024-11-19T20:09:49.521Z"
   },
   {
    "duration": 599,
    "start_time": "2024-11-19T20:09:50.362Z"
   },
   {
    "duration": 0,
    "start_time": "2024-11-19T20:09:50.964Z"
   },
   {
    "duration": 0,
    "start_time": "2024-11-19T20:09:50.965Z"
   },
   {
    "duration": 0,
    "start_time": "2024-11-19T20:09:50.967Z"
   },
   {
    "duration": 0,
    "start_time": "2024-11-19T20:09:50.968Z"
   },
   {
    "duration": 0,
    "start_time": "2024-11-19T20:09:50.969Z"
   },
   {
    "duration": 0,
    "start_time": "2024-11-19T20:09:50.970Z"
   },
   {
    "duration": 0,
    "start_time": "2024-11-19T20:09:50.971Z"
   },
   {
    "duration": 0,
    "start_time": "2024-11-19T20:09:50.972Z"
   },
   {
    "duration": 0,
    "start_time": "2024-11-19T20:09:50.973Z"
   },
   {
    "duration": 0,
    "start_time": "2024-11-19T20:09:50.974Z"
   },
   {
    "duration": 0,
    "start_time": "2024-11-19T20:09:50.975Z"
   },
   {
    "duration": 0,
    "start_time": "2024-11-19T20:09:50.977Z"
   },
   {
    "duration": 0,
    "start_time": "2024-11-19T20:09:50.978Z"
   },
   {
    "duration": 0,
    "start_time": "2024-11-19T20:09:50.979Z"
   },
   {
    "duration": 0,
    "start_time": "2024-11-19T20:09:50.981Z"
   },
   {
    "duration": 0,
    "start_time": "2024-11-19T20:09:50.984Z"
   },
   {
    "duration": 0,
    "start_time": "2024-11-19T20:09:50.985Z"
   },
   {
    "duration": 0,
    "start_time": "2024-11-19T20:09:50.986Z"
   },
   {
    "duration": 0,
    "start_time": "2024-11-19T20:09:50.987Z"
   },
   {
    "duration": 0,
    "start_time": "2024-11-19T20:09:50.988Z"
   },
   {
    "duration": 0,
    "start_time": "2024-11-19T20:09:50.989Z"
   },
   {
    "duration": 0,
    "start_time": "2024-11-19T20:09:50.990Z"
   },
   {
    "duration": 0,
    "start_time": "2024-11-19T20:09:51.032Z"
   },
   {
    "duration": 0,
    "start_time": "2024-11-19T20:09:51.034Z"
   },
   {
    "duration": 0,
    "start_time": "2024-11-19T20:09:51.035Z"
   },
   {
    "duration": 0,
    "start_time": "2024-11-19T20:09:51.036Z"
   },
   {
    "duration": 10,
    "start_time": "2024-11-19T20:10:47.217Z"
   },
   {
    "duration": 14,
    "start_time": "2024-11-19T20:11:43.293Z"
   },
   {
    "duration": 12,
    "start_time": "2024-11-19T20:12:50.371Z"
   },
   {
    "duration": 226,
    "start_time": "2024-11-19T20:22:52.299Z"
   },
   {
    "duration": 174,
    "start_time": "2024-11-19T20:24:32.827Z"
   },
   {
    "duration": 171,
    "start_time": "2024-11-19T20:25:25.049Z"
   },
   {
    "duration": 7,
    "start_time": "2024-11-19T20:32:10.032Z"
   },
   {
    "duration": 10,
    "start_time": "2024-11-19T20:32:33.857Z"
   },
   {
    "duration": 10,
    "start_time": "2024-11-19T20:34:21.672Z"
   },
   {
    "duration": 23,
    "start_time": "2024-11-19T20:38:02.149Z"
   },
   {
    "duration": 442,
    "start_time": "2024-11-19T20:39:26.615Z"
   },
   {
    "duration": 5,
    "start_time": "2024-11-19T20:39:45.157Z"
   },
   {
    "duration": 16,
    "start_time": "2024-11-19T20:43:00.859Z"
   },
   {
    "duration": 6,
    "start_time": "2024-11-19T20:54:12.972Z"
   },
   {
    "duration": 27,
    "start_time": "2024-11-19T20:56:31.204Z"
   },
   {
    "duration": 17,
    "start_time": "2024-11-19T20:56:46.587Z"
   },
   {
    "duration": 23,
    "start_time": "2024-11-19T20:57:14.657Z"
   },
   {
    "duration": 4,
    "start_time": "2024-11-19T21:09:58.170Z"
   },
   {
    "duration": 13,
    "start_time": "2024-11-19T21:11:05.275Z"
   },
   {
    "duration": 12,
    "start_time": "2024-11-19T21:12:47.010Z"
   },
   {
    "duration": 14,
    "start_time": "2024-11-19T21:13:13.449Z"
   },
   {
    "duration": 159,
    "start_time": "2024-11-20T23:28:49.314Z"
   },
   {
    "duration": 2748,
    "start_time": "2024-11-20T23:29:09.744Z"
   },
   {
    "duration": 233,
    "start_time": "2024-11-20T23:29:13.252Z"
   },
   {
    "duration": 25,
    "start_time": "2024-11-20T23:29:20.080Z"
   },
   {
    "duration": 6,
    "start_time": "2024-11-20T23:29:25.597Z"
   },
   {
    "duration": 18,
    "start_time": "2024-11-20T23:29:36.117Z"
   },
   {
    "duration": 6,
    "start_time": "2024-11-20T23:29:40.661Z"
   },
   {
    "duration": 12,
    "start_time": "2024-11-20T23:29:46.096Z"
   },
   {
    "duration": 6,
    "start_time": "2024-11-20T23:29:51.262Z"
   },
   {
    "duration": 5,
    "start_time": "2024-11-20T23:31:34.316Z"
   },
   {
    "duration": 7,
    "start_time": "2024-11-20T23:35:17.410Z"
   },
   {
    "duration": 7,
    "start_time": "2024-11-20T23:35:58.374Z"
   },
   {
    "duration": 8,
    "start_time": "2024-11-20T23:39:39.814Z"
   },
   {
    "duration": 251,
    "start_time": "2024-11-20T23:44:17.243Z"
   },
   {
    "duration": 181,
    "start_time": "2024-11-20T23:44:52.761Z"
   },
   {
    "duration": 169,
    "start_time": "2024-11-20T23:45:55.840Z"
   },
   {
    "duration": 170,
    "start_time": "2024-11-20T23:46:23.865Z"
   },
   {
    "duration": 294,
    "start_time": "2024-11-20T23:46:44.899Z"
   },
   {
    "duration": 27,
    "start_time": "2024-11-20T23:48:42.555Z"
   },
   {
    "duration": 27,
    "start_time": "2024-11-20T23:49:02.282Z"
   },
   {
    "duration": 7,
    "start_time": "2024-11-20T23:51:01.850Z"
   },
   {
    "duration": 9,
    "start_time": "2024-11-20T23:51:13.241Z"
   },
   {
    "duration": 7,
    "start_time": "2024-11-20T23:54:30.908Z"
   },
   {
    "duration": 413,
    "start_time": "2024-11-20T23:58:25.252Z"
   },
   {
    "duration": 23,
    "start_time": "2024-11-20T23:58:58.944Z"
   },
   {
    "duration": 25,
    "start_time": "2024-11-20T23:59:16.655Z"
   },
   {
    "duration": 4,
    "start_time": "2024-11-21T00:04:24.499Z"
   },
   {
    "duration": 12,
    "start_time": "2024-11-21T00:06:12.771Z"
   },
   {
    "duration": 25,
    "start_time": "2024-11-21T00:07:41.848Z"
   },
   {
    "duration": 115,
    "start_time": "2024-11-21T00:09:16.289Z"
   },
   {
    "duration": 26,
    "start_time": "2024-11-21T00:09:50.909Z"
   },
   {
    "duration": 784,
    "start_time": "2024-11-21T00:11:15.499Z"
   },
   {
    "duration": 164,
    "start_time": "2024-11-21T00:11:31.853Z"
   },
   {
    "duration": 25,
    "start_time": "2024-11-21T00:11:36.974Z"
   },
   {
    "duration": 17,
    "start_time": "2024-11-21T00:11:46.754Z"
   },
   {
    "duration": 12,
    "start_time": "2024-11-21T00:11:52.743Z"
   },
   {
    "duration": 279,
    "start_time": "2024-11-21T00:12:07.600Z"
   },
   {
    "duration": 28,
    "start_time": "2024-11-21T00:12:13.864Z"
   },
   {
    "duration": 8,
    "start_time": "2024-11-21T00:12:19.965Z"
   },
   {
    "duration": 33,
    "start_time": "2024-11-21T00:12:25.540Z"
   },
   {
    "duration": 11,
    "start_time": "2024-11-21T00:12:33.434Z"
   },
   {
    "duration": 11,
    "start_time": "2024-11-21T00:15:59.309Z"
   },
   {
    "duration": 159,
    "start_time": "2024-11-21T00:26:26.440Z"
   },
   {
    "duration": 31,
    "start_time": "2024-11-21T00:27:00.535Z"
   },
   {
    "duration": 564,
    "start_time": "2024-11-21T00:32:48.635Z"
   },
   {
    "duration": 240,
    "start_time": "2024-11-21T00:33:49.509Z"
   },
   {
    "duration": 49,
    "start_time": "2024-11-21T00:35:21.691Z"
   },
   {
    "duration": 42,
    "start_time": "2024-11-21T00:37:10.109Z"
   },
   {
    "duration": 41,
    "start_time": "2024-11-21T00:38:02.745Z"
   },
   {
    "duration": 46,
    "start_time": "2024-11-21T00:38:26.582Z"
   },
   {
    "duration": 43,
    "start_time": "2024-11-21T00:41:10.331Z"
   },
   {
    "duration": 72,
    "start_time": "2024-11-21T00:42:04.231Z"
   },
   {
    "duration": 73,
    "start_time": "2024-11-21T00:43:30.680Z"
   },
   {
    "duration": 18,
    "start_time": "2024-11-21T01:10:27.135Z"
   },
   {
    "duration": 53,
    "start_time": "2024-11-21T01:12:27.287Z"
   },
   {
    "duration": 28,
    "start_time": "2024-11-21T01:12:59.576Z"
   },
   {
    "duration": 8,
    "start_time": "2024-11-21T01:13:45.739Z"
   },
   {
    "duration": 29,
    "start_time": "2024-11-21T01:17:24.135Z"
   },
   {
    "duration": 20,
    "start_time": "2024-11-21T01:20:35.715Z"
   },
   {
    "duration": 11,
    "start_time": "2024-11-21T01:22:19.773Z"
   },
   {
    "duration": 18,
    "start_time": "2024-11-21T01:24:00.959Z"
   },
   {
    "duration": 28,
    "start_time": "2024-11-21T01:26:21.847Z"
   },
   {
    "duration": 38,
    "start_time": "2024-11-21T01:28:50.447Z"
   },
   {
    "duration": 52,
    "start_time": "2024-11-21T01:35:50.014Z"
   },
   {
    "duration": 7,
    "start_time": "2024-11-21T01:37:10.294Z"
   },
   {
    "duration": 7,
    "start_time": "2024-11-21T01:37:28.711Z"
   },
   {
    "duration": 45,
    "start_time": "2024-11-21T01:43:12.207Z"
   },
   {
    "duration": 25,
    "start_time": "2024-11-21T01:43:25.811Z"
   },
   {
    "duration": 24,
    "start_time": "2024-11-21T01:43:44.354Z"
   },
   {
    "duration": 9,
    "start_time": "2024-11-21T01:49:19.190Z"
   },
   {
    "duration": 9,
    "start_time": "2024-11-21T01:52:22.989Z"
   },
   {
    "duration": 8,
    "start_time": "2024-11-21T01:52:37.105Z"
   },
   {
    "duration": 14,
    "start_time": "2024-11-21T01:53:28.464Z"
   },
   {
    "duration": 28,
    "start_time": "2024-11-21T01:55:10.658Z"
   },
   {
    "duration": 6,
    "start_time": "2024-11-21T01:57:28.924Z"
   },
   {
    "duration": 40,
    "start_time": "2024-11-21T01:57:45.676Z"
   },
   {
    "duration": 34,
    "start_time": "2024-11-21T01:58:57.825Z"
   },
   {
    "duration": 4,
    "start_time": "2024-11-21T02:01:10.229Z"
   },
   {
    "duration": 5,
    "start_time": "2024-11-21T02:18:45.446Z"
   },
   {
    "duration": 25,
    "start_time": "2024-11-21T02:18:53.176Z"
   },
   {
    "duration": 24,
    "start_time": "2024-11-21T02:21:33.183Z"
   },
   {
    "duration": 25,
    "start_time": "2024-11-21T02:22:05.375Z"
   },
   {
    "duration": 25,
    "start_time": "2024-11-21T02:22:23.881Z"
   },
   {
    "duration": 22,
    "start_time": "2024-11-21T02:25:25.596Z"
   },
   {
    "duration": 5,
    "start_time": "2024-11-21T02:25:25.648Z"
   },
   {
    "duration": 20,
    "start_time": "2024-11-21T02:35:22.688Z"
   },
   {
    "duration": 13,
    "start_time": "2024-11-21T02:39:49.877Z"
   },
   {
    "duration": 16,
    "start_time": "2024-11-21T02:40:10.109Z"
   },
   {
    "duration": 11,
    "start_time": "2024-11-21T02:44:51.337Z"
   },
   {
    "duration": 12,
    "start_time": "2024-11-21T02:47:52.194Z"
   },
   {
    "duration": 13,
    "start_time": "2024-11-21T02:48:08.341Z"
   },
   {
    "duration": 39,
    "start_time": "2024-11-21T02:56:10.657Z"
   },
   {
    "duration": 39,
    "start_time": "2024-11-21T02:56:43.479Z"
   },
   {
    "duration": 40,
    "start_time": "2024-11-21T02:58:03.720Z"
   },
   {
    "duration": 46,
    "start_time": "2024-11-21T03:06:22.688Z"
   },
   {
    "duration": 40,
    "start_time": "2024-11-21T03:06:43.291Z"
   },
   {
    "duration": 50,
    "start_time": "2024-11-21T03:19:27.973Z"
   },
   {
    "duration": 77,
    "start_time": "2024-11-21T03:20:36.488Z"
   },
   {
    "duration": 173,
    "start_time": "2024-11-21T17:39:01.749Z"
   },
   {
    "duration": 2674,
    "start_time": "2024-11-21T17:39:13.812Z"
   },
   {
    "duration": 222,
    "start_time": "2024-11-21T17:39:18.123Z"
   },
   {
    "duration": 25,
    "start_time": "2024-11-21T17:39:24.061Z"
   },
   {
    "duration": 8,
    "start_time": "2024-11-21T17:39:28.051Z"
   },
   {
    "duration": 23,
    "start_time": "2024-11-21T17:40:31.830Z"
   },
   {
    "duration": 6,
    "start_time": "2024-11-21T17:40:36.100Z"
   },
   {
    "duration": 6,
    "start_time": "2024-11-21T17:40:45.444Z"
   },
   {
    "duration": 12,
    "start_time": "2024-11-21T17:40:59.843Z"
   },
   {
    "duration": 315,
    "start_time": "2024-11-21T17:41:27.425Z"
   },
   {
    "duration": 58,
    "start_time": "2024-11-21T17:41:48.704Z"
   },
   {
    "duration": 7,
    "start_time": "2024-11-21T17:42:03.269Z"
   },
   {
    "duration": 33,
    "start_time": "2024-11-21T17:42:34.942Z"
   },
   {
    "duration": 113,
    "start_time": "2024-11-21T17:42:48.902Z"
   },
   {
    "duration": 40,
    "start_time": "2024-11-21T17:43:22.111Z"
   },
   {
    "duration": 38,
    "start_time": "2024-11-21T17:43:28.758Z"
   },
   {
    "duration": 60,
    "start_time": "2024-11-21T17:44:03.518Z"
   },
   {
    "duration": 41,
    "start_time": "2024-11-21T17:44:25.687Z"
   },
   {
    "duration": 78,
    "start_time": "2024-11-21T17:45:04.360Z"
   },
   {
    "duration": 28,
    "start_time": "2024-11-21T17:45:19.942Z"
   },
   {
    "duration": 11,
    "start_time": "2024-11-21T17:45:30.030Z"
   },
   {
    "duration": 300,
    "start_time": "2024-11-21T17:45:54.992Z"
   },
   {
    "duration": 98,
    "start_time": "2024-11-21T17:46:34.129Z"
   },
   {
    "duration": 31,
    "start_time": "2024-11-21T17:47:14.581Z"
   },
   {
    "duration": 22,
    "start_time": "2024-11-21T17:47:47.238Z"
   },
   {
    "duration": 40,
    "start_time": "2024-11-21T17:48:01.456Z"
   },
   {
    "duration": 54,
    "start_time": "2024-11-21T17:48:08.353Z"
   },
   {
    "duration": 6,
    "start_time": "2024-11-21T17:48:12.565Z"
   },
   {
    "duration": 38,
    "start_time": "2024-11-21T17:48:36.489Z"
   },
   {
    "duration": 42,
    "start_time": "2024-11-21T17:48:45.225Z"
   },
   {
    "duration": 3,
    "start_time": "2024-11-21T17:48:54.742Z"
   },
   {
    "duration": 24,
    "start_time": "2024-11-21T17:48:59.116Z"
   },
   {
    "duration": 17,
    "start_time": "2024-11-21T17:49:04.366Z"
   },
   {
    "duration": 21,
    "start_time": "2024-11-21T17:49:10.764Z"
   },
   {
    "duration": 16,
    "start_time": "2024-11-21T17:49:15.780Z"
   },
   {
    "duration": 20,
    "start_time": "2024-11-21T17:49:34.312Z"
   },
   {
    "duration": 15,
    "start_time": "2024-11-21T17:49:37.986Z"
   },
   {
    "duration": 27,
    "start_time": "2024-11-21T17:50:24.363Z"
   },
   {
    "duration": 22,
    "start_time": "2024-11-21T17:50:30.042Z"
   },
   {
    "duration": 15,
    "start_time": "2024-11-21T17:50:34.991Z"
   },
   {
    "duration": 16,
    "start_time": "2024-11-21T17:50:35.053Z"
   },
   {
    "duration": 14,
    "start_time": "2024-11-21T17:50:40.853Z"
   },
   {
    "duration": 57,
    "start_time": "2024-11-21T17:50:59.619Z"
   },
   {
    "duration": 392,
    "start_time": "2024-11-21T17:51:10.783Z"
   },
   {
    "duration": 380,
    "start_time": "2024-11-21T17:51:27.094Z"
   },
   {
    "duration": 2785,
    "start_time": "2024-11-21T18:26:46.954Z"
   },
   {
    "duration": 243,
    "start_time": "2024-11-21T18:26:49.742Z"
   },
   {
    "duration": 30,
    "start_time": "2024-11-21T18:26:49.986Z"
   },
   {
    "duration": 7,
    "start_time": "2024-11-21T18:26:50.018Z"
   },
   {
    "duration": 2,
    "start_time": "2024-11-21T18:26:50.028Z"
   },
   {
    "duration": 3,
    "start_time": "2024-11-21T18:26:50.032Z"
   },
   {
    "duration": 18,
    "start_time": "2024-11-21T18:26:50.037Z"
   },
   {
    "duration": 7,
    "start_time": "2024-11-21T18:26:50.057Z"
   },
   {
    "duration": 48,
    "start_time": "2024-11-21T18:26:50.066Z"
   },
   {
    "duration": 327,
    "start_time": "2024-11-21T18:26:50.117Z"
   },
   {
    "duration": 63,
    "start_time": "2024-11-21T18:26:50.446Z"
   },
   {
    "duration": 7,
    "start_time": "2024-11-21T18:26:50.512Z"
   },
   {
    "duration": 34,
    "start_time": "2024-11-21T18:26:50.521Z"
   },
   {
    "duration": 114,
    "start_time": "2024-11-21T18:26:50.560Z"
   },
   {
    "duration": 45,
    "start_time": "2024-11-21T18:26:50.676Z"
   },
   {
    "duration": 13,
    "start_time": "2024-11-21T18:26:50.723Z"
   },
   {
    "duration": 22,
    "start_time": "2024-11-21T18:26:50.739Z"
   },
   {
    "duration": 68,
    "start_time": "2024-11-21T18:26:50.763Z"
   },
   {
    "duration": 78,
    "start_time": "2024-11-21T18:26:50.833Z"
   },
   {
    "duration": 8,
    "start_time": "2024-11-21T18:26:50.912Z"
   },
   {
    "duration": 30,
    "start_time": "2024-11-21T18:26:50.922Z"
   },
   {
    "duration": 62,
    "start_time": "2024-11-21T18:26:50.954Z"
   },
   {
    "duration": 3,
    "start_time": "2024-11-21T18:26:51.018Z"
   },
   {
    "duration": 26,
    "start_time": "2024-11-21T18:26:51.023Z"
   },
   {
    "duration": 27,
    "start_time": "2024-11-21T18:26:51.051Z"
   },
   {
    "duration": 44,
    "start_time": "2024-11-21T18:26:51.080Z"
   },
   {
    "duration": 21,
    "start_time": "2024-11-21T18:26:51.127Z"
   },
   {
    "duration": 16,
    "start_time": "2024-11-21T18:26:51.150Z"
   },
   {
    "duration": 46,
    "start_time": "2024-11-21T18:26:51.168Z"
   },
   {
    "duration": 55,
    "start_time": "2024-11-21T18:26:51.216Z"
   },
   {
    "duration": 392,
    "start_time": "2024-11-21T18:26:51.273Z"
   },
   {
    "duration": 2,
    "start_time": "2024-11-21T18:26:51.667Z"
   },
   {
    "duration": 3,
    "start_time": "2024-11-21T18:26:51.671Z"
   },
   {
    "duration": 3,
    "start_time": "2024-11-21T18:26:51.675Z"
   },
   {
    "duration": 25,
    "start_time": "2024-11-21T18:26:51.680Z"
   },
   {
    "duration": 4,
    "start_time": "2024-11-21T18:26:51.706Z"
   },
   {
    "duration": 3,
    "start_time": "2024-11-21T18:26:51.711Z"
   },
   {
    "duration": 3,
    "start_time": "2024-11-21T18:26:51.716Z"
   },
   {
    "duration": 537,
    "start_time": "2024-11-21T18:28:27.677Z"
   },
   {
    "duration": 9,
    "start_time": "2024-11-21T18:30:40.494Z"
   },
   {
    "duration": 636,
    "start_time": "2024-11-21T18:33:34.274Z"
   },
   {
    "duration": 909,
    "start_time": "2024-11-21T18:51:01.236Z"
   },
   {
    "duration": 976,
    "start_time": "2024-11-21T18:51:15.354Z"
   },
   {
    "duration": 224,
    "start_time": "2024-11-21T19:04:48.957Z"
   },
   {
    "duration": 318,
    "start_time": "2024-11-21T19:05:13.523Z"
   },
   {
    "duration": 5,
    "start_time": "2024-11-21T19:09:06.329Z"
   },
   {
    "duration": 123,
    "start_time": "2024-11-21T19:10:39.446Z"
   },
   {
    "duration": 8,
    "start_time": "2024-11-21T19:12:37.603Z"
   },
   {
    "duration": 212,
    "start_time": "2024-11-21T19:14:26.330Z"
   },
   {
    "duration": 227,
    "start_time": "2024-11-21T19:28:56.701Z"
   },
   {
    "duration": 196,
    "start_time": "2024-11-21T19:31:20.435Z"
   },
   {
    "duration": 697,
    "start_time": "2024-11-21T19:33:04.501Z"
   },
   {
    "duration": 378,
    "start_time": "2024-11-21T19:35:17.153Z"
   },
   {
    "duration": 227,
    "start_time": "2024-11-21T19:51:03.018Z"
   },
   {
    "duration": 195,
    "start_time": "2024-11-21T19:51:54.467Z"
   },
   {
    "duration": 232,
    "start_time": "2024-11-21T19:53:32.276Z"
   },
   {
    "duration": 198,
    "start_time": "2024-11-21T19:53:57.256Z"
   },
   {
    "duration": 420,
    "start_time": "2024-11-21T19:55:28.924Z"
   },
   {
    "duration": 669,
    "start_time": "2024-11-21T19:57:43.587Z"
   },
   {
    "duration": 10,
    "start_time": "2024-11-21T20:13:40.193Z"
   },
   {
    "duration": 476,
    "start_time": "2024-11-21T20:18:19.764Z"
   },
   {
    "duration": 6,
    "start_time": "2024-11-21T20:19:21.884Z"
   },
   {
    "duration": 10,
    "start_time": "2024-11-21T20:22:16.841Z"
   },
   {
    "duration": 142,
    "start_time": "2024-11-21T20:24:34.083Z"
   },
   {
    "duration": 13,
    "start_time": "2024-11-21T20:25:05.919Z"
   },
   {
    "duration": 9,
    "start_time": "2024-11-21T20:29:30.050Z"
   }
  ],
  "colab": {
   "provenance": []
  },
  "kernelspec": {
   "display_name": "Python 3 (ipykernel)",
   "language": "python",
   "name": "python3"
  },
  "language_info": {
   "codemirror_mode": {
    "name": "ipython",
    "version": 3
   },
   "file_extension": ".py",
   "mimetype": "text/x-python",
   "name": "python",
   "nbconvert_exporter": "python",
   "pygments_lexer": "ipython3",
   "version": "3.9.19"
  },
  "toc": {
   "base_numbering": 1,
   "nav_menu": {},
   "number_sections": true,
   "sideBar": true,
   "skip_h1_title": false,
   "title_cell": "Table of Contents",
   "title_sidebar": "Contents",
   "toc_cell": false,
   "toc_position": {
    "height": "calc(100% - 180px)",
    "left": "10px",
    "top": "150px",
    "width": "307.2px"
   },
   "toc_section_display": true,
   "toc_window_display": true
  }
 },
 "nbformat": 4,
 "nbformat_minor": 1
}
