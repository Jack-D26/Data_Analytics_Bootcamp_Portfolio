{
 "cells": [
  {
   "cell_type": "markdown",
   "metadata": {},
   "source": [
    "# Descomposición de la tarea"
   ]
  },
  {
   "cell_type": "markdown",
   "metadata": {},
   "source": [
    "## Introducción y contexto"
   ]
  },
  {
   "cell_type": "markdown",
   "metadata": {},
   "source": [
    "El servicio de telefonía virtual CallMeMaybe está desarrollando una nueva función que brindará a los supervisores y las supervisores información sobre los operadores menos eficaces. Se considera que un operador es ineficaz si tiene una gran cantidad de llamadas entrantes perdidas (internas y externas) y un tiempo de espera prolongado para las llamadas entrantes. Además, si se supone que un operador debe realizar llamadas salientes, un número reducido de ellas también será un signo de ineficacia."
   ]
  },
  {
   "cell_type": "markdown",
   "metadata": {},
   "source": [
    "## Descripción de los datos"
   ]
  },
  {
   "cell_type": "markdown",
   "metadata": {},
   "source": [
    "Los datasets contienen información sobre el uso del servicio de telefonía virtual CallMeMaybe. Sus clientes son organizaciones que necesitan distribuir gran cantidad de llamadas entrantes entre varios operadores, o realizar llamadas salientes a través de sus operadores. Los operadores también pueden realizar llamadas internas para comunicarse entre ellos. Estas llamadas se realizan a través de la red de CallMeMaybe."
   ]
  },
  {
   "cell_type": "markdown",
   "metadata": {},
   "source": [
    "## Definir el objetivo del proyecto"
   ]
  },
  {
   "cell_type": "markdown",
   "metadata": {},
   "source": [
    "### Objetivo principal:\n",
    "\n",
    "Identificar a los operadores ineficaces en CallMeMaybe, basado en la cantidad de llamadas entrantes perdidas, el tiempo de espera prolongado y, en caso de operadores asignados a llamadas salientes, el bajo número de estas.\n",
    "\n",
    "### Decisiones que se tomarán con el análisis:\n",
    "\n",
    "Determinar qué operadores tienen problemas de desempeño.\n",
    "\n",
    "Posibles ajustes en la distribución de llamadas para mejorar eficiencia.\n",
    "\n",
    "Evaluar la efectividad de las tarifas y su relación con el desempeño.\n",
    "\n",
    "Definir estrategias de optimización para reducir la ineficiencia.\n",
    "\n",
    "### Usuarios del análisis:\n",
    "\n",
    "Supervisores y supervisoras de CallMeMaybe que necesitan información clara sobre el rendimiento de sus operadores."
   ]
  },
  {
   "cell_type": "markdown",
   "metadata": {},
   "source": [
    "## Preprocesamiento de datos"
   ]
  },
  {
   "cell_type": "markdown",
   "metadata": {},
   "source": [
    "### Revisión de valores ausentes: Identificar y manejar datos faltantes en ambos datasets.\n",
    "\n",
    "### Revisión de tipos de datos: Asegurar que fechas, identificadores y valores numéricos estén en el formato correcto.\n",
    "\n",
    "### Detección y manejo de duplicados: Verificar si hay registros repetidos y eliminarlos si es necesario.\n",
    "\n",
    "### Renombrado de columnas (si es necesario): Facilitar la legibilidad y consistencia de los datos.\n",
    "\n",
    "### Conversión de tipos: Asegurar que date sea tipo fecha y calls_count y call_duration sean numéricos.\n",
    "\n",
    "### Unión de datasets: Vincular telecom_clients_us.csv con telecom_dataset_us.csv usando user_id para obtener contexto sobre las tarifas y fecha de registro."
   ]
  },
  {
   "cell_type": "markdown",
   "metadata": {},
   "source": [
    "## Análisis Exploratorio de Datos (EDA)"
   ]
  },
  {
   "cell_type": "markdown",
   "metadata": {},
   "source": [
    "### Distribución de llamadas por operador:\n",
    "\n",
    "Cuántas llamadas entrantes, salientes e internas realiza cada operador.\n",
    "\n",
    "Cuántas llamadas se pierden en promedio por operador.\n",
    "\n",
    "Cuál es la distribución de duración de llamadas y tiempos de espera.\n",
    "\n",
    "### Identificación de patrones de llamadas:\n",
    "\n",
    "Comparar la cantidad de llamadas por operador a lo largo del tiempo.\n",
    "\n",
    "Revisar diferencias entre operadores en distintos planes tarifarios.\n",
    "\n",
    "### Exploración de tiempos de espera y duración:\n",
    "\n",
    "Cuánto tiempo esperan en promedio los clientes antes de ser atendidos.\n",
    "\n",
    "Relación entre tiempo de espera y cantidad de llamadas perdidas.\n",
    "\n",
    "### Segmentación de operadores según comportamiento:\n",
    "\n",
    "¿Hay grupos de operadores con características similares en su desempeño?\n",
    "\n",
    "Diferencias entre operadores con altas y bajas tasas de éxito en llamadas."
   ]
  },
  {
   "cell_type": "markdown",
   "metadata": {},
   "source": [
    "## Identificación de operadores ineficaces"
   ]
  },
  {
   "cell_type": "markdown",
   "metadata": {},
   "source": [
    "### Criterios de ineficiencia:\n",
    "\n",
    "Un alto porcentaje de llamadas entrantes perdidas.\n",
    "\n",
    "Un tiempo de espera largo en llamadas entrantes.\n",
    "\n",
    "Un número reducido de llamadas salientes (cuando corresponda).\n",
    "\n",
    "### Definir umbrales para ineficiencia:\n",
    "\n",
    "¿Cuál es el porcentaje de llamadas perdidas considerado \"alto\"?\n",
    "\n",
    "¿Cuál es el tiempo de espera \"largo\" en comparación con el promedio?\n",
    "\n",
    "¿Cuántas llamadas salientes son \"bajas\" para operadores asignados a ellas?\n",
    "\n",
    "### Creación de métricas de desempeño:\n",
    "\n",
    "Tasa de llamadas perdidas: missed_calls / total_calls\n",
    "\n",
    "Tiempo promedio de espera: total_call_duration - call_duration\n",
    "\n",
    "Cantidad de llamadas salientes vs. media de operadores en la misma categoría.\n",
    "\n",
    "### Generación de una lista de operadores ineficaces:\n",
    "\n",
    "Ordenados por peor desempeño según los criterios definidos."
   ]
  },
  {
   "cell_type": "markdown",
   "metadata": {},
   "source": [
    "##  Prueba de hipótesis"
   ]
  },
  {
   "cell_type": "markdown",
   "metadata": {},
   "source": [
    "### Los operadores con un alto número de llamadas entrantes tienen más llamadas perdidas.\n",
    "\n",
    "Se puede probar con una prueba de correlación entre llamadas recibidas y porcentaje de llamadas perdidas.\n",
    "\n",
    "### Los operadores con tiempos de espera largos tienden a perder más llamadas.\n",
    "\n",
    "Se puede probar con una regresión o test de correlación.\n",
    "\n",
    "### Los operadores en ciertos planes tarifarios tienen peor desempeño.\n",
    "\n",
    "Se puede analizar si ciertos tariff_plan están asociados a más ineficiencia.\n",
    "\n",
    "### Los operadores más antiguos (según date_start) son más eficientes.\n",
    "\n",
    "Se puede comprobar si la antigüedad en la plataforma tiene impacto en el desempeño."
   ]
  },
  {
   "cell_type": "markdown",
   "metadata": {},
   "source": [
    "## Visualización y Presentación de Resultados"
   ]
  },
  {
   "cell_type": "markdown",
   "metadata": {},
   "source": [
    "### Gráficos clave:\n",
    "\n",
    "Barras: operadores con más llamadas perdidas.\n",
    "\n",
    "Boxplots: distribución de tiempos de espera por operador.\n",
    "\n",
    "Heatmaps: correlación entre variables clave.\n",
    "\n",
    "Histogramas: distribución de llamadas salientes por operador.\n",
    "\n",
    "### Tablas de clasificación:\n",
    "\n",
    "Ranking de operadores según su desempeño.\n",
    "\n",
    "Comparación entre operadores dentro de cada tarifa."
   ]
  },
  {
   "cell_type": "markdown",
   "metadata": {},
   "source": [
    "##  Conclusiones y Recomendaciones"
   ]
  },
  {
   "cell_type": "markdown",
   "metadata": {},
   "source": [
    "### Resumen de hallazgos clave:\n",
    "\n",
    "Identificación de los operadores más ineficientes.\n",
    "\n",
    "Factores que afectan el desempeño.\n",
    "\n",
    "Relación con tarifas y antigüedad.\n",
    "\n",
    "### Recomendaciones para mejorar la eficiencia:\n",
    "\n",
    "¿Es necesario redistribuir las llamadas?\n",
    "\n",
    "¿Se requieren más operadores en ciertas franjas horarias?\n",
    "\n",
    "¿Algunos planes tarifarios afectan negativamente el rendimiento?\n"
   ]
  },
  {
   "cell_type": "markdown",
   "metadata": {},
   "source": [
    "## Investigación y referencias"
   ]
  },
  {
   "cell_type": "markdown",
   "metadata": {},
   "source": [
    "### Porcentaje de llamadas perdidas considerado \"alto\"\n",
    "\n",
    "El índice de abandono de llamadas es una métrica clave que indica el porcentaje de clientes que cuelgan antes de ser atendidos por un agente. Un índice de abandono entre el 5% y el 10% se considera aceptable en la industria de los centros de llamadas. Sin embargo, un índice superior al 10% podría señalar ineficiencias significativas en la gestión de llamadas entrantes. Es esencial monitorear y reducir este porcentaje para mejorar la satisfacción del cliente. Sin embargo, en nuestro análisis, compararemos el porcentaje de llamadas perdidas por operador con la distribución general de los datos para definir umbrales específicos.\n",
    "\n",
    "Fuente: LiveAgent. (2024). 35+ Call Center Statistics For 2025: Key Data. Recuperado de https://www.liveagent.com/blog/call-center-statistics/\n",
    "\n",
    "### Tiempo de espera \"largo\" en comparación con el promedio\n",
    "\n",
    "El Tiempo Promedio de Respuesta (Average Speed of Answer, ASA) mide el tiempo que un cliente espera en la cola antes de ser atendido. El estándar de la industria establece que un ASA de 20 a 30 segundos es óptimo. Es decir, los clientes no deberían esperar más de medio minuto para ser atendidos. Superar este tiempo puede llevar a una mayor tasa de abandono y disminución en la satisfacción del cliente. En nuestro caso, analizaremos la distribución de los tiempos de espera dentro del dataset y definiremos un umbral basado en la media y la desviación estándar.\n",
    "\n",
    "Fuente: VCC Live. (2024). Contact center KPIs - Top industry standards to know. Recuperado de https://vcc.live/blog/contact-center-kpi-industry-standards/\n",
    "\n",
    "### Número reducido de llamadas salientes como indicador de ineficiencia\n",
    "\n",
    "En centros de llamadas salientes, el número de llamadas realizadas por hora o por día es un indicador clave de productividad. Aunque no existe un estándar universal, es esencial establecer metas internas basadas en la naturaleza de las campañas y las expectativas de la empresa. Una disminución significativa en el número de llamadas salientes puede indicar problemas de eficiencia o falta de motivación en los operadores.En nuestro análisis, definiremos este umbral observando la distribución de llamadas salientes en el dataset.\n",
    "\n",
    "Fuente: Voiso. (2024). Your Guide to Outbound Call Center Metrics. Recuperado de https://voiso.com/articles/guide-to-outbound-call-center-metrics/\n",
    "\n",
    "###  Ejemplo real de una empresa que ofrece servicios similares\n",
    "\n",
    "Conair LLC implementó la solución de centro de contacto de RingCentral para optimizar su servicio al cliente a nivel global. Antes de esta implementación, enfrentaban desafíos significativos con su sistema heredado, que carecía de funcionalidades administrativas y flexibilidad. La migración a RingCentral permitió a Conair reducir el tiempo máximo de espera de los clientes a 30 segundos y aumentar la satisfacción de los empleados con las telecomunicaciones de un 40% a más del 90%. Además, la empresa logró ahorrar 4 días al mes en la gestión de cambios en el sistema telefónico, mejorando la eficiencia operativa y la experiencia del cliente.\n",
    "\n",
    "RingCentral. (2024). Case Study: How Conair improved call center efficiency with RingCentral. Recuperado de https://www.ringcentral.com/whyringcentral/casestudies/conair.html\n",
    "\n",
    "### Importancia de la satisfacción del cliente y métricas relacionadas\n",
    "\n",
    "La Satisfacción del Cliente (Customer Satisfaction, CSAT) es fundamental en la evaluación del rendimiento de un centro de llamadas. Estudios indican que el 73% de los consumidores considera que valorar su tiempo es un componente esencial de una buena experiencia de servicio. Además, el 80% de las organizaciones de servicio al cliente utilizan el CSAT como métrica principal para evaluar y mejorar la experiencia del cliente.\n",
    "\n",
    "Fuente: Sprinklr. (2025). Important Call Center Statistics to Know [2025]. Recuperado de https://www.sprinklr.com/blog/call-center-statistics/\n",
    "\n",
    "### Crecimiento del Mercado de Servicios de Telefonía Virtual\n",
    "\n",
    "El mercado de servicios de telefonía virtual ha experimentado un crecimiento significativo en los últimos años. Según un informe de Data Insights Market, se proyecta que este mercado alcance un valor de 52.8 millones de dólares para 2033, con una tasa compuesta anual de crecimiento (CAGR) del 15.2% durante el período 2023-2033. Este crecimiento está impulsado por la creciente demanda de trabajo remoto, la proliferación de smartphones y tablets, y la adopción creciente de servicios basados en la nube. Las soluciones de telefonía virtual basadas en la nube están ganando popularidad debido a su flexibilidad, escalabilidad y rentabilidad. Además, la implementación de políticas de \"Bring Your Own Device\" (BYOD) en las empresas está fomentando aún más la demanda de estos servicios.\n",
    "Data Insights Market\n",
    "\n",
    "Este panorama indica que nuestra empresa \"CallMeMaybe\", al operar en el sector de servicios de telefonía virtual, se encuentra en una industria en expansión con oportunidades significativas, especialmente al considerar las tendencias hacia el trabajo remoto y la digitalización de las comunicaciones empresariales.\n",
    "\n",
    "Data Insights Market. (2024). Virtual Phone Service Market Trends, Size & Forecast 2023-2033. Recuperado de https://www.datainsightsmarket.com/reports/virtual-phone-service-1386701"
   ]
  }
 ],
 "metadata": {
  "kernelspec": {
   "display_name": "Python 3 (ipykernel)",
   "language": "python",
   "name": "python3"
  },
  "language_info": {
   "codemirror_mode": {
    "name": "ipython",
    "version": 3
   },
   "file_extension": ".py",
   "mimetype": "text/x-python",
   "name": "python",
   "nbconvert_exporter": "python",
   "pygments_lexer": "ipython3",
   "version": "3.9.19"
  },
  "toc": {
   "base_numbering": 1,
   "nav_menu": {},
   "number_sections": true,
   "sideBar": true,
   "skip_h1_title": true,
   "title_cell": "Table of Contents",
   "title_sidebar": "Contents",
   "toc_cell": false,
   "toc_position": {
    "height": "calc(100% - 180px)",
    "left": "10px",
    "top": "150px",
    "width": "389px"
   },
   "toc_section_display": true,
   "toc_window_display": true
  }
 },
 "nbformat": 4,
 "nbformat_minor": 2
}
