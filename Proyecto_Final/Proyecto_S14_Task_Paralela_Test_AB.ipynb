{
 "cells": [
  {
   "cell_type": "markdown",
   "metadata": {},
   "source": [
    "# Proyecto Final Task Paralela Test A/B"
   ]
  },
  {
   "cell_type": "markdown",
   "metadata": {},
   "source": [
    "## Introducción "
   ]
  },
  {
   "cell_type": "markdown",
   "metadata": {},
   "source": [
    "He recibido una tarea analítica de una tienda en línea internacional. Mis predecesores no consiguieron completarla: lanzaron una prueba A/B y luego abandonaron (para iniciar una granja de sandías en Brasil). Solo dejaron las especificaciones técnicas y los resultados de las pruebas.\n",
    "\n",
    "Mi tarea es: \n",
    "\n",
    "Comprobar si la prueba se ha realizado correctamente y analizar los resultados."
   ]
  },
  {
   "cell_type": "markdown",
   "metadata": {},
   "source": [
    "## Descripción tecnica"
   ]
  },
  {
   "cell_type": "markdown",
   "metadata": {},
   "source": [
    "Descripción técnica:\n",
    "    \n",
    "Nombre de la prueba: recommender_system_test\n",
    "    \n",
    "Grupos: А (control), B (nuevo embudo de pago)\n",
    "    \n",
    "Fecha de lanzamiento: 2020-12-07\n",
    "    \n",
    "Fecha en la que dejaron de aceptar nuevos usuarios: 2020-12-21\n",
    "    \n",
    "Fecha de finalización: 2021-01-01\n",
    "    \n",
    "Audiencia: 15% de los nuevos usuarios de la región de la UE\n",
    "    \n",
    "Propósito de la prueba: probar cambios relacionados con la introducción de un sistema de recomendaciones mejorado\n",
    "    \n",
    "Resultado esperado: dentro de los 14 días posteriores a la inscripción, los usuarios mostrarán una mejor conversión en vistas de la página del producto (el evento product_page), instancias de agregar artículos al carrito de compras (product_cart) y compras (purchase). \n",
    "En cada etapa del embudo product_page → product_cart → purchase, habrá al menos un 10% de aumento.\n",
    "\n",
    "Número previsto de participantes de la prueba: 6 000"
   ]
  },
  {
   "cell_type": "markdown",
   "metadata": {},
   "source": [
    "## Descripción de los datos"
   ]
  },
  {
   "cell_type": "markdown",
   "metadata": {},
   "source": [
    "Estructura ab_project__marketing_events_us.csv:\n",
    "\n",
    "name — el nombre del evento de marketing\n",
    "\n",
    "regions — regiones donde se llevará a cabo la campaña publicitaria\n",
    "\n",
    "start_dt — fecha de inicio de la campaña\n",
    "\n",
    "finish_dt — fecha de finalización de la campaña\n",
    "\n",
    "Estructura final_ab_new_users_upd_us.csv:\n",
    "\n",
    "user_id\n",
    "\n",
    "first_date — fecha de inscripción\n",
    "\n",
    "region\n",
    "\n",
    "device — dispositivo utilizado para la inscripción\n",
    "\n",
    "Estructura final_ab_events_upd_us.csv:\n",
    "\n",
    "user_id\n",
    "\n",
    "event_dt — fecha y hora del evento\n",
    "\n",
    "event_name — nombre del tipo de evento\n",
    "\n",
    "details — datos adicionales sobre el evento (por ejemplo, el pedido total en USD para los eventos purchase)\n",
    "\n",
    "Estructura final_ab_participants_upd_us.csv:\n",
    "\n",
    "user_id\n",
    "\n",
    "ab_test — nombre de la prueba\n",
    "\n",
    "group — el grupo de prueba al que pertenecía el usuario"
   ]
  },
  {
   "cell_type": "markdown",
   "metadata": {},
   "source": [
    "## Librerías "
   ]
  },
  {
   "cell_type": "code",
   "execution_count": 73,
   "metadata": {},
   "outputs": [],
   "source": [
    "# Importar librerías básicas\n",
    "import pandas as pd\n",
    "import numpy as np\n",
    "\n",
    "# Visualización\n",
    "import matplotlib.pyplot as plt\n",
    "import seaborn as sns\n",
    "\n",
    "# Análisis estadístico\n",
    "from scipy import stats\n",
    "from statsmodels.stats.proportion import proportions_ztest\n",
    "\n",
    "# Configuración para ver todas las columnas\n",
    "pd.set_option('display.max_columns', None)"
   ]
  },
  {
   "cell_type": "markdown",
   "metadata": {},
   "source": [
    "## Datos"
   ]
  },
  {
   "cell_type": "code",
   "execution_count": 2,
   "metadata": {},
   "outputs": [],
   "source": [
    "mkt_events_data = pd.read_csv('/datasets/ab_project_marketing_events_us.csv')"
   ]
  },
  {
   "cell_type": "code",
   "execution_count": 3,
   "metadata": {},
   "outputs": [],
   "source": [
    "new_ab_users = pd.read_csv('/datasets/final_ab_new_users_upd_us.csv')"
   ]
  },
  {
   "cell_type": "code",
   "execution_count": 4,
   "metadata": {},
   "outputs": [],
   "source": [
    "new_ab_events = pd.read_csv('/datasets/final_ab_events_upd_us.csv')"
   ]
  },
  {
   "cell_type": "code",
   "execution_count": 5,
   "metadata": {},
   "outputs": [],
   "source": [
    "final_ab_participants = pd.read_csv('/datasets/final_ab_participants_upd_us.csv')"
   ]
  },
  {
   "cell_type": "markdown",
   "metadata": {},
   "source": [
    "## Exploración Inicial"
   ]
  },
  {
   "cell_type": "code",
   "execution_count": 6,
   "metadata": {},
   "outputs": [
    {
     "data": {
      "text/html": [
       "<div>\n",
       "<style scoped>\n",
       "    .dataframe tbody tr th:only-of-type {\n",
       "        vertical-align: middle;\n",
       "    }\n",
       "\n",
       "    .dataframe tbody tr th {\n",
       "        vertical-align: top;\n",
       "    }\n",
       "\n",
       "    .dataframe thead th {\n",
       "        text-align: right;\n",
       "    }\n",
       "</style>\n",
       "<table border=\"1\" class=\"dataframe\">\n",
       "  <thead>\n",
       "    <tr style=\"text-align: right;\">\n",
       "      <th></th>\n",
       "      <th>name</th>\n",
       "      <th>regions</th>\n",
       "      <th>start_dt</th>\n",
       "      <th>finish_dt</th>\n",
       "    </tr>\n",
       "  </thead>\n",
       "  <tbody>\n",
       "    <tr>\n",
       "      <th>0</th>\n",
       "      <td>Christmas&amp;New Year Promo</td>\n",
       "      <td>EU, N.America</td>\n",
       "      <td>2020-12-25</td>\n",
       "      <td>2021-01-03</td>\n",
       "    </tr>\n",
       "    <tr>\n",
       "      <th>1</th>\n",
       "      <td>St. Valentine's Day Giveaway</td>\n",
       "      <td>EU, CIS, APAC, N.America</td>\n",
       "      <td>2020-02-14</td>\n",
       "      <td>2020-02-16</td>\n",
       "    </tr>\n",
       "    <tr>\n",
       "      <th>2</th>\n",
       "      <td>St. Patric's Day Promo</td>\n",
       "      <td>EU, N.America</td>\n",
       "      <td>2020-03-17</td>\n",
       "      <td>2020-03-19</td>\n",
       "    </tr>\n",
       "    <tr>\n",
       "      <th>3</th>\n",
       "      <td>Easter Promo</td>\n",
       "      <td>EU, CIS, APAC, N.America</td>\n",
       "      <td>2020-04-12</td>\n",
       "      <td>2020-04-19</td>\n",
       "    </tr>\n",
       "    <tr>\n",
       "      <th>4</th>\n",
       "      <td>4th of July Promo</td>\n",
       "      <td>N.America</td>\n",
       "      <td>2020-07-04</td>\n",
       "      <td>2020-07-11</td>\n",
       "    </tr>\n",
       "    <tr>\n",
       "      <th>5</th>\n",
       "      <td>Black Friday Ads Campaign</td>\n",
       "      <td>EU, CIS, APAC, N.America</td>\n",
       "      <td>2020-11-26</td>\n",
       "      <td>2020-12-01</td>\n",
       "    </tr>\n",
       "    <tr>\n",
       "      <th>6</th>\n",
       "      <td>Chinese New Year Promo</td>\n",
       "      <td>APAC</td>\n",
       "      <td>2020-01-25</td>\n",
       "      <td>2020-02-07</td>\n",
       "    </tr>\n",
       "    <tr>\n",
       "      <th>7</th>\n",
       "      <td>Labor day (May 1st) Ads Campaign</td>\n",
       "      <td>EU, CIS, APAC</td>\n",
       "      <td>2020-05-01</td>\n",
       "      <td>2020-05-03</td>\n",
       "    </tr>\n",
       "    <tr>\n",
       "      <th>8</th>\n",
       "      <td>International Women's Day Promo</td>\n",
       "      <td>EU, CIS, APAC</td>\n",
       "      <td>2020-03-08</td>\n",
       "      <td>2020-03-10</td>\n",
       "    </tr>\n",
       "    <tr>\n",
       "      <th>9</th>\n",
       "      <td>Victory Day CIS (May 9th) Event</td>\n",
       "      <td>CIS</td>\n",
       "      <td>2020-05-09</td>\n",
       "      <td>2020-05-11</td>\n",
       "    </tr>\n",
       "  </tbody>\n",
       "</table>\n",
       "</div>"
      ],
      "text/plain": [
       "                               name                   regions    start_dt  \\\n",
       "0          Christmas&New Year Promo             EU, N.America  2020-12-25   \n",
       "1      St. Valentine's Day Giveaway  EU, CIS, APAC, N.America  2020-02-14   \n",
       "2            St. Patric's Day Promo             EU, N.America  2020-03-17   \n",
       "3                      Easter Promo  EU, CIS, APAC, N.America  2020-04-12   \n",
       "4                 4th of July Promo                 N.America  2020-07-04   \n",
       "5         Black Friday Ads Campaign  EU, CIS, APAC, N.America  2020-11-26   \n",
       "6            Chinese New Year Promo                      APAC  2020-01-25   \n",
       "7  Labor day (May 1st) Ads Campaign             EU, CIS, APAC  2020-05-01   \n",
       "8   International Women's Day Promo             EU, CIS, APAC  2020-03-08   \n",
       "9   Victory Day CIS (May 9th) Event                       CIS  2020-05-09   \n",
       "\n",
       "    finish_dt  \n",
       "0  2021-01-03  \n",
       "1  2020-02-16  \n",
       "2  2020-03-19  \n",
       "3  2020-04-19  \n",
       "4  2020-07-11  \n",
       "5  2020-12-01  \n",
       "6  2020-02-07  \n",
       "7  2020-05-03  \n",
       "8  2020-03-10  \n",
       "9  2020-05-11  "
      ]
     },
     "metadata": {},
     "output_type": "display_data"
    }
   ],
   "source": [
    "display(mkt_events_data.head(10))"
   ]
  },
  {
   "cell_type": "code",
   "execution_count": 7,
   "metadata": {},
   "outputs": [
    {
     "name": "stdout",
     "output_type": "stream",
     "text": [
      "<class 'pandas.core.frame.DataFrame'>\n",
      "RangeIndex: 14 entries, 0 to 13\n",
      "Data columns (total 4 columns):\n",
      " #   Column     Non-Null Count  Dtype \n",
      "---  ------     --------------  ----- \n",
      " 0   name       14 non-null     object\n",
      " 1   regions    14 non-null     object\n",
      " 2   start_dt   14 non-null     object\n",
      " 3   finish_dt  14 non-null     object\n",
      "dtypes: object(4)\n",
      "memory usage: 576.0+ bytes\n",
      "None\n"
     ]
    }
   ],
   "source": [
    "print(mkt_events_data.info())"
   ]
  },
  {
   "cell_type": "code",
   "execution_count": 8,
   "metadata": {},
   "outputs": [
    {
     "data": {
      "text/html": [
       "<div>\n",
       "<style scoped>\n",
       "    .dataframe tbody tr th:only-of-type {\n",
       "        vertical-align: middle;\n",
       "    }\n",
       "\n",
       "    .dataframe tbody tr th {\n",
       "        vertical-align: top;\n",
       "    }\n",
       "\n",
       "    .dataframe thead th {\n",
       "        text-align: right;\n",
       "    }\n",
       "</style>\n",
       "<table border=\"1\" class=\"dataframe\">\n",
       "  <thead>\n",
       "    <tr style=\"text-align: right;\">\n",
       "      <th></th>\n",
       "      <th>user_id</th>\n",
       "      <th>first_date</th>\n",
       "      <th>region</th>\n",
       "      <th>device</th>\n",
       "    </tr>\n",
       "  </thead>\n",
       "  <tbody>\n",
       "    <tr>\n",
       "      <th>0</th>\n",
       "      <td>D72A72121175D8BE</td>\n",
       "      <td>2020-12-07</td>\n",
       "      <td>EU</td>\n",
       "      <td>PC</td>\n",
       "    </tr>\n",
       "    <tr>\n",
       "      <th>1</th>\n",
       "      <td>F1C668619DFE6E65</td>\n",
       "      <td>2020-12-07</td>\n",
       "      <td>N.America</td>\n",
       "      <td>Android</td>\n",
       "    </tr>\n",
       "    <tr>\n",
       "      <th>2</th>\n",
       "      <td>2E1BF1D4C37EA01F</td>\n",
       "      <td>2020-12-07</td>\n",
       "      <td>EU</td>\n",
       "      <td>PC</td>\n",
       "    </tr>\n",
       "    <tr>\n",
       "      <th>3</th>\n",
       "      <td>50734A22C0C63768</td>\n",
       "      <td>2020-12-07</td>\n",
       "      <td>EU</td>\n",
       "      <td>iPhone</td>\n",
       "    </tr>\n",
       "    <tr>\n",
       "      <th>4</th>\n",
       "      <td>E1BDDCE0DAFA2679</td>\n",
       "      <td>2020-12-07</td>\n",
       "      <td>N.America</td>\n",
       "      <td>iPhone</td>\n",
       "    </tr>\n",
       "    <tr>\n",
       "      <th>5</th>\n",
       "      <td>137119F5A9E69421</td>\n",
       "      <td>2020-12-07</td>\n",
       "      <td>N.America</td>\n",
       "      <td>iPhone</td>\n",
       "    </tr>\n",
       "    <tr>\n",
       "      <th>6</th>\n",
       "      <td>62F0C741CC42D0CC</td>\n",
       "      <td>2020-12-07</td>\n",
       "      <td>APAC</td>\n",
       "      <td>iPhone</td>\n",
       "    </tr>\n",
       "    <tr>\n",
       "      <th>7</th>\n",
       "      <td>8942E64218C9A1ED</td>\n",
       "      <td>2020-12-07</td>\n",
       "      <td>EU</td>\n",
       "      <td>PC</td>\n",
       "    </tr>\n",
       "    <tr>\n",
       "      <th>8</th>\n",
       "      <td>499AFACF904BBAE3</td>\n",
       "      <td>2020-12-07</td>\n",
       "      <td>N.America</td>\n",
       "      <td>iPhone</td>\n",
       "    </tr>\n",
       "    <tr>\n",
       "      <th>9</th>\n",
       "      <td>FFCEA1179C253104</td>\n",
       "      <td>2020-12-07</td>\n",
       "      <td>EU</td>\n",
       "      <td>Android</td>\n",
       "    </tr>\n",
       "  </tbody>\n",
       "</table>\n",
       "</div>"
      ],
      "text/plain": [
       "            user_id  first_date     region   device\n",
       "0  D72A72121175D8BE  2020-12-07         EU       PC\n",
       "1  F1C668619DFE6E65  2020-12-07  N.America  Android\n",
       "2  2E1BF1D4C37EA01F  2020-12-07         EU       PC\n",
       "3  50734A22C0C63768  2020-12-07         EU   iPhone\n",
       "4  E1BDDCE0DAFA2679  2020-12-07  N.America   iPhone\n",
       "5  137119F5A9E69421  2020-12-07  N.America   iPhone\n",
       "6  62F0C741CC42D0CC  2020-12-07       APAC   iPhone\n",
       "7  8942E64218C9A1ED  2020-12-07         EU       PC\n",
       "8  499AFACF904BBAE3  2020-12-07  N.America   iPhone\n",
       "9  FFCEA1179C253104  2020-12-07         EU  Android"
      ]
     },
     "metadata": {},
     "output_type": "display_data"
    }
   ],
   "source": [
    "display(new_ab_users.head(10))"
   ]
  },
  {
   "cell_type": "code",
   "execution_count": 9,
   "metadata": {},
   "outputs": [
    {
     "name": "stdout",
     "output_type": "stream",
     "text": [
      "<class 'pandas.core.frame.DataFrame'>\n",
      "RangeIndex: 58703 entries, 0 to 58702\n",
      "Data columns (total 4 columns):\n",
      " #   Column      Non-Null Count  Dtype \n",
      "---  ------      --------------  ----- \n",
      " 0   user_id     58703 non-null  object\n",
      " 1   first_date  58703 non-null  object\n",
      " 2   region      58703 non-null  object\n",
      " 3   device      58703 non-null  object\n",
      "dtypes: object(4)\n",
      "memory usage: 1.8+ MB\n",
      "None\n"
     ]
    }
   ],
   "source": [
    "print(new_ab_users.info())"
   ]
  },
  {
   "cell_type": "code",
   "execution_count": 10,
   "metadata": {},
   "outputs": [
    {
     "data": {
      "text/html": [
       "<div>\n",
       "<style scoped>\n",
       "    .dataframe tbody tr th:only-of-type {\n",
       "        vertical-align: middle;\n",
       "    }\n",
       "\n",
       "    .dataframe tbody tr th {\n",
       "        vertical-align: top;\n",
       "    }\n",
       "\n",
       "    .dataframe thead th {\n",
       "        text-align: right;\n",
       "    }\n",
       "</style>\n",
       "<table border=\"1\" class=\"dataframe\">\n",
       "  <thead>\n",
       "    <tr style=\"text-align: right;\">\n",
       "      <th></th>\n",
       "      <th>user_id</th>\n",
       "      <th>event_dt</th>\n",
       "      <th>event_name</th>\n",
       "      <th>details</th>\n",
       "    </tr>\n",
       "  </thead>\n",
       "  <tbody>\n",
       "    <tr>\n",
       "      <th>0</th>\n",
       "      <td>E1BDDCE0DAFA2679</td>\n",
       "      <td>2020-12-07 20:22:03</td>\n",
       "      <td>purchase</td>\n",
       "      <td>99.99</td>\n",
       "    </tr>\n",
       "    <tr>\n",
       "      <th>1</th>\n",
       "      <td>7B6452F081F49504</td>\n",
       "      <td>2020-12-07 09:22:53</td>\n",
       "      <td>purchase</td>\n",
       "      <td>9.99</td>\n",
       "    </tr>\n",
       "    <tr>\n",
       "      <th>2</th>\n",
       "      <td>9CD9F34546DF254C</td>\n",
       "      <td>2020-12-07 12:59:29</td>\n",
       "      <td>purchase</td>\n",
       "      <td>4.99</td>\n",
       "    </tr>\n",
       "    <tr>\n",
       "      <th>3</th>\n",
       "      <td>96F27A054B191457</td>\n",
       "      <td>2020-12-07 04:02:40</td>\n",
       "      <td>purchase</td>\n",
       "      <td>4.99</td>\n",
       "    </tr>\n",
       "    <tr>\n",
       "      <th>4</th>\n",
       "      <td>1FD7660FDF94CA1F</td>\n",
       "      <td>2020-12-07 10:15:09</td>\n",
       "      <td>purchase</td>\n",
       "      <td>4.99</td>\n",
       "    </tr>\n",
       "    <tr>\n",
       "      <th>5</th>\n",
       "      <td>831887FE7F2D6CBA</td>\n",
       "      <td>2020-12-07 06:50:29</td>\n",
       "      <td>purchase</td>\n",
       "      <td>4.99</td>\n",
       "    </tr>\n",
       "    <tr>\n",
       "      <th>6</th>\n",
       "      <td>6B2F726BFD5F8220</td>\n",
       "      <td>2020-12-07 11:27:42</td>\n",
       "      <td>purchase</td>\n",
       "      <td>4.99</td>\n",
       "    </tr>\n",
       "    <tr>\n",
       "      <th>7</th>\n",
       "      <td>BEB37715AACF53B0</td>\n",
       "      <td>2020-12-07 04:26:15</td>\n",
       "      <td>purchase</td>\n",
       "      <td>4.99</td>\n",
       "    </tr>\n",
       "    <tr>\n",
       "      <th>8</th>\n",
       "      <td>B5FA27F582227197</td>\n",
       "      <td>2020-12-07 01:46:37</td>\n",
       "      <td>purchase</td>\n",
       "      <td>4.99</td>\n",
       "    </tr>\n",
       "    <tr>\n",
       "      <th>9</th>\n",
       "      <td>A92195E3CFB83DBD</td>\n",
       "      <td>2020-12-07 00:32:07</td>\n",
       "      <td>purchase</td>\n",
       "      <td>4.99</td>\n",
       "    </tr>\n",
       "  </tbody>\n",
       "</table>\n",
       "</div>"
      ],
      "text/plain": [
       "            user_id             event_dt event_name  details\n",
       "0  E1BDDCE0DAFA2679  2020-12-07 20:22:03   purchase    99.99\n",
       "1  7B6452F081F49504  2020-12-07 09:22:53   purchase     9.99\n",
       "2  9CD9F34546DF254C  2020-12-07 12:59:29   purchase     4.99\n",
       "3  96F27A054B191457  2020-12-07 04:02:40   purchase     4.99\n",
       "4  1FD7660FDF94CA1F  2020-12-07 10:15:09   purchase     4.99\n",
       "5  831887FE7F2D6CBA  2020-12-07 06:50:29   purchase     4.99\n",
       "6  6B2F726BFD5F8220  2020-12-07 11:27:42   purchase     4.99\n",
       "7  BEB37715AACF53B0  2020-12-07 04:26:15   purchase     4.99\n",
       "8  B5FA27F582227197  2020-12-07 01:46:37   purchase     4.99\n",
       "9  A92195E3CFB83DBD  2020-12-07 00:32:07   purchase     4.99"
      ]
     },
     "metadata": {},
     "output_type": "display_data"
    }
   ],
   "source": [
    "display(new_ab_events.head(10))"
   ]
  },
  {
   "cell_type": "code",
   "execution_count": 11,
   "metadata": {},
   "outputs": [
    {
     "name": "stdout",
     "output_type": "stream",
     "text": [
      "<class 'pandas.core.frame.DataFrame'>\n",
      "RangeIndex: 423761 entries, 0 to 423760\n",
      "Data columns (total 4 columns):\n",
      " #   Column      Non-Null Count   Dtype  \n",
      "---  ------      --------------   -----  \n",
      " 0   user_id     423761 non-null  object \n",
      " 1   event_dt    423761 non-null  object \n",
      " 2   event_name  423761 non-null  object \n",
      " 3   details     60314 non-null   float64\n",
      "dtypes: float64(1), object(3)\n",
      "memory usage: 12.9+ MB\n",
      "None\n"
     ]
    }
   ],
   "source": [
    "print(new_ab_events.info())"
   ]
  },
  {
   "cell_type": "code",
   "execution_count": 12,
   "metadata": {},
   "outputs": [
    {
     "data": {
      "text/html": [
       "<div>\n",
       "<style scoped>\n",
       "    .dataframe tbody tr th:only-of-type {\n",
       "        vertical-align: middle;\n",
       "    }\n",
       "\n",
       "    .dataframe tbody tr th {\n",
       "        vertical-align: top;\n",
       "    }\n",
       "\n",
       "    .dataframe thead th {\n",
       "        text-align: right;\n",
       "    }\n",
       "</style>\n",
       "<table border=\"1\" class=\"dataframe\">\n",
       "  <thead>\n",
       "    <tr style=\"text-align: right;\">\n",
       "      <th></th>\n",
       "      <th>user_id</th>\n",
       "      <th>group</th>\n",
       "      <th>ab_test</th>\n",
       "    </tr>\n",
       "  </thead>\n",
       "  <tbody>\n",
       "    <tr>\n",
       "      <th>0</th>\n",
       "      <td>D1ABA3E2887B6A73</td>\n",
       "      <td>A</td>\n",
       "      <td>recommender_system_test</td>\n",
       "    </tr>\n",
       "    <tr>\n",
       "      <th>1</th>\n",
       "      <td>A7A3664BD6242119</td>\n",
       "      <td>A</td>\n",
       "      <td>recommender_system_test</td>\n",
       "    </tr>\n",
       "    <tr>\n",
       "      <th>2</th>\n",
       "      <td>DABC14FDDFADD29E</td>\n",
       "      <td>A</td>\n",
       "      <td>recommender_system_test</td>\n",
       "    </tr>\n",
       "    <tr>\n",
       "      <th>3</th>\n",
       "      <td>04988C5DF189632E</td>\n",
       "      <td>A</td>\n",
       "      <td>recommender_system_test</td>\n",
       "    </tr>\n",
       "    <tr>\n",
       "      <th>4</th>\n",
       "      <td>4FF2998A348C484F</td>\n",
       "      <td>A</td>\n",
       "      <td>recommender_system_test</td>\n",
       "    </tr>\n",
       "    <tr>\n",
       "      <th>5</th>\n",
       "      <td>7473E0943673C09E</td>\n",
       "      <td>A</td>\n",
       "      <td>recommender_system_test</td>\n",
       "    </tr>\n",
       "    <tr>\n",
       "      <th>6</th>\n",
       "      <td>C46FE336D240A054</td>\n",
       "      <td>A</td>\n",
       "      <td>recommender_system_test</td>\n",
       "    </tr>\n",
       "    <tr>\n",
       "      <th>7</th>\n",
       "      <td>92CB588012C10D3D</td>\n",
       "      <td>A</td>\n",
       "      <td>recommender_system_test</td>\n",
       "    </tr>\n",
       "    <tr>\n",
       "      <th>8</th>\n",
       "      <td>B3A2485649E4A012</td>\n",
       "      <td>A</td>\n",
       "      <td>recommender_system_test</td>\n",
       "    </tr>\n",
       "    <tr>\n",
       "      <th>9</th>\n",
       "      <td>66FC298441D50783</td>\n",
       "      <td>A</td>\n",
       "      <td>recommender_system_test</td>\n",
       "    </tr>\n",
       "  </tbody>\n",
       "</table>\n",
       "</div>"
      ],
      "text/plain": [
       "            user_id group                  ab_test\n",
       "0  D1ABA3E2887B6A73     A  recommender_system_test\n",
       "1  A7A3664BD6242119     A  recommender_system_test\n",
       "2  DABC14FDDFADD29E     A  recommender_system_test\n",
       "3  04988C5DF189632E     A  recommender_system_test\n",
       "4  4FF2998A348C484F     A  recommender_system_test\n",
       "5  7473E0943673C09E     A  recommender_system_test\n",
       "6  C46FE336D240A054     A  recommender_system_test\n",
       "7  92CB588012C10D3D     A  recommender_system_test\n",
       "8  B3A2485649E4A012     A  recommender_system_test\n",
       "9  66FC298441D50783     A  recommender_system_test"
      ]
     },
     "metadata": {},
     "output_type": "display_data"
    }
   ],
   "source": [
    "display(final_ab_participants.head(10))"
   ]
  },
  {
   "cell_type": "code",
   "execution_count": 13,
   "metadata": {},
   "outputs": [
    {
     "name": "stdout",
     "output_type": "stream",
     "text": [
      "<class 'pandas.core.frame.DataFrame'>\n",
      "RangeIndex: 14525 entries, 0 to 14524\n",
      "Data columns (total 3 columns):\n",
      " #   Column   Non-Null Count  Dtype \n",
      "---  ------   --------------  ----- \n",
      " 0   user_id  14525 non-null  object\n",
      " 1   group    14525 non-null  object\n",
      " 2   ab_test  14525 non-null  object\n",
      "dtypes: object(3)\n",
      "memory usage: 340.6+ KB\n",
      "None\n"
     ]
    }
   ],
   "source": [
    "print(final_ab_participants.info())"
   ]
  },
  {
   "cell_type": "markdown",
   "metadata": {},
   "source": [
    "## Preprocesamiento"
   ]
  },
  {
   "cell_type": "markdown",
   "metadata": {},
   "source": [
    "### mkt_events_data"
   ]
  },
  {
   "cell_type": "code",
   "execution_count": 14,
   "metadata": {},
   "outputs": [],
   "source": [
    "# Convertir las columnas de fecha a formato datetime\n",
    "mkt_events_data['start_dt'] = pd.to_datetime(mkt_events_data['start_dt'])\n",
    "mkt_events_data['finish_dt'] = pd.to_datetime(mkt_events_data['finish_dt'])"
   ]
  },
  {
   "cell_type": "code",
   "execution_count": 15,
   "metadata": {},
   "outputs": [
    {
     "name": "stdout",
     "output_type": "stream",
     "text": [
      "Valores nulos por columna:\n",
      " name         0\n",
      "regions      0\n",
      "start_dt     0\n",
      "finish_dt    0\n",
      "dtype: int64\n"
     ]
    }
   ],
   "source": [
    "# Verificar valores nulos\n",
    "print(\"Valores nulos por columna:\\n\", mkt_events_data.isnull().sum())"
   ]
  },
  {
   "cell_type": "code",
   "execution_count": 16,
   "metadata": {},
   "outputs": [
    {
     "name": "stdout",
     "output_type": "stream",
     "text": [
      "\n",
      "Duplicados encontrados: 0\n"
     ]
    }
   ],
   "source": [
    "# Revisar duplicados\n",
    "print(\"\\nDuplicados encontrados:\", mkt_events_data.duplicated().sum())"
   ]
  },
  {
   "cell_type": "code",
   "execution_count": 17,
   "metadata": {},
   "outputs": [
    {
     "name": "stdout",
     "output_type": "stream",
     "text": [
      "<class 'pandas.core.frame.DataFrame'>\n",
      "RangeIndex: 14 entries, 0 to 13\n",
      "Data columns (total 4 columns):\n",
      " #   Column     Non-Null Count  Dtype         \n",
      "---  ------     --------------  -----         \n",
      " 0   name       14 non-null     object        \n",
      " 1   regions    14 non-null     object        \n",
      " 2   start_dt   14 non-null     datetime64[ns]\n",
      " 3   finish_dt  14 non-null     datetime64[ns]\n",
      "dtypes: datetime64[ns](2), object(2)\n",
      "memory usage: 576.0+ bytes\n",
      "None\n"
     ]
    }
   ],
   "source": [
    "print(mkt_events_data.info())"
   ]
  },
  {
   "cell_type": "markdown",
   "metadata": {},
   "source": [
    "### new_ab_users\n"
   ]
  },
  {
   "cell_type": "code",
   "execution_count": 18,
   "metadata": {},
   "outputs": [],
   "source": [
    "# Convertir la columna de fecha a datetime\n",
    "new_ab_users['first_date'] = pd.to_datetime(new_ab_users['first_date'])"
   ]
  },
  {
   "cell_type": "code",
   "execution_count": 19,
   "metadata": {},
   "outputs": [
    {
     "name": "stdout",
     "output_type": "stream",
     "text": [
      "Valores nulos por columna:\n",
      " user_id       0\n",
      "first_date    0\n",
      "region        0\n",
      "device        0\n",
      "dtype: int64\n"
     ]
    }
   ],
   "source": [
    "print(\"Valores nulos por columna:\\n\", new_ab_users.isnull().sum())"
   ]
  },
  {
   "cell_type": "code",
   "execution_count": 20,
   "metadata": {},
   "outputs": [
    {
     "name": "stdout",
     "output_type": "stream",
     "text": [
      "\n",
      "Duplicados encontrados: 0\n"
     ]
    }
   ],
   "source": [
    "# Revisar duplicados\n",
    "print(\"\\nDuplicados encontrados:\", new_ab_users.duplicated().sum())"
   ]
  },
  {
   "cell_type": "code",
   "execution_count": 21,
   "metadata": {},
   "outputs": [
    {
     "name": "stdout",
     "output_type": "stream",
     "text": [
      "<class 'pandas.core.frame.DataFrame'>\n",
      "RangeIndex: 58703 entries, 0 to 58702\n",
      "Data columns (total 4 columns):\n",
      " #   Column      Non-Null Count  Dtype         \n",
      "---  ------      --------------  -----         \n",
      " 0   user_id     58703 non-null  object        \n",
      " 1   first_date  58703 non-null  datetime64[ns]\n",
      " 2   region      58703 non-null  object        \n",
      " 3   device      58703 non-null  object        \n",
      "dtypes: datetime64[ns](1), object(3)\n",
      "memory usage: 1.8+ MB\n",
      "None\n"
     ]
    }
   ],
   "source": [
    "print(new_ab_users.info())"
   ]
  },
  {
   "cell_type": "code",
   "execution_count": 22,
   "metadata": {},
   "outputs": [
    {
     "name": "stdout",
     "output_type": "stream",
     "text": [
      "Usuarios únicos: 58703\n",
      "Total de registros: 58703\n",
      "No hay IDs de usuario duplicados.\n"
     ]
    }
   ],
   "source": [
    "# Contar valores únicos en la columna user_id\n",
    "unique_users = new_ab_users['user_id'].nunique()\n",
    "total_users = len(new_ab_users)\n",
    "\n",
    "print(f\"Usuarios únicos: {unique_users}\")\n",
    "print(f\"Total de registros: {total_users}\")\n",
    "\n",
    "# Verificar si hay usuarios duplicados\n",
    "if unique_users == total_users:\n",
    "    print(\"No hay IDs de usuario duplicados.\")\n",
    "else:\n",
    "    print(\"Hay IDs de usuario duplicados.\")"
   ]
  },
  {
   "cell_type": "markdown",
   "metadata": {},
   "source": [
    "### new_ab_events"
   ]
  },
  {
   "cell_type": "code",
   "execution_count": 23,
   "metadata": {},
   "outputs": [],
   "source": [
    "# Convertir la columna de fecha a datetime\n",
    "new_ab_events['event_dt'] = pd.to_datetime(new_ab_events['event_dt'])"
   ]
  },
  {
   "cell_type": "code",
   "execution_count": 24,
   "metadata": {},
   "outputs": [
    {
     "name": "stdout",
     "output_type": "stream",
     "text": [
      "Valores nulos por columna:\n",
      " user_id            0\n",
      "event_dt           0\n",
      "event_name         0\n",
      "details       363447\n",
      "dtype: int64\n"
     ]
    }
   ],
   "source": [
    "# Verificar valores nulos\n",
    "print(\"Valores nulos por columna:\\n\", new_ab_events.isnull().sum())"
   ]
  },
  {
   "cell_type": "code",
   "execution_count": 25,
   "metadata": {},
   "outputs": [
    {
     "name": "stdout",
     "output_type": "stream",
     "text": [
      "\n",
      "Duplicados encontrados: 0\n"
     ]
    }
   ],
   "source": [
    "# Revisar duplicados\n",
    "print(\"\\nDuplicados encontrados:\", new_ab_events.duplicated().sum())"
   ]
  },
  {
   "cell_type": "code",
   "execution_count": 26,
   "metadata": {},
   "outputs": [
    {
     "name": "stdout",
     "output_type": "stream",
     "text": [
      "\n",
      "Usuarios únicos en eventos: 58703\n",
      "Total de registros en eventos: 423761\n",
      "Hay múltiples eventos por usuario, lo cual es esperado.\n"
     ]
    }
   ],
   "source": [
    "# Contar valores únicos de user_id\n",
    "unique_users_events = new_ab_events['user_id'].nunique()\n",
    "total_records_events = len(new_ab_events)\n",
    "\n",
    "print(f\"\\nUsuarios únicos en eventos: {unique_users_events}\")\n",
    "print(f\"Total de registros en eventos: {total_records_events}\")\n",
    "\n",
    "# Verificar si hay IDs de usuario duplicados en eventos\n",
    "if unique_users_events == total_records_events:\n",
    "    print(\"No hay IDs de usuario duplicados en eventos.\")\n",
    "else:\n",
    "    print(\"Hay múltiples eventos por usuario, lo cual es esperado.\")"
   ]
  },
  {
   "cell_type": "code",
   "execution_count": 27,
   "metadata": {},
   "outputs": [
    {
     "name": "stdout",
     "output_type": "stream",
     "text": [
      "<class 'pandas.core.frame.DataFrame'>\n",
      "RangeIndex: 423761 entries, 0 to 423760\n",
      "Data columns (total 4 columns):\n",
      " #   Column      Non-Null Count   Dtype         \n",
      "---  ------      --------------   -----         \n",
      " 0   user_id     423761 non-null  object        \n",
      " 1   event_dt    423761 non-null  datetime64[ns]\n",
      " 2   event_name  423761 non-null  object        \n",
      " 3   details     60314 non-null   float64       \n",
      "dtypes: datetime64[ns](1), float64(1), object(2)\n",
      "memory usage: 12.9+ MB\n",
      "None\n"
     ]
    }
   ],
   "source": [
    "print(new_ab_events.info())"
   ]
  },
  {
   "cell_type": "code",
   "execution_count": 28,
   "metadata": {},
   "outputs": [
    {
     "name": "stdout",
     "output_type": "stream",
     "text": [
      "Valores nulos en 'details': 363447\n",
      "Porcentaje de nulos: 85.77%\n",
      "\n"
     ]
    }
   ],
   "source": [
    "# Contar valores nulos en 'details'\n",
    "nulos_details = new_ab_events['details'].isnull().sum()\n",
    "total_registros = len(new_ab_events)\n",
    "porcentaje_nulos = (nulos_details / total_registros) * 100\n",
    "\n",
    "print(f\"Valores nulos en 'details': {nulos_details}\")\n",
    "print(f\"Porcentaje de nulos: {porcentaje_nulos:.2f}%\\n\")"
   ]
  },
  {
   "cell_type": "code",
   "execution_count": 29,
   "metadata": {},
   "outputs": [
    {
     "name": "stdout",
     "output_type": "stream",
     "text": [
      "Valores únicos en 'event_name':\n",
      "['purchase' 'product_cart' 'product_page' 'login']\n"
     ]
    }
   ],
   "source": [
    "# Ver valores únicos de 'event_name'\n",
    "print(\"Valores únicos en 'event_name':\")\n",
    "print(new_ab_events['event_name'].unique())"
   ]
  },
  {
   "cell_type": "code",
   "execution_count": 30,
   "metadata": {},
   "outputs": [
    {
     "name": "stdout",
     "output_type": "stream",
     "text": [
      "\n",
      "Valores nulos en 'details' por tipo de evento:\n",
      "login           182465\n",
      "product_page    120862\n",
      "product_cart     60120\n",
      "Name: event_name, dtype: int64\n"
     ]
    }
   ],
   "source": [
    "# Contar cuántos valores nulos hay por tipo de evento\n",
    "print(\"\\nValores nulos en 'details' por tipo de evento:\")\n",
    "print(new_ab_events[new_ab_events['details'].isnull()]['event_name'].value_counts())"
   ]
  },
  {
   "cell_type": "code",
   "execution_count": 31,
   "metadata": {},
   "outputs": [
    {
     "name": "stdout",
     "output_type": "stream",
     "text": [
      "\n",
      "Estadísticas de 'details' cuando no es nulo:\n",
      "count    60314.000000\n",
      "mean        23.881219\n",
      "std         72.228884\n",
      "min          4.990000\n",
      "25%          4.990000\n",
      "50%          4.990000\n",
      "75%          9.990000\n",
      "max        499.990000\n",
      "Name: details, dtype: float64\n"
     ]
    }
   ],
   "source": [
    "# Ver distribución de valores en 'details' cuando no son nulos\n",
    "print(\"\\nEstadísticas de 'details' cuando no es nulo:\")\n",
    "print(new_ab_events['details'].describe())"
   ]
  },
  {
   "cell_type": "markdown",
   "metadata": {},
   "source": [
    "Justificación para mantener los valores NaN en la columna details\n",
    "\n",
    "Después de analizar la distribución de valores en la columna details, observamos que los valores nulos corresponden exclusivamente a eventos que no representan compras (purchase). Esto indica que la ausencia de datos en esta columna no es un error ni un problema de calidad, sino una característica esperada del dataset. Reemplazar estos valores con 0 podría generar interpretaciones incorrectas en análisis posteriores, ya que details es una variable continua que representa montos de compra.\n",
    "\n",
    "Por lo tanto, hemos decidido mantener los valores NaN en la columna details y manejarlos mediante filtrado cuando sea necesario. Esto nos permitirá realizar cálculos y análisis sin alterar la estructura original del dataset ni introducir valores artificiales.\n",
    "\n",
    "Procedimiento para analizar details en eventos de compra\n",
    "\n",
    "En el análisis exploratorio de datos (EDA), filtraremos la columna details para considerar únicamente los registros donde event_name == 'purchase'.\n",
    "Evaluaremos su distribución, utilizando medidas de tendencia central (mean, median), dispersión (std, IQR) y visualizaciones como histogramas y boxplots para identificar posibles valores atípicos.\n",
    "Aplicaremos técnicas de detección de outliers si es necesario, considerando métodos como el rango intercuartil (IQR) o desviaciones estándar.\n",
    "Esta estrategia garantizará que los análisis sean precisos y reflejen el comportamiento real de los usuarios sin afectar la interpretación de los datos."
   ]
  },
  {
   "cell_type": "markdown",
   "metadata": {},
   "source": [
    "### final_ab_participants"
   ]
  },
  {
   "cell_type": "code",
   "execution_count": 32,
   "metadata": {},
   "outputs": [
    {
     "name": "stdout",
     "output_type": "stream",
     "text": [
      "Valores nulos por columna:\n",
      " user_id    0\n",
      "group      0\n",
      "ab_test    0\n",
      "dtype: int64\n"
     ]
    }
   ],
   "source": [
    "# Verificar valores nulos\n",
    "print(\"Valores nulos por columna:\\n\", final_ab_participants.isnull().sum())"
   ]
  },
  {
   "cell_type": "code",
   "execution_count": 33,
   "metadata": {},
   "outputs": [
    {
     "name": "stdout",
     "output_type": "stream",
     "text": [
      "\n",
      "Duplicados encontrados: 0\n"
     ]
    }
   ],
   "source": [
    "# Revisar duplicados\n",
    "print(\"\\nDuplicados encontrados:\", final_ab_participants.duplicated().sum())"
   ]
  },
  {
   "cell_type": "code",
   "execution_count": 34,
   "metadata": {},
   "outputs": [
    {
     "name": "stdout",
     "output_type": "stream",
     "text": [
      "\n",
      "Usuarios únicos en el test: 13638\n",
      "Total de registros en el test: 14525\n"
     ]
    }
   ],
   "source": [
    "# Contar valores únicos de user_id\n",
    "unique_users_participants = final_ab_participants['user_id'].nunique()\n",
    "total_records_participants = len(final_ab_participants)\n",
    "\n",
    "print(f\"\\nUsuarios únicos en el test: {unique_users_participants}\")\n",
    "print(f\"Total de registros en el test: {total_records_participants}\")"
   ]
  },
  {
   "cell_type": "code",
   "execution_count": 35,
   "metadata": {},
   "outputs": [
    {
     "name": "stdout",
     "output_type": "stream",
     "text": [
      "\n",
      "Usuarios asignados a más de un grupo: 441\n"
     ]
    }
   ],
   "source": [
    "# Verificar si hay usuarios asignados a más de un grupo\n",
    "users_per_group = final_ab_participants.groupby('user_id')['group'].nunique()\n",
    "multiple_groups = (users_per_group > 1).sum()\n",
    "\n",
    "print(f\"\\nUsuarios asignados a más de un grupo: {multiple_groups}\")"
   ]
  },
  {
   "cell_type": "code",
   "execution_count": 36,
   "metadata": {},
   "outputs": [
    {
     "name": "stdout",
     "output_type": "stream",
     "text": [
      "\n",
      "Distribución de usuarios en los grupos A y B:\n",
      "A    56.550775\n",
      "B    43.449225\n",
      "Name: group, dtype: float64\n"
     ]
    }
   ],
   "source": [
    "# Ver distribución de usuarios en cada grupo\n",
    "print(\"\\nDistribución de usuarios en los grupos A y B:\")\n",
    "print(final_ab_participants['group'].value_counts(normalize=True) * 100)"
   ]
  },
  {
   "cell_type": "code",
   "execution_count": 37,
   "metadata": {},
   "outputs": [
    {
     "name": "stdout",
     "output_type": "stream",
     "text": [
      "\n",
      "Distribución de usuarios en los grupos A y B después de limpieza:\n",
      "A    56.974273\n",
      "B    43.025727\n",
      "Name: group, dtype: float64\n",
      "\n",
      "Usuarios únicos después de limpieza: 13197\n",
      "Total de registros después de limpieza: 13643\n"
     ]
    }
   ],
   "source": [
    "# Crear una copia del dataset original para mantenerlo intacto\n",
    "clean_final_ab_participants = final_ab_participants.copy()\n",
    "\n",
    "# Identificar usuarios asignados a más de un grupo\n",
    "users_to_remove = users_per_group[users_per_group > 1].index\n",
    "\n",
    "# Eliminar estos usuarios del nuevo dataset\n",
    "clean_final_ab_participants = clean_final_ab_participants[~clean_final_ab_participants['user_id'].isin(users_to_remove)]\n",
    "\n",
    "# Verificar nuevamente la distribución después de la limpieza\n",
    "print(\"\\nDistribución de usuarios en los grupos A y B después de limpieza:\")\n",
    "print(clean_final_ab_participants['group'].value_counts(normalize=True) * 100)\n",
    "\n",
    "# Verificar cambios en la cantidad de usuarios únicos\n",
    "print(f\"\\nUsuarios únicos después de limpieza: {clean_final_ab_participants['user_id'].nunique()}\")\n",
    "print(f\"Total de registros después de limpieza: {len(clean_final_ab_participants)}\")"
   ]
  },
  {
   "cell_type": "code",
   "execution_count": 38,
   "metadata": {},
   "outputs": [
    {
     "name": "stdout",
     "output_type": "stream",
     "text": [
      "Número de usuarios que aparecen más de una vez en el dataset limpio: 446\n",
      "\n",
      "Ejemplo de usuarios repetidos:\n",
      "DFE341550729F28E    2\n",
      "187343735EC71686    2\n",
      "A944D2BCDFD50619    2\n",
      "54AAE35DB9DF5C19    2\n",
      "DF79393DADE71EF6    2\n",
      "8F72F2114F2D5184    2\n",
      "9657A8EEFB5E37E5    2\n",
      "00EFA157F7B6E1C4    2\n",
      "04988C5DF189632E    2\n",
      "5B04574502DEFDB3    2\n",
      "Name: user_id, dtype: int64\n"
     ]
    }
   ],
   "source": [
    "# Contar cuántas veces aparece cada usuario en el dataset limpio\n",
    "user_counts = clean_final_ab_participants['user_id'].value_counts()\n",
    "\n",
    "# Ver cuántos usuarios tienen más de una aparición en el dataset\n",
    "usuarios_repetidos = (user_counts > 1).sum()\n",
    "\n",
    "print(f\"Número de usuarios que aparecen más de una vez en el dataset limpio: {usuarios_repetidos}\")\n",
    "\n",
    "# Ver ejemplos de usuarios repetidos\n",
    "print(\"\\nEjemplo de usuarios repetidos:\")\n",
    "print(user_counts[user_counts > 1].head(10))"
   ]
  },
  {
   "cell_type": "code",
   "execution_count": 39,
   "metadata": {},
   "outputs": [
    {
     "name": "stdout",
     "output_type": "stream",
     "text": [
      "\n",
      "Usuarios únicos después de eliminar duplicados: 13197\n",
      "Total de registros después de eliminar duplicados: 13197\n"
     ]
    }
   ],
   "source": [
    "# Eliminar registros duplicados por user_id, manteniendo solo la primera aparición\n",
    "clean_final_ab_participants = clean_final_ab_participants.drop_duplicates(subset='user_id')\n",
    "\n",
    "# Verificar nuevamente la cantidad de usuarios únicos y total de registros\n",
    "print(f\"\\nUsuarios únicos después de eliminar duplicados: {clean_final_ab_participants['user_id'].nunique()}\")\n",
    "print(f\"Total de registros después de eliminar duplicados: {len(clean_final_ab_participants)}\")"
   ]
  },
  {
   "cell_type": "code",
   "execution_count": 40,
   "metadata": {},
   "outputs": [
    {
     "name": "stdout",
     "output_type": "stream",
     "text": [
      "\n",
      "Distribución de usuarios en los grupos A y B después de eliminar duplicados:\n",
      "A    56.323407\n",
      "B    43.676593\n",
      "Name: group, dtype: float64\n"
     ]
    }
   ],
   "source": [
    "# Revisar nuevamente la distribución de grupos\n",
    "print(\"\\nDistribución de usuarios en los grupos A y B después de eliminar duplicados:\")\n",
    "print(clean_final_ab_participants['group'].value_counts(normalize=True) * 100)"
   ]
  },
  {
   "cell_type": "markdown",
   "metadata": {},
   "source": [
    "Resumen del preprocesamiento de final_ab_participants:\n",
    "\n",
    "Durante la limpieza de datos, identificamos dos problemas clave en la asignación de usuarios en la prueba A/B:\n",
    "\n",
    "Usuarios asignados a más de un grupo\n",
    "\n",
    "Se encontraron 441 usuarios que aparecían en ambos grupos (A y B), lo que viola la aleatorización del experimento.\n",
    "\n",
    "Mantener estos usuarios podría introducir sesgos en el análisis, ya que su comportamiento afectaría los resultados de ambos grupos.\n",
    "\n",
    "Decisión: Eliminamos estos usuarios del dataset para garantizar la independencia entre los grupos de prueba. Usuarios con múltiples apariciones en el mismo grupo\n",
    "\n",
    "Se detectaron 446 usuarios con más de un registro en el mismo grupo (A o B).\n",
    "\n",
    "Esto podría haber sido causado por errores en la recopilación de datos o re-asignaciones involuntarias dentro del experimento.\n",
    "\n",
    "Decisión: Para evitar duplicidad en los análisis y asegurar que cada usuario represente una única observación, eliminamos las filas duplicadas y conservamos solo la primera aparición de cada usuario en el grupo asignado.\n",
    "\n",
    "Impacto de los cambios\n",
    "\n",
    "El número total de usuarios únicos ahora coincide con el número total de registros, asegurando que cada usuario tenga una sola observación.\n",
    "\n",
    "La distribución entre los grupos A (56.32%) y B (43.67%) se mantiene estable después de la limpieza, evitando un desbalance significativo en el experimento.\n",
    "\n",
    "Ahora podemos proceder con la validación y análisis del experimento sin ruido en los datos."
   ]
  },
  {
   "cell_type": "markdown",
   "metadata": {},
   "source": [
    "## EDA "
   ]
  },
  {
   "cell_type": "code",
   "execution_count": 41,
   "metadata": {},
   "outputs": [
    {
     "name": "stdout",
     "output_type": "stream",
     "text": [
      "            user_id            event_dt    event_name  details group  \\\n",
      "0  96F27A054B191457 2020-12-07 04:02:40      purchase     4.99     B   \n",
      "1  96F27A054B191457 2020-12-08 09:43:14      purchase     4.99     B   \n",
      "2  96F27A054B191457 2020-12-09 00:44:10      purchase     4.99     B   \n",
      "3  96F27A054B191457 2020-12-26 00:33:57      purchase     9.99     B   \n",
      "4  96F27A054B191457 2020-12-07 04:02:41  product_page      NaN     B   \n",
      "\n",
      "             ab_test  \n",
      "0  interface_eu_test  \n",
      "1  interface_eu_test  \n",
      "2  interface_eu_test  \n",
      "3  interface_eu_test  \n",
      "4  interface_eu_test  \n"
     ]
    }
   ],
   "source": [
    "# Fusionar eventos con los participantes del test\n",
    "ab_events = new_ab_events.merge(clean_final_ab_participants, on='user_id', how='inner')\n",
    "\n",
    "# Verificar la estructura después de la fusión\n",
    "print(ab_events.head())"
   ]
  },
  {
   "cell_type": "code",
   "execution_count": 42,
   "metadata": {},
   "outputs": [],
   "source": [
    "# Contar usuarios únicos en cada etapa del embudo por grupo usando groupby()\n",
    "absolute_counts_check = ab_events.groupby(['group', 'event_name'])['user_id'].nunique()"
   ]
  },
  {
   "cell_type": "code",
   "execution_count": 43,
   "metadata": {},
   "outputs": [
    {
     "data": {
      "text/plain": [
       "group  event_name  \n",
       "A      login           7432\n",
       "       product_cart    2357\n",
       "       product_page    4937\n",
       "       purchase        2555\n",
       "B      login           5763\n",
       "       product_cart    1911\n",
       "       product_page    3715\n",
       "       purchase        1881\n",
       "Name: user_id, dtype: int64"
      ]
     },
     "metadata": {},
     "output_type": "display_data"
    }
   ],
   "source": [
    "display(absolute_counts_check)"
   ]
  },
  {
   "cell_type": "code",
   "execution_count": 44,
   "metadata": {},
   "outputs": [],
   "source": [
    "# Contar usuarios por grupo \n",
    "users_group_count = ab_events.groupby(['group'])['user_id'].nunique()"
   ]
  },
  {
   "cell_type": "code",
   "execution_count": 45,
   "metadata": {},
   "outputs": [
    {
     "data": {
      "text/plain": [
       "group\n",
       "A    7433\n",
       "B    5764\n",
       "Name: user_id, dtype: int64"
      ]
     },
     "metadata": {},
     "output_type": "display_data"
    }
   ],
   "source": [
    "display(users_group_count)"
   ]
  },
  {
   "cell_type": "code",
   "execution_count": 46,
   "metadata": {},
   "outputs": [
    {
     "data": {
      "image/png": "[encoded data removed]",
      "text/plain": [
       "<Figure size 800x500 with 1 Axes>"
      ]
     },
     "metadata": {},
     "output_type": "display_data"
    }
   ],
   "source": [
    "# Filtrar datos del Grupo A\n",
    "absolute_counts_A = absolute_counts_check.loc['A'].sort_values(ascending=True)\n",
    "\n",
    "# Crear gráfico de barras horizontales\n",
    "plt.figure(figsize=(8,5))\n",
    "bars = plt.barh(absolute_counts_A.index, absolute_counts_A.values, color='blue')\n",
    "\n",
    "# Etiquetas y título\n",
    "plt.xlabel(\"Cantidad de Usuarios\")\n",
    "plt.ylabel(\"Etapa del Embudo\")\n",
    "plt.title(\"Usuarios Únicos en Cada Etapa - Grupo A\")\n",
    "\n",
    "# Agregar etiquetas con la cuenta exacta en cada barra\n",
    "for bar in bars:\n",
    "    plt.text(bar.get_width(), bar.get_y() + bar.get_height()/2, f'{int(bar.get_width())}', va='center', ha='left')\n",
    "\n",
    "plt.show()"
   ]
  },
  {
   "cell_type": "code",
   "execution_count": 47,
   "metadata": {},
   "outputs": [
    {
     "data": {
      "image/png": "[encoded data removed]",
      "text/plain": [
       "<Figure size 800x500 with 1 Axes>"
      ]
     },
     "metadata": {},
     "output_type": "display_data"
    }
   ],
   "source": [
    "# Filtrar datos del Grupo B\n",
    "absolute_counts_B = absolute_counts_check.loc['B'].sort_values(ascending=True)\n",
    "\n",
    "# Crear gráfico de barras horizontales\n",
    "plt.figure(figsize=(8,5))\n",
    "bars = plt.barh(absolute_counts_B.index, absolute_counts_B.values, color='orange')\n",
    "\n",
    "# Etiquetas y título\n",
    "plt.xlabel(\"Cantidad de Usuarios\")\n",
    "plt.ylabel(\"Etapa del Embudo\")\n",
    "plt.title(\"Usuarios Únicos en Cada Etapa - Grupo B\")\n",
    "\n",
    "# Agregar etiquetas con la cuenta exacta en cada barra\n",
    "for bar in bars:\n",
    "    plt.text(bar.get_width(), bar.get_y() + bar.get_height()/2, f'{int(bar.get_width())}', va='center', ha='left')\n",
    "\n",
    "plt.show()"
   ]
  },
  {
   "cell_type": "code",
   "execution_count": 48,
   "metadata": {},
   "outputs": [
    {
     "name": "stdout",
     "output_type": "stream",
     "text": [
      "Usuarios en el grupo A que compraron sin agregar al carrito: 1758\n"
     ]
    }
   ],
   "source": [
    "# Identificar usuarios en el grupo A que hicieron una compra pero nunca añadieron al carrito\n",
    "users_purchased = ab_events[(ab_events['group'] == 'A') & (ab_events['event_name'] == 'purchase')]['user_id'].unique()\n",
    "users_cart = ab_events[(ab_events['group'] == 'A') & (ab_events['event_name'] == 'product_cart')]['user_id'].unique()\n",
    "\n",
    "# Encontrar usuarios que compraron sin haber añadido al carrito\n",
    "users_purchased_no_cart = set(users_purchased) - set(users_cart)\n",
    "\n",
    "print(f\"Usuarios en el grupo A que compraron sin agregar al carrito: {len(users_purchased_no_cart)}\")"
   ]
  },
  {
   "cell_type": "code",
   "execution_count": 49,
   "metadata": {},
   "outputs": [
    {
     "name": "stdout",
     "output_type": "stream",
     "text": [
      "Usuarios en el grupo A que añadieron al carrito pero no compraron: 1560\n"
     ]
    }
   ],
   "source": [
    "# Identificar usuarios en el grupo A que añadieron al carrito pero nunca compraron\n",
    "users_cart_no_purchase = set(users_cart) - set(users_purchased)\n",
    "\n",
    "print(f\"Usuarios en el grupo A que añadieron al carrito pero no compraron: {len(users_cart_no_purchase)}\")"
   ]
  },
  {
   "cell_type": "code",
   "execution_count": 50,
   "metadata": {},
   "outputs": [
    {
     "name": "stdout",
     "output_type": "stream",
     "text": [
      "Diferencia entre usuarios que compraron sin agregar al carrito y los que agregaron pero no compraron: 198\n"
     ]
    }
   ],
   "source": [
    "# Calcular la diferencia entre ambos grupos\n",
    "difference = len(users_purchased_no_cart) - len(users_cart_no_purchase)\n",
    "\n",
    "print(f\"Diferencia entre usuarios que compraron sin agregar al carrito y los que agregaron pero no compraron: {difference}\")"
   ]
  },
  {
   "cell_type": "markdown",
   "metadata": {},
   "source": [
    "Resumen del hallazgo sobre la discrepancia en el embudo del Grupo A:\n",
    "\n",
    "Durante el análisis del embudo de conversión, detectamos una anomalía en el Grupo A:\n",
    "\n",
    "Había más usuarios con compras (purchase) que con eventos de agregar al carrito (product_cart), lo cual no es lo esperado en un flujo normal de compra.\n",
    "\n",
    "Para investigar este fenómeno, seguimos estos pasos:\n",
    "\n",
    "1 Comprobamos cuántos usuarios compraron sin haber añadido productos al carrito.\n",
    "\n",
    "Identificamos 1,758 usuarios en el Grupo A que realizaron una compra sin haber registrado un evento de \"añadir al carrito\".\n",
    "\n",
    "2️ Verificamos cuántos usuarios añadieron al carrito pero no compraron.\n",
    "\n",
    "Encontramos 1,560 usuarios que agregaron productos al carrito pero nunca finalizaron la compra.\n",
    "\n",
    "3️ Calculamos la diferencia entre ambos grupos.\n",
    "\n",
    "Diferencia encontrada: 198 usuarios más compraron sin haber registrado \"product_cart\" que los que abandonaron el carrito sin comprar.\n",
    "\n",
    "Este número coincide con la diferencia absoluta entre \"purchase\" y \"product_cart\" en el embudo, confirmando que la anomalía no es un error grave.\n",
    "\n",
    "Conclusión: ¿Afecta este hallazgo el análisis?\n",
    "\n",
    "No impacta de manera crítica el análisis, ya que la diferencia entre \"compras\" y \"añadir al carrito\" se explica por este fenómeno y no por un problema estructural en los datos.\n",
    "\n",
    "Lo más probable es que ciertos usuarios hayan comprado sin que se registrara correctamente el evento product_cart.\n",
    "\n",
    "El embudo sigue siendo válido, pero hay una posible inconsistencia en el tracking de eventos que podría mejorar en futuras implementaciones.\n",
    "\n",
    "¿Qué significa este número (198)?\n",
    "\n",
    "Este valor representa la cantidad de usuarios que compraron sin haber registrado explícitamente un evento de \"añadir al carrito\".\n",
    "\n",
    "Indica que hay un margen de error en el tracking, pero no lo suficiente como para invalidar el análisis.\n",
    "\n",
    "Es una diferencia pequeña en relación con el tamaño total de la muestra, por lo que podemos proceder con el cálculo de conversión."
   ]
  },
  {
   "cell_type": "markdown",
   "metadata": {},
   "source": [
    "Aclarado lo anterior: \n",
    "\n",
    "Observaciones sobre los Resultados del Embudo de Conversión\n",
    "\n",
    "Tras analizar la distribución de usuarios en cada etapa del embudo para los Grupos A y B, se pueden extraer las siguientes\n",
    "observacione:\n",
    "\n",
    "Flujo de conversión consistente en ambos grupos:\n",
    "\n",
    "La progresión de los usuarios a lo largo del embudo sigue un patrón similar en ambos grupos, desde el inicio de sesión (login) hasta la compra (purchase). No se observan desviaciones significativas que indiquen diferencias relevantes en el comportamiento entre los participantes de la prueba.\n",
    "\n",
    "Pérdida de usuarios a lo largo del embudo:\n",
    "\n",
    "En ambos grupos se aprecia una disminución progresiva en el número de usuarios conforme avanzan por el embudo. La mayor reducción ocurre entre las etapas de product_page y product_cart, lo que indica que una parte significativa de los usuarios no agregan productos al carrito tras visualizar la página de productos.\n",
    "\n",
    "Conversión final similar en ambos grupos:\n",
    "\n",
    "La cantidad de usuarios que completan la compra (purchase) en cada grupo es proporcionalmente similar con respecto a quienes iniciaron sesión (login). Esto sugiere que la variante de prueba no tuvo un impacto considerable en la decisión de compra de los usuarios.\n",
    "\n",
    "Diferencias mínimas entre los grupos:\n",
    "\n",
    "No se identifican discrepancias notables en la cantidad de usuarios que progresan de una etapa a otra en el embudo. Cualquier diferencia observada se encuentra dentro de márgenes esperados por variabilidad natural, lo que sugiere que los cambios implementados en la variante de prueba no generaron un impacto significativo en el comportamiento del usuario."
   ]
  },
  {
   "cell_type": "code",
   "execution_count": 51,
   "metadata": {},
   "outputs": [
    {
     "data": {
      "text/html": [
       "<div>\n",
       "<style scoped>\n",
       "    .dataframe tbody tr th:only-of-type {\n",
       "        vertical-align: middle;\n",
       "    }\n",
       "\n",
       "    .dataframe tbody tr th {\n",
       "        vertical-align: top;\n",
       "    }\n",
       "\n",
       "    .dataframe thead th {\n",
       "        text-align: right;\n",
       "    }\n",
       "</style>\n",
       "<table border=\"1\" class=\"dataframe\">\n",
       "  <thead>\n",
       "    <tr style=\"text-align: right;\">\n",
       "      <th></th>\n",
       "      <th>conversion_rate</th>\n",
       "    </tr>\n",
       "    <tr>\n",
       "      <th>group</th>\n",
       "      <th></th>\n",
       "    </tr>\n",
       "  </thead>\n",
       "  <tbody>\n",
       "    <tr>\n",
       "      <th>A</th>\n",
       "      <td>0.343737</td>\n",
       "    </tr>\n",
       "    <tr>\n",
       "      <th>B</th>\n",
       "      <td>0.326336</td>\n",
       "    </tr>\n",
       "  </tbody>\n",
       "</table>\n",
       "</div>"
      ],
      "text/plain": [
       "       conversion_rate\n",
       "group                 \n",
       "A             0.343737\n",
       "B             0.326336"
      ]
     },
     "metadata": {},
     "output_type": "display_data"
    }
   ],
   "source": [
    "# Contar usuarios únicos que realizaron una compra por grupo\n",
    "conversion_counts = ab_events[ab_events['event_name'] == 'purchase'].groupby('group')['user_id'].nunique()\n",
    "\n",
    "# Contar usuarios únicos totales por grupo\n",
    "total_users_per_group = ab_events.groupby('group')['user_id'].nunique()\n",
    "\n",
    "# Calcular la tasa de conversión\n",
    "conversion_rates = (conversion_counts / total_users_per_group).to_frame(name='conversion_rate')\n",
    "\n",
    "# Mostrar los resultados\n",
    "display(conversion_rates)"
   ]
  },
  {
   "cell_type": "code",
   "execution_count": 52,
   "metadata": {},
   "outputs": [
    {
     "data": {
      "image/png": "[encoded data removed]",
      "text/plain": [
       "<Figure size 800x500 with 1 Axes>"
      ]
     },
     "metadata": {},
     "output_type": "display_data"
    }
   ],
   "source": [
    "# Visualización de la conversión por grupo\n",
    "plt.figure(figsize=(8,5))\n",
    "sns.barplot(x=conversion_rates.index, y=conversion_rates['conversion_rate'], palette='viridis')\n",
    "plt.title('Tasa de conversión por grupo')\n",
    "plt.ylabel('Tasa de conversión')\n",
    "plt.xlabel('Grupo')\n",
    "plt.show()"
   ]
  },
  {
   "cell_type": "markdown",
   "metadata": {},
   "source": [
    "Observaciones sobre la tasa de conversión:\n",
    "\n",
    "1️ La diferencia entre las tasas de conversión es mínima:\n",
    "\n",
    "Grupo A: 34.37%\n",
    "\n",
    "Grupo B: 32.63%\n",
    "\n",
    "La variación entre ambos es menos de 2 puntos porcentuales, lo que indica que el cambio evaluado en la prueba no tiene un impacto relevante en la conversión.\n",
    "\n",
    "2️ El tamaño del grupo A podría influir en la ligera inclinación:\n",
    "\n",
    "Al tener más usuarios en el Grupo A, las pequeñas fluctuaciones en los datos pueden generar una percepción de mejora en la conversión que no es estadísticamente significativa a priori."
   ]
  },
  {
   "cell_type": "code",
   "execution_count": 64,
   "metadata": {},
   "outputs": [
    {
     "data": {
      "text/html": [
       "<div>\n",
       "<style scoped>\n",
       "    .dataframe tbody tr th:only-of-type {\n",
       "        vertical-align: middle;\n",
       "    }\n",
       "\n",
       "    .dataframe tbody tr th {\n",
       "        vertical-align: top;\n",
       "    }\n",
       "\n",
       "    .dataframe thead th {\n",
       "        text-align: right;\n",
       "    }\n",
       "</style>\n",
       "<table border=\"1\" class=\"dataframe\">\n",
       "  <thead>\n",
       "    <tr style=\"text-align: right;\">\n",
       "      <th>event_name</th>\n",
       "      <th>login</th>\n",
       "      <th>product_page</th>\n",
       "      <th>product_cart</th>\n",
       "      <th>purchase</th>\n",
       "    </tr>\n",
       "    <tr>\n",
       "      <th>group</th>\n",
       "      <th></th>\n",
       "      <th></th>\n",
       "      <th></th>\n",
       "      <th></th>\n",
       "    </tr>\n",
       "  </thead>\n",
       "  <tbody>\n",
       "    <tr>\n",
       "      <th>A</th>\n",
       "      <td>NaN</td>\n",
       "      <td>66.428956</td>\n",
       "      <td>47.741543</td>\n",
       "      <td>108.400509</td>\n",
       "    </tr>\n",
       "    <tr>\n",
       "      <th>B</th>\n",
       "      <td>NaN</td>\n",
       "      <td>64.462953</td>\n",
       "      <td>51.440108</td>\n",
       "      <td>98.430141</td>\n",
       "    </tr>\n",
       "  </tbody>\n",
       "</table>\n",
       "</div>"
      ],
      "text/plain": [
       "event_name  login  product_page  product_cart    purchase\n",
       "group                                                    \n",
       "A             NaN     66.428956     47.741543  108.400509\n",
       "B             NaN     64.462953     51.440108   98.430141"
      ]
     },
     "metadata": {},
     "output_type": "display_data"
    },
    {
     "data": {
      "text/plain": [
       "<Figure size 800x500 with 0 Axes>"
      ]
     },
     "metadata": {},
     "output_type": "display_data"
    },
    {
     "data": {
      "image/png": "[encoded data removed]",
      "text/plain": [
       "<Figure size 1000x600 with 1 Axes>"
      ]
     },
     "metadata": {},
     "output_type": "display_data"
    }
   ],
   "source": [
    "# Contar usuarios únicos en cada etapa del embudo por grupo\n",
    "funnel_counts = ab_events.groupby(['group', 'event_name'])['user_id'].nunique().unstack()\n",
    "\n",
    "# Ordenar las columnas según el flujo del embudo\n",
    "ordered_events = ['login', 'product_page', 'product_cart', 'purchase']\n",
    "funnel_counts = funnel_counts[ordered_events]\n",
    "\n",
    "# Calcular la conversión en cada paso del embudo como porcentaje\n",
    "funnel_conversion_rates = funnel_counts.div(funnel_counts.shift(axis=1), axis=0) * 100\n",
    "\n",
    "# Mostrar la conversión en porcentaje\n",
    "display(funnel_conversion_rates)\n",
    "\n",
    "# Graficar el porcentaje de conversión en cada paso del embudo\n",
    "plt.figure(figsize=(8,5))\n",
    "funnel_conversion_rates.T.plot(kind='bar', figsize=(10,6), colormap='autumn_r')\n",
    "plt.title('Porcentaje de Conversión en Cada Paso del Embudo')\n",
    "plt.ylabel('Tasa de Conversión (%)')\n",
    "plt.xlabel('Etapa del Embudo')\n",
    "plt.xticks(rotation=0)\n",
    "plt.legend(title='Grupo')\n",
    "plt.show()"
   ]
  },
  {
   "cell_type": "markdown",
   "metadata": {},
   "source": [
    "Observaciones:\n",
    "\n",
    "1 La conversión en cada etapa del embudo es similar entre los grupos\n",
    "\n",
    "Ambos grupos muestran tasas de conversión comparables en cada paso del embudo (product_page, product_cart, purchase).\n",
    "\n",
    "Las pequeñas diferencias son normales dentro de la variabilidad esperada y no sugieren un impacto real de la variante de prueba.\n",
    "\n",
    "2️ El 108% en purchase del Grupo A es una anomalía de tracking\n",
    "\n",
    "Este valor no es real y se debe a la inconsistencia en la captura del evento product_cart.\n",
    "\n",
    "No afecta las conclusiones generales, pero confirma que el tracking de eventos debe mejorarse en futuras pruebas para evitar sesgos en los datos.\n",
    "\n",
    "3️ No hay evidencia para afirmar que la variante de prueba mejora la conversión\n",
    "\n",
    "Como las tasas de conversión son similares en ambos grupos, no hay pruebas de que la variante tenga un impacto positivo o negativo en la experiencia del usuario.\n",
    "\n",
    "No se justifica implementar la variante basada únicamente en estos resultados."
   ]
  },
  {
   "cell_type": "code",
   "execution_count": 56,
   "metadata": {},
   "outputs": [
    {
     "data": {
      "image/png": "[encoded data removed]",
      "text/plain": [
       "<Figure size 800x500 with 1 Axes>"
      ]
     },
     "metadata": {},
     "output_type": "display_data"
    },
    {
     "data": {
      "image/png": "[encoded data removed]",
      "text/plain": [
       "<Figure size 800x500 with 1 Axes>"
      ]
     },
     "metadata": {},
     "output_type": "display_data"
    }
   ],
   "source": [
    "# Normalizar los datos para que el login sea 100% en cada grupo\n",
    "funnel_conversion_rates_normalized = funnel_counts.div(funnel_counts['login'], axis=0) * 100\n",
    "\n",
    "# Crear gráficos de barras horizontales por separado para cada grupo\n",
    "for group in funnel_conversion_rates_normalized.index:\n",
    "    plt.figure(figsize=(8, 5))\n",
    "    values = funnel_conversion_rates_normalized.loc[group]\n",
    "    \n",
    "    # Crear gráfico de barras horizontales\n",
    "    plt.barh(ordered_events[::-1], values[::-1], color='orange')  # Invertir el orden para mejor visualización\n",
    "    \n",
    "    # Agregar etiquetas de datos\n",
    "    for index, value in enumerate(values[::-1]):\n",
    "        plt.text(value + 2, index, f\"{value:.1f}%\", va='center')\n",
    "\n",
    "    # Configuración del gráfico\n",
    "    plt.title(f'Porcentaje de Conversión en Cada Paso - Grupo {group}')\n",
    "    plt.xlabel('Tasa de Conversión (%)')\n",
    "    plt.ylabel('Etapa del Embudo')\n",
    "    plt.xlim(0, 110)  # Para mantener consistencia en la escala\n",
    "    plt.show()"
   ]
  },
  {
   "cell_type": "markdown",
   "metadata": {},
   "source": [
    "Observaciones clave:\n",
    "1️ Patrón de abandono consistente:\n",
    "\n",
    "Tanto en el Grupo A como en el Grupo B, el porcentaje de usuarios que avanza entre cada etapa es muy parecido.\n",
    "\n",
    "No se observa un punto en el embudo donde un grupo tenga una ventaja significativa sobre el otro.\n",
    "\n",
    "2️ Tasas de conversión casi idénticas:\n",
    "\n",
    "Product Page: Grupo A (66.4%) vs. Grupo B (64.5%)\n",
    "\n",
    "Product Cart: Grupo A (31.7%) vs. Grupo B (33.2%)\n",
    "\n",
    "Purchase: Grupo A (34.4%) vs. Grupo B (32.6%)\n",
    "\n",
    "Las diferencias en estos valores son mínimas y probablemente sean solo fluctuaciones aleatorias y no efectos causados por la variante de prueba.\n",
    "\n",
    "3️ El comportamiento del usuario no cambia con la variante:\n",
    "\n",
    "La distribución de conversiones en cada etapa indica que el cambio testeado en la prueba A/B no influye en cómo los usuarios se mueven dentro del embudo.\n",
    "\n",
    "Cualquier decisión de implementación basada en estos resultados no estaría justificada por una mejora en la conversión."
   ]
  },
  {
   "cell_type": "code",
   "execution_count": 57,
   "metadata": {},
   "outputs": [],
   "source": [
    "# Filtrar usuarios que pasaron por cada etapa del embudo en orden\n",
    "users_login = set(ab_events[ab_events['event_name'] == 'login']['user_id'])\n",
    "users_product_page = set(ab_events[ab_events['event_name'] == 'product_page']['user_id'])\n",
    "users_product_cart = set(ab_events[ab_events['event_name'] == 'product_cart']['user_id'])\n",
    "users_purchase = set(ab_events[ab_events['event_name'] == 'purchase']['user_id'])"
   ]
  },
  {
   "cell_type": "code",
   "execution_count": 58,
   "metadata": {},
   "outputs": [
    {
     "data": {
      "text/html": [
       "<div>\n",
       "<style scoped>\n",
       "    .dataframe tbody tr th:only-of-type {\n",
       "        vertical-align: middle;\n",
       "    }\n",
       "\n",
       "    .dataframe tbody tr th {\n",
       "        vertical-align: top;\n",
       "    }\n",
       "\n",
       "    .dataframe thead th {\n",
       "        text-align: right;\n",
       "    }\n",
       "</style>\n",
       "<table border=\"1\" class=\"dataframe\">\n",
       "  <thead>\n",
       "    <tr style=\"text-align: right;\">\n",
       "      <th></th>\n",
       "      <th>completion_rate</th>\n",
       "    </tr>\n",
       "    <tr>\n",
       "      <th>group</th>\n",
       "      <th></th>\n",
       "    </tr>\n",
       "  </thead>\n",
       "  <tbody>\n",
       "    <tr>\n",
       "      <th>A</th>\n",
       "      <td>7.251446</td>\n",
       "    </tr>\n",
       "    <tr>\n",
       "      <th>B</th>\n",
       "      <td>7.182512</td>\n",
       "    </tr>\n",
       "  </tbody>\n",
       "</table>\n",
       "</div>"
      ],
      "text/plain": [
       "       completion_rate\n",
       "group                 \n",
       "A             7.251446\n",
       "B             7.182512"
      ]
     },
     "metadata": {},
     "output_type": "display_data"
    }
   ],
   "source": [
    "# Identificar usuarios que completaron todas las etapas en orden\n",
    "users_complete_funnel = users_login & users_product_page & users_product_cart & users_purchase\n",
    "\n",
    "# Calcular la proporción por grupo\n",
    "funnel_completion_rate = ab_events[ab_events['user_id'].isin(users_complete_funnel)].groupby('group')['user_id'].nunique() / ab_events.groupby('group')['user_id'].nunique()\n",
    "\n",
    "# Convertir a porcentaje\n",
    "funnel_completion_rate = (funnel_completion_rate * 100).to_frame(name='completion_rate')\n",
    "\n",
    "# Mostrar el resultado\n",
    "display(funnel_completion_rate)"
   ]
  },
  {
   "cell_type": "code",
   "execution_count": 59,
   "metadata": {},
   "outputs": [
    {
     "data": {
      "image/png": "[encoded data removed]",
      "text/plain": [
       "<Figure size 800x500 with 1 Axes>"
      ]
     },
     "metadata": {},
     "output_type": "display_data"
    }
   ],
   "source": [
    "# Graficar los resultados\n",
    "plt.figure(figsize=(8,5))\n",
    "plt.bar(funnel_completion_rate.index, funnel_completion_rate['completion_rate'], color=['blue', 'red'])\n",
    "plt.ylabel('Porcentaje de Usuarios (%)')\n",
    "plt.xlabel('Grupo')\n",
    "plt.title('Proporción de Usuarios que Completaron Todo el Embudo')\n",
    "plt.ylim(0, 100)\n",
    "\n",
    "# Agregar etiquetas con los valores\n",
    "for i, value in enumerate(funnel_completion_rate['completion_rate']):\n",
    "    plt.text(i, value + 2, f\"{value:.2f}%\", ha='center')\n",
    "\n",
    "plt.show()"
   ]
  },
  {
   "cell_type": "markdown",
   "metadata": {},
   "source": [
    "Observaciones clave:\n",
    "\n",
    "1️ Tasas de finalización del embudo casi idénticas\n",
    "\n",
    "Grupo A: 7.25%\n",
    "\n",
    "Grupo B: 7.18%\n",
    "\n",
    "Diferencia de solo 0.07 puntos porcentuales, lo que indica que la variante de prueba no tuvo un impacto significativo en la finalización del embudo.\n",
    "\n",
    "2️ Sin mejora en la retención de usuarios\n",
    "\n",
    "Si la variante probada buscaba mejorar la conversión reduciendo la pérdida de usuarios en el embudo, estos datos indican que no logró ese objetivo.\n",
    "\n",
    "3️ Confirmación de la similitud en el comportamiento de los usuarios\n",
    "\n",
    "Tanto en la tasa de conversión como en la proporción de usuarios que completaron el embudo, no hay diferencias relevantes.\n",
    "\n",
    "Cualquier variación observada es mínima y puede deberse a fluctuaciones aleatorias."
   ]
  },
  {
   "cell_type": "code",
   "execution_count": 62,
   "metadata": {},
   "outputs": [
    {
     "data": {
      "text/plain": [
       "event_date\n",
       "2020-12-07    2490\n",
       "2020-12-08    2693\n",
       "2020-12-09    2823\n",
       "2020-12-10    2939\n",
       "2020-12-11    2938\n",
       "2020-12-12    3872\n",
       "2020-12-13    4288\n",
       "2020-12-14    5654\n",
       "2020-12-15    5203\n",
       "2020-12-16    4933\n",
       "Name: event_name, dtype: int64"
      ]
     },
     "metadata": {},
     "output_type": "display_data"
    }
   ],
   "source": [
    "# Extraer la fecha sin la hora para agrupar correctamente\n",
    "ab_events['event_date'] = ab_events['event_dt'].dt.date\n",
    "\n",
    "# Contar la cantidad de eventos por día\n",
    "events_per_day = ab_events.groupby('event_date')['event_name'].count()\n",
    "\n",
    "# Mostrar los primeros valores\n",
    "display(events_per_day.head(10))"
   ]
  },
  {
   "cell_type": "code",
   "execution_count": 61,
   "metadata": {},
   "outputs": [
    {
     "data": {
      "image/png": "[encoded data removed]",
      "text/plain": [
       "<Figure size 1200x600 with 1 Axes>"
      ]
     },
     "metadata": {},
     "output_type": "display_data"
    }
   ],
   "source": [
    "# Graficar la distribución de eventos por día\n",
    "plt.figure(figsize=(12, 6))\n",
    "plt.plot(events_per_day.index, events_per_day.values, marker='o', linestyle='-', color='blue')\n",
    "plt.xlabel('Fecha')\n",
    "plt.ylabel('Cantidad de Eventos')\n",
    "plt.title('Distribución de Eventos por Día')\n",
    "plt.xticks(rotation=45)\n",
    "plt.grid(True)\n",
    "plt.show()"
   ]
  },
  {
   "cell_type": "markdown",
   "metadata": {},
   "source": [
    "Interpretación de la Tendencia:\n",
    "\n",
    "1️ Aumento progresivo al inicio de la prueba\n",
    "\n",
    "Desde los primeros días hasta aproximadamente el 21 de diciembre, se observa un incremento constante en la cantidad de eventos.\n",
    "\n",
    "Esto podría indicar que la prueba ganó tracción con el tiempo, con más usuarios participando o interactuando en la plataforma.\n",
    "\n",
    "2️ Pico de actividad cercano al 21 de diciembre\n",
    "\n",
    "La cantidad de eventos alcanza su máximo en esta fecha.\n",
    "\n",
    "Esto podría deberse a factores externos, como promociones, campañas de marketing o un aumento natural en la actividad del usuario antes de las festividades.\n",
    "\n",
    "3️ Descenso gradual después del pico\n",
    "\n",
    "A partir del 22 de diciembre, la cantidad de eventos comienza a disminuir notablemente.\n",
    "\n",
    "Para el 29 de diciembre, la actividad está en su punto más bajo.\n",
    "\n",
    "Posibles razones del descenso:\n",
    "\n",
    "Fin de la prueba: Es posible que menos usuarios estuvieran disponibles para interactuar.\n",
    "\n",
    "Efecto de temporada: Diciembre es un mes con muchas festividades; las personas pueden reducir su actividad en línea después de las compras navideñas.\n",
    "\n",
    "Fatiga del usuario: Algunos participantes pueden haber perdido interés con el tiempo."
   ]
  },
  {
   "cell_type": "code",
   "execution_count": 65,
   "metadata": {},
   "outputs": [
    {
     "data": {
      "image/png": "[encoded data removed]",
      "text/plain": [
       "<Figure size 1200x600 with 1 Axes>"
      ]
     },
     "metadata": {},
     "output_type": "display_data"
    }
   ],
   "source": [
    "# Contar la cantidad de eventos por día y por grupo\n",
    "events_per_day_group = ab_events.groupby(['event_date', 'group'])['event_name'].count().unstack()\n",
    "\n",
    "# Graficar la distribución de eventos por día y grupo\n",
    "plt.figure(figsize=(12, 6))\n",
    "\n",
    "# Graficar cada grupo por separado\n",
    "for group in events_per_day_group.columns:\n",
    "    plt.plot(events_per_day_group.index, events_per_day_group[group], marker='o', linestyle='-', label=f'Grupo {group}')\n",
    "\n",
    "# Configuración del gráfico\n",
    "plt.xlabel('Fecha')\n",
    "plt.ylabel('Cantidad de Eventos')\n",
    "plt.title('Distribución de Eventos por Día y Grupo')\n",
    "plt.xticks(rotation=45)\n",
    "plt.legend(title='Grupo')\n",
    "plt.grid(True)\n",
    "plt.show()"
   ]
  },
  {
   "cell_type": "markdown",
   "metadata": {},
   "source": [
    "Esta visualización confirma que la tendencia de interacción es prácticamente idéntica en ambos grupos, lo que refuerza la conclusión de que la variante de prueba no tuvo un impacto significativo en el comportamiento de los usuarios.\n",
    "\n",
    "\n",
    "1 El patrón temporal es el mismo en ambos grupos\n",
    "\n",
    "Ambos grupos muestran un crecimiento gradual en la actividad, seguido de un pico y una caída hacia el final de la prueba.\n",
    "\n",
    "Esto sugiere que los factores que afectan la interacción son externos y no dependientes de la variante.\n",
    "\n",
    "2️ La diferencia principal es la cantidad total de eventos\n",
    "\n",
    "Grupo A tiene más eventos que el Grupo B en casi todas las fechas.\n",
    "\n",
    "Esto se explica simplemente porque el Grupo A tiene más usuarios, no porque haya más interacción por usuario.\n",
    "\n",
    "3️ La variante de prueba no afectó el engagement\n",
    "\n",
    "Si la variante hubiera tenido un impacto real en la participación, esperaríamos ver una diferencia en la forma de la curva, no solo en la cantidad de eventos.\n",
    "\n",
    "Como ambas curvas son casi idénticas, podemos concluir que la modificación evaluada no cambió la frecuencia de interacción de los usuarios.\n"
   ]
  },
  {
   "cell_type": "code",
   "execution_count": 66,
   "metadata": {},
   "outputs": [
    {
     "data": {
      "image/png": "[encoded data removed]",
      "text/plain": [
       "<Figure size 1200x500 with 2 Axes>"
      ]
     },
     "metadata": {},
     "output_type": "display_data"
    }
   ],
   "source": [
    "# Filtrar solo eventos de \"purchase\"\n",
    "purchase_details = new_ab_events[new_ab_events['event_name'] == 'purchase']['details']\n",
    "\n",
    "# Configurar la figura\n",
    "plt.figure(figsize=(12, 5))\n",
    "\n",
    "# Histograma de la distribución\n",
    "plt.subplot(1, 2, 1)\n",
    "sns.histplot(purchase_details, bins=30, kde=True, color='blue')\n",
    "plt.xlabel('Monto de Compra (details)')\n",
    "plt.ylabel('Frecuencia')\n",
    "plt.title('Distribución del Monto de Compra')\n",
    "\n",
    "# Boxplot para detectar outliers\n",
    "plt.subplot(1, 2, 2)\n",
    "sns.boxplot(x=purchase_details, color='red')\n",
    "plt.xlabel('Monto de Compra (details)')\n",
    "plt.title('Boxplot del Monto de Compra')\n",
    "\n",
    "# Mostrar los gráficos\n",
    "plt.tight_layout()\n",
    "plt.show()"
   ]
  },
  {
   "cell_type": "code",
   "execution_count": 67,
   "metadata": {},
   "outputs": [
    {
     "data": {
      "image/png": "[encoded data removed]",
      "text/plain": [
       "<Figure size 1200x500 with 2 Axes>"
      ]
     },
     "metadata": {},
     "output_type": "display_data"
    }
   ],
   "source": [
    "# Definir percentiles para eliminar outliers extremos\n",
    "lower_percentile = 1  # Excluye el 1% más bajo\n",
    "upper_percentile = 99  # Excluye el 1% más alto\n",
    "\n",
    "# Calcular los valores de corte\n",
    "low_cutoff = purchase_details.quantile(lower_percentile / 100)\n",
    "high_cutoff = purchase_details.quantile(upper_percentile / 100)\n",
    "\n",
    "# Filtrar los datos dentro de estos percentiles\n",
    "filtered_purchase_details = purchase_details[(purchase_details >= low_cutoff) & (purchase_details <= high_cutoff)]\n",
    "\n",
    "# Configurar la figura\n",
    "plt.figure(figsize=(12, 5))\n",
    "\n",
    "# Histograma después de eliminar outliers\n",
    "plt.subplot(1, 2, 1)\n",
    "sns.histplot(filtered_purchase_details, bins=30, kde=True, color='blue')\n",
    "plt.xlabel('Monto de Compra (details)')\n",
    "plt.ylabel('Frecuencia')\n",
    "plt.title(f'Distribución del Monto de Compra (Filtrada: {lower_percentile}-{upper_percentile} percentil)')\n",
    "\n",
    "# Boxplot después de eliminar outliers\n",
    "plt.subplot(1, 2, 2)\n",
    "sns.boxplot(x=filtered_purchase_details, color='red')\n",
    "plt.xlabel('Monto de Compra (details)')\n",
    "plt.title(f'Boxplot del Monto de Compra (Filtrada: {lower_percentile}-{upper_percentile} percentil)')\n",
    "\n",
    "# Mostrar los gráficos\n",
    "plt.tight_layout()\n",
    "plt.show()"
   ]
  },
  {
   "cell_type": "code",
   "execution_count": 68,
   "metadata": {},
   "outputs": [
    {
     "data": {
      "image/png": "[encoded data removed]",
      "text/plain": [
       "<Figure size 1200x500 with 2 Axes>"
      ]
     },
     "metadata": {},
     "output_type": "display_data"
    },
    {
     "data": {
      "image/png": "[encoded data removed]",
      "text/plain": [
       "<Figure size 1200x500 with 2 Axes>"
      ]
     },
     "metadata": {},
     "output_type": "display_data"
    }
   ],
   "source": [
    "percentiles_to_test = [(5, 95), (10, 90)]\n",
    "\n",
    "for lower_percentile, upper_percentile in percentiles_to_test:\n",
    "    # Calcular valores de corte\n",
    "    low_cutoff = purchase_details.quantile(lower_percentile / 100)\n",
    "    high_cutoff = purchase_details.quantile(upper_percentile / 100)\n",
    "\n",
    "    # Filtrar los datos dentro de estos percentiles\n",
    "    filtered_purchase_details = purchase_details[(purchase_details >= low_cutoff) & (purchase_details <= high_cutoff)]\n",
    "\n",
    "    # Configurar la figura\n",
    "    plt.figure(figsize=(12, 5))\n",
    "\n",
    "    # Histograma después de eliminar más outliers\n",
    "    plt.subplot(1, 2, 1)\n",
    "    sns.histplot(filtered_purchase_details, bins=30, kde=True, color='blue')\n",
    "    plt.xlabel('Monto de Compra (details)')\n",
    "    plt.ylabel('Frecuencia')\n",
    "    plt.title(f'Distribución del Monto de Compra (Filtrada: {lower_percentile}-{upper_percentile} percentil)')\n",
    "\n",
    "    # Boxplot después de eliminar más outliers\n",
    "    plt.subplot(1, 2, 2)\n",
    "    sns.boxplot(x=filtered_purchase_details, color='red')\n",
    "    plt.xlabel('Monto de Compra (details)')\n",
    "    plt.title(f'Boxplot del Monto de Compra (Filtrada: {lower_percentile}-{upper_percentile} percentil)')\n",
    "\n",
    "    # Mostrar los gráficos\n",
    "    plt.tight_layout()\n",
    "    plt.show()"
   ]
  },
  {
   "cell_type": "code",
   "execution_count": 70,
   "metadata": {},
   "outputs": [],
   "source": [
    "# Fusionar eventos con los participantes para agregar el grupo A/B\n",
    "ab_events = new_ab_events.merge(clean_final_ab_participants, on='user_id', how='inner')"
   ]
  },
  {
   "cell_type": "code",
   "execution_count": 71,
   "metadata": {},
   "outputs": [
    {
     "name": "stdout",
     "output_type": "stream",
     "text": [
      "            user_id group    event_name\n",
      "0  96F27A054B191457     B      purchase\n",
      "1  96F27A054B191457     B      purchase\n",
      "2  96F27A054B191457     B      purchase\n",
      "3  96F27A054B191457     B      purchase\n",
      "4  96F27A054B191457     B  product_page\n"
     ]
    }
   ],
   "source": [
    "# Verificar que la columna 'group' está presente\n",
    "print(ab_events[['user_id', 'group', 'event_name']].head())"
   ]
  },
  {
   "cell_type": "code",
   "execution_count": 72,
   "metadata": {},
   "outputs": [
    {
     "data": {
      "image/png": "[encoded data removed]",
      "text/plain": [
       "<Figure size 1200x500 with 1 Axes>"
      ]
     },
     "metadata": {},
     "output_type": "display_data"
    }
   ],
   "source": [
    "# Filtrar solo eventos de \"purchase\" con el grupo agregado\n",
    "purchase_details_grouped = ab_events[ab_events['event_name'] == 'purchase'].groupby('group')['details']\n",
    "\n",
    "# Configurar la figura\n",
    "plt.figure(figsize=(12, 5))\n",
    "\n",
    "# Histograma por grupo A/B\n",
    "sns.histplot(purchase_details_grouped.get_group('A'), bins=30, kde=True, color='blue', label='Grupo A', alpha=0.6)\n",
    "sns.histplot(purchase_details_grouped.get_group('B'), bins=30, kde=True, color='red', label='Grupo B', alpha=0.6)\n",
    "\n",
    "plt.xlabel('Monto de Compra (details)')\n",
    "plt.ylabel('Frecuencia')\n",
    "plt.title('Distribución del Monto de Compra por Grupo')\n",
    "plt.legend()\n",
    "plt.show()"
   ]
  },
  {
   "cell_type": "markdown",
   "metadata": {},
   "source": [
    "Análisis del Monto de Compra (details) en el Evento purchase:\n",
    "\n",
    "Para evaluar si hay diferencias en el comportamiento de compra entre los grupos de la prueba A/B, seguimos un proceso estructurado para analizar la columna details, que representa el monto gastado en cada transacción.\n",
    "\n",
    "Paso 1: Análisis General del Monto de Compra\n",
    "\n",
    "Inicialmente, exploramos la distribución de la columna details sin considerar los grupos. Para ello: \n",
    "\n",
    "1️ Generamos un histograma y un boxplot de los valores de details para identificar tendencias y posibles outliers.\n",
    "\n",
    "2️ Detectamos una distribución sesgada a la izquierda, con una gran concentración de valores en rangos bajos y algunos valores extremos elevados.\n",
    "\n",
    "3️ Identificamos outliers en el análisis, lo que indicaba la presencia de transacciones atípicas con montos considerablemente mayores a la mayoría de las compras.\n",
    "\n",
    "4️ Aplicamos percentiles (90, 95, 99) para hacer un zoom en los valores más representativos y mejorar la visualización de la distribución.\n",
    "\n",
    "Conclusión del análisis general:\n",
    "\n",
    "La mayoría de las compras se concentran en valores bajos, con algunos pocos casos de compras de montos altos.\n",
    "\n",
    "La distribución no es normal, lo que sugiere que la media puede no ser la mejor métrica para describir el comportamiento típico de gasto.\n",
    "\n",
    "Paso 2: Análisis del Monto de Compra Separado por Grupo\n",
    "\n",
    "Para verificar si la variante de prueba afectó los montos de compra, realizamos los siguientes análisis: \n",
    "1️ Fusionamos new_ab_events con clean_final_ab_participants para obtener la asignación de grupos A/B en la tabla ab_events.\n",
    "\n",
    "2️ Filtramos únicamente las compras (purchase) y separamos los montos gastados por grupo (A y B).\n",
    "\n",
    "3️ Visualizamos la distribución de los montos de compra por grupo con histogramas superpuestos, permitiendo comparar la forma y valores característicos de cada grupo.\n",
    "\n",
    "Observaciones clave de la comparación A/B:\n",
    "\n",
    "Las distribuciones son prácticamente idénticas en ambos grupos.\n",
    "\n",
    "No hay diferencias significativas en la forma ni en los valores predominantes, lo que indica que la variante de prueba no tuvo impacto en los montos gastados por los usuarios.\n",
    "\n",
    "Las mismas tendencias y valores atípicos aparecen en ambos grupos, reforzando la idea de que la distribución del gasto no se vio afectada por la prueba.\n",
    "\n",
    "Conclusión General:\n",
    "\n",
    "Después de analizar los montos de compra tanto de forma general como segmentada por grupo, concluimos que no hay diferencias significativas entre los grupos A y B.\n",
    "\n",
    "Los usuarios gastan aproximadamente los mismos montos en ambos grupos, y la variante de prueba no afectó el comportamiento de gasto."
   ]
  },
  {
   "cell_type": "markdown",
   "metadata": {},
   "source": [
    "## Evaluación de los resultados de la prueba A/B y conclusiones"
   ]
  },
  {
   "cell_type": "code",
   "execution_count": 74,
   "metadata": {},
   "outputs": [
    {
     "name": "stdout",
     "output_type": "stream",
     "text": [
      "Estadístico Z: 2.0989\n",
      "P-valor: 0.0358\n",
      "Existe una diferencia estadísticamente significativa en la tasa de conversión entre los grupos A y B.\n"
     ]
    }
   ],
   "source": [
    "# Contar usuarios únicos que realizaron una compra por grupo\n",
    "conversion_counts = ab_events[ab_events['event_name'] == 'purchase'].groupby('group')['user_id'].nunique()\n",
    "\n",
    "# Contar usuarios únicos totales por grupo\n",
    "total_users_per_group = ab_events.groupby('group')['user_id'].nunique()\n",
    "\n",
    "# Definir los valores para la prueba Z\n",
    "successes = conversion_counts.values  # Número de conversiones en cada grupo\n",
    "trials = total_users_per_group.values  # Número total de usuarios en cada grupo\n",
    "\n",
    "# Prueba Z de dos proporciones\n",
    "z_stat, p_value = proportions_ztest(successes, trials)\n",
    "\n",
    "# Mostrar los resultados\n",
    "print(f\"Estadístico Z: {z_stat:.4f}\")\n",
    "print(f\"P-valor: {p_value:.4f}\")\n",
    "\n",
    "# Evaluar significancia\n",
    "alpha = 0.05\n",
    "if p_value < alpha:\n",
    "    print(\"Existe una diferencia estadísticamente significativa en la tasa de conversión entre los grupos A y B.\")\n",
    "else:\n",
    "    print(\"No hay evidencia suficiente para afirmar que las tasas de conversión son diferentes entre los grupos.\")"
   ]
  },
  {
   "cell_type": "code",
   "execution_count": 75,
   "metadata": {},
   "outputs": [
    {
     "name": "stdout",
     "output_type": "stream",
     "text": [
      "Diferencia en la tasa de conversión: 0.0174\n",
      "Intervalo de confianza del 95%: (0.0012, 0.0336)\n"
     ]
    }
   ],
   "source": [
    "# Calcular error estándar para cada grupo\n",
    "se_A = np.sqrt((conversion_rates.loc['A', 'conversion_rate'] * (1 - conversion_rates.loc['A', 'conversion_rate'])) / total_users_per_group['A'])\n",
    "se_B = np.sqrt((conversion_rates.loc['B', 'conversion_rate'] * (1 - conversion_rates.loc['B', 'conversion_rate'])) / total_users_per_group['B'])\n",
    "\n",
    "# Calcular la diferencia en tasas de conversión\n",
    "diff_conversion = conversion_rates.loc['A', 'conversion_rate'] - conversion_rates.loc['B', 'conversion_rate']\n",
    "\n",
    "# Calcular error estándar combinado\n",
    "se_diff = np.sqrt(se_A**2 + se_B**2)\n",
    "\n",
    "# Calcular intervalo de confianza del 95%\n",
    "ci_lower = diff_conversion - 1.96 * se_diff\n",
    "ci_upper = diff_conversion + 1.96 * se_diff\n",
    "\n",
    "print(f\"Diferencia en la tasa de conversión: {diff_conversion:.4f}\")\n",
    "print(f\"Intervalo de confianza del 95%: ({ci_lower:.4f}, {ci_upper:.4f})\")"
   ]
  },
  {
   "cell_type": "markdown",
   "metadata": {},
   "source": [
    "### Conclusión Final del Análisis A/B\n",
    "\n",
    "Resumen de los Hallazgos:\n",
    "\n",
    "1️ Exploración Inicial de Datos (EDA)\n",
    "\n",
    "No observamos diferencias claras en la conversión entre los grupos en los análisis previos.\n",
    "\n",
    "Los embudos de conversión, tasas de pérdida en cada paso y el comportamiento de compra fueron casi idénticos en ambos grupos.\n",
    "\n",
    "2️ Diferencia en la Tasa de Conversión\n",
    "\n",
    "Grupo A: 34.37%\n",
    "\n",
    "Grupo B: 32.63%\n",
    "\n",
    "Diferencia absoluta: 1.74%\n",
    "\n",
    "3️ Prueba Z para Proporciones\n",
    "\n",
    "Estadístico Z: 2.0989\n",
    "\n",
    "P-valor: 0.0358 (< 0.05, indicando significancia estadística)\n",
    "\n",
    "Intervalo de Confianza del 95%: (0.0012, 0.0336)\n",
    "\n",
    "El intervalo no contiene 0, lo que refuerza que hay una diferencia real, aunque sea pequeña.\n",
    "\n",
    "¿Cómo interpretar esta contradicción?\n",
    "\n",
    "Sí, la diferencia es estadísticamente significativa, pero NO necesariamente relevante en la práctica.\n",
    "\n",
    "¿Por qué?\n",
    "\n",
    "El p-valor solo nos dice que la diferencia es improbable bajo H₀, no que sea importante.\n",
    "\n",
    "La diferencia del 1.74% es mínima y puede no justificar un cambio en la variante de prueba.\n",
    "\n",
    "El tamaño de la muestra es lo suficientemente grande para detectar pequeñas diferencias que, en términos de negocio, pueden ser irrelevantes.\n",
    "\n",
    "Conclusión Final:\n",
    "\n",
    "Desde una perspectiva estadística: Rechazamos H₀ y afirmamos que hay una diferencia en la conversión.\n",
    "\n",
    "Desde una perspectiva práctica: La diferencia es tan pequeña que su impacto real es cuestionable.\n",
    "\n",
    "Decisión Basada en el Análisis:\n",
    "\n",
    "Si implementar la variante implica costos o riesgos, la diferencia del 1.74% no justifica el cambio.\n",
    "\n",
    "Si la variante aporta otros beneficios (UX, experiencia del usuario, facilidad de uso), podría ser considerada.\n",
    "\n",
    "Reducir aún más α (ejemplo: α = 0.01) podría evitar falsos positivos, pero es poco común en A/B testing."
   ]
  }
 ],
 "metadata": {
  "ExecuteTimeLog": [
   {
    "duration": 9,
    "start_time": "2025-03-26T19:55:54.158Z"
   },
   {
    "duration": 7,
    "start_time": "2025-03-26T19:56:32.846Z"
   },
   {
    "duration": 959,
    "start_time": "2025-03-26T19:57:03.537Z"
   },
   {
    "duration": 10,
    "start_time": "2025-03-26T19:57:43.630Z"
   },
   {
    "duration": 58,
    "start_time": "2025-03-26T19:57:57.822Z"
   },
   {
    "duration": 424,
    "start_time": "2025-03-26T19:58:08.796Z"
   },
   {
    "duration": 26,
    "start_time": "2025-03-26T19:58:17.378Z"
   },
   {
    "duration": 12,
    "start_time": "2025-03-26T19:58:39.275Z"
   },
   {
    "duration": 13,
    "start_time": "2025-03-26T19:58:47.143Z"
   },
   {
    "duration": 10,
    "start_time": "2025-03-26T19:58:55.824Z"
   },
   {
    "duration": 18,
    "start_time": "2025-03-26T19:59:04.948Z"
   },
   {
    "duration": 9,
    "start_time": "2025-03-26T19:59:25.263Z"
   },
   {
    "duration": 67,
    "start_time": "2025-03-26T19:59:35.804Z"
   },
   {
    "duration": 7,
    "start_time": "2025-03-26T19:59:46.608Z"
   },
   {
    "duration": 11,
    "start_time": "2025-03-26T19:59:55.756Z"
   },
   {
    "duration": 5,
    "start_time": "2025-03-26T20:00:36.112Z"
   },
   {
    "duration": 4,
    "start_time": "2025-03-26T20:00:44.604Z"
   },
   {
    "duration": 6,
    "start_time": "2025-03-26T20:00:54.639Z"
   },
   {
    "duration": 10,
    "start_time": "2025-03-26T20:01:02.761Z"
   },
   {
    "duration": 13,
    "start_time": "2025-03-26T20:01:25.465Z"
   },
   {
    "duration": 12,
    "start_time": "2025-03-26T20:01:33.831Z"
   },
   {
    "duration": 31,
    "start_time": "2025-03-26T20:01:42.103Z"
   },
   {
    "duration": 20,
    "start_time": "2025-03-26T20:01:49.587Z"
   },
   {
    "duration": 19,
    "start_time": "2025-03-26T20:02:02.579Z"
   },
   {
    "duration": 113,
    "start_time": "2025-03-26T20:02:22.898Z"
   },
   {
    "duration": 43,
    "start_time": "2025-03-26T20:02:31.237Z"
   },
   {
    "duration": 158,
    "start_time": "2025-03-26T20:02:39.114Z"
   },
   {
    "duration": 89,
    "start_time": "2025-03-26T20:02:49.172Z"
   },
   {
    "duration": 45,
    "start_time": "2025-03-26T20:03:01.870Z"
   },
   {
    "duration": 6,
    "start_time": "2025-03-26T20:03:23.659Z"
   },
   {
    "duration": 31,
    "start_time": "2025-03-26T20:03:31.996Z"
   },
   {
    "duration": 54,
    "start_time": "2025-03-26T20:03:44.977Z"
   },
   {
    "duration": 17,
    "start_time": "2025-03-26T20:04:08.254Z"
   },
   {
    "duration": 6,
    "start_time": "2025-03-26T20:04:50.428Z"
   },
   {
    "duration": 9,
    "start_time": "2025-03-26T20:04:58.959Z"
   },
   {
    "duration": 10,
    "start_time": "2025-03-26T20:05:05.748Z"
   },
   {
    "duration": 28,
    "start_time": "2025-03-26T20:05:12.721Z"
   },
   {
    "duration": 6,
    "start_time": "2025-03-26T20:05:22.006Z"
   },
   {
    "duration": 14,
    "start_time": "2025-03-26T20:05:33.651Z"
   },
   {
    "duration": 12,
    "start_time": "2025-03-26T20:05:43.399Z"
   },
   {
    "duration": 11,
    "start_time": "2025-03-26T20:05:52.369Z"
   },
   {
    "duration": 9,
    "start_time": "2025-03-26T20:06:02.321Z"
   },
   {
    "duration": 102,
    "start_time": "2025-03-26T20:07:01.359Z"
   },
   {
    "duration": 40,
    "start_time": "2025-03-26T20:07:24.465Z"
   },
   {
    "duration": 393,
    "start_time": "2025-03-26T20:07:33.528Z"
   },
   {
    "duration": 9,
    "start_time": "2025-03-26T20:07:46.331Z"
   },
   {
    "duration": 22,
    "start_time": "2025-03-26T20:19:05.904Z"
   },
   {
    "duration": 4,
    "start_time": "2025-03-26T20:19:27.115Z"
   },
   {
    "duration": 118,
    "start_time": "2025-03-26T20:24:14.479Z"
   },
   {
    "duration": 113,
    "start_time": "2025-03-26T20:24:30.374Z"
   },
   {
    "duration": 135,
    "start_time": "2025-03-26T20:25:22.666Z"
   },
   {
    "duration": 122,
    "start_time": "2025-03-26T20:25:36.792Z"
   },
   {
    "duration": 27,
    "start_time": "2025-03-26T20:29:13.263Z"
   },
   {
    "duration": 4,
    "start_time": "2025-03-26T20:32:09.125Z"
   },
   {
    "duration": 3,
    "start_time": "2025-03-26T20:33:58.572Z"
   },
   {
    "duration": 5,
    "start_time": "2025-03-26T20:52:18.619Z"
   },
   {
    "duration": 3,
    "start_time": "2025-03-26T20:52:36.746Z"
   },
   {
    "duration": 5,
    "start_time": "2025-03-26T20:52:54.855Z"
   },
   {
    "duration": 138,
    "start_time": "2025-03-26T20:54:10.681Z"
   },
   {
    "duration": 113,
    "start_time": "2025-03-26T20:54:23.001Z"
   },
   {
    "duration": 6,
    "start_time": "2025-03-26T20:58:20.722Z"
   },
   {
    "duration": 4,
    "start_time": "2025-03-26T20:58:43.914Z"
   },
   {
    "duration": 6,
    "start_time": "2025-03-26T21:03:42.689Z"
   },
   {
    "duration": 421,
    "start_time": "2025-03-26T21:07:51.442Z"
   },
   {
    "duration": 33,
    "start_time": "2025-03-26T21:09:46.715Z"
   },
   {
    "duration": 96,
    "start_time": "2025-03-26T21:10:09.246Z"
   },
   {
    "duration": 34,
    "start_time": "2025-03-26T21:12:25.235Z"
   },
   {
    "duration": 172,
    "start_time": "2025-03-26T21:12:43.241Z"
   },
   {
    "duration": 166,
    "start_time": "2025-03-26T21:52:57.904Z"
   },
   {
    "duration": 2563,
    "start_time": "2025-03-26T21:54:05.605Z"
   },
   {
    "duration": 12,
    "start_time": "2025-03-26T21:54:08.171Z"
   },
   {
    "duration": 65,
    "start_time": "2025-03-26T21:54:08.184Z"
   },
   {
    "duration": 321,
    "start_time": "2025-03-26T21:54:08.251Z"
   },
   {
    "duration": 20,
    "start_time": "2025-03-26T21:54:08.574Z"
   },
   {
    "duration": 9,
    "start_time": "2025-03-26T21:54:08.596Z"
   },
   {
    "duration": 8,
    "start_time": "2025-03-26T21:54:08.606Z"
   },
   {
    "duration": 16,
    "start_time": "2025-03-26T21:54:08.616Z"
   },
   {
    "duration": 13,
    "start_time": "2025-03-26T21:54:08.633Z"
   },
   {
    "duration": 7,
    "start_time": "2025-03-26T21:54:08.649Z"
   },
   {
    "duration": 42,
    "start_time": "2025-03-26T21:54:08.658Z"
   },
   {
    "duration": 35,
    "start_time": "2025-03-26T21:54:08.702Z"
   },
   {
    "duration": 8,
    "start_time": "2025-03-26T21:54:08.738Z"
   },
   {
    "duration": 4,
    "start_time": "2025-03-26T21:54:08.748Z"
   },
   {
    "duration": 5,
    "start_time": "2025-03-26T21:54:08.753Z"
   },
   {
    "duration": 5,
    "start_time": "2025-03-26T21:54:08.760Z"
   },
   {
    "duration": 7,
    "start_time": "2025-03-26T21:54:08.766Z"
   },
   {
    "duration": 10,
    "start_time": "2025-03-26T21:54:08.775Z"
   },
   {
    "duration": 46,
    "start_time": "2025-03-26T21:54:08.786Z"
   },
   {
    "duration": 20,
    "start_time": "2025-03-26T21:54:08.833Z"
   },
   {
    "duration": 12,
    "start_time": "2025-03-26T21:54:08.854Z"
   },
   {
    "duration": 12,
    "start_time": "2025-03-26T21:54:08.868Z"
   },
   {
    "duration": 83,
    "start_time": "2025-03-26T21:54:08.882Z"
   },
   {
    "duration": 26,
    "start_time": "2025-03-26T21:54:08.967Z"
   },
   {
    "duration": 117,
    "start_time": "2025-03-26T21:54:08.995Z"
   },
   {
    "duration": 54,
    "start_time": "2025-03-26T21:54:09.114Z"
   },
   {
    "duration": 30,
    "start_time": "2025-03-26T21:54:09.170Z"
   },
   {
    "duration": 3,
    "start_time": "2025-03-26T21:54:09.205Z"
   },
   {
    "duration": 39,
    "start_time": "2025-03-26T21:54:09.210Z"
   },
   {
    "duration": 35,
    "start_time": "2025-03-26T21:54:09.251Z"
   },
   {
    "duration": 14,
    "start_time": "2025-03-26T21:54:09.289Z"
   },
   {
    "duration": 5,
    "start_time": "2025-03-26T21:54:09.304Z"
   },
   {
    "duration": 7,
    "start_time": "2025-03-26T21:54:09.332Z"
   },
   {
    "duration": 6,
    "start_time": "2025-03-26T21:54:09.340Z"
   },
   {
    "duration": 15,
    "start_time": "2025-03-26T21:54:09.347Z"
   },
   {
    "duration": 5,
    "start_time": "2025-03-26T21:54:09.364Z"
   },
   {
    "duration": 10,
    "start_time": "2025-03-26T21:54:09.371Z"
   },
   {
    "duration": 8,
    "start_time": "2025-03-26T21:54:09.382Z"
   },
   {
    "duration": 44,
    "start_time": "2025-03-26T21:54:09.392Z"
   },
   {
    "duration": 4,
    "start_time": "2025-03-26T21:54:09.437Z"
   },
   {
    "duration": 65,
    "start_time": "2025-03-26T21:54:09.443Z"
   },
   {
    "duration": 41,
    "start_time": "2025-03-26T21:54:09.510Z"
   },
   {
    "duration": 5,
    "start_time": "2025-03-26T21:54:09.553Z"
   },
   {
    "duration": 15,
    "start_time": "2025-03-26T21:54:09.559Z"
   },
   {
    "duration": 4,
    "start_time": "2025-03-26T21:54:09.575Z"
   },
   {
    "duration": 146,
    "start_time": "2025-03-26T21:54:09.581Z"
   },
   {
    "duration": 113,
    "start_time": "2025-03-26T21:54:09.730Z"
   },
   {
    "duration": 26,
    "start_time": "2025-03-26T21:54:09.844Z"
   },
   {
    "duration": 3,
    "start_time": "2025-03-26T21:54:09.871Z"
   },
   {
    "duration": 4,
    "start_time": "2025-03-26T21:54:09.876Z"
   },
   {
    "duration": 53,
    "start_time": "2025-03-26T21:54:09.881Z"
   },
   {
    "duration": 105,
    "start_time": "2025-03-26T21:54:09.936Z"
   },
   {
    "duration": 30,
    "start_time": "2025-03-26T21:54:10.043Z"
   },
   {
    "duration": 237,
    "start_time": "2025-03-26T21:54:10.075Z"
   },
   {
    "duration": 212,
    "start_time": "2025-03-26T21:57:09.780Z"
   },
   {
    "duration": 222,
    "start_time": "2025-03-26T21:57:14.368Z"
   },
   {
    "duration": 32,
    "start_time": "2025-03-26T21:59:22.636Z"
   },
   {
    "duration": 28,
    "start_time": "2025-03-26T21:59:40.829Z"
   },
   {
    "duration": 96,
    "start_time": "2025-03-26T21:59:59.650Z"
   },
   {
    "duration": 30,
    "start_time": "2025-03-26T22:05:18.101Z"
   },
   {
    "duration": 159,
    "start_time": "2025-03-26T22:05:52.992Z"
   },
   {
    "duration": 31,
    "start_time": "2025-03-26T22:06:50.861Z"
   },
   {
    "duration": 6,
    "start_time": "2025-03-26T22:14:45.234Z"
   },
   {
    "duration": 221,
    "start_time": "2025-03-26T22:19:47.575Z"
   },
   {
    "duration": 260,
    "start_time": "2025-03-26T22:33:28.119Z"
   },
   {
    "duration": 772,
    "start_time": "2025-03-26T22:39:23.573Z"
   },
   {
    "duration": 608,
    "start_time": "2025-03-26T22:41:18.273Z"
   },
   {
    "duration": 1546,
    "start_time": "2025-03-26T22:42:58.220Z"
   },
   {
    "duration": 734,
    "start_time": "2025-03-26T22:44:57.986Z"
   },
   {
    "duration": 83,
    "start_time": "2025-03-26T22:47:36.036Z"
   },
   {
    "duration": 10,
    "start_time": "2025-03-26T22:47:47.976Z"
   },
   {
    "duration": 495,
    "start_time": "2025-03-26T22:48:13.772Z"
   },
   {
    "duration": 8,
    "start_time": "2025-03-26T22:56:40.872Z"
   },
   {
    "duration": 30,
    "start_time": "2025-03-26T22:57:15.763Z"
   },
   {
    "duration": 5,
    "start_time": "2025-03-26T23:01:43.537Z"
   },
   {
    "duration": 16,
    "start_time": "2025-03-26T23:02:02.181Z"
   },
   {
    "duration": 3,
    "start_time": "2025-03-26T23:02:24.962Z"
   },
   {
    "duration": 4,
    "start_time": "2025-03-26T23:04:42.077Z"
   },
   {
    "duration": 7,
    "start_time": "2025-03-27T15:46:55.223Z"
   }
  ],
  "kernelspec": {
   "display_name": "Python 3 (ipykernel)",
   "language": "python",
   "name": "python3"
  },
  "language_info": {
   "codemirror_mode": {
    "name": "ipython",
    "version": 3
   },
   "file_extension": ".py",
   "mimetype": "text/x-python",
   "name": "python",
   "nbconvert_exporter": "python",
   "pygments_lexer": "ipython3",
   "version": "3.9.19"
  },
  "toc": {
   "base_numbering": 1,
   "nav_menu": {},
   "number_sections": true,
   "sideBar": true,
   "skip_h1_title": true,
   "title_cell": "Table of Contents",
   "title_sidebar": "Contents",
   "toc_cell": false,
   "toc_position": {},
   "toc_section_display": true,
   "toc_window_display": false
  }
 },
 "nbformat": 4,
 "nbformat_minor": 2
}
