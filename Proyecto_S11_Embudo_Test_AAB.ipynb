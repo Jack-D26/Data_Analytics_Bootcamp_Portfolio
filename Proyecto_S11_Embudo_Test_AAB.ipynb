{
 "cells": [
  {
   "cell_type": "markdown",
   "metadata": {},
   "source": [
    "# Proyecto S11 Análisis de Embudo de Eeventos y Test A/A/B"
   ]
  },
  {
   "cell_type": "markdown",
   "metadata": {},
   "source": [
    "## Introducción "
   ]
  },
  {
   "cell_type": "markdown",
   "metadata": {},
   "source": [
    "Trabajo en una empresa emergente que vende productos alimenticios. Debos investigar el comportamiento del usuario para la aplicación de la empresa.\n",
    "\n",
    "Primero, estudiaremos el embudo de ventas. Para descubrir cómo los usuarios llegan a la etapa de compra. Constestar a las preguntas ¿Cuántos usuarios realmente llegan a esta etapa? ¿Cuántos se atascan en etapas anteriores? ¿Qué etapas en particular?\n",
    "\n",
    "Luego, observaremos los resultados de un test A/A/B. Al equipo de diseño le gustaría cambiar las fuentes de toda la aplicación, pero la gerencia teme que los usuarios piensen que el nuevo diseño es intimidante. Por ello, deciden tomar una decisión basada en los resultados de un test A/A/B.\n",
    "\n",
    "La comparación de grupos de control también nos dice cuánto tiempo y datos necesitaremos cuando realicemos más tests.\n",
    "\n",
    "Utilizarás el mismo dataset para el análisis general y para el análisis A/A/B."
   ]
  },
  {
   "cell_type": "markdown",
   "metadata": {},
   "source": [
    "### Descripción de los datos"
   ]
  },
  {
   "cell_type": "markdown",
   "metadata": {},
   "source": [
    "Descripción de los datos\n",
    "Cada entrada de registro es una acción de usuario o un evento.\n",
    "\n",
    "EventName: nombre del evento.\n",
    "\n",
    "DeviceIDHash: identificador de usuario unívoco.\n",
    "\n",
    "EventTimestamp: hora del evento.\n",
    "\n",
    "ExpId: número de experimento. 246 y 247 son los grupos de control, y 248 es el grupo de prueba."
   ]
  },
  {
   "cell_type": "markdown",
   "metadata": {},
   "source": [
    "## Librerías "
   ]
  },
  {
   "cell_type": "code",
   "execution_count": null,
   "metadata": {},
   "outputs": [],
   "source": [
    "# Importación de librerías necesarias\n",
    "import pandas as pd\n",
    "import numpy as np\n",
    "import matplotlib.pyplot as plt\n",
    "import seaborn as sns\n",
    "import scipy.stats as stats\n",
    "from statsmodels.stats.proportion import proportions_ztest\n",
    "\n",
    "# Configuración de gráficos para mejor visualización\n",
    "plt.style.use('ggplot')\n",
    "sns.set_theme(style=\"darkgrid\")"
   ]
  },
  {
   "cell_type": "markdown",
   "metadata": {},
   "source": [
    "## Datos"
   ]
  },
  {
   "cell_type": "code",
   "execution_count": 3,
   "metadata": {},
   "outputs": [],
   "source": [
    "events_data = pd.read_csv(\"/datasets/logs_exp_us.csv\", sep=\"\\t\")"
   ]
  },
  {
   "cell_type": "markdown",
   "metadata": {},
   "source": [
    "## Exploración inicial"
   ]
  },
  {
   "cell_type": "code",
   "execution_count": 4,
   "metadata": {},
   "outputs": [
    {
     "name": "stdout",
     "output_type": "stream",
     "text": [
      "<class 'pandas.core.frame.DataFrame'>\n",
      "RangeIndex: 244126 entries, 0 to 244125\n",
      "Data columns (total 4 columns):\n",
      " #   Column          Non-Null Count   Dtype \n",
      "---  ------          --------------   ----- \n",
      " 0   EventName       244126 non-null  object\n",
      " 1   DeviceIDHash    244126 non-null  int64 \n",
      " 2   EventTimestamp  244126 non-null  int64 \n",
      " 3   ExpId           244126 non-null  int64 \n",
      "dtypes: int64(3), object(1)\n",
      "memory usage: 7.5+ MB\n",
      "None\n"
     ]
    }
   ],
   "source": [
    "# Mostrar información general del dataset para verificar la carga\n",
    "print(events_data.info())\n"
   ]
  },
  {
   "cell_type": "code",
   "execution_count": 4,
   "metadata": {},
   "outputs": [
    {
     "name": "stdout",
     "output_type": "stream",
     "text": [
      "                 EventName         DeviceIDHash  EventTimestamp  ExpId\n",
      "0         MainScreenAppear  4575588528974610257      1564029816    246\n",
      "1         MainScreenAppear  7416695313311560658      1564053102    246\n",
      "2  PaymentScreenSuccessful  3518123091307005509      1564054127    248\n",
      "3         CartScreenAppear  3518123091307005509      1564054127    248\n",
      "4  PaymentScreenSuccessful  6217807653094995999      1564055322    248\n",
      "5         CartScreenAppear  6217807653094995999      1564055323    248\n",
      "6       OffersScreenAppear  8351860793733343758      1564066242    246\n",
      "7         MainScreenAppear  5682100281902512875      1564085677    246\n",
      "8         MainScreenAppear  1850981295691852772      1564086702    247\n",
      "9         MainScreenAppear  5407636962369102641      1564112112    246\n"
     ]
    }
   ],
   "source": [
    "# Mostrar las primeras filas del dataset\n",
    "print(events_data.head(10))"
   ]
  },
  {
   "cell_type": "markdown",
   "metadata": {},
   "source": [
    "## Correcciones"
   ]
  },
  {
   "cell_type": "code",
   "execution_count": 5,
   "metadata": {},
   "outputs": [
    {
     "name": "stdout",
     "output_type": "stream",
     "text": [
      "Index(['eventname', 'deviceidhash', 'eventtimestamp', 'expid'], dtype='object')\n"
     ]
    }
   ],
   "source": [
    "# Renombrar columnas a formato snake_case y minúsculas\n",
    "events_data.columns = (events_data.columns\n",
    "                       .str.lower()  # Convertir a minúsculas\n",
    "                       .str.replace(' ', '_')  # Reemplazar espacios con \"_\"\n",
    "                       .str.replace(r'(?<!^)(?=[A-Z])', '_', regex=True)  # Convertir CamelCase a snake_case\n",
    "                      )\n",
    "\n",
    "# Mostrar los nuevos nombres de las columnas\n",
    "print(events_data.columns)"
   ]
  },
  {
   "cell_type": "code",
   "execution_count": 6,
   "metadata": {},
   "outputs": [
    {
     "name": "stdout",
     "output_type": "stream",
     "text": [
      "Index(['event_name', 'device_id_hash', 'event_time_stamp', 'exp_group'], dtype='object')\n"
     ]
    }
   ],
   "source": [
    "# Renombrar columnas manualmente\n",
    "events_data.rename(columns={\n",
    "    'eventname': 'event_name',\n",
    "    'deviceidhash': 'device_id_hash',\n",
    "    'eventtimestamp': 'event_time_stamp',\n",
    "    'expid': 'exp_group'\n",
    "}, inplace=True)\n",
    "\n",
    "# Verificar los nuevos nombres de las columnas\n",
    "print(events_data.columns)"
   ]
  },
  {
   "cell_type": "code",
   "execution_count": 7,
   "metadata": {},
   "outputs": [
    {
     "name": "stdout",
     "output_type": "stream",
     "text": [
      "event_name                  object\n",
      "device_id_hash              object\n",
      "event_time_stamp    datetime64[ns]\n",
      "exp_group                   object\n",
      "dtype: object\n"
     ]
    }
   ],
   "source": [
    "# Convertir device_id_hash y exp_group a tipo object\n",
    "events_data['device_id_hash'] = events_data['device_id_hash'].astype(str)\n",
    "events_data['exp_group'] = events_data['exp_group'].astype(str)\n",
    "\n",
    "# Convertir event_time_stamp a tipo datetime\n",
    "events_data['event_time_stamp'] = pd.to_datetime(events_data['event_time_stamp'], unit='s')\n",
    "\n",
    "# Verificar los cambios en los tipos de datos\n",
    "print(events_data.dtypes)"
   ]
  },
  {
   "cell_type": "code",
   "execution_count": 8,
   "metadata": {},
   "outputs": [
    {
     "name": "stdout",
     "output_type": "stream",
     "text": [
      "event_name          0\n",
      "device_id_hash      0\n",
      "event_time_stamp    0\n",
      "exp_group           0\n",
      "dtype: int64\n"
     ]
    }
   ],
   "source": [
    "# Contar valores nulos en cada columna\n",
    "null_counts = events_data.isnull().sum()\n",
    "\n",
    "# Mostrar el resultado\n",
    "print(null_counts)"
   ]
  },
  {
   "cell_type": "code",
   "execution_count": 12,
   "metadata": {},
   "outputs": [],
   "source": [
    "# 1. Crear la columna date_time a partir de event_time_stamp\n",
    "events_data['date_time'] = pd.to_datetime(events_data['event_time_stamp'], unit='s')\n",
    "\n",
    "# 2. Crear la columna date con solo la fecha en formato datetime.date\n",
    "events_data['date'] = events_data['date_time'].dt.date\n",
    "\n",
    "# 3. Asegurar que la columna date sea del tipo correcto\n",
    "events_data['date'] = pd.to_datetime(events_data['date'])  \n"
   ]
  },
  {
   "cell_type": "code",
   "execution_count": 13,
   "metadata": {},
   "outputs": [
    {
     "name": "stdout",
     "output_type": "stream",
     "text": [
      "<class 'pandas.core.frame.DataFrame'>\n",
      "RangeIndex: 244126 entries, 0 to 244125\n",
      "Data columns (total 6 columns):\n",
      " #   Column            Non-Null Count   Dtype         \n",
      "---  ------            --------------   -----         \n",
      " 0   event_name        244126 non-null  object        \n",
      " 1   device_id_hash    244126 non-null  object        \n",
      " 2   event_time_stamp  244126 non-null  datetime64[ns]\n",
      " 3   exp_group         244126 non-null  object        \n",
      " 4   date_time         244126 non-null  datetime64[ns]\n",
      " 5   date              244126 non-null  datetime64[ns]\n",
      "dtypes: datetime64[ns](3), object(3)\n",
      "memory usage: 11.2+ MB\n",
      "None\n"
     ]
    }
   ],
   "source": [
    "print(events_data.info())"
   ]
  },
  {
   "cell_type": "code",
   "execution_count": 14,
   "metadata": {},
   "outputs": [
    {
     "name": "stdout",
     "output_type": "stream",
     "text": [
      "                event_name       device_id_hash    event_time_stamp exp_group  \\\n",
      "0         MainScreenAppear  4575588528974610257 2019-07-25 04:43:36       246   \n",
      "1         MainScreenAppear  7416695313311560658 2019-07-25 11:11:42       246   \n",
      "2  PaymentScreenSuccessful  3518123091307005509 2019-07-25 11:28:47       248   \n",
      "3         CartScreenAppear  3518123091307005509 2019-07-25 11:28:47       248   \n",
      "4  PaymentScreenSuccessful  6217807653094995999 2019-07-25 11:48:42       248   \n",
      "5         CartScreenAppear  6217807653094995999 2019-07-25 11:48:43       248   \n",
      "6       OffersScreenAppear  8351860793733343758 2019-07-25 14:50:42       246   \n",
      "7         MainScreenAppear  5682100281902512875 2019-07-25 20:14:37       246   \n",
      "8         MainScreenAppear  1850981295691852772 2019-07-25 20:31:42       247   \n",
      "9         MainScreenAppear  5407636962369102641 2019-07-26 03:35:12       246   \n",
      "\n",
      "            date_time       date  \n",
      "0 2019-07-25 04:43:36 2019-07-25  \n",
      "1 2019-07-25 11:11:42 2019-07-25  \n",
      "2 2019-07-25 11:28:47 2019-07-25  \n",
      "3 2019-07-25 11:28:47 2019-07-25  \n",
      "4 2019-07-25 11:48:42 2019-07-25  \n",
      "5 2019-07-25 11:48:43 2019-07-25  \n",
      "6 2019-07-25 14:50:42 2019-07-25  \n",
      "7 2019-07-25 20:14:37 2019-07-25  \n",
      "8 2019-07-25 20:31:42 2019-07-25  \n",
      "9 2019-07-26 03:35:12 2019-07-26  \n"
     ]
    }
   ],
   "source": [
    "print(events_data.head(10))"
   ]
  },
  {
   "cell_type": "markdown",
   "metadata": {},
   "source": [
    "### Buscar duplicados en los grupos "
   ]
  },
  {
   "cell_type": "code",
   "execution_count": 15,
   "metadata": {},
   "outputs": [
    {
     "name": "stdout",
     "output_type": "stream",
     "text": [
      "Número de usuarios en más de un grupo: 0\n",
      "Series([], Name: exp_group, dtype: int64)\n"
     ]
    }
   ],
   "source": [
    "# Contar cuántos grupos diferentes tiene cada usuario\n",
    "user_group_counts = events_data.groupby('device_id_hash')['exp_group'].nunique()\n",
    "\n",
    "# Filtrar usuarios que aparecen en más de un grupo\n",
    "duplicated_users = user_group_counts[user_group_counts > 1]\n",
    "\n",
    "# Mostrar cuántos usuarios están en más de un grupo\n",
    "print(f\"Número de usuarios en más de un grupo: {len(duplicated_users)}\")\n",
    "\n",
    "# Mostrar algunos ejemplos de usuarios duplicados\n",
    "print(duplicated_users.head(10))"
   ]
  },
  {
   "cell_type": "markdown",
   "metadata": {},
   "source": [
    "## Estudiar y comprobar los datos"
   ]
  },
  {
   "cell_type": "code",
   "execution_count": 17,
   "metadata": {},
   "outputs": [
    {
     "name": "stdout",
     "output_type": "stream",
     "text": [
      "Número total de eventos registrados: 244126\n",
      "Número de eventos únicos: 5\n",
      "                event_name   count\n",
      "0         MainScreenAppear  119205\n",
      "1       OffersScreenAppear   46825\n",
      "2         CartScreenAppear   42731\n",
      "3  PaymentScreenSuccessful   34313\n",
      "4                 Tutorial    1052\n"
     ]
    }
   ],
   "source": [
    "# ¿Cuántos eventos hay en los registros?\n",
    "\n",
    "# Contar el número total de eventos en el dataset\n",
    "total_events = events_data.shape[0]\n",
    "\n",
    "# Contar el número de eventos únicos\n",
    "unique_events = events_data['event_name'].nunique()\n",
    "\n",
    "# Crear una tabla con la cuenta de cada evento único\n",
    "event_counts = events_data['event_name'].value_counts().reset_index()\n",
    "event_counts.columns = ['event_name', 'count']\n",
    "\n",
    "# Mostrar resultados\n",
    "print(f\"Número total de eventos registrados: {total_events}\")\n",
    "print(f\"Número de eventos únicos: {unique_events}\")\n",
    "print(event_counts)"
   ]
  },
  {
   "cell_type": "code",
   "execution_count": 19,
   "metadata": {},
   "outputs": [
    {
     "name": "stdout",
     "output_type": "stream",
     "text": [
      "Número total de usuarios únicos: 7551\n",
      "  exp_group  unique_users\n",
      "0       246          2489\n",
      "1       247          2520\n",
      "2       248          2542\n"
     ]
    }
   ],
   "source": [
    "# ¿Cuántos usuarios hay en los registros?\n",
    "\n",
    "# Contar el número total de usuarios únicos\n",
    "total_unique_users = events_data['device_id_hash'].nunique()\n",
    "\n",
    "# Contar el número de usuarios únicos por grupo experimental\n",
    "unique_users_by_group = events_data.groupby('exp_group')['device_id_hash'].nunique().reset_index()\n",
    "unique_users_by_group.columns = ['exp_group', 'unique_users']\n",
    "\n",
    "# Mostrar resultados\n",
    "print(f\"Número total de usuarios únicos: {total_unique_users}\")\n",
    "print(unique_users_by_group)"
   ]
  },
  {
   "cell_type": "code",
   "execution_count": 21,
   "metadata": {},
   "outputs": [
    {
     "name": "stdout",
     "output_type": "stream",
     "text": [
      "Promedio de eventos por usuario únicos: 32.33028737915508\n"
     ]
    }
   ],
   "source": [
    "# ¿Cuál es el promedio de eventos por usuario?\n",
    "\n",
    "mean_events_per_user= total_events/total_unique_users\n",
    "\n",
    "print(f\"Promedio de eventos por usuario únicos: {mean_events_per_user}\")"
   ]
  },
  {
   "cell_type": "markdown",
   "metadata": {},
   "source": [
    "Esto nos dice que cada usuario, en promedio, genera más de 30 eventos en la app, lo que indica una alta interacción. Además, los grupos experimentales están bien balanceados en cantidad de usuarios, lo cual es ideal para el análisis A/A/B. "
   ]
  },
  {
   "cell_type": "code",
   "execution_count": 22,
   "metadata": {},
   "outputs": [
    {
     "name": "stdout",
     "output_type": "stream",
     "text": [
      "El dataset cubre desde 2019-07-25 04:43:36 hasta 2019-08-07 21:15:17\n"
     ]
    }
   ],
   "source": [
    "# ¿Qué periodo de tiempo cubren los datos?\n",
    "\n",
    "# Encontrar la fecha mínima y máxima en los datos\n",
    "min_date = events_data['date_time'].min()\n",
    "max_date = events_data['date_time'].max()\n",
    "\n",
    "# Mostrar los resultados\n",
    "print(f\"El dataset cubre desde {min_date} hasta {max_date}\")"
   ]
  },
  {
   "cell_type": "code",
   "execution_count": 23,
   "metadata": {},
   "outputs": [
    {
     "data": {
      "image/png": "[encoded data removed]",
      "text/plain": [
       "<Figure size 1200x600 with 1 Axes>"
      ]
     },
     "metadata": {},
     "output_type": "display_data"
    }
   ],
   "source": [
    "# Crear un histograma de la cantidad de eventos por fecha\n",
    "plt.figure(figsize=(12,6))\n",
    "events_data['date_time'].hist(bins=50, edgecolor='black')\n",
    "plt.xlabel('Fecha y Hora')\n",
    "plt.ylabel('Número de Eventos')\n",
    "plt.title('Distribución de Eventos en el Tiempo')\n",
    "plt.xticks(rotation=45)\n",
    "plt.grid(True)\n",
    "\n",
    "# Mostrar el gráfico\n",
    "plt.show()"
   ]
  },
  {
   "cell_type": "code",
   "execution_count": 24,
   "metadata": {},
   "outputs": [
    {
     "name": "stdout",
     "output_type": "stream",
     "text": [
      "Los datos comienzan a estar completos desde: 2019-08-01 00:00:00\n"
     ]
    }
   ],
   "source": [
    "# Contar eventos por día\n",
    "event_counts_by_date = events_data.groupby('date')['event_name'].count().reset_index()\n",
    "event_counts_by_date.columns = ['date', 'event_count']\n",
    "\n",
    "# Encontrar la primera fecha con un volumen estable de eventos\n",
    "threshold = event_counts_by_date['event_count'].median() * 0.5  # Se usa el 50% de la mediana como umbral\n",
    "valid_start_date = event_counts_by_date[event_counts_by_date['event_count'] > threshold]['date'].min()\n",
    "\n",
    "# Mostrar la nueva fecha de inicio\n",
    "print(f\"Los datos comienzan a estar completos desde: {valid_start_date}\")\n"
   ]
  },
  {
   "cell_type": "code",
   "execution_count": 25,
   "metadata": {},
   "outputs": [
    {
     "name": "stdout",
     "output_type": "stream",
     "text": [
      "Nuevo rango de fechas: 2019-08-01 00:00:00 a 2019-08-07 00:00:00\n"
     ]
    }
   ],
   "source": [
    "# Filtrar los datos para ignorar la sección anterior a la fecha completa\n",
    "filtered_events_data = events_data[events_data['date'] >= valid_start_date].copy()\n",
    "\n",
    "# Verificar nueva distribución de fechas\n",
    "print(f\"Nuevo rango de fechas: {filtered_events_data['date'].min()} a {filtered_events_data['date'].max()}\")"
   ]
  },
  {
   "cell_type": "code",
   "execution_count": 28,
   "metadata": {},
   "outputs": [
    {
     "name": "stdout",
     "output_type": "stream",
     "text": [
      "Número total de eventos después del filtrado: 241298\n",
      "\n",
      "\n",
      "                event_name   count\n",
      "0         MainScreenAppear  117431\n",
      "1       OffersScreenAppear   46350\n",
      "2         CartScreenAppear   42365\n",
      "3  PaymentScreenSuccessful   34113\n",
      "4                 Tutorial    1039\n",
      "\n",
      "\n",
      "  exp_group  unique_users\n",
      "0       246          2484\n",
      "1       247          2513\n",
      "2       248          2537\n"
     ]
    }
   ],
   "source": [
    "# 1. Contar el número total de eventos después del filtrado\n",
    "total_events_filtered = filtered_events_data.shape[0]\n",
    "\n",
    "# 2. Contar el número de eventos únicos y su frecuencia\n",
    "event_counts_filtered = filtered_events_data['event_name'].value_counts().reset_index()\n",
    "event_counts_filtered.columns = ['event_name', 'count']\n",
    "\n",
    "# 3. Contar el número de usuarios únicos por grupo experimental\n",
    "unique_users_by_group_filtered = filtered_events_data.groupby('exp_group')['device_id_hash'].nunique().reset_index()\n",
    "unique_users_by_group_filtered.columns = ['exp_group', 'unique_users']\n",
    "\n",
    "# Mostrar resultados\n",
    "print(f\"Número total de eventos después del filtrado: {total_events_filtered}\")\n",
    "print()\n",
    "print()\n",
    "print(event_counts_filtered)\n",
    "print()\n",
    "print()\n",
    "print(unique_users_by_group_filtered)"
   ]
  },
  {
   "attachments": {
    "image.png": {
     "image/png": "[encoded data removed]"
    }
   },
   "cell_type": "markdown",
   "metadata": {},
   "source": [
    "Observación Comparativa Antes y Después del Filtrado\n",
    "Los datos se han limpiado eliminando la parte inicial donde los registros eran incompletos. \n",
    "\n",
    "![image.png](attachment:image.png)\n",
    "\n",
    "Mínima pérdida de datos: Solo se eliminó ~1.16% de los eventos y ~0.22% de los usuarios, lo que indica que el filtro no afectó significativamente el análisis.\n",
    "\n",
    "Distribución de eventos estable: No hubo cambios drásticos en la proporción de eventos.\n",
    "\n",
    "Los grupos experimentales siguen balanceados, lo que es clave para la validez del test A/A/B."
   ]
  },
  {
   "cell_type": "markdown",
   "metadata": {},
   "source": [
    "## Estudiar el embudo de eventos"
   ]
  },
  {
   "cell_type": "code",
   "execution_count": 30,
   "metadata": {},
   "outputs": [
    {
     "name": "stdout",
     "output_type": "stream",
     "text": [
      "                event_name   count\n",
      "0         MainScreenAppear  117431\n",
      "1       OffersScreenAppear   46350\n",
      "2         CartScreenAppear   42365\n",
      "3  PaymentScreenSuccessful   34113\n",
      "4                 Tutorial    1039\n"
     ]
    }
   ],
   "source": [
    "# Eeventos ordenados por frecuencia \n",
    "\n",
    "print(event_counts_filtered)"
   ]
  },
  {
   "cell_type": "code",
   "execution_count": 31,
   "metadata": {},
   "outputs": [
    {
     "name": "stdout",
     "output_type": "stream",
     "text": [
      "                event_name  unique_users\n",
      "1         MainScreenAppear          7419\n",
      "2       OffersScreenAppear          4593\n",
      "0         CartScreenAppear          3734\n",
      "3  PaymentScreenSuccessful          3539\n",
      "4                 Tutorial           840\n"
     ]
    }
   ],
   "source": [
    "# Contar cuántos usuarios únicos realizaron cada tipo de evento\n",
    "users_per_event = filtered_events_data.groupby('event_name')['device_id_hash'].nunique().reset_index()\n",
    "users_per_event.columns = ['event_name', 'unique_users']\n",
    "\n",
    "# Ordenar los eventos de mayor a menor número de usuarios únicos\n",
    "users_per_event = users_per_event.sort_values(by='unique_users', ascending=False)\n",
    "\n",
    "print(users_per_event)"
   ]
  },
  {
   "cell_type": "code",
   "execution_count": 32,
   "metadata": {},
   "outputs": [
    {
     "name": "stdout",
     "output_type": "stream",
     "text": [
      "                event_name  unique_users  user_proportion\n",
      "1         MainScreenAppear          7419         0.982519\n",
      "2       OffersScreenAppear          4593         0.608264\n",
      "0         CartScreenAppear          3734         0.494504\n",
      "3  PaymentScreenSuccessful          3539         0.468680\n",
      "4                 Tutorial           840         0.111244\n"
     ]
    }
   ],
   "source": [
    "# Calcular la proporción de usuarios que realizaron cada acción al menos una vez\n",
    "users_per_event['user_proportion'] = users_per_event['unique_users'] / total_unique_users\n",
    "\n",
    "print(users_per_event)"
   ]
  },
  {
   "cell_type": "markdown",
   "metadata": {},
   "source": [
    "Comentario sobre la Secuencia de Eventos y su Relación con el Embudo de Ventas \n",
    "Al observar la distribución de eventos y la proporción de usuarios que los realizaron, se puede inferir el orden en el que ocurren las acciones dentro de la aplicación.\n",
    "\n",
    "Orden lógico de los eventos en la secuencia principal:\n",
    "\n",
    "MainScreenAppear (98.25%) → La mayoría de los usuarios inicia en la pantalla principal.\n",
    "\n",
    "OffersScreenAppear (60.83%) → Más de la mitad de los usuarios avanza a la pantalla de ofertas.\n",
    "\n",
    "CartScreenAppear (49.45%) → Un porcentaje menor agrega productos al carrito.\n",
    "\n",
    "PaymentScreenSuccessful (46.87%) → Casi la mitad de los usuarios que visitaron el carrito completan la compra.\n",
    "\n",
    "Este flujo sugiere un embudo de ventas típico donde los usuarios van avanzando hasta el pago final.\n",
    "\n",
    "El tutorial: ¿Parte de la secuencia o un evento independiente?\n",
    "Solo el 11.12% de los usuarios interactuó con Tutorial.\n",
    "Esto sugiere que el tutorial no forma parte de la secuencia principal del embudo de ventas, sino que es una acción opcional que algunos usuarios eligen.\n",
    "Si estuviera dentro del flujo, lo lógico sería que ocurriera después de MainScreenAppear, antes de que los usuarios exploren la app.\n",
    "\n",
    "Conclusión:\n",
    "El embudo de ventas debe calcularse sin incluir el tutorial, ya que no es parte del flujo natural de compra. Si se incluye, debería estar en una posición temprana dentro de la secuencia."
   ]
  },
  {
   "cell_type": "code",
   "execution_count": 35,
   "metadata": {},
   "outputs": [
    {
     "name": "stdout",
     "output_type": "stream",
     "text": [
      "                event_name  unique_users  user_proportion  conversion_rate\n",
      "1         MainScreenAppear          7419         0.982519         1.000000\n",
      "2       OffersScreenAppear          4593         0.608264         0.619086\n",
      "0         CartScreenAppear          3734         0.494504         0.812976\n",
      "3  PaymentScreenSuccessful          3539         0.468680         0.947777\n"
     ]
    }
   ],
   "source": [
    "# Calcular la proporción de usuarios que avanzan de una etapa a la siguiente\n",
    "funnel_data['conversion_rate'] = funnel_data['unique_users'] / funnel_data['unique_users'].shift(1)\n",
    "\n",
    "# Reemplazar el primer valor NaN (que no tiene referencia previa) con 1\n",
    "funnel_data['conversion_rate'].fillna(1, inplace=True)\n",
    "\n",
    "print(funnel_data)"
   ]
  },
  {
   "cell_type": "markdown",
   "metadata": {},
   "source": [
    "Análisis de la pérdida de usuarios en cada etapa\n",
    "A partir de los valores en conversion_rate:\n",
    "\n",
    "De MainScreenAppear a OffersScreenAppear: 61.91% de retención\n",
    "\n",
    "Pérdida de ~38.1% de usuarios en esta transición.\n",
    "Esto sugiere que muchos usuarios no interactúan con la pantalla de ofertas después de entrar a la app.\n",
    "\n",
    "De OffersScreenAppear a CartScreenAppear: 81.30% de retención\n",
    "\n",
    "Menor caída aquí, pero aún hay una pérdida de ~18.7% de los usuarios.\n",
    "Esto indica que algunos usuarios exploran ofertas, pero no agregan productos al carrito.\n",
    "De CartScreenAppear a PaymentScreenSuccessful: 94.78% de retención\n",
    "\n",
    "La menor pérdida de usuarios (~5.2%).\n",
    "Esto significa que la mayoría de los usuarios que llegan al carrito terminan completando la compra, lo que indica que el proceso de pago es eficiente.\n",
    "\n",
    "Conclusión\n",
    "\n",
    "La mayor fuga de usuarios ocurre en la primera etapa (38.1% de caída).\n",
    "\n",
    "Posible problema: La pantalla principal puede no estar guiando lo suficiente a los usuarios hacia la sección de ofertas.\n",
    "\n",
    "Recomendación: Analizar qué tan visible y accesible es la transición desde MainScreenAppear a OffersScreenAppear."
   ]
  },
  {
   "cell_type": "code",
   "execution_count": 36,
   "metadata": {},
   "outputs": [
    {
     "data": {
      "image/png": "[encoded data removed]",
      "text/plain": [
       "<Figure size 1000x600 with 1 Axes>"
      ]
     },
     "metadata": {},
     "output_type": "display_data"
    }
   ],
   "source": [
    "\n",
    "\n",
    "# Crear el gráfico de barras horizontales para usuarios únicos por evento\n",
    "plt.figure(figsize=(10, 6))\n",
    "plt.barh(funnel_data['event_name'], funnel_data['unique_users'], color='skyblue')\n",
    "\n",
    "# Agregar etiquetas de datos\n",
    "for index, value in enumerate(funnel_data['unique_users']):\n",
    "    plt.text(value, index, str(value), va='center')\n",
    "\n",
    "# Configuración del gráfico\n",
    "plt.xlabel(\"Cantidad de Usuarios Únicos\")\n",
    "plt.ylabel(\"Evento\")\n",
    "plt.title(\"Usuarios Únicos por Evento en el Embudo de Ventas\")\n",
    "plt.gca().invert_yaxis()  # Invertir el eje para mejor lectura\n",
    "plt.grid(axis='x', linestyle='--', alpha=0.7)\n",
    "\n",
    "# Mostrar el gráfico\n",
    "plt.show()\n"
   ]
  },
  {
   "cell_type": "code",
   "execution_count": 38,
   "metadata": {},
   "outputs": [
    {
     "data": {
      "image/png": "[encoded data removed]",
      "text/plain": [
       "<Figure size 1000x600 with 1 Axes>"
      ]
     },
     "metadata": {},
     "output_type": "display_data"
    }
   ],
   "source": [
    "# Crear el gráfico de barras horizontales para la proporción de usuarios por evento\n",
    "plt.figure(figsize=(10, 6))\n",
    "plt.barh(funnel_data['event_name'], funnel_data['user_proportion'], color='lightcoral')\n",
    "\n",
    "# Agregar etiquetas de datos en porcentaje\n",
    "for index, value in enumerate(funnel_data['user_proportion']):\n",
    "    plt.text(value, index, f\"{value:.2%}\", va='center')\n",
    "\n",
    "# Configuración del gráfico\n",
    "plt.xlabel(\"Proporción de Usuarios (%)\")\n",
    "plt.ylabel(\"Evento\")\n",
    "plt.title(\"Proporción de Usuarios por Evento en el Embudo de Ventas\")\n",
    "plt.gca().invert_yaxis()  # Invertir el eje para mejor lectura\n",
    "plt.grid(axis='x', linestyle='--', alpha=0.7)\n",
    "\n",
    "# Mostrar el gráfico\n",
    "plt.show()\n"
   ]
  },
  {
   "cell_type": "code",
   "execution_count": 39,
   "metadata": {},
   "outputs": [
    {
     "name": "stdout",
     "output_type": "stream",
     "text": [
      "Porcentaje de usuarios que completan el embudo: 45.51%\n"
     ]
    }
   ],
   "source": [
    "#¿Qué porcentaje de usuarios hace todo el viaje desde su primer evento hasta el pago?\n",
    "\n",
    "# Definir el orden correcto del embudo\n",
    "funnel_events = ['MainScreenAppear', 'OffersScreenAppear', 'CartScreenAppear', 'PaymentScreenSuccessful']\n",
    "\n",
    "# Filtrar solo los usuarios que realizaron eventos del embudo\n",
    "funnel_users = filtered_events_data[filtered_events_data['event_name'].isin(funnel_events)]\n",
    "\n",
    "# Ordenar los eventos por usuario y fecha para garantizar la secuencia\n",
    "funnel_users = funnel_users.sort_values(by=['device_id_hash', 'date_time'])\n",
    "\n",
    "# Crear un diccionario para registrar en qué etapa se encuentra cada usuario\n",
    "user_stages = {}\n",
    "\n",
    "# Identificar usuarios que pasan por todas las etapas en orden\n",
    "for user, events in funnel_users.groupby('device_id_hash'):\n",
    "    user_sequence = list(events['event_name'])  # Extraer la secuencia de eventos del usuario\n",
    "    if all(event in user_sequence for event in funnel_events):  # Verificar si el usuario completó el embudo\n",
    "        user_stages[user] = True\n",
    "    else:\n",
    "        user_stages[user] = False\n",
    "\n",
    "# Calcular el porcentaje de usuarios que completaron el embudo\n",
    "users_start = filtered_events_data['device_id_hash'].nunique()  # Total de usuarios únicos\n",
    "users_complete = sum(user_stages.values())  # Usuarios que completaron todo el embudo\n",
    "\n",
    "completion_rate = (users_complete / users_start) * 100\n",
    "\n",
    "# Mostrar el resultado\n",
    "print(f\"Porcentaje de usuarios que completan el embudo: {completion_rate:.2f}%\")\n"
   ]
  },
  {
   "cell_type": "code",
   "execution_count": 40,
   "metadata": {},
   "outputs": [
    {
     "name": "stdout",
     "output_type": "stream",
     "text": [
      "Número de usuarios que completan el embudo: 3429\n"
     ]
    }
   ],
   "source": [
    "# Calcular el número de usuarios que completan el embudo\n",
    "users_complete_count = int(users_start * (completion_rate / 100))\n",
    "\n",
    "# Mostrar el resultado\n",
    "print(f\"Número de usuarios que completan el embudo: {users_complete_count}\")"
   ]
  },
  {
   "cell_type": "code",
   "execution_count": 42,
   "metadata": {},
   "outputs": [
    {
     "data": {
      "image/png": "[encoded data removed]",
      "text/plain": [
       "<Figure size 600x500 with 1 Axes>"
      ]
     },
     "metadata": {},
     "output_type": "display_data"
    }
   ],
   "source": [
    "\n",
    "\n",
    "# Calcular el número de usuarios que no completan el embudo\n",
    "users_not_complete = users_start - users_complete_count\n",
    "\n",
    "# Datos para la barra apilada\n",
    "categories = [\"Usuarios en el Embudo\"]\n",
    "values_complete = [users_complete_count]\n",
    "values_not_complete = [users_not_complete]\n",
    "\n",
    "# Crear el gráfico de barras apiladas\n",
    "plt.figure(figsize=(6, 5))\n",
    "plt.bar(categories, values_not_complete, color='red', label=\"No completaron el embudo\")\n",
    "plt.bar(categories, values_complete, bottom=values_not_complete, color='green', label=\"Completaron el embudo\")\n",
    "\n",
    "# Agregar etiquetas de datos dentro de las barras\n",
    "plt.text(0, users_not_complete / 2, str(users_not_complete), ha='center', fontsize=12, color='white')\n",
    "plt.text(0, users_not_complete + (users_complete_count / 2), str(users_complete_count), ha='center', fontsize=12, color='white')\n",
    "\n",
    "# Configuración del gráfico\n",
    "plt.ylabel(\"Número de Usuarios\")\n",
    "plt.title(\"Usuarios que Completan vs. No Completan el Embudo\")\n",
    "plt.legend()\n",
    "plt.ylim(0, users_start)  # Asegurar que el eje Y cubra el total de usuarios\n",
    "plt.grid(axis='y', linestyle='--', alpha=0.7)\n",
    "\n",
    "# Mostrar el gráfico\n",
    "plt.show()\n",
    "\n"
   ]
  },
  {
   "cell_type": "markdown",
   "metadata": {},
   "source": [
    "## Estudiar los resultados del experimento"
   ]
  },
  {
   "cell_type": "code",
   "execution_count": 43,
   "metadata": {},
   "outputs": [
    {
     "name": "stdout",
     "output_type": "stream",
     "text": [
      "  exp_group  unique_users\n",
      "0       246          2484\n",
      "1       247          2513\n",
      "2       248          2537\n"
     ]
    }
   ],
   "source": [
    "unique_users_by_group = filtered_events_data.groupby('exp_group')['device_id_hash'].nunique().reset_index()\n",
    "unique_users_by_group.columns = ['exp_group', 'unique_users']\n",
    "\n",
    "print(unique_users_by_group)"
   ]
  },
  {
   "cell_type": "markdown",
   "metadata": {},
   "source": [
    "### Comparación de eventos A/A"
   ]
  },
  {
   "cell_type": "code",
   "execution_count": null,
   "metadata": {},
   "outputs": [
    {
     "name": "stdout",
     "output_type": "stream",
     "text": [
      "Proporción de conversión en grupo 246: 0.4694\n",
      "Proporción de conversión en grupo 247: 0.4477\n",
      "Estadístico Z: 1.5415\n",
      "Valor p: 0.1232\n",
      "No hay una diferencia estadísticamente significativa entre los grupos 246 y 247.\n"
     ]
    }
   ],
   "source": [
    "\n",
    "# Definir la métrica a comparar → Proporción de usuarios que completan el embudo.\n",
    "# Realizar un test de hipótesis → Usaremos una prueba de proporciones (proportions_ztest) para comparar las tasas de conversión.\n",
    "\n",
    "\n",
    "# Definir el orden correcto del embudo\n",
    "funnel_events = ['MainScreenAppear', 'OffersScreenAppear', 'CartScreenAppear', 'PaymentScreenSuccessful']\n",
    "\n",
    "# Filtrar solo los eventos del embudo\n",
    "funnel_users = filtered_events_data[filtered_events_data['event_name'].isin(funnel_events)].copy()\n",
    "\n",
    "# Ordenar eventos por usuario y fecha\n",
    "funnel_users = funnel_users.sort_values(by=['device_id_hash', 'date_time'])\n",
    "\n",
    "# Filtrar usuarios que completaron el embudo en cada grupo\n",
    "def users_completed_funnel(df, group):\n",
    "    \"\"\" Devuelve el número de usuarios en un grupo que completaron todo el embudo en orden \"\"\"\n",
    "    users_in_group = df[df['exp_group'] == group].groupby('device_id_hash')['event_name'].apply(list)\n",
    "    return sum(1 for events in users_in_group if all(event in events for event in funnel_events))\n",
    "\n",
    "# Calcular usuarios que completaron el embudo en cada grupo\n",
    "users_complete_246 = users_completed_funnel(funnel_users, '246')\n",
    "users_complete_247 = users_completed_funnel(funnel_users, '247')\n",
    "\n",
    "# Contar usuarios totales en cada grupo\n",
    "total_users_246 = filtered_events_data[filtered_events_data['exp_group'] == '246']['device_id_hash'].nunique()\n",
    "total_users_247 = filtered_events_data[filtered_events_data['exp_group'] == '247']['device_id_hash'].nunique()\n",
    "\n",
    "# Crear las proporciones de conversión\n",
    "conv_rate_246 = users_complete_246 / total_users_246\n",
    "conv_rate_247 = users_complete_247 / total_users_247\n",
    "\n",
    "# Prueba de hipótesis: Test Z para comparar proporciones\n",
    "counts = np.array([users_complete_246, users_complete_247])\n",
    "nobs = np.array([total_users_246, total_users_247])\n",
    "z_stat, p_value = proportions_ztest(counts, nobs)\n",
    "\n",
    "# Mostrar resultados\n",
    "print(f\"Proporción de conversión en grupo 246: {conv_rate_246:.4f}\")\n",
    "print(f\"Proporción de conversión en grupo 247: {conv_rate_247:.4f}\")\n",
    "print(f\"Estadístico Z: {z_stat:.4f}\")\n",
    "print(f\"Valor p: {p_value:.4f}\")\n",
    "\n",
    "# Interpretación del resultado\n",
    "alpha = 0.05  # Nivel de significancia\n",
    "if p_value < alpha:\n",
    "    print(\"Hay una diferencia estadísticamente significativa entre los grupos 246 y 247.\")\n",
    "else:\n",
    "    print(\"No hay una diferencia estadísticamente significativa entre los grupos 246 y 247.\")\n"
   ]
  },
  {
   "cell_type": "code",
   "execution_count": 46,
   "metadata": {},
   "outputs": [
    {
     "name": "stdout",
     "output_type": "stream",
     "text": [
      " El evento más popular es: MainScreenAppear\n",
      "\n",
      " Evento: MainScreenAppear\n",
      "Usuarios que realizaron el evento en grupo 246: 2450 (98.6312%)\n",
      "Usuarios que realizaron el evento en grupo 247: 2476 (98.5277%)\n",
      "Estadístico Z: 0.3093\n",
      "Valor p: 0.7571\n",
      "No hay una diferencia estadísticamente significativa entre los grupos 246 y 247 para este evento.\n",
      "\n",
      "Comparación de todos los eventos:\n",
      "\n",
      " Evento: Tutorial\n",
      "Usuarios que realizaron el evento en grupo 246: 278 (11.1916%)\n",
      "Usuarios que realizaron el evento en grupo 247: 283 (11.2614%)\n",
      "Estadístico Z: -0.0782\n",
      "Valor p: 0.9377\n",
      "No hay una diferencia estadísticamente significativa entre los grupos 246 y 247 para este evento.\n",
      "\n",
      " Evento: MainScreenAppear\n",
      "Usuarios que realizaron el evento en grupo 246: 2450 (98.6312%)\n",
      "Usuarios que realizaron el evento en grupo 247: 2476 (98.5277%)\n",
      "Estadístico Z: 0.3093\n",
      "Valor p: 0.7571\n",
      "No hay una diferencia estadísticamente significativa entre los grupos 246 y 247 para este evento.\n",
      "\n",
      " Evento: OffersScreenAppear\n",
      "Usuarios que realizaron el evento en grupo 246: 1542 (62.0773%)\n",
      "Usuarios que realizaron el evento en grupo 247: 1520 (60.4855%)\n",
      "Estadístico Z: 1.1550\n",
      "Valor p: 0.2481\n",
      "No hay una diferencia estadísticamente significativa entre los grupos 246 y 247 para este evento.\n",
      "\n",
      " Evento: CartScreenAppear\n",
      "Usuarios que realizaron el evento en grupo 246: 1266 (50.9662%)\n",
      "Usuarios que realizaron el evento en grupo 247: 1238 (49.2638%)\n",
      "Estadístico Z: 1.2034\n",
      "Valor p: 0.2288\n",
      "No hay una diferencia estadísticamente significativa entre los grupos 246 y 247 para este evento.\n",
      "\n",
      " Evento: PaymentScreenSuccessful\n",
      "Usuarios que realizaron el evento en grupo 246: 1200 (48.3092%)\n",
      "Usuarios que realizaron el evento en grupo 247: 1158 (46.0804%)\n",
      "Estadístico Z: 1.5780\n",
      "Valor p: 0.1146\n",
      "No hay una diferencia estadísticamente significativa entre los grupos 246 y 247 para este evento.\n"
     ]
    }
   ],
   "source": [
    "import numpy as np\n",
    "import scipy.stats as stats\n",
    "from statsmodels.stats.proportion import proportions_ztest\n",
    "\n",
    "#Estrategia:\n",
    "#Encontrar el evento más popular (más frecuente en el dataset).\n",
    "#Comparar la cantidad de usuarios que realizaron cada evento en los grupos 246 y 247.\n",
    "#Calcular la proporción de usuarios que realizaron cada evento en cada grupo.\n",
    "#Realizar un test de hipótesis (proportions_ztest) para cada evento.\n",
    "#Automatizar todo con una función para ahorrar tiempo.\n",
    "\n",
    "\n",
    "# Paso 1: Encontrar el evento más popular\n",
    "most_popular_event = filtered_events_data['event_name'].value_counts().idxmax()\n",
    "print(f\" El evento más popular es: {most_popular_event}\")\n",
    "\n",
    "# Paso 2: Definir función para comparar eventos entre los grupos de control\n",
    "def test_event_significance(event_name):\n",
    "    \"\"\"Realiza un test estadístico para verificar si la proporción de usuarios que realizaron un evento es diferente en los grupos de control (246 vs 247)\"\"\"\n",
    "    \n",
    "    # Contar cuántos usuarios realizaron el evento en cada grupo\n",
    "    users_246 = filtered_events_data[(filtered_events_data['exp_group'] == '246') & \n",
    "                                     (filtered_events_data['event_name'] == event_name)]['device_id_hash'].nunique()\n",
    "    users_247 = filtered_events_data[(filtered_events_data['exp_group'] == '247') & \n",
    "                                     (filtered_events_data['event_name'] == event_name)]['device_id_hash'].nunique()\n",
    "    \n",
    "    # Total de usuarios en cada grupo\n",
    "    total_users_246 = filtered_events_data[filtered_events_data['exp_group'] == '246']['device_id_hash'].nunique()\n",
    "    total_users_247 = filtered_events_data[filtered_events_data['exp_group'] == '247']['device_id_hash'].nunique()\n",
    "    \n",
    "    # Calcular proporciones\n",
    "    prop_246 = users_246 / total_users_246\n",
    "    prop_247 = users_247 / total_users_247\n",
    "    \n",
    "    # Test estadístico (proportions_ztest)\n",
    "    counts = np.array([users_246, users_247])\n",
    "    nobs = np.array([total_users_246, total_users_247])\n",
    "    z_stat, p_value = proportions_ztest(counts, nobs)\n",
    "\n",
    "    # Mostrar resultados\n",
    "    print(f\"\\n Evento: {event_name}\")\n",
    "    print(f\"Usuarios que realizaron el evento en grupo 246: {users_246} ({prop_246:.4%})\")\n",
    "    print(f\"Usuarios que realizaron el evento en grupo 247: {users_247} ({prop_247:.4%})\")\n",
    "    print(f\"Estadístico Z: {z_stat:.4f}\")\n",
    "    print(f\"Valor p: {p_value:.4f}\")\n",
    "\n",
    "    # Interpretación\n",
    "    alpha = 0.05\n",
    "    if p_value < alpha:\n",
    "        print(\"Hay una diferencia estadísticamente significativa entre los grupos 246 y 247 para este evento.\")\n",
    "    else:\n",
    "        print(\"No hay una diferencia estadísticamente significativa entre los grupos 246 y 247 para este evento.\")\n",
    "\n",
    "# Paso 3: Aplicar la función al evento más popular\n",
    "test_event_significance(most_popular_event)\n",
    "\n",
    "# Paso 4: Aplicar la función a todos los eventos (para verificar que los grupos se dividieron correctamente)\n",
    "print(\"\\nComparación de todos los eventos:\")\n",
    "for event in filtered_events_data['event_name'].unique():\n",
    "    test_event_significance(event)\n"
   ]
  },
  {
   "cell_type": "markdown",
   "metadata": {},
   "source": [
    "### Comparación de eventos A/A/B"
   ]
  },
  {
   "cell_type": "code",
   "execution_count": 50,
   "metadata": {},
   "outputs": [
    {
     "name": "stdout",
     "output_type": "stream",
     "text": [
      "\n",
      "Comparación entre grupo experimental y grupos de control individualmente:\n",
      "\n",
      "Evento: Tutorial | Comparando 246 vs 248\n",
      "Usuarios en 246: 278 (11.1916%)\n",
      "Usuarios en 248: 279 (10.9972%)\n",
      "Estadístico Z: 0.2193\n",
      "Valor p: 0.8264\n",
      "No hay una diferencia estadísticamente significativa entre estos grupos para este evento.\n",
      "\n",
      "Evento: Tutorial | Comparando 247 vs 248\n",
      "Usuarios en 247: 283 (11.2614%)\n",
      "Usuarios en 248: 279 (10.9972%)\n",
      "Estadístico Z: 0.2985\n",
      "Valor p: 0.7653\n",
      "No hay una diferencia estadísticamente significativa entre estos grupos para este evento.\n",
      "\n",
      "Evento: MainScreenAppear | Comparando 246 vs 248\n",
      "Usuarios en 246: 2450 (98.6312%)\n",
      "Usuarios en 248: 2493 (98.2657%)\n",
      "Estadístico Z: 1.0473\n",
      "Valor p: 0.2950\n",
      "No hay una diferencia estadísticamente significativa entre estos grupos para este evento.\n",
      "\n",
      "Evento: MainScreenAppear | Comparando 247 vs 248\n",
      "Usuarios en 247: 2476 (98.5277%)\n",
      "Usuarios en 248: 2493 (98.2657%)\n",
      "Estadístico Z: 0.7410\n",
      "Valor p: 0.4587\n",
      "No hay una diferencia estadísticamente significativa entre estos grupos para este evento.\n",
      "\n",
      "Evento: OffersScreenAppear | Comparando 246 vs 248\n",
      "Usuarios en 246: 1542 (62.0773%)\n",
      "Usuarios en 248: 1531 (60.3469%)\n",
      "Estadístico Z: 1.2581\n",
      "Valor p: 0.2084\n",
      "No hay una diferencia estadísticamente significativa entre estos grupos para este evento.\n",
      "\n",
      "Evento: OffersScreenAppear | Comparando 247 vs 248\n",
      "Usuarios en 247: 1520 (60.4855%)\n",
      "Usuarios en 248: 1531 (60.3469%)\n",
      "Estadístico Z: 0.1007\n",
      "Valor p: 0.9198\n",
      "No hay una diferencia estadísticamente significativa entre estos grupos para este evento.\n",
      "\n",
      "Evento: CartScreenAppear | Comparando 246 vs 248\n",
      "Usuarios en 246: 1266 (50.9662%)\n",
      "Usuarios en 248: 1230 (48.4825%)\n",
      "Estadístico Z: 1.7599\n",
      "Valor p: 0.0784\n",
      "No hay una diferencia estadísticamente significativa entre estos grupos para este evento.\n",
      "\n",
      "Evento: CartScreenAppear | Comparando 247 vs 248\n",
      "Usuarios en 247: 1238 (49.2638%)\n",
      "Usuarios en 248: 1230 (48.4825%)\n",
      "Estadístico Z: 0.5554\n",
      "Valor p: 0.5786\n",
      "No hay una diferencia estadísticamente significativa entre estos grupos para este evento.\n",
      "\n",
      "Evento: PaymentScreenSuccessful | Comparando 246 vs 248\n",
      "Usuarios en 246: 1200 (48.3092%)\n",
      "Usuarios en 248: 1181 (46.5510%)\n",
      "Estadístico Z: 1.2474\n",
      "Valor p: 0.2123\n",
      "No hay una diferencia estadísticamente significativa entre estos grupos para este evento.\n",
      "\n",
      "Evento: PaymentScreenSuccessful | Comparando 247 vs 248\n",
      "Usuarios en 247: 1158 (46.0804%)\n",
      "Usuarios en 248: 1181 (46.5510%)\n",
      "Estadístico Z: -0.3354\n",
      "Valor p: 0.7373\n",
      "No hay una diferencia estadísticamente significativa entre estos grupos para este evento.\n"
     ]
    }
   ],
   "source": [
    "#Estrategia:\n",
    "#Para cada evento, comparar la cantidad de usuarios únicos en los grupos 248 vs. 246 y 248 vs. 247.\n",
    "#Calcular la proporción de usuarios que realizaron el evento en cada grupo.\n",
    "#Realizar un test de hipótesis (proportions_ztest) para determinar si hay diferencias significativas.\n",
    "\n",
    "import numpy as np\n",
    "import scipy.stats as stats\n",
    "from statsmodels.stats.proportion import proportions_ztest\n",
    "\n",
    "def compare_experiment_vs_control(event_name, control_group, experiment_group='248'):\n",
    "    \"\"\"Compara un evento entre el grupo experimental y un grupo de control.\"\"\"\n",
    "    \n",
    "    # Contar cuántos usuarios realizaron el evento en cada grupo\n",
    "    users_control = filtered_events_data[(filtered_events_data['exp_group'] == control_group) & \n",
    "                                         (filtered_events_data['event_name'] == event_name)]['device_id_hash'].nunique()\n",
    "    \n",
    "    users_experiment = filtered_events_data[(filtered_events_data['exp_group'] == experiment_group) & \n",
    "                                            (filtered_events_data['event_name'] == event_name)]['device_id_hash'].nunique()\n",
    "    \n",
    "    # Contar total de usuarios en cada grupo\n",
    "    total_users_control = filtered_events_data[filtered_events_data['exp_group'] == control_group]['device_id_hash'].nunique()\n",
    "    total_users_experiment = filtered_events_data[filtered_events_data['exp_group'] == experiment_group]['device_id_hash'].nunique()\n",
    "    \n",
    "    # **Evitar división por cero**\n",
    "    if total_users_control == 0 or total_users_experiment == 0:\n",
    "        print(f\"\\nEvento: {event_name} | Uno de los grupos no tiene usuarios, se omite la prueba.\")\n",
    "        return\n",
    "    \n",
    "    # Calcular proporciones\n",
    "    prop_control = users_control / total_users_control\n",
    "    prop_experiment = users_experiment / total_users_experiment\n",
    "    \n",
    "    # Test de proporciones (proportions_ztest)\n",
    "    counts = np.array([users_control, users_experiment])\n",
    "    nobs = np.array([total_users_control, total_users_experiment])\n",
    "    z_stat, p_value = proportions_ztest(counts, nobs)\n",
    "\n",
    "    # Mostrar resultados\n",
    "    print(f\"\\nEvento: {event_name} | Comparando {control_group} vs {experiment_group}\")\n",
    "    print(f\"Usuarios en {control_group}: {users_control} ({prop_control:.4%})\")\n",
    "    print(f\"Usuarios en {experiment_group}: {users_experiment} ({prop_experiment:.4%})\")\n",
    "    print(f\"Estadístico Z: {z_stat:.4f}\")\n",
    "    print(f\"Valor p: {p_value:.4f}\")\n",
    "\n",
    "    # Interpretación\n",
    "    alpha = 0.05\n",
    "    if p_value < alpha:\n",
    "        print(\"Hay una diferencia estadísticamente significativa entre estos grupos para este evento.\")\n",
    "    else:\n",
    "        print(\"No hay una diferencia estadísticamente significativa entre estos grupos para este evento.\")\n",
    "\n",
    "# Comparar grupo experimental (248) con cada grupo de control individualmente\n",
    "print(\"\\nComparación entre grupo experimental y grupos de control individualmente:\")\n",
    "for event in filtered_events_data['event_name'].unique():\n",
    "    compare_experiment_vs_control(event, '246')  # Comparar con grupo de control 246\n",
    "    compare_experiment_vs_control(event, '247')  # Comparar con grupo de control 247\n",
    "\n"
   ]
  },
  {
   "cell_type": "markdown",
   "metadata": {},
   "source": [
    "Análisis de los Resultados de la Comparación Grupo Experimental (248) vs Grupos de Control (246 y 247)\n",
    "\n",
    "Observaciones Clave:\n",
    "\n",
    "No se encontraron diferencias estadísticamente significativas en ninguno de los eventos.\n",
    "\n",
    "En todas las pruebas, el valor p fue mayor a 0.05, indicando que las diferencias entre los grupos pueden deberse al azar.\n",
    "El evento más afectado fue CartScreenAppear (p = 0.0784 en 246 vs 248).\n",
    "\n",
    "Aunque no es estadísticamente significativo, el grupo experimental muestra una ligera tendencia a menos usuarios llegando a la pantalla del carrito.\n",
    "Posible hipótesis: El cambio en las fuentes pudo haber generado una mínima fricción en la navegación.\n",
    "La pantalla de pago (PaymentScreenSuccessful) también tiene una leve caída en 248, pero sin significancia estadística.\n",
    "\n",
    "No parece haber una gran diferencia en la conversión final.\n",
    "El tutorial y la pantalla principal (MainScreenAppear) tienen valores p altos (>0.75), lo que sugiere que la primera interacción con la app no se vio afectada por el cambio en las fuentes.\n",
    "\n",
    "Interpretación:\n",
    "\n",
    "Los grupos de control (246 y 247) y el grupo experimental (248) parecen haber sido divididos correctamente.\n",
    "\n",
    "El cambio en las fuentes no generó un impacto significativo en la navegación y conversión de los usuarios.\n",
    "\n",
    "Se observa una pequeña tendencia a la baja en la pantalla de carrito, pero no es suficiente para concluir que hubo un impacto real."
   ]
  },
  {
   "cell_type": "code",
   "execution_count": 51,
   "metadata": {},
   "outputs": [
    {
     "name": "stdout",
     "output_type": "stream",
     "text": [
      "\n",
      "Comparación entre grupo experimental y grupos de control combinados:\n",
      "\n",
      "Evento: Tutorial | Comparando Control (246+247) vs 248\n",
      "Usuarios en Control: 561 (11.2267%)\n",
      "Usuarios en Experimental: 279 (10.9972%)\n",
      "Estadístico Z: 0.2991\n",
      "Valor p: 0.7649\n",
      "No hay una diferencia estadísticamente significativa entre estos grupos para este evento.\n",
      "\n",
      "Evento: MainScreenAppear | Comparando Control (246+247) vs 248\n",
      "Usuarios en Control: 4926 (98.5791%)\n",
      "Usuarios en Experimental: 2493 (98.2657%)\n",
      "Estadístico Z: 1.0489\n",
      "Valor p: 0.2942\n",
      "No hay una diferencia estadísticamente significativa entre estos grupos para este evento.\n",
      "\n",
      "Evento: OffersScreenAppear | Comparando Control (246+247) vs 248\n",
      "Usuarios en Control: 3062 (61.2768%)\n",
      "Usuarios en Experimental: 1531 (60.3469%)\n",
      "Estadístico Z: 0.7819\n",
      "Valor p: 0.4343\n",
      "No hay una diferencia estadísticamente significativa entre estos grupos para este evento.\n",
      "\n",
      "Evento: CartScreenAppear | Comparando Control (246+247) vs 248\n",
      "Usuarios en Control: 2504 (50.1101%)\n",
      "Usuarios en Experimental: 1230 (48.4825%)\n",
      "Estadístico Z: 1.3354\n",
      "Valor p: 0.1818\n",
      "No hay una diferencia estadísticamente significativa entre estos grupos para este evento.\n",
      "\n",
      "Evento: PaymentScreenSuccessful | Comparando Control (246+247) vs 248\n",
      "Usuarios en Control: 2358 (47.1883%)\n",
      "Usuarios en Experimental: 1181 (46.5510%)\n",
      "Estadístico Z: 0.5238\n",
      "Valor p: 0.6004\n",
      "No hay una diferencia estadísticamente significativa entre estos grupos para este evento.\n"
     ]
    }
   ],
   "source": [
    "#Estrategia:\n",
    "#Fusionar los grupos de control (246 + 247) y compararlos con el grupo experimental (248).\n",
    "#Para cada evento, calcular la cantidad de usuarios y la proporción en cada grupo.\n",
    "#Realizar un test estadístico (proportions_ztest) para ver si hay diferencias significativas.\n",
    "\n",
    "import numpy as np\n",
    "import scipy.stats as stats\n",
    "from statsmodels.stats.proportion import proportions_ztest\n",
    "\n",
    "def compare_experiment_vs_combined_control(event_name):\n",
    "    \"\"\"Compara un evento entre el grupo experimental (248) y la combinación de los grupos de control (246 + 247).\"\"\"\n",
    "    \n",
    "    # Contar usuarios únicos que realizaron el evento en los grupos de control combinados (246 + 247)\n",
    "    users_control = filtered_events_data[(filtered_events_data['exp_group'].isin(['246', '247'])) & \n",
    "                                         (filtered_events_data['event_name'] == event_name)]['device_id_hash'].nunique()\n",
    "    \n",
    "    # Contar usuarios únicos en el grupo experimental (248)\n",
    "    users_experiment = filtered_events_data[(filtered_events_data['exp_group'] == '248') & \n",
    "                                            (filtered_events_data['event_name'] == event_name)]['device_id_hash'].nunique()\n",
    "    \n",
    "    # Contar total de usuarios en los grupos combinados y en el experimental\n",
    "    total_users_control = filtered_events_data[filtered_events_data['exp_group'].isin(['246', '247'])]['device_id_hash'].nunique()\n",
    "    total_users_experiment = filtered_events_data[filtered_events_data['exp_group'] == '248']['device_id_hash'].nunique()\n",
    "    \n",
    "    # **Evitar división por cero**\n",
    "    if total_users_control == 0 or total_users_experiment == 0:\n",
    "        print(f\"\\nEvento: {event_name} | Uno de los grupos no tiene usuarios, se omite la prueba.\")\n",
    "        return\n",
    "    \n",
    "    # Calcular proporciones\n",
    "    prop_control = users_control / total_users_control\n",
    "    prop_experiment = users_experiment / total_users_experiment\n",
    "    \n",
    "    # Test estadístico (proportions_ztest)\n",
    "    counts = np.array([users_control, users_experiment])\n",
    "    nobs = np.array([total_users_control, total_users_experiment])\n",
    "    z_stat, p_value = proportions_ztest(counts, nobs)\n",
    "\n",
    "    # Mostrar resultados\n",
    "    print(f\"\\nEvento: {event_name} | Comparando Control (246+247) vs 248\")\n",
    "    print(f\"Usuarios en Control: {users_control} ({prop_control:.4%})\")\n",
    "    print(f\"Usuarios en Experimental: {users_experiment} ({prop_experiment:.4%})\")\n",
    "    print(f\"Estadístico Z: {z_stat:.4f}\")\n",
    "    print(f\"Valor p: {p_value:.4f}\")\n",
    "\n",
    "    # Interpretación\n",
    "    alpha = 0.05\n",
    "    if p_value < alpha:\n",
    "        print(\"Hay una diferencia estadísticamente significativa entre estos grupos para este evento.\")\n",
    "    else:\n",
    "        print(\"No hay una diferencia estadísticamente significativa entre estos grupos para este evento.\")\n",
    "\n",
    "# Comparar grupo experimental (248) con el grupo de control combinado (246 + 247) para todos los eventos\n",
    "print(\"\\nComparación entre grupo experimental y grupos de control combinados:\")\n",
    "for event in filtered_events_data['event_name'].unique():\n",
    "    compare_experiment_vs_combined_control(event)\n"
   ]
  },
  {
   "cell_type": "markdown",
   "metadata": {},
   "source": [
    "Análisis de los Resultados: Grupo Experimental (248) vs Control Combinado (246 + 247)\n",
    "Observaciones Clave:\n",
    "\n",
    "No se encontraron diferencias estadísticamente significativas en ningún evento.\n",
    "\n",
    "En todas las pruebas, el valor p fue mayor a 0.05, lo que indica que las diferencias observadas pueden deberse al azar.\n",
    "Resultados muy similares a las pruebas individuales contra 246 y 247.\n",
    "\n",
    "El grupo experimental (fuentes alteradas) no mostró cambios en la tasa de interacción con los eventos.\n",
    "Incluso con una muestra más grande (control combinado), no hubo evidencia de impacto en la navegación o conversión.\n",
    "La mayor diferencia sigue siendo en CartScreenAppear (p = 0.1818).\n",
    "\n",
    "Aunque sigue sin ser significativa, el grupo experimental muestra una leve tendencia a tener menos usuarios en la pantalla del carrito.\n",
    "Posible hipótesis: El cambio en las fuentes pudo haber causado una mínima fricción visual o en la experiencia del usuario.\n",
    "El embudo de conversión se mantiene estable entre grupos.\n",
    "\n",
    "PaymentScreenSuccessful (compra finalizada) sigue sin mostrar diferencias significativas (p = 0.6004).\n",
    "Esto sugiere que el proceso de compra no se vio afectado por el diseño.\n",
    "\n",
    "Conclusiones Finales del Experimento\n",
    "No hay evidencia de que el cambio en las fuentes haya afectado la interacción de los usuarios en la app.\n",
    "\n",
    "Los grupos de control y el grupo experimental están bien balanceados y correctamente divididos.\n",
    "\n",
    "No se encontraron diferencias en la conversión o navegación, lo que indica que la actualización del diseño no tuvo un impacto negativo ni positivo significativo.\n",
    "\n",
    "Si se decide implementar el cambio de fuentes, no debería afectar la tasa de conversión o el comportamiento del usuario.\n",
    "\n"
   ]
  },
  {
   "cell_type": "markdown",
   "metadata": {},
   "source": [
    "## Ajuste de nivel de significancia "
   ]
  },
  {
   "cell_type": "code",
   "execution_count": 52,
   "metadata": {},
   "outputs": [
    {
     "name": "stdout",
     "output_type": "stream",
     "text": [
      "El nivel de significancia utilizado en las pruebas de hipótesis ha sido: 0.05 (5%)\n"
     ]
    }
   ],
   "source": [
    "# Nivel de significancia utilizado en todas las pruebas\n",
    "alpha = 0.05\n",
    "print(f\"El nivel de significancia utilizado en las pruebas de hipótesis ha sido: {alpha} (5%)\")"
   ]
  },
  {
   "cell_type": "code",
   "execution_count": 53,
   "metadata": {},
   "outputs": [
    {
     "name": "stdout",
     "output_type": "stream",
     "text": [
      "Número total de pruebas de hipótesis realizadas: 20\n",
      " - Pruebas A/A (246 vs 247): 5\n",
      " - Pruebas A/B individuales (248 vs 246 y 248 vs 247): 10\n",
      " - Pruebas A/B combinadas (248 vs (246+247)): 5\n"
     ]
    }
   ],
   "source": [
    "# Número de eventos analizados\n",
    "num_events = len(filtered_events_data['event_name'].unique())\n",
    "\n",
    "# Número de pruebas realizadas en cada comparación\n",
    "num_tests_aa = num_events  # Comparación 246 vs 247\n",
    "num_tests_ab_individual = num_events * 2  # Comparación 248 vs 246 y 248 vs 247\n",
    "num_tests_ab_combined = num_events  # Comparación 248 vs (246+247)\n",
    "\n",
    "# Sumar todas las pruebas realizadas\n",
    "total_tests = num_tests_aa + num_tests_ab_individual + num_tests_ab_combined\n",
    "\n",
    "# Mostrar resultados\n",
    "print(f\"Número total de pruebas de hipótesis realizadas: {total_tests}\")\n",
    "print(f\" - Pruebas A/A (246 vs 247): {num_tests_aa}\")\n",
    "print(f\" - Pruebas A/B individuales (248 vs 246 y 248 vs 247): {num_tests_ab_individual}\")\n",
    "print(f\" - Pruebas A/B combinadas (248 vs (246+247)): {num_tests_ab_combined}\")"
   ]
  },
  {
   "cell_type": "code",
   "execution_count": 54,
   "metadata": {},
   "outputs": [
    {
     "name": "stdout",
     "output_type": "stream",
     "text": [
      "Nivel de significancia ajustado con corrección de Bonferroni: 0.002500\n"
     ]
    }
   ],
   "source": [
    "# Aplicar corrección de Bonferroni\n",
    "adjusted_alpha = alpha / total_tests\n",
    "\n",
    "# Mostrar resultado\n",
    "print(f\"Nivel de significancia ajustado con corrección de Bonferroni: {adjusted_alpha:.6f}\")"
   ]
  },
  {
   "cell_type": "code",
   "execution_count": 55,
   "metadata": {
    "scrolled": false
   },
   "outputs": [
    {
     "name": "stdout",
     "output_type": "stream",
     "text": [
      "\n",
      "**Revisión de la Prueba A/A (246 vs 247) con α ajustado**:\n",
      "\n",
      "Evento: Tutorial | Comparando 246 vs 247\n",
      "Usuarios en 246: 278 (11.1916%)\n",
      "Usuarios en 247: 283 (11.2614%)\n",
      "Estadístico Z: -0.0782\n",
      "Valor p: 0.9377\n",
      "No hay una diferencia estadísticamente significativa entre estos grupos para este evento.\n",
      "\n",
      "Evento: MainScreenAppear | Comparando 246 vs 247\n",
      "Usuarios en 246: 2450 (98.6312%)\n",
      "Usuarios en 247: 2476 (98.5277%)\n",
      "Estadístico Z: 0.3093\n",
      "Valor p: 0.7571\n",
      "No hay una diferencia estadísticamente significativa entre estos grupos para este evento.\n",
      "\n",
      "Evento: OffersScreenAppear | Comparando 246 vs 247\n",
      "Usuarios en 246: 1542 (62.0773%)\n",
      "Usuarios en 247: 1520 (60.4855%)\n",
      "Estadístico Z: 1.1550\n",
      "Valor p: 0.2481\n",
      "No hay una diferencia estadísticamente significativa entre estos grupos para este evento.\n",
      "\n",
      "Evento: CartScreenAppear | Comparando 246 vs 247\n",
      "Usuarios en 246: 1266 (50.9662%)\n",
      "Usuarios en 247: 1238 (49.2638%)\n",
      "Estadístico Z: 1.2034\n",
      "Valor p: 0.2288\n",
      "No hay una diferencia estadísticamente significativa entre estos grupos para este evento.\n",
      "\n",
      "Evento: PaymentScreenSuccessful | Comparando 246 vs 247\n",
      "Usuarios en 246: 1200 (48.3092%)\n",
      "Usuarios en 247: 1158 (46.0804%)\n",
      "Estadístico Z: 1.5780\n",
      "Valor p: 0.1146\n",
      "No hay una diferencia estadísticamente significativa entre estos grupos para este evento.\n"
     ]
    }
   ],
   "source": [
    "# Nuevo nivel de significancia ajustado\n",
    "new_alpha = adjusted_alpha\n",
    "\n",
    "print(\"\\n**Revisión de la Prueba A/A (246 vs 247) con α ajustado**:\")\n",
    "for event in filtered_events_data['event_name'].unique():\n",
    "    compare_experiment_vs_control(event, '246', '247')  # Prueba A/A"
   ]
  },
  {
   "cell_type": "code",
   "execution_count": 57,
   "metadata": {},
   "outputs": [
    {
     "name": "stdout",
     "output_type": "stream",
     "text": [
      "\n",
      "**Revisión de la Prueba A/B (248 vs 246 y 248 vs 247) con α ajustado**:\n",
      "\n",
      "Evento: Tutorial | Comparando 246 vs 248\n",
      "Usuarios en 246: 278 (11.1916%)\n",
      "Usuarios en 248: 279 (10.9972%)\n",
      "Estadístico Z: 0.2193\n",
      "Valor p: 0.8264\n",
      "No hay una diferencia estadísticamente significativa entre estos grupos para este evento.\n",
      "\n",
      "Evento: Tutorial | Comparando 247 vs 248\n",
      "Usuarios en 247: 283 (11.2614%)\n",
      "Usuarios en 248: 279 (10.9972%)\n",
      "Estadístico Z: 0.2985\n",
      "Valor p: 0.7653\n",
      "No hay una diferencia estadísticamente significativa entre estos grupos para este evento.\n",
      "\n",
      "Evento: MainScreenAppear | Comparando 246 vs 248\n",
      "Usuarios en 246: 2450 (98.6312%)\n",
      "Usuarios en 248: 2493 (98.2657%)\n",
      "Estadístico Z: 1.0473\n",
      "Valor p: 0.2950\n",
      "No hay una diferencia estadísticamente significativa entre estos grupos para este evento.\n",
      "\n",
      "Evento: MainScreenAppear | Comparando 247 vs 248\n",
      "Usuarios en 247: 2476 (98.5277%)\n",
      "Usuarios en 248: 2493 (98.2657%)\n",
      "Estadístico Z: 0.7410\n",
      "Valor p: 0.4587\n",
      "No hay una diferencia estadísticamente significativa entre estos grupos para este evento.\n",
      "\n",
      "Evento: OffersScreenAppear | Comparando 246 vs 248\n",
      "Usuarios en 246: 1542 (62.0773%)\n",
      "Usuarios en 248: 1531 (60.3469%)\n",
      "Estadístico Z: 1.2581\n",
      "Valor p: 0.2084\n",
      "No hay una diferencia estadísticamente significativa entre estos grupos para este evento.\n",
      "\n",
      "Evento: OffersScreenAppear | Comparando 247 vs 248\n",
      "Usuarios en 247: 1520 (60.4855%)\n",
      "Usuarios en 248: 1531 (60.3469%)\n",
      "Estadístico Z: 0.1007\n",
      "Valor p: 0.9198\n",
      "No hay una diferencia estadísticamente significativa entre estos grupos para este evento.\n",
      "\n",
      "Evento: CartScreenAppear | Comparando 246 vs 248\n",
      "Usuarios en 246: 1266 (50.9662%)\n",
      "Usuarios en 248: 1230 (48.4825%)\n",
      "Estadístico Z: 1.7599\n",
      "Valor p: 0.0784\n",
      "No hay una diferencia estadísticamente significativa entre estos grupos para este evento.\n",
      "\n",
      "Evento: CartScreenAppear | Comparando 247 vs 248\n",
      "Usuarios en 247: 1238 (49.2638%)\n",
      "Usuarios en 248: 1230 (48.4825%)\n",
      "Estadístico Z: 0.5554\n",
      "Valor p: 0.5786\n",
      "No hay una diferencia estadísticamente significativa entre estos grupos para este evento.\n",
      "\n",
      "Evento: PaymentScreenSuccessful | Comparando 246 vs 248\n",
      "Usuarios en 246: 1200 (48.3092%)\n",
      "Usuarios en 248: 1181 (46.5510%)\n",
      "Estadístico Z: 1.2474\n",
      "Valor p: 0.2123\n",
      "No hay una diferencia estadísticamente significativa entre estos grupos para este evento.\n",
      "\n",
      "Evento: PaymentScreenSuccessful | Comparando 247 vs 248\n",
      "Usuarios en 247: 1158 (46.0804%)\n",
      "Usuarios en 248: 1181 (46.5510%)\n",
      "Estadístico Z: -0.3354\n",
      "Valor p: 0.7373\n",
      "No hay una diferencia estadísticamente significativa entre estos grupos para este evento.\n"
     ]
    }
   ],
   "source": [
    "print(\"\\n**Revisión de la Prueba A/B (248 vs 246 y 248 vs 247) con α ajustado**:\")\n",
    "for event in filtered_events_data['event_name'].unique():\n",
    "    compare_experiment_vs_control(event, '246', '248')  # Grupo experimental vs 246\n",
    "    compare_experiment_vs_control(event, '247', '248')  # Grupo experimental vs 247\n"
   ]
  },
  {
   "cell_type": "code",
   "execution_count": 58,
   "metadata": {},
   "outputs": [
    {
     "name": "stdout",
     "output_type": "stream",
     "text": [
      "\n",
      "**Revisión de la Prueba A/B (248 vs 246+247) con α ajustado**:\n",
      "\n",
      "Evento: Tutorial | Comparando Control (246+247) vs 248\n",
      "Usuarios en Control: 561 (11.2267%)\n",
      "Usuarios en Experimental: 279 (10.9972%)\n",
      "Estadístico Z: 0.2991\n",
      "Valor p: 0.7649\n",
      "No hay una diferencia estadísticamente significativa entre estos grupos para este evento.\n",
      "\n",
      "Evento: MainScreenAppear | Comparando Control (246+247) vs 248\n",
      "Usuarios en Control: 4926 (98.5791%)\n",
      "Usuarios en Experimental: 2493 (98.2657%)\n",
      "Estadístico Z: 1.0489\n",
      "Valor p: 0.2942\n",
      "No hay una diferencia estadísticamente significativa entre estos grupos para este evento.\n",
      "\n",
      "Evento: OffersScreenAppear | Comparando Control (246+247) vs 248\n",
      "Usuarios en Control: 3062 (61.2768%)\n",
      "Usuarios en Experimental: 1531 (60.3469%)\n",
      "Estadístico Z: 0.7819\n",
      "Valor p: 0.4343\n",
      "No hay una diferencia estadísticamente significativa entre estos grupos para este evento.\n",
      "\n",
      "Evento: CartScreenAppear | Comparando Control (246+247) vs 248\n",
      "Usuarios en Control: 2504 (50.1101%)\n",
      "Usuarios en Experimental: 1230 (48.4825%)\n",
      "Estadístico Z: 1.3354\n",
      "Valor p: 0.1818\n",
      "No hay una diferencia estadísticamente significativa entre estos grupos para este evento.\n",
      "\n",
      "Evento: PaymentScreenSuccessful | Comparando Control (246+247) vs 248\n",
      "Usuarios en Control: 2358 (47.1883%)\n",
      "Usuarios en Experimental: 1181 (46.5510%)\n",
      "Estadístico Z: 0.5238\n",
      "Valor p: 0.6004\n",
      "No hay una diferencia estadísticamente significativa entre estos grupos para este evento.\n"
     ]
    }
   ],
   "source": [
    "print(\"\\n**Revisión de la Prueba A/B (248 vs 246+247) con α ajustado**:\")\n",
    "for event in filtered_events_data['event_name'].unique():\n",
    "    compare_experiment_vs_combined_control(event)"
   ]
  },
  {
   "cell_type": "markdown",
   "metadata": {},
   "source": [
    "Análisis Final: ¿Cambia algo con el Nivel de Significancia Ajustado?\n",
    "Después de ejecutar las pruebas nuevamente con el nivel de significancia más estricto (α = 0.0025), los resultados se mantuvieron sin diferencias significativas en todos los eventos.\n",
    "\n",
    "Observaciones Clave:\n",
    "No hubo cambios en las conclusiones anteriores.\n",
    "\n",
    "Ninguna prueba resultó estadísticamente significativa con el nivel de significancia ajustado.\n",
    "Esto indica que el cambio de fuentes en el grupo experimental (248) no generó un impacto real en la interacción de los usuarios.\n",
    "El evento CartScreenAppear sigue teniendo la mayor diferencia relativa, pero sin significancia estadística.\n",
    "\n",
    "En todas las pruebas, este evento mostró una leve tendencia a menos usuarios en el grupo experimental.\n",
    "Sin embargo, el valor p sigue por encima del umbral (p = 0.1818 con el control combinado), lo que indica que la diferencia observada es probable que sea por azar.\n",
    "El resto de los eventos tienen valores p muy altos (> 0.2), lo que refuerza la conclusión de que no hubo impacto significativo.\n",
    "\n",
    "Especialmente en la etapa de PaymentScreenSuccessful (p = 0.6004 con control combinado), lo que indica que el proceso de compra no se vio afectado.\n",
    "\n",
    "Conclusiones Finales del Experimento:\n",
    "\n",
    "El cambio de fuentes en la interfaz no afectó significativamente el comportamiento de los usuarios en la aplicación.\n",
    "\n",
    "Las pruebas A/A confirmaron que los grupos de control (246 y 247) fueron divididos correctamente.\n",
    "\n",
    "No se encontraron diferencias en la conversión, lo que sugiere que la experiencia del usuario no se vio impactada negativamente ni positivamente.\n",
    "\n",
    "Si la empresa decide implementar el cambio de fuentes, puede hacerlo sin temor a afectar las métricas clave del embudo.\n"
   ]
  }
 ],
 "metadata": {
  "ExecuteTimeLog": [
   {
    "duration": 2531,
    "start_time": "2025-02-19T23:44:57.452Z"
   },
   {
    "duration": 624,
    "start_time": "2025-02-19T23:48:10.286Z"
   },
   {
    "duration": 186,
    "start_time": "2025-02-19T23:48:32.827Z"
   },
   {
    "duration": 21,
    "start_time": "2025-02-19T23:49:12.377Z"
   },
   {
    "duration": 6,
    "start_time": "2025-02-19T23:49:24.372Z"
   },
   {
    "duration": 5,
    "start_time": "2025-02-19T23:49:30.631Z"
   },
   {
    "duration": 6,
    "start_time": "2025-02-19T23:54:12.631Z"
   },
   {
    "duration": 4,
    "start_time": "2025-02-19T23:57:12.551Z"
   },
   {
    "duration": 239,
    "start_time": "2025-02-20T00:01:12.063Z"
   },
   {
    "duration": 25,
    "start_time": "2025-02-20T00:02:06.354Z"
   },
   {
    "duration": 72,
    "start_time": "2025-02-20T00:03:05.462Z"
   },
   {
    "duration": 35,
    "start_time": "2025-02-20T00:07:39.816Z"
   },
   {
    "duration": 5,
    "start_time": "2025-02-20T00:07:56.211Z"
   },
   {
    "duration": 77,
    "start_time": "2025-02-20T00:11:01.004Z"
   },
   {
    "duration": 48,
    "start_time": "2025-02-20T00:11:05.966Z"
   },
   {
    "duration": 436,
    "start_time": "2025-02-20T00:11:26.647Z"
   },
   {
    "duration": 41,
    "start_time": "2025-02-20T00:11:51.298Z"
   },
   {
    "duration": 33,
    "start_time": "2025-02-20T00:12:09.400Z"
   },
   {
    "duration": 6,
    "start_time": "2025-02-20T00:12:23.827Z"
   },
   {
    "duration": 34,
    "start_time": "2025-02-20T00:12:28.052Z"
   },
   {
    "duration": 5,
    "start_time": "2025-02-20T00:12:28.121Z"
   },
   {
    "duration": 110,
    "start_time": "2025-02-20T00:16:14.421Z"
   },
   {
    "duration": 38,
    "start_time": "2025-02-20T00:16:14.533Z"
   },
   {
    "duration": 35,
    "start_time": "2025-02-20T00:16:20.098Z"
   },
   {
    "duration": 109,
    "start_time": "2025-02-20T00:17:07.398Z"
   },
   {
    "duration": 33,
    "start_time": "2025-02-20T00:17:07.509Z"
   },
   {
    "duration": 830,
    "start_time": "2025-02-20T00:17:28.818Z"
   },
   {
    "duration": 101,
    "start_time": "2025-02-20T00:17:37.856Z"
   },
   {
    "duration": 16,
    "start_time": "2025-02-20T00:17:40.311Z"
   },
   {
    "duration": 6,
    "start_time": "2025-02-20T00:17:47.340Z"
   },
   {
    "duration": 4,
    "start_time": "2025-02-20T00:17:52.704Z"
   },
   {
    "duration": 4,
    "start_time": "2025-02-20T00:17:52.775Z"
   },
   {
    "duration": 4,
    "start_time": "2025-02-20T00:17:55.623Z"
   },
   {
    "duration": 230,
    "start_time": "2025-02-20T00:17:59.317Z"
   },
   {
    "duration": 27,
    "start_time": "2025-02-20T00:17:59.549Z"
   },
   {
    "duration": 663,
    "start_time": "2025-02-20T00:18:23.070Z"
   },
   {
    "duration": 141,
    "start_time": "2025-02-20T00:23:04.418Z"
   },
   {
    "duration": 33,
    "start_time": "2025-02-20T00:23:12.046Z"
   },
   {
    "duration": 5,
    "start_time": "2025-02-20T00:23:16.965Z"
   },
   {
    "duration": 44,
    "start_time": "2025-02-20T00:23:29.895Z"
   },
   {
    "duration": 208,
    "start_time": "2025-02-20T00:24:46.998Z"
   },
   {
    "duration": 0,
    "start_time": "2025-02-20T00:24:47.218Z"
   },
   {
    "duration": 872,
    "start_time": "2025-02-20T00:24:54.918Z"
   },
   {
    "duration": 115,
    "start_time": "2025-02-20T00:24:58.362Z"
   },
   {
    "duration": 18,
    "start_time": "2025-02-20T00:25:00.476Z"
   },
   {
    "duration": 4,
    "start_time": "2025-02-20T00:25:18.094Z"
   },
   {
    "duration": 4,
    "start_time": "2025-02-20T00:25:20.994Z"
   },
   {
    "duration": 245,
    "start_time": "2025-02-20T00:25:23.443Z"
   },
   {
    "duration": 23,
    "start_time": "2025-02-20T00:25:25.954Z"
   },
   {
    "duration": 110,
    "start_time": "2025-02-20T00:25:29.620Z"
   },
   {
    "duration": 39,
    "start_time": "2025-02-20T00:25:36.658Z"
   },
   {
    "duration": 7,
    "start_time": "2025-02-20T00:25:46.582Z"
   },
   {
    "duration": 79,
    "start_time": "2025-02-20T00:28:13.494Z"
   },
   {
    "duration": 28,
    "start_time": "2025-02-20T00:28:16.422Z"
   },
   {
    "duration": 5,
    "start_time": "2025-02-20T00:28:21.358Z"
   },
   {
    "duration": 84,
    "start_time": "2025-02-20T00:33:37.236Z"
   },
   {
    "duration": 38,
    "start_time": "2025-02-20T00:38:35.718Z"
   },
   {
    "duration": 49,
    "start_time": "2025-02-20T00:39:23.396Z"
   },
   {
    "duration": 66,
    "start_time": "2025-02-20T01:08:53.232Z"
   },
   {
    "duration": 67,
    "start_time": "2025-02-20T01:09:25.727Z"
   },
   {
    "duration": 2,
    "start_time": "2025-02-20T01:11:18.810Z"
   },
   {
    "duration": 3,
    "start_time": "2025-02-20T01:12:14.783Z"
   },
   {
    "duration": 7,
    "start_time": "2025-02-20T01:17:24.580Z"
   },
   {
    "duration": 314,
    "start_time": "2025-02-20T01:18:34.274Z"
   },
   {
    "duration": 22,
    "start_time": "2025-02-20T01:20:32.024Z"
   },
   {
    "duration": 36,
    "start_time": "2025-02-20T01:21:36.621Z"
   },
   {
    "duration": 97,
    "start_time": "2025-02-20T01:25:07.938Z"
   },
   {
    "duration": 88,
    "start_time": "2025-02-20T01:26:01.858Z"
   },
   {
    "duration": 80,
    "start_time": "2025-02-20T01:26:34.964Z"
   },
   {
    "duration": 5,
    "start_time": "2025-02-20T01:31:44.358Z"
   },
   {
    "duration": 4,
    "start_time": "2025-02-20T01:43:39.500Z"
   },
   {
    "duration": 69,
    "start_time": "2025-02-20T01:44:00.598Z"
   },
   {
    "duration": 7,
    "start_time": "2025-02-20T01:49:10.956Z"
   },
   {
    "duration": 6,
    "start_time": "2025-02-20T01:58:29.792Z"
   },
   {
    "duration": 9,
    "start_time": "2025-02-20T01:58:46.462Z"
   },
   {
    "duration": 7,
    "start_time": "2025-02-20T02:01:13.978Z"
   },
   {
    "duration": 156,
    "start_time": "2025-02-20T02:08:06.765Z"
   },
   {
    "duration": 138,
    "start_time": "2025-02-20T02:08:19.685Z"
   },
   {
    "duration": 147,
    "start_time": "2025-02-20T02:10:03.821Z"
   },
   {
    "duration": 745,
    "start_time": "2025-02-20T02:12:44.652Z"
   },
   {
    "duration": 2,
    "start_time": "2025-02-20T02:30:21.858Z"
   },
   {
    "duration": 101,
    "start_time": "2025-02-20T02:30:33.680Z"
   },
   {
    "duration": 115,
    "start_time": "2025-02-20T02:31:52.967Z"
   },
   {
    "duration": 48,
    "start_time": "2025-02-20T02:34:06.040Z"
   },
   {
    "duration": 188,
    "start_time": "2025-02-20T02:39:07.248Z"
   },
   {
    "duration": 512,
    "start_time": "2025-02-20T02:40:52.587Z"
   },
   {
    "duration": 1008,
    "start_time": "2025-02-20T02:43:20.572Z"
   },
   {
    "duration": 1304,
    "start_time": "2025-02-20T02:46:55.778Z"
   },
   {
    "duration": 645,
    "start_time": "2025-02-20T02:51:03.352Z"
   },
   {
    "duration": 1265,
    "start_time": "2025-02-20T02:54:24.059Z"
   },
   {
    "duration": 1258,
    "start_time": "2025-02-20T02:54:54.784Z"
   },
   {
    "duration": 576,
    "start_time": "2025-02-20T03:00:09.788Z"
   },
   {
    "duration": 3,
    "start_time": "2025-02-20T03:05:37.103Z"
   },
   {
    "duration": 16,
    "start_time": "2025-02-20T03:06:03.609Z"
   },
   {
    "duration": 3,
    "start_time": "2025-02-20T03:06:31.607Z"
   },
   {
    "duration": 618,
    "start_time": "2025-02-20T03:08:36.746Z"
   },
   {
    "duration": 1181,
    "start_time": "2025-02-20T03:09:08.582Z"
   },
   {
    "duration": 1147,
    "start_time": "2025-02-20T03:09:13.415Z"
   },
   {
    "duration": 592,
    "start_time": "2025-02-20T03:09:35.788Z"
   }
  ],
  "kernelspec": {
   "display_name": "Python 3 (ipykernel)",
   "language": "python",
   "name": "python3"
  },
  "language_info": {
   "codemirror_mode": {
    "name": "ipython",
    "version": 3
   },
   "file_extension": ".py",
   "mimetype": "text/x-python",
   "name": "python",
   "nbconvert_exporter": "python",
   "pygments_lexer": "ipython3",
   "version": "3.9.19"
  },
  "toc": {
   "base_numbering": 1,
   "nav_menu": {},
   "number_sections": true,
   "sideBar": true,
   "skip_h1_title": true,
   "title_cell": "Table of Contents",
   "title_sidebar": "Contents",
   "toc_cell": false,
   "toc_position": {},
   "toc_section_display": true,
   "toc_window_display": true
  }
 },
 "nbformat": 4,
 "nbformat_minor": 2
}
