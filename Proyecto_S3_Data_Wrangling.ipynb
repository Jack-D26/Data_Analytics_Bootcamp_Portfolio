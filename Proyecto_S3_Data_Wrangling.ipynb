{
 "cells": [
  {
   "cell_type": "markdown",
   "metadata": {
    "id": "E0vqbgi9ay0H"
   },
   "source": [
    "# Déjame escuchar la música"
   ]
  },
  {
   "cell_type": "markdown",
   "metadata": {
    "id": "fhq_eyov_Zcs"
   },
   "source": [
    "# Contenido <a id='back'></a>\n",
    "\n",
    "* [Introducción](#intro)\n",
    "* [Etapa 1. Descripción de los datos](#data_review)\n",
    "    * [Conclusiones](#data_review_conclusions)\n",
    "* [Etapa 2. Preprocesamiento de datos](#data_preprocessing)\n",
    "    * [2.1 Estilo del encabezado](#header_style)\n",
    "    * [2.2 Valores ausentes](#missing_values)\n",
    "    * [2.3 Duplicados](#duplicates)\n",
    "    * [2.4 Conclusiones](#data_preprocessing_conclusions)\n",
    "* [Etapa 3. Prueba de hipótesis](#hypothesis)\n",
    "    * [3.1 Hipótesis 1: actividad de los usuarios y las usuarias en las dos ciudades](#activity)\n",
    "* [Conclusiones](#end)"
   ]
  },
  {
   "cell_type": "markdown",
   "metadata": {
    "id": "VUC88oWjTJw2"
   },
   "source": [
    "## Introducción <a id='intro'></a>\n",
    "Como analista de datos, tu trabajo consiste en analizar datos para extraer información valiosa y tomar decisiones basadas en ellos. Esto implica diferentes etapas, como la descripción general de los datos, el preprocesamiento y la prueba de hipótesis.\n",
    "\n",
    "Siempre que investigamos, necesitamos formular hipótesis que después podamos probar. A veces aceptamos estas hipótesis; otras veces, las rechazamos. Para tomar las decisiones correctas, una empresa debe ser capaz de entender si está haciendo las suposiciones correctas.\n",
    "\n",
    "En este proyecto, compararás las preferencias musicales de las ciudades de Springfield y Shelbyville. Estudiarás datos reales de transmisión de música online para probar la hipótesis a continuación y comparar el comportamiento de los usuarios y las usuarias de estas dos ciudades.\n",
    "\n",
    "### Objetivo:\n",
    "Prueba la hipótesis:\n",
    "1. La actividad de los usuarios y las usuarias difiere según el día de la semana y dependiendo de la ciudad.\n",
    "\n",
    "\n",
    "### Etapas\n",
    "Los datos del comportamiento del usuario se almacenan en el archivo `/datasets/music_project_en.csv`. No hay ninguna información sobre la calidad de los datos, así que necesitarás examinarlos antes de probar la hipótesis.\n",
    "\n",
    "Primero, evaluarás la calidad de los datos y verás si los problemas son significativos. Entonces, durante el preprocesamiento de datos, tomarás en cuenta los problemas más críticos.\n",
    "\n",
    "Tu proyecto consistirá en tres etapas:\n",
    " 1. Descripción de los datos.\n",
    " 2. Preprocesamiento de datos.\n",
    " 3. Prueba de hipótesis.\n",
    "\n",
    "\n",
    "\n",
    "\n",
    "\n",
    "\n"
   ]
  },
  {
   "cell_type": "markdown",
   "metadata": {
    "id": "hDt6pg-Rw-1U"
   },
   "source": [
    "[Volver a Contenidos](#back)"
   ]
  },
  {
   "cell_type": "markdown",
   "metadata": {
    "id": "Ml1hmfXC_Zcs"
   },
   "source": [
    "## Etapa 1. Descripción de los datos <a id='data_review'></a>\n"
   ]
  },
  {
   "cell_type": "code",
   "execution_count": 3,
   "metadata": {
    "id": "AXN7PHPN_Zcs"
   },
   "outputs": [],
   "source": [
    "# Importar pandas\n",
    "import pandas as pd"
   ]
  },
  {
   "cell_type": "code",
   "execution_count": null,
   "metadata": {
    "id": "fFVu7vqh_Zct"
   },
   "outputs": [],
   "source": [
    "# Leer el archivo y almacenarlo en df\n",
    "df = pd.read_csv('/datasets/music_project_en.csv')"
   ]
  },
  {
   "cell_type": "code",
   "execution_count": null,
   "metadata": {
    "id": "oWTVX3gW_Zct"
   },
   "outputs": [
    {
     "name": "stdout",
     "output_type": "stream",
     "text": [
      "     userID                        Track            artist   genre  \\\n",
      "0  FFB692EC            Kamigata To Boots  The Mass Missile    rock   \n",
      "1  55204538  Delayed Because of Accident  Andreas Rönnberg    rock   \n",
      "2    20EC38            Funiculì funiculà       Mario Lanza     pop   \n",
      "3  A3DD03C9        Dragons in the Sunset        Fire + Ice    folk   \n",
      "4  E2DC1FAE                  Soul People        Space Echo   dance   \n",
      "5  842029A1                       Chains          Obladaet  rusrap   \n",
      "6  4CB90AA5                         True      Roman Messer   dance   \n",
      "7  F03E1C1F             Feeling This Way   Polina Griffith   dance   \n",
      "8  8FA1D3BE                     L’estate       Julia Dalia  ruspop   \n",
      "9  E772D5C0                    Pessimist               NaN   dance   \n",
      "\n",
      "        City        time        Day  \n",
      "0  Shelbyville  20:28:33  Wednesday  \n",
      "1  Springfield  14:07:09     Friday  \n",
      "2  Shelbyville  20:58:07  Wednesday  \n",
      "3  Shelbyville  08:37:09     Monday  \n",
      "4  Springfield  08:34:34     Monday  \n",
      "5  Shelbyville  13:09:41     Friday  \n",
      "6  Springfield  13:00:07  Wednesday  \n",
      "7  Springfield  20:47:49  Wednesday  \n",
      "8  Springfield  09:17:40     Friday  \n",
      "9  Shelbyville  21:20:49  Wednesday  \n"
     ]
    }
   ],
   "source": [
    "# Obtener las 10 primeras filas de la tabla df\n",
    "print(df.head(10))"
   ]
  },
  {
   "cell_type": "code",
   "execution_count": null,
   "metadata": {
    "id": "DSf2kIb-_Zct"
   },
   "outputs": [
    {
     "name": "stdout",
     "output_type": "stream",
     "text": [
      "<class 'pandas.core.frame.DataFrame'>\n",
      "RangeIndex: 65079 entries, 0 to 65078\n",
      "Data columns (total 7 columns):\n",
      " #   Column    Non-Null Count  Dtype \n",
      "---  ------    --------------  ----- \n",
      " 0     userID  65079 non-null  object\n",
      " 1   Track     63736 non-null  object\n",
      " 2   artist    57512 non-null  object\n",
      " 3   genre     63881 non-null  object\n",
      " 4     City    65079 non-null  object\n",
      " 5   time      65079 non-null  object\n",
      " 6   Day       65079 non-null  object\n",
      "dtypes: object(7)\n",
      "memory usage: 3.5+ MB\n"
     ]
    },
    {
     "data": {
      "text/html": [
       "<div>\n",
       "<style scoped>\n",
       "    .dataframe tbody tr th:only-of-type {\n",
       "        vertical-align: middle;\n",
       "    }\n",
       "\n",
       "    .dataframe tbody tr th {\n",
       "        vertical-align: top;\n",
       "    }\n",
       "\n",
       "    .dataframe thead th {\n",
       "        text-align: right;\n",
       "    }\n",
       "</style>\n",
       "<table border=\"1\" class=\"dataframe\">\n",
       "  <thead>\n",
       "    <tr style=\"text-align: right;\">\n",
       "      <th></th>\n",
       "      <th>userID</th>\n",
       "      <th>Track</th>\n",
       "      <th>artist</th>\n",
       "      <th>genre</th>\n",
       "      <th>City</th>\n",
       "      <th>time</th>\n",
       "      <th>Day</th>\n",
       "    </tr>\n",
       "  </thead>\n",
       "  <tbody>\n",
       "    <tr>\n",
       "      <th>count</th>\n",
       "      <td>65079</td>\n",
       "      <td>63736</td>\n",
       "      <td>57512</td>\n",
       "      <td>63881</td>\n",
       "      <td>65079</td>\n",
       "      <td>65079</td>\n",
       "      <td>65079</td>\n",
       "    </tr>\n",
       "    <tr>\n",
       "      <th>unique</th>\n",
       "      <td>41748</td>\n",
       "      <td>39666</td>\n",
       "      <td>37806</td>\n",
       "      <td>268</td>\n",
       "      <td>2</td>\n",
       "      <td>20392</td>\n",
       "      <td>3</td>\n",
       "    </tr>\n",
       "    <tr>\n",
       "      <th>top</th>\n",
       "      <td>A8AE9169</td>\n",
       "      <td>Brand</td>\n",
       "      <td>Kartvelli</td>\n",
       "      <td>pop</td>\n",
       "      <td>Springfield</td>\n",
       "      <td>21:51:22</td>\n",
       "      <td>Friday</td>\n",
       "    </tr>\n",
       "    <tr>\n",
       "      <th>freq</th>\n",
       "      <td>76</td>\n",
       "      <td>136</td>\n",
       "      <td>136</td>\n",
       "      <td>8850</td>\n",
       "      <td>45360</td>\n",
       "      <td>14</td>\n",
       "      <td>23149</td>\n",
       "    </tr>\n",
       "  </tbody>\n",
       "</table>\n",
       "</div>"
      ],
      "text/plain": [
       "          userID  Track     artist  genre       City        time     Day\n",
       "count      65079  63736      57512  63881        65079     65079   65079\n",
       "unique     41748  39666      37806    268            2     20392       3\n",
       "top     A8AE9169  Brand  Kartvelli    pop  Springfield  21:51:22  Friday\n",
       "freq          76    136        136   8850        45360        14   23149"
      ]
     },
     "execution_count": 4,
     "metadata": {},
     "output_type": "execute_result"
    }
   ],
   "source": [
    "# Obtener la información general sobre nuestros datos\n",
    "df.info()\n",
    "df.describe()"
   ]
  },
  {
   "cell_type": "markdown",
   "metadata": {
    "id": "TaQ2Iwbr_Zct"
   },
   "source": [
    "Estas son las observaciones sobre la tabla. Contiene siete columnas. Almacenan los mismos tipos de datos: `object`.\n",
    "\n",
    "Según la documentación:\n",
    "- `' userID'`: identificador del usuario o la usuaria;\n",
    "- `'Track'`: título de la canción;\n",
    "- `'artist'`: nombre del artista;\n",
    "- `'genre'`: género de la pista;\n",
    "- `'City'`: ciudad del usuario o la usuaria;\n",
    "- `'time'`: la hora exacta en la que se reprodujo la canción;\n",
    "- `'Day'`: día de la semana.\n",
    "\n",
    "Podemos ver tres problemas con el estilo en los encabezados de la tabla:\n",
    "1. Algunos encabezados están en mayúsculas, otros en minúsculas.\n",
    "2. Hay espacios en algunos encabezados."
   ]
  },
  {
   "cell_type": "markdown",
   "metadata": {
    "id": "MCB6-dXG_Zct"
   },
   "source": [
    "###  Preguntas de exploración: <a id='data_review_conclusions'></a>\n",
    "\n",
    "`1.   ¿Qué tipo de datos tenemos a nuestra disposición en las filas? ¿Y cómo podemos entender lo que almacenan las columnas?`\n",
    "\n",
    "`2.   ¿Hay suficientes datos para proporcionar respuestas a nuestra hipótesis o necesitamos más información?`\n",
    "\n",
    "`3.   ¿Notaste algún problema en los datos, como valores ausentes, duplicados o tipos de datos incorrectos?`\n",
    "\n",
    "Observaciones: todas las columnas tienen datos object y considero que time debe ser otro tipo como justamente una hora o un número para poder trabjar con este dato, por otro lado las columnas Track, artist y genre tienen datos nulos o faltantes, y me parece curioso que en la clumna Day solo se contemplen los dias Wednesday,  Monday y Friday en este caso tal vez necesitemos más info al repecto de porqué solo se registraron esos tres días si en la hipótesis se hace referencia a la semana completa. "
   ]
  },
  {
   "cell_type": "markdown",
   "metadata": {
    "id": "3eL__vcwViOi"
   },
   "source": [
    "[Volver a Contenidos](#back)"
   ]
  },
  {
   "cell_type": "markdown",
   "metadata": {
    "id": "SjYF6Ub9_Zct"
   },
   "source": [
    "## Etapa 2. Preprocesamiento de datos <a id='data_preprocessing'></a>\n",
    "\n",
    "El objetivo aquí es preparar los datos para que sean analizados.\n",
    "El primer paso es resolver cualquier problema con los encabezados. Luego podemos avanzar a los valores ausentes y duplicados. Empecemos.\n",
    "\n",
    "Corrige el formato en los encabezados de la tabla.\n"
   ]
  },
  {
   "cell_type": "markdown",
   "metadata": {
    "id": "dIaKXr29_Zct"
   },
   "source": [
    "### Estilo del encabezado <a id='header_style'></a>\n",
    "Muestra los encabezados de la tabla (los nombres de las columnas):"
   ]
  },
  {
   "cell_type": "code",
   "execution_count": 5,
   "metadata": {
    "id": "oKOTdF_Q_Zct"
   },
   "outputs": [
    {
     "name": "stdout",
     "output_type": "stream",
     "text": [
      "Index(['  userID', 'Track', 'artist', 'genre', '  City  ', 'time', 'Day'], dtype='object')\n"
     ]
    }
   ],
   "source": [
    "# Muestra los nombres de las columnas\n",
    "print(df.columns)"
   ]
  },
  {
   "cell_type": "markdown",
   "metadata": {
    "id": "zj5534cv_Zct"
   },
   "source": [
    "Cambiar los encabezados de la tabla de acuerdo con las reglas del buen estilo:\n",
    "* Todos los caracteres deben ser minúsculas.\n",
    "* Elimina los espacios.\n",
    "* Si el nombre tiene varias palabras, utiliza snake_case."
   ]
  },
  {
   "cell_type": "code",
   "execution_count": 6,
   "metadata": {
    "id": "6I_RwwMhzM4e"
   },
   "outputs": [
    {
     "name": "stdout",
     "output_type": "stream",
     "text": [
      "['  userid', 'track', 'artist', 'genre', '  city  ', 'time', 'day']\n"
     ]
    }
   ],
   "source": [
    "# Bucle en los encabezados poniendo todo en minúsculas\n",
    "new_col_names = []\n",
    "for old_name in df.columns:\n",
    "    name_lowered = old_name.lower()\n",
    "    new_col_names.append(name_lowered)\n",
    "    \n",
    "df.columns = new_col_names\n",
    "print(new_col_names)\n",
    "   \n",
    "    "
   ]
  },
  {
   "cell_type": "code",
   "execution_count": 7,
   "metadata": {
    "id": "vVQXbFyJzSYl"
   },
   "outputs": [
    {
     "name": "stdout",
     "output_type": "stream",
     "text": [
      "['userid', 'track', 'artist', 'genre', 'city', 'time', 'day']\n"
     ]
    }
   ],
   "source": [
    "# Bucle en los encabezados eliminando los espacios\n",
    "new_col_names = []\n",
    "for old_name in df.columns:\n",
    "    name_lowered = old_name.lower()\n",
    "    name_stripped = name_lowered.strip()\n",
    "    new_col_names.append(name_stripped)\n",
    "    \n",
    "df.columns = new_col_names\n",
    "print(new_col_names)"
   ]
  },
  {
   "cell_type": "code",
   "execution_count": null,
   "metadata": {
    "id": "ISlFqs5y_Zct"
   },
   "outputs": [],
   "source": [
    "# Cambiar el nombre de la columna \"userid\" a snake case\n",
    "df= df.rename(columns = {'userid':'user_id'})\n",
    "df.columns"
   ]
  },
  {
   "cell_type": "code",
   "execution_count": 9,
   "metadata": {
    "id": "d4NOAmTW_Zct"
   },
   "outputs": [
    {
     "data": {
      "text/plain": [
       "Index(['user_id', 'track', 'artist', 'genre', 'city', 'time', 'day'], dtype='object')"
      ]
     },
     "execution_count": 9,
     "metadata": {},
     "output_type": "execute_result"
    }
   ],
   "source": [
    "# Comprobar el resultado: la lista de encabezados\n",
    "df.columns\n"
   ]
  },
  {
   "cell_type": "markdown",
   "metadata": {
    "id": "xYJk6ksJVpOl"
   },
   "source": [
    "[Volver a Contenidos](#back)"
   ]
  },
  {
   "cell_type": "markdown",
   "metadata": {
    "id": "5ISfbcfY_Zct"
   },
   "source": [
    "### Valores ausentes <a id='missing_values'></a>\n"
   ]
  },
  {
   "cell_type": "code",
   "execution_count": 10,
   "metadata": {
    "id": "RskX29qr_Zct"
   },
   "outputs": [
    {
     "name": "stdout",
     "output_type": "stream",
     "text": [
      "user_id       0\n",
      "track      1343\n",
      "artist     7567\n",
      "genre      1198\n",
      "city          0\n",
      "time          0\n",
      "day           0\n",
      "dtype: int64\n"
     ]
    }
   ],
   "source": [
    "# Calcular el número de valores ausentes\n",
    "print(df.isna().sum())"
   ]
  },
  {
   "cell_type": "markdown",
   "metadata": {
    "id": "qubhgnlO_Zct"
   },
   "source": [
    "No todos los valores ausentes afectan a la investigación. Por ejemplo, los valores ausentes en `track` y `artist` no son cruciales. Simplemente puedes reemplazarlos con valores predeterminados como el string `'unknown'` (desconocido).\n",
    "\n",
    "Pero los valores ausentes en `'genre'` pueden afectar la comparación entre las preferencias musicales de Springfield y Shelbyville. En la vida real, sería útil saber las razones por las cuales hay datos ausentes e intentar recuperarlos. Pero no tenemos esa oportunidad en este proyecto. Así que tendrás que:\n",
    "* rellenar estos valores ausentes con un valor predeterminado;\n",
    "* evaluar cuánto podrían afectar los valores ausentes a tus cómputos;"
   ]
  },
  {
   "cell_type": "code",
   "execution_count": 11,
   "metadata": {
    "id": "KplB5qWs_Zct"
   },
   "outputs": [
    {
     "name": "stdout",
     "output_type": "stream",
     "text": [
      "                         track            artist  genre\n",
      "0            Kamigata To Boots  The Mass Missile   rock\n",
      "1  Delayed Because of Accident  Andreas Rönnberg   rock\n",
      "2            Funiculì funiculà       Mario Lanza    pop\n",
      "3        Dragons in the Sunset        Fire + Ice   folk\n",
      "4                  Soul People        Space Echo  dance\n"
     ]
    }
   ],
   "source": [
    "# Bucle en los encabezados reemplazando los valores ausentes con 'unknown'\n",
    "columns_to_fill = ['track', 'artist', 'genre']\n",
    "\n",
    "for column in columns_to_fill:\n",
    "    df[column] = df[column].fillna('unknown')\n",
    "\n",
    "\n"
   ]
  },
  {
   "cell_type": "code",
   "execution_count": 29,
   "metadata": {
    "id": "Tq4nYRX4_Zct"
   },
   "outputs": [
    {
     "name": "stdout",
     "output_type": "stream",
     "text": [
      "user_id    0\n",
      "track      0\n",
      "artist     0\n",
      "genre      0\n",
      "city       0\n",
      "time       0\n",
      "day        0\n",
      "dtype: int64\n",
      "    user_id                        track            artist   genre  \\\n",
      "0  FFB692EC            Kamigata To Boots  The Mass Missile    rock   \n",
      "1  55204538  Delayed Because of Accident  Andreas Rönnberg    rock   \n",
      "2    20EC38            Funiculì funiculà       Mario Lanza     pop   \n",
      "3  A3DD03C9        Dragons in the Sunset        Fire + Ice    folk   \n",
      "4  E2DC1FAE                  Soul People        Space Echo   dance   \n",
      "5  842029A1                       Chains          Obladaet  rusrap   \n",
      "6  4CB90AA5                         True      Roman Messer   dance   \n",
      "7  F03E1C1F             Feeling This Way   Polina Griffith   dance   \n",
      "8  8FA1D3BE                     L’estate       Julia Dalia  ruspop   \n",
      "9  E772D5C0                    Pessimist           unknown   dance   \n",
      "\n",
      "          city      time        day  \n",
      "0  Shelbyville  20:28:33  Wednesday  \n",
      "1  Springfield  14:07:09     Friday  \n",
      "2  Shelbyville  20:58:07  Wednesday  \n",
      "3  Shelbyville  08:37:09     Monday  \n",
      "4  Springfield  08:34:34     Monday  \n",
      "5  Shelbyville  13:09:41     Friday  \n",
      "6  Springfield  13:00:07  Wednesday  \n",
      "7  Springfield  20:47:49  Wednesday  \n",
      "8  Springfield  09:17:40     Friday  \n",
      "9  Shelbyville  21:20:49  Wednesday  \n"
     ]
    }
   ],
   "source": [
    "# Contar valores ausentes\n",
    "print(df.isna().sum())\n",
    "print(df.head(10))"
   ]
  },
  {
   "cell_type": "markdown",
   "metadata": {
    "id": "74ZIBmq9VrsK"
   },
   "source": [
    "[Volver a Contenidos](#back)"
   ]
  },
  {
   "cell_type": "markdown",
   "metadata": {
    "id": "BWKRtBJ3_Zct"
   },
   "source": [
    "### Duplicados <a id='duplicates'></a>\n"
   ]
  },
  {
   "cell_type": "code",
   "execution_count": 13,
   "metadata": {
    "id": "36eES_S0_Zct"
   },
   "outputs": [
    {
     "name": "stdout",
     "output_type": "stream",
     "text": [
      "3826\n"
     ]
    }
   ],
   "source": [
    "# Contar duplicados explícitos\n",
    "print(df.duplicated().sum())"
   ]
  },
  {
   "cell_type": "code",
   "execution_count": 14,
   "metadata": {
    "id": "exFHq6tt_Zct"
   },
   "outputs": [],
   "source": [
    "# Eliminar duplicados explícitos\n",
    "df.drop_duplicates(inplace = True)"
   ]
  },
  {
   "cell_type": "code",
   "execution_count": 15,
   "metadata": {
    "id": "-8PuNWQ0_Zct"
   },
   "outputs": [
    {
     "name": "stdout",
     "output_type": "stream",
     "text": [
      "0\n"
     ]
    }
   ],
   "source": [
    "# Comprobar de nuevo si hay duplicados\n",
    "print(df.duplicated().sum())\n"
   ]
  },
  {
   "cell_type": "markdown",
   "metadata": {
    "id": "QlFBsxAr_Zct"
   },
   "source": [
    "Ahora queremos deshacernos de los duplicados implícitos en la columna `genre`. Por ejemplo, el nombre de un género se puede escribir de varias formas. Dichos errores también pueden afectar al resultado."
   ]
  },
  {
   "cell_type": "markdown",
   "metadata": {
    "id": "eSjWwsOh_Zct"
   },
   "source": [
    "Para hacerlo, primero mostremos una lista de nombres de género únicos, ordenados en orden alfabético. Para ello:\n",
    "* Extrae la columna `genre` del DataFrame.\n",
    "* Llama al método que devolverá todos los valores únicos en la columna extraída.\n"
   ]
  },
  {
   "cell_type": "code",
   "execution_count": 16,
   "metadata": {
    "id": "JIUcqzZN_Zct"
   },
   "outputs": [
    {
     "name": "stdout",
     "output_type": "stream",
     "text": [
      "<bound method Series.unique of 0              rock\n",
      "1              rock\n",
      "2               pop\n",
      "3              folk\n",
      "4             dance\n",
      "            ...    \n",
      "65074           rnb\n",
      "65075           hip\n",
      "65076    industrial\n",
      "65077          rock\n",
      "65078       country\n",
      "Name: genre, Length: 61253, dtype: object>\n"
     ]
    }
   ],
   "source": [
    "# Inspeccionar los nombres de géneros únicos\n",
    "print(df['genre'].unique)\n"
   ]
  },
  {
   "cell_type": "markdown",
   "metadata": {
    "id": "qej-Qmuo_Zct"
   },
   "source": [
    "Buscamos en la lista para encontrar duplicados implícitos del género `hiphop`. Estos pueden ser nombres escritos incorrectamente o nombres alternativos para el mismo género.\n",
    "\n",
    "Verás los siguientes duplicados implícitos:\n",
    "* `hip`\n",
    "* `hop`\n",
    "* `hip-hop`\n",
    "\n",
    "Para deshacernos de ellos, creamos una función llamada `replace_wrong_genres()` con dos parámetros:\n",
    "* `wrong_genres=`: esta es una lista que contiene todos los valores que necesitas reemplazar.\n",
    "* `correct_genre=`: este es un string que vas a utilizar como reemplazo.\n",
    "\n",
    "Como resultado, la función debería corregir los nombres en la columna `'genre'` de la tabla `df`, es decir, remplazar cada valor de la lista `wrong_genres` por el valor en `correct_genre`.\n",
    "\n",
    "Dentro del cuerpo de la función, utilizamos un bucle `'for'` para iterar sobre la lista de géneros incorrectos, extraer la columna `'genre'` y aplicar el método `replace` para hacer correcciones."
   ]
  },
  {
   "cell_type": "code",
   "execution_count": 17,
   "metadata": {
    "id": "ErNDkmns_Zct"
   },
   "outputs": [],
   "source": [
    "# Función para reemplazar duplicados implícitos\n",
    "def replace_wrong_values(wrong_genres=['hip','hop','hip-hop'], correct_genre='hiphop'):\n",
    "    for wrong_genre in wrong_genres:\n",
    "        df['genre'] = df['genre'].replace(wrong_genre, correct_genre)\n",
    "    return df    "
   ]
  },
  {
   "cell_type": "code",
   "execution_count": 18,
   "metadata": {
    "id": "YN5i2hpmSo09"
   },
   "outputs": [
    {
     "data": {
      "text/html": [
       "<div>\n",
       "<style scoped>\n",
       "    .dataframe tbody tr th:only-of-type {\n",
       "        vertical-align: middle;\n",
       "    }\n",
       "\n",
       "    .dataframe tbody tr th {\n",
       "        vertical-align: top;\n",
       "    }\n",
       "\n",
       "    .dataframe thead th {\n",
       "        text-align: right;\n",
       "    }\n",
       "</style>\n",
       "<table border=\"1\" class=\"dataframe\">\n",
       "  <thead>\n",
       "    <tr style=\"text-align: right;\">\n",
       "      <th></th>\n",
       "      <th>user_id</th>\n",
       "      <th>track</th>\n",
       "      <th>artist</th>\n",
       "      <th>genre</th>\n",
       "      <th>city</th>\n",
       "      <th>time</th>\n",
       "      <th>day</th>\n",
       "    </tr>\n",
       "  </thead>\n",
       "  <tbody>\n",
       "    <tr>\n",
       "      <th>0</th>\n",
       "      <td>FFB692EC</td>\n",
       "      <td>Kamigata To Boots</td>\n",
       "      <td>The Mass Missile</td>\n",
       "      <td>rock</td>\n",
       "      <td>Shelbyville</td>\n",
       "      <td>20:28:33</td>\n",
       "      <td>Wednesday</td>\n",
       "    </tr>\n",
       "    <tr>\n",
       "      <th>1</th>\n",
       "      <td>55204538</td>\n",
       "      <td>Delayed Because of Accident</td>\n",
       "      <td>Andreas Rönnberg</td>\n",
       "      <td>rock</td>\n",
       "      <td>Springfield</td>\n",
       "      <td>14:07:09</td>\n",
       "      <td>Friday</td>\n",
       "    </tr>\n",
       "    <tr>\n",
       "      <th>2</th>\n",
       "      <td>20EC38</td>\n",
       "      <td>Funiculì funiculà</td>\n",
       "      <td>Mario Lanza</td>\n",
       "      <td>pop</td>\n",
       "      <td>Shelbyville</td>\n",
       "      <td>20:58:07</td>\n",
       "      <td>Wednesday</td>\n",
       "    </tr>\n",
       "    <tr>\n",
       "      <th>3</th>\n",
       "      <td>A3DD03C9</td>\n",
       "      <td>Dragons in the Sunset</td>\n",
       "      <td>Fire + Ice</td>\n",
       "      <td>folk</td>\n",
       "      <td>Shelbyville</td>\n",
       "      <td>08:37:09</td>\n",
       "      <td>Monday</td>\n",
       "    </tr>\n",
       "    <tr>\n",
       "      <th>4</th>\n",
       "      <td>E2DC1FAE</td>\n",
       "      <td>Soul People</td>\n",
       "      <td>Space Echo</td>\n",
       "      <td>dance</td>\n",
       "      <td>Springfield</td>\n",
       "      <td>08:34:34</td>\n",
       "      <td>Monday</td>\n",
       "    </tr>\n",
       "    <tr>\n",
       "      <th>...</th>\n",
       "      <td>...</td>\n",
       "      <td>...</td>\n",
       "      <td>...</td>\n",
       "      <td>...</td>\n",
       "      <td>...</td>\n",
       "      <td>...</td>\n",
       "      <td>...</td>\n",
       "    </tr>\n",
       "    <tr>\n",
       "      <th>65074</th>\n",
       "      <td>729CBB09</td>\n",
       "      <td>My Name</td>\n",
       "      <td>McLean</td>\n",
       "      <td>rnb</td>\n",
       "      <td>Springfield</td>\n",
       "      <td>13:32:28</td>\n",
       "      <td>Wednesday</td>\n",
       "    </tr>\n",
       "    <tr>\n",
       "      <th>65075</th>\n",
       "      <td>D08D4A55</td>\n",
       "      <td>Maybe One Day (feat. Black Spade)</td>\n",
       "      <td>Blu &amp; Exile</td>\n",
       "      <td>hiphop</td>\n",
       "      <td>Shelbyville</td>\n",
       "      <td>10:00:00</td>\n",
       "      <td>Monday</td>\n",
       "    </tr>\n",
       "    <tr>\n",
       "      <th>65076</th>\n",
       "      <td>C5E3A0D5</td>\n",
       "      <td>Jalopiina</td>\n",
       "      <td>unknown</td>\n",
       "      <td>industrial</td>\n",
       "      <td>Springfield</td>\n",
       "      <td>20:09:26</td>\n",
       "      <td>Friday</td>\n",
       "    </tr>\n",
       "    <tr>\n",
       "      <th>65077</th>\n",
       "      <td>321D0506</td>\n",
       "      <td>Freight Train</td>\n",
       "      <td>Chas McDevitt</td>\n",
       "      <td>rock</td>\n",
       "      <td>Springfield</td>\n",
       "      <td>21:43:59</td>\n",
       "      <td>Friday</td>\n",
       "    </tr>\n",
       "    <tr>\n",
       "      <th>65078</th>\n",
       "      <td>3A64EF84</td>\n",
       "      <td>Tell Me Sweet Little Lies</td>\n",
       "      <td>Monica Lopez</td>\n",
       "      <td>country</td>\n",
       "      <td>Springfield</td>\n",
       "      <td>21:59:46</td>\n",
       "      <td>Friday</td>\n",
       "    </tr>\n",
       "  </tbody>\n",
       "</table>\n",
       "<p>61253 rows × 7 columns</p>\n",
       "</div>"
      ],
      "text/plain": [
       "        user_id                              track            artist  \\\n",
       "0      FFB692EC                  Kamigata To Boots  The Mass Missile   \n",
       "1      55204538        Delayed Because of Accident  Andreas Rönnberg   \n",
       "2        20EC38                  Funiculì funiculà       Mario Lanza   \n",
       "3      A3DD03C9              Dragons in the Sunset        Fire + Ice   \n",
       "4      E2DC1FAE                        Soul People        Space Echo   \n",
       "...         ...                                ...               ...   \n",
       "65074  729CBB09                            My Name            McLean   \n",
       "65075  D08D4A55  Maybe One Day (feat. Black Spade)       Blu & Exile   \n",
       "65076  C5E3A0D5                          Jalopiina           unknown   \n",
       "65077  321D0506                      Freight Train     Chas McDevitt   \n",
       "65078  3A64EF84          Tell Me Sweet Little Lies      Monica Lopez   \n",
       "\n",
       "            genre         city      time        day  \n",
       "0            rock  Shelbyville  20:28:33  Wednesday  \n",
       "1            rock  Springfield  14:07:09     Friday  \n",
       "2             pop  Shelbyville  20:58:07  Wednesday  \n",
       "3            folk  Shelbyville  08:37:09     Monday  \n",
       "4           dance  Springfield  08:34:34     Monday  \n",
       "...           ...          ...       ...        ...  \n",
       "65074         rnb  Springfield  13:32:28  Wednesday  \n",
       "65075      hiphop  Shelbyville  10:00:00     Monday  \n",
       "65076  industrial  Springfield  20:09:26     Friday  \n",
       "65077        rock  Springfield  21:43:59     Friday  \n",
       "65078     country  Springfield  21:59:46     Friday  \n",
       "\n",
       "[61253 rows x 7 columns]"
      ]
     },
     "execution_count": 18,
     "metadata": {},
     "output_type": "execute_result"
    }
   ],
   "source": [
    "# Eliminar duplicados implícitos\n",
    "replace_wrong_values(wrong_genres=['hip','hop','hip-hop'], correct_genre='hiphop')"
   ]
  },
  {
   "cell_type": "code",
   "execution_count": 19,
   "metadata": {
    "id": "wvixALnFG15m"
   },
   "outputs": [
    {
     "name": "stdout",
     "output_type": "stream",
     "text": [
      "<bound method Series.unique of 0              rock\n",
      "1              rock\n",
      "2               pop\n",
      "3              folk\n",
      "4             dance\n",
      "            ...    \n",
      "65074           rnb\n",
      "65075        hiphop\n",
      "65076    industrial\n",
      "65077          rock\n",
      "65078       country\n",
      "Name: genre, Length: 61253, dtype: object>\n"
     ]
    }
   ],
   "source": [
    "# Comprobación de duplicados implícitos\n",
    "print(df['genre'].unique)"
   ]
  },
  {
   "cell_type": "markdown",
   "metadata": {
    "id": "ALgNbvF3VtPA"
   },
   "source": [
    "[Volver a Contenidos](#back)"
   ]
  },
  {
   "cell_type": "markdown",
   "metadata": {
    "id": "jz6a9-7HQUDd"
   },
   "source": [
    "### Tus observaciones <a id='data_preprocessing_conclusions'></a>\n",
    "\n",
    "He notado que no siempre son tan obvios los duplicados implicitos y que es importante reemplazarlos en la medida d elo posible por algo coherente y relativo al contexto no solo dar por defecto un valor para todos los posibles duplicados implicitos. "
   ]
  },
  {
   "cell_type": "markdown",
   "metadata": {
    "id": "eK1es74rVujj"
   },
   "source": [
    "[Volver a Contenidos](#back)"
   ]
  },
  {
   "cell_type": "markdown",
   "metadata": {
    "id": "WttZHXH0SqKk"
   },
   "source": [
    "## Etapa 3. Prueba de hipótesis <a id='hypothesis'></a>"
   ]
  },
  {
   "cell_type": "markdown",
   "metadata": {
    "id": "Im936VVi_Zcu"
   },
   "source": [
    "### Hipótesis: comparar el comportamiento del usuario o la usuaria en las dos ciudades <a id='activity'></a>"
   ]
  },
  {
   "cell_type": "markdown",
   "metadata": {
    "id": "nwt_MuaL_Zcu"
   },
   "source": [
    "La hipótesis afirma que existen diferencias en la forma en que los usuarios y las usuarias de Springfield y Shelbyville consumen música. Para comprobar esto, usamos los datos de tres días de la semana: lunes, miércoles y viernes.\n",
    "\n",
    "* Agrupamos a los usuarios y las usuarias por ciudad.\n",
    "* Comparamos el número de canciones que cada grupo reprodujo el lunes, el miércoles y el viernes.\n"
   ]
  },
  {
   "cell_type": "markdown",
   "metadata": {
    "id": "8Dw_YMmT_Zcu"
   },
   "source": [
    "Realizamos cada cálculo por separado.\n",
    "\n",
    "El primer paso es evaluar la actividad del usuario en cada ciudad.Importante recordad las Recuerda las etapas dividir-aplicar-combinar. El objetivo ahora es agrupar los datos por ciudad, aplicar el método apropiado para contar durante la etapa de aplicación y luego encontrar la cantidad de canciones reproducidas en cada grupo especificando la columna para obtener el recuento.\n",
    "\n",
    "Para evaluar la actividad de los usuarios y las usuarias en cada ciudad, agrupamos los datos por ciudad y encuentra la cantidad de canciones reproducidas en cada grupo."
   ]
  },
  {
   "cell_type": "code",
   "execution_count": 20,
   "metadata": {
    "id": "0_Qs96oh_Zcu"
   },
   "outputs": [
    {
     "data": {
      "text/plain": [
       "city\n",
       "Shelbyville    18512\n",
       "Springfield    42741\n",
       "Name: track, dtype: int64"
      ]
     },
     "execution_count": 20,
     "metadata": {},
     "output_type": "execute_result"
    }
   ],
   "source": [
    "# Contar las canciones reproducidas en cada ciudad\n",
    "df.groupby(by='city')['track'].count()"
   ]
  },
  {
   "cell_type": "markdown",
   "metadata": {
    "id": "t_Qx-3NewAnK"
   },
   "source": [
    "`Observaciones`\n",
    "Podemos ver que en Springfield se escucharon más del doble de canciones que en Shellbyville, esto pude deberse a aun distinto númeor de usuarios por ciudad o algún otro patron de preferencia de los usuarios. "
   ]
  },
  {
   "cell_type": "markdown",
   "metadata": {
    "id": "dzli3w8o_Zcu"
   },
   "source": [
    "Ahora agrupemos los datos por día de la semana y encontremos el número de canciones reproducidas el lunes, miércoles y viernes. Utilizando el mismo método que antes, pero ahora necesitamos una agrupación diferente.\n"
   ]
  },
  {
   "cell_type": "code",
   "execution_count": 21,
   "metadata": {
    "id": "uZMKjiJz_Zcu"
   },
   "outputs": [
    {
     "data": {
      "text/plain": [
       "day\n",
       "Friday       21840\n",
       "Monday       21354\n",
       "Wednesday    18059\n",
       "Name: track, dtype: int64"
      ]
     },
     "execution_count": 21,
     "metadata": {},
     "output_type": "execute_result"
    }
   ],
   "source": [
    "# Calcular las canciones reproducidas en cada uno de los tres días\n",
    "df.groupby(by='day')['track'].count()"
   ]
  },
  {
   "cell_type": "markdown",
   "metadata": {
    "id": "cC2tNrlL_Zcu"
   },
   "source": [
    "`Observaciones`\n",
    "Curiosamente el número total de repoducciones por día es muy similar entre cada día con una \"ligera\" diferencia para el miércoles a la baja"
   ]
  },
  {
   "cell_type": "markdown",
   "metadata": {
    "id": "POzs8bGa_Zcu"
   },
   "source": [
    "Ya sabes cómo contar entradas agrupándolas por ciudad o día. Ahora necesitamos escribir una función que pueda contar entradas según ambos criterios simultáneamente.\n",
    "\n",
    "Creamos la función `number_tracks()` para calcular el número de canciones reproducidas en un determinado día **y** ciudad. La función debe aceptar dos parámetros:\n",
    "\n",
    "- `day`: un día de la semana para filtrar. Por ejemplo, `'Monday'` (lunes).\n",
    "- `city`: una ciudad para filtrar. Por ejemplo, `'Springfield'`.\n",
    "\n",
    "Dentro de la función, aplicaremos un filtrado consecutivo con indexación lógica.\n",
    "\n",
    "Primero filtramos los datos por día y luego filtramos la tabla resultante por ciudad.\n",
    "\n",
    "Después de filtrar los datos por dos criterios, contamis el número de valores de la columna 'user_id' en la tabla resultante. Este recuento representa el número de entradas que estás buscando. Guardamos el resultado en una nueva variable y lo devolvemos desde la función."
   ]
  },
  {
   "cell_type": "code",
   "execution_count": 22,
   "metadata": {
    "id": "Nz3GdQB1_Zcu"
   },
   "outputs": [],
   "source": [
    "# Declara la función number_tracks() con dos parámetros: day= y city=.\n",
    "def number_tracks(day, city):\n",
    "    df_filtrado_dia = df[df['day'] == day]\n",
    "    df_filtrado_ciudad = df_filtrado_dia[df_filtrado_dia['city'] == city]\n",
    "    count_user_ids = df_filtrado_ciudad['user_id'].count()\n",
    "    return count_user_ids"
   ]
  },
  {
   "cell_type": "code",
   "execution_count": 23,
   "metadata": {
    "id": "rJcRATNQ_Zcu"
   },
   "outputs": [
    {
     "data": {
      "text/plain": [
       "15740"
      ]
     },
     "execution_count": 23,
     "metadata": {},
     "output_type": "execute_result"
    }
   ],
   "source": [
    "# El número de canciones reproducidas en Springfield el lunes\n",
    "number_tracks('Monday', 'Springfield')"
   ]
  },
  {
   "cell_type": "code",
   "execution_count": 24,
   "metadata": {
    "id": "hq_ncZ5T_Zcu"
   },
   "outputs": [
    {
     "data": {
      "text/plain": [
       "5614"
      ]
     },
     "execution_count": 24,
     "metadata": {},
     "output_type": "execute_result"
    }
   ],
   "source": [
    "# El número de canciones reproducidas en Shelbyville el lunes\n",
    "number_tracks('Monday', 'Shelbyville')"
   ]
  },
  {
   "cell_type": "code",
   "execution_count": 25,
   "metadata": {
    "id": "_NTy2VPU_Zcu"
   },
   "outputs": [
    {
     "data": {
      "text/plain": [
       "11056"
      ]
     },
     "execution_count": 25,
     "metadata": {},
     "output_type": "execute_result"
    }
   ],
   "source": [
    "# El número de canciones reproducidas en Springfield el miércoles\n",
    "number_tracks('Wednesday', 'Springfield')"
   ]
  },
  {
   "cell_type": "code",
   "execution_count": 26,
   "metadata": {
    "id": "j2y3TAwo_Zcu"
   },
   "outputs": [
    {
     "data": {
      "text/plain": [
       "7003"
      ]
     },
     "execution_count": 26,
     "metadata": {},
     "output_type": "execute_result"
    }
   ],
   "source": [
    "# El número de canciones reproducidas en Shelbyville el miércoles\n",
    "number_tracks('Wednesday', 'Shelbyville')"
   ]
  },
  {
   "cell_type": "code",
   "execution_count": 27,
   "metadata": {
    "id": "vYDw5u_K_Zcu"
   },
   "outputs": [
    {
     "data": {
      "text/plain": [
       "15945"
      ]
     },
     "execution_count": 27,
     "metadata": {},
     "output_type": "execute_result"
    }
   ],
   "source": [
    "# El número de canciones reproducidas en Springfield el viernes\n",
    "number_tracks('Friday', 'Springfield')"
   ]
  },
  {
   "cell_type": "code",
   "execution_count": 28,
   "metadata": {
    "id": "8_yzFtW3_Zcu"
   },
   "outputs": [
    {
     "data": {
      "text/plain": [
       "5895"
      ]
     },
     "execution_count": 28,
     "metadata": {},
     "output_type": "execute_result"
    }
   ],
   "source": [
    "# El número de canciones reproducidas en Shelbyville el viernes\n",
    "number_tracks('Friday', 'Shelbyville')"
   ]
  },
  {
   "cell_type": "markdown",
   "metadata": {
    "id": "p7nFQajCVw5B"
   },
   "source": [
    "[Volver a Contenidos](#back)"
   ]
  },
  {
   "cell_type": "markdown",
   "metadata": {
    "id": "ykKQ0N65_Zcv"
   },
   "source": [
    "# Conclusiones <a id='end'></a>"
   ]
  },
  {
   "cell_type": "markdown",
   "metadata": {
    "id": "tjUwbHb3_Zcv"
   },
   "source": [
    "`Resumen de conclusiones sobre la hipótesis.`\n",
    "Pienso que la hipóteisi es parcialmete aceptada ya que sí existe una diferencia en la cantidad de repoducciones entre una ciudad y otra y esto tambien se ve reflejado a lo largo de la semana, puede deberse a una simple diferencia de población o una diferencia entre la cangtidad de los usuarios de la aplicación entre una ciudad y otra, de la cual se toma el Dataset, sin embargo creo que falta información para determinar difrencias más puntuales en la FORMA en la los susuarios de cada ciudad escuchan música. "
   ]
  },
  {
   "cell_type": "markdown",
   "metadata": {
    "id": "Ju4AHDSgV1FE"
   },
   "source": [
    "[Volver a Contenidos](#back)"
   ]
  }
 ],
 "metadata": {
  "ExecuteTimeLog": [
   {
    "duration": 359,
    "start_time": "2024-10-17T22:36:38.559Z"
   },
   {
    "duration": 274,
    "start_time": "2024-10-17T22:39:08.493Z"
   },
   {
    "duration": 165,
    "start_time": "2024-10-17T22:39:13.550Z"
   },
   {
    "duration": 145,
    "start_time": "2024-10-17T22:39:18.114Z"
   },
   {
    "duration": 12,
    "start_time": "2024-10-17T22:39:21.870Z"
   },
   {
    "duration": 34,
    "start_time": "2024-10-17T22:40:24.050Z"
   },
   {
    "duration": 198,
    "start_time": "2024-10-17T22:41:12.569Z"
   },
   {
    "duration": 4,
    "start_time": "2024-10-17T22:54:18.741Z"
   },
   {
    "duration": 43,
    "start_time": "2024-10-17T23:01:31.764Z"
   },
   {
    "duration": 4,
    "start_time": "2024-10-17T23:04:39.130Z"
   },
   {
    "duration": 4,
    "start_time": "2024-10-17T23:05:20.175Z"
   },
   {
    "duration": 4,
    "start_time": "2024-10-17T23:06:35.237Z"
   },
   {
    "duration": 5,
    "start_time": "2024-10-17T23:06:44.430Z"
   },
   {
    "duration": 3,
    "start_time": "2024-10-17T23:08:59.727Z"
   },
   {
    "duration": 5,
    "start_time": "2024-10-17T23:09:40.103Z"
   },
   {
    "duration": 5,
    "start_time": "2024-10-17T23:09:49.370Z"
   },
   {
    "duration": 8,
    "start_time": "2024-10-17T23:10:08.376Z"
   },
   {
    "duration": 4,
    "start_time": "2024-10-17T23:10:22.100Z"
   },
   {
    "duration": 5,
    "start_time": "2024-10-17T23:10:23.615Z"
   },
   {
    "duration": 4,
    "start_time": "2024-10-17T23:10:36.273Z"
   },
   {
    "duration": 2,
    "start_time": "2024-10-17T23:10:45.969Z"
   },
   {
    "duration": 8,
    "start_time": "2024-10-17T23:10:50.308Z"
   },
   {
    "duration": 264,
    "start_time": "2024-10-17T23:11:07.316Z"
   },
   {
    "duration": 383,
    "start_time": "2024-10-17T23:11:49.532Z"
   },
   {
    "duration": 141,
    "start_time": "2024-10-17T23:11:49.924Z"
   },
   {
    "duration": 8,
    "start_time": "2024-10-17T23:11:50.068Z"
   },
   {
    "duration": 180,
    "start_time": "2024-10-17T23:11:50.079Z"
   },
   {
    "duration": 4,
    "start_time": "2024-10-17T23:11:50.261Z"
   },
   {
    "duration": 5,
    "start_time": "2024-10-17T23:11:50.266Z"
   },
   {
    "duration": 5,
    "start_time": "2024-10-17T23:11:50.273Z"
   },
   {
    "duration": 3,
    "start_time": "2024-10-17T23:11:50.280Z"
   },
   {
    "duration": 2,
    "start_time": "2024-10-17T23:11:50.285Z"
   },
   {
    "duration": 2,
    "start_time": "2024-10-17T23:11:50.291Z"
   },
   {
    "duration": 3,
    "start_time": "2024-10-17T23:11:50.295Z"
   },
   {
    "duration": 2,
    "start_time": "2024-10-17T23:11:50.325Z"
   },
   {
    "duration": 2,
    "start_time": "2024-10-17T23:11:50.329Z"
   },
   {
    "duration": 2,
    "start_time": "2024-10-17T23:11:50.334Z"
   },
   {
    "duration": 2,
    "start_time": "2024-10-17T23:11:50.338Z"
   },
   {
    "duration": 2,
    "start_time": "2024-10-17T23:11:50.342Z"
   },
   {
    "duration": 2,
    "start_time": "2024-10-17T23:11:50.347Z"
   },
   {
    "duration": 2,
    "start_time": "2024-10-17T23:11:50.351Z"
   },
   {
    "duration": 2,
    "start_time": "2024-10-17T23:11:50.355Z"
   },
   {
    "duration": 2,
    "start_time": "2024-10-17T23:11:50.359Z"
   },
   {
    "duration": 2,
    "start_time": "2024-10-17T23:11:50.363Z"
   },
   {
    "duration": 2,
    "start_time": "2024-10-17T23:11:50.367Z"
   },
   {
    "duration": 3,
    "start_time": "2024-10-17T23:11:50.371Z"
   },
   {
    "duration": 3,
    "start_time": "2024-10-17T23:11:50.376Z"
   },
   {
    "duration": 43,
    "start_time": "2024-10-17T23:11:50.381Z"
   },
   {
    "duration": 3,
    "start_time": "2024-10-17T23:11:50.426Z"
   },
   {
    "duration": 2,
    "start_time": "2024-10-17T23:11:50.431Z"
   },
   {
    "duration": 2,
    "start_time": "2024-10-17T23:11:50.437Z"
   },
   {
    "duration": 8,
    "start_time": "2024-10-17T23:12:21.329Z"
   },
   {
    "duration": 12,
    "start_time": "2024-10-17T23:15:03.748Z"
   },
   {
    "duration": 4,
    "start_time": "2024-10-17T23:15:35.108Z"
   },
   {
    "duration": 29,
    "start_time": "2024-10-17T23:25:44.361Z"
   },
   {
    "duration": 23,
    "start_time": "2024-10-17T23:40:43.492Z"
   },
   {
    "duration": 28,
    "start_time": "2024-10-17T23:40:54.159Z"
   },
   {
    "duration": 16,
    "start_time": "2024-10-17T23:41:03.946Z"
   },
   {
    "duration": 16,
    "start_time": "2024-10-17T23:41:18.973Z"
   },
   {
    "duration": 27,
    "start_time": "2024-10-17T23:41:22.089Z"
   },
   {
    "duration": 27,
    "start_time": "2024-10-17T23:42:12.155Z"
   },
   {
    "duration": 371,
    "start_time": "2024-10-17T23:44:34.417Z"
   },
   {
    "duration": 145,
    "start_time": "2024-10-17T23:44:34.790Z"
   },
   {
    "duration": 8,
    "start_time": "2024-10-17T23:44:34.937Z"
   },
   {
    "duration": 177,
    "start_time": "2024-10-17T23:44:34.947Z"
   },
   {
    "duration": 6,
    "start_time": "2024-10-17T23:44:35.128Z"
   },
   {
    "duration": 6,
    "start_time": "2024-10-17T23:44:35.138Z"
   },
   {
    "duration": 4,
    "start_time": "2024-10-17T23:44:35.147Z"
   },
   {
    "duration": 11,
    "start_time": "2024-10-17T23:44:35.153Z"
   },
   {
    "duration": 3,
    "start_time": "2024-10-17T23:44:35.167Z"
   },
   {
    "duration": 52,
    "start_time": "2024-10-17T23:44:35.172Z"
   },
   {
    "duration": 25,
    "start_time": "2024-10-17T23:44:35.226Z"
   },
   {
    "duration": 26,
    "start_time": "2024-10-17T23:44:35.253Z"
   },
   {
    "duration": 2,
    "start_time": "2024-10-17T23:44:35.281Z"
   },
   {
    "duration": 2,
    "start_time": "2024-10-17T23:44:35.287Z"
   },
   {
    "duration": 2,
    "start_time": "2024-10-17T23:44:35.293Z"
   },
   {
    "duration": 27,
    "start_time": "2024-10-17T23:44:35.299Z"
   },
   {
    "duration": 2,
    "start_time": "2024-10-17T23:44:35.328Z"
   },
   {
    "duration": 3,
    "start_time": "2024-10-17T23:44:35.332Z"
   },
   {
    "duration": 2,
    "start_time": "2024-10-17T23:44:35.337Z"
   },
   {
    "duration": 6,
    "start_time": "2024-10-17T23:44:35.341Z"
   },
   {
    "duration": 5,
    "start_time": "2024-10-17T23:44:35.351Z"
   },
   {
    "duration": 5,
    "start_time": "2024-10-17T23:44:35.359Z"
   },
   {
    "duration": 2,
    "start_time": "2024-10-17T23:44:35.366Z"
   },
   {
    "duration": 3,
    "start_time": "2024-10-17T23:44:35.370Z"
   },
   {
    "duration": 2,
    "start_time": "2024-10-17T23:44:35.375Z"
   },
   {
    "duration": 2,
    "start_time": "2024-10-17T23:44:35.379Z"
   },
   {
    "duration": 3,
    "start_time": "2024-10-17T23:44:35.383Z"
   },
   {
    "duration": 41,
    "start_time": "2024-10-17T23:44:35.388Z"
   },
   {
    "duration": 76,
    "start_time": "2024-10-17T23:47:34.479Z"
   },
   {
    "duration": 72,
    "start_time": "2024-10-17T23:48:26.675Z"
   },
   {
    "duration": 60,
    "start_time": "2024-10-17T23:48:35.562Z"
   },
   {
    "duration": 6,
    "start_time": "2024-10-17T23:51:03.452Z"
   },
   {
    "duration": 4,
    "start_time": "2024-10-17T23:51:11.706Z"
   },
   {
    "duration": 297,
    "start_time": "2024-10-18T23:21:13.700Z"
   },
   {
    "duration": 120,
    "start_time": "2024-10-18T23:21:13.999Z"
   },
   {
    "duration": 6,
    "start_time": "2024-10-18T23:21:14.122Z"
   },
   {
    "duration": 106,
    "start_time": "2024-10-18T23:21:14.130Z"
   },
   {
    "duration": 2,
    "start_time": "2024-10-18T23:21:14.245Z"
   },
   {
    "duration": 4,
    "start_time": "2024-10-18T23:21:14.249Z"
   },
   {
    "duration": 4,
    "start_time": "2024-10-18T23:21:14.254Z"
   },
   {
    "duration": 10,
    "start_time": "2024-10-18T23:21:14.259Z"
   },
   {
    "duration": 4,
    "start_time": "2024-10-18T23:21:14.271Z"
   },
   {
    "duration": 16,
    "start_time": "2024-10-18T23:21:14.276Z"
   },
   {
    "duration": 57,
    "start_time": "2024-10-18T23:21:14.294Z"
   },
   {
    "duration": 20,
    "start_time": "2024-10-18T23:21:14.353Z"
   },
   {
    "duration": 41,
    "start_time": "2024-10-18T23:21:14.374Z"
   },
   {
    "duration": 45,
    "start_time": "2024-10-18T23:21:14.442Z"
   },
   {
    "duration": 39,
    "start_time": "2024-10-18T23:21:14.488Z"
   },
   {
    "duration": 15,
    "start_time": "2024-10-18T23:21:14.529Z"
   },
   {
    "duration": 3,
    "start_time": "2024-10-18T23:21:14.546Z"
   },
   {
    "duration": 4,
    "start_time": "2024-10-18T23:21:14.550Z"
   },
   {
    "duration": 2,
    "start_time": "2024-10-18T23:21:14.556Z"
   },
   {
    "duration": 3,
    "start_time": "2024-10-18T23:21:14.559Z"
   },
   {
    "duration": 3,
    "start_time": "2024-10-18T23:21:14.564Z"
   },
   {
    "duration": 2,
    "start_time": "2024-10-18T23:21:14.568Z"
   },
   {
    "duration": 5,
    "start_time": "2024-10-18T23:21:14.572Z"
   },
   {
    "duration": 2,
    "start_time": "2024-10-18T23:21:14.579Z"
   },
   {
    "duration": 2,
    "start_time": "2024-10-18T23:21:14.583Z"
   },
   {
    "duration": 2,
    "start_time": "2024-10-18T23:21:14.586Z"
   },
   {
    "duration": 2,
    "start_time": "2024-10-18T23:21:14.590Z"
   },
   {
    "duration": 50,
    "start_time": "2024-10-18T23:21:14.593Z"
   },
   {
    "duration": 3,
    "start_time": "2024-10-18T23:27:59.209Z"
   },
   {
    "duration": 19,
    "start_time": "2024-10-18T23:28:23.652Z"
   },
   {
    "duration": 14,
    "start_time": "2024-10-18T23:28:43.378Z"
   },
   {
    "duration": 5,
    "start_time": "2024-10-18T23:29:09.309Z"
   },
   {
    "duration": 11,
    "start_time": "2024-10-18T23:35:43.533Z"
   },
   {
    "duration": 10,
    "start_time": "2024-10-18T23:37:55.340Z"
   },
   {
    "duration": 3,
    "start_time": "2024-10-18T23:51:28.060Z"
   },
   {
    "duration": 174,
    "start_time": "2024-10-18T23:52:27.866Z"
   },
   {
    "duration": 5,
    "start_time": "2024-10-18T23:53:45.600Z"
   },
   {
    "duration": 3,
    "start_time": "2024-10-18T23:53:52.968Z"
   },
   {
    "duration": 14,
    "start_time": "2024-10-18T23:54:46.069Z"
   },
   {
    "duration": 13,
    "start_time": "2024-10-18T23:56:45.723Z"
   },
   {
    "duration": 14,
    "start_time": "2024-10-18T23:58:54.826Z"
   },
   {
    "duration": 12,
    "start_time": "2024-10-18T23:59:13.799Z"
   },
   {
    "duration": 13,
    "start_time": "2024-10-19T00:00:49.140Z"
   },
   {
    "duration": 15,
    "start_time": "2024-10-19T00:01:03.949Z"
   },
   {
    "duration": 15,
    "start_time": "2024-10-19T00:01:33.603Z"
   },
   {
    "duration": 15,
    "start_time": "2024-10-19T00:01:39.223Z"
   },
   {
    "duration": 160,
    "start_time": "2024-10-21T18:15:18.972Z"
   },
   {
    "duration": 313,
    "start_time": "2024-10-21T18:15:30.475Z"
   },
   {
    "duration": 105,
    "start_time": "2024-10-21T18:15:30.791Z"
   },
   {
    "duration": 6,
    "start_time": "2024-10-21T18:15:30.898Z"
   },
   {
    "duration": 105,
    "start_time": "2024-10-21T18:15:30.906Z"
   },
   {
    "duration": 2,
    "start_time": "2024-10-21T18:15:31.015Z"
   },
   {
    "duration": 14,
    "start_time": "2024-10-21T18:15:31.019Z"
   },
   {
    "duration": 4,
    "start_time": "2024-10-21T18:15:31.034Z"
   },
   {
    "duration": 10,
    "start_time": "2024-10-21T18:15:31.039Z"
   },
   {
    "duration": 4,
    "start_time": "2024-10-21T18:15:31.050Z"
   },
   {
    "duration": 15,
    "start_time": "2024-10-21T18:15:31.057Z"
   },
   {
    "duration": 15,
    "start_time": "2024-10-21T18:15:31.074Z"
   },
   {
    "duration": 48,
    "start_time": "2024-10-21T18:15:31.090Z"
   },
   {
    "duration": 42,
    "start_time": "2024-10-21T18:15:31.141Z"
   },
   {
    "duration": 63,
    "start_time": "2024-10-21T18:15:31.186Z"
   },
   {
    "duration": 38,
    "start_time": "2024-10-21T18:15:31.250Z"
   },
   {
    "duration": 4,
    "start_time": "2024-10-21T18:15:31.290Z"
   },
   {
    "duration": 3,
    "start_time": "2024-10-21T18:15:31.296Z"
   },
   {
    "duration": 34,
    "start_time": "2024-10-21T18:15:31.301Z"
   },
   {
    "duration": 4,
    "start_time": "2024-10-21T18:15:31.337Z"
   },
   {
    "duration": 10,
    "start_time": "2024-10-21T18:15:31.342Z"
   },
   {
    "duration": 9,
    "start_time": "2024-10-21T18:15:31.353Z"
   },
   {
    "duration": 5,
    "start_time": "2024-10-21T18:15:31.364Z"
   },
   {
    "duration": 14,
    "start_time": "2024-10-21T18:15:31.370Z"
   },
   {
    "duration": 12,
    "start_time": "2024-10-21T18:15:31.385Z"
   },
   {
    "duration": 45,
    "start_time": "2024-10-21T18:15:31.398Z"
   },
   {
    "duration": 10,
    "start_time": "2024-10-21T18:15:31.444Z"
   },
   {
    "duration": 11,
    "start_time": "2024-10-21T18:15:31.456Z"
   },
   {
    "duration": 11,
    "start_time": "2024-10-21T18:15:31.469Z"
   },
   {
    "duration": 19,
    "start_time": "2024-10-21T18:16:02.750Z"
   }
  ],
  "colab": {
   "collapsed_sections": [
    "E0vqbgi9ay0H",
    "VUC88oWjTJw2"
   ],
   "provenance": []
  },
  "kernelspec": {
   "display_name": "Python 3",
   "language": "python",
   "name": "python3"
  },
  "language_info": {
   "codemirror_mode": {
    "name": "ipython",
    "version": 3
   },
   "file_extension": ".py",
   "mimetype": "text/x-python",
   "name": "python",
   "nbconvert_exporter": "python",
   "pygments_lexer": "ipython3",
   "version": "3.12.7"
  },
  "toc": {
   "base_numbering": 1,
   "nav_menu": {},
   "number_sections": true,
   "sideBar": true,
   "skip_h1_title": true,
   "title_cell": "Table of Contents",
   "title_sidebar": "Contents",
   "toc_cell": false,
   "toc_position": {},
   "toc_section_display": true,
   "toc_window_display": false
  }
 },
 "nbformat": 4,
 "nbformat_minor": 1
}
